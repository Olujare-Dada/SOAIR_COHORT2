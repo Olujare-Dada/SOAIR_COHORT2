{
 "cells": [
  {
   "cell_type": "markdown",
   "id": "a7f58007",
   "metadata": {},
   "source": [
    "### Question 1. Answer the following questions: https://quizizz.com/admin/quiz/5cd4265c88978d001a646e68/python-arithmetic-operators\n"
   ]
  },
  {
   "cell_type": "markdown",
   "id": "c0072bec",
   "metadata": {},
   "source": [
    "1. Addition\n",
    "2. Subtraction\n",
    "3. Multiplication\n",
    "4. Division\n",
    "5. Exponent (Power)\n",
    "6. Integer\n",
    "7. Boolean\n",
    "8. Modulo (Remainder)\n",
    "9. Integer Division\n",
    "10. Variable\n",
    "11. A list of steps you follow to finish a task\n",
    "12. Computer Science\n",
    "13. Variable"
   ]
  },
  {
   "cell_type": "markdown",
   "id": "98c8f95e",
   "metadata": {},
   "source": [
    "### Question 2. The formula for converting between Celsius and Fahrenheit is  (𝐹−32)×59=𝐶. Write this formula in python and use it to convert  200∘F to celsius"
   ]
  },
  {
   "cell_type": "code",
   "execution_count": 19,
   "id": "2681e1d1",
   "metadata": {},
   "outputs": [
    {
     "data": {
      "text/plain": [
       "9912"
      ]
     },
     "execution_count": 19,
     "metadata": {},
     "output_type": "execute_result"
    }
   ],
   "source": [
    "Fahrenheit = 200\n",
    "\n",
    "Celsius = (F - 32) * 59 #This formula converts Fahrenhiet to Celsius\n",
    "\n",
    "Celsius\n"
   ]
  },
  {
   "cell_type": "markdown",
   "id": "2ee0044b",
   "metadata": {},
   "source": [
    "### Question 3. The area of a Stadium of length  500m and breadth 200m (Hint: Area = length x breadth)\n"
   ]
  },
  {
   "cell_type": "code",
   "execution_count": 21,
   "id": "61d0f922",
   "metadata": {},
   "outputs": [
    {
     "data": {
      "text/plain": [
       "100000"
      ]
     },
     "execution_count": 21,
     "metadata": {},
     "output_type": "execute_result"
    }
   ],
   "source": [
    "Length = 500\n",
    "\n",
    "Breadth = 200\n",
    "\n",
    "Area = Length * Breadth #This formula calculates the Area of a Rectangle\n",
    "\n",
    "Area\n"
   ]
  },
  {
   "cell_type": "markdown",
   "id": "bb27633d",
   "metadata": {},
   "source": [
    "### Question 4. The volume of a tank of length 240cm, breadth 160cm and 268cm wide. (Hint: Volume = Length x breadth x Height)\n",
    "\n"
   ]
  },
  {
   "cell_type": "code",
   "execution_count": 23,
   "id": "40e01bc3",
   "metadata": {},
   "outputs": [
    {
     "data": {
      "text/plain": [
       "10291200"
      ]
     },
     "execution_count": 23,
     "metadata": {},
     "output_type": "execute_result"
    }
   ],
   "source": [
    "Length = 240\n",
    "\n",
    "Breadth = 160\n",
    "\n",
    "Height = 268\n",
    "\n",
    "Volume = Length * Breadth * Height #This formular calculates the volume of a cunoid tank\n",
    "\n",
    "Volume"
   ]
  },
  {
   "cell_type": "markdown",
   "id": "ca11ca4c",
   "metadata": {},
   "source": [
    "### Question 5. The simple interest at a principal of 250,000 naira, rate of 6% and in two years. (Hint: Simple Interest =( principal x rate x time)/100)"
   ]
  },
  {
   "cell_type": "code",
   "execution_count": 37,
   "id": "35f44c34",
   "metadata": {},
   "outputs": [
    {
     "data": {
      "text/plain": [
       "300.0"
      ]
     },
     "execution_count": 37,
     "metadata": {},
     "output_type": "execute_result"
    }
   ],
   "source": [
    "SimpleInterest = SI\n",
    "\n",
    "Principal = 250000\n",
    "\n",
    "Rate = 0.06 #6% is the same as 0.06\n",
    "\n",
    "Time = 2\n",
    "\n",
    "SI = ((Principal * Rate * Time)/100) #This formula calculates the simple interest\n",
    "\n",
    "SI\n"
   ]
  },
  {
   "cell_type": "markdown",
   "id": "d5feeb84",
   "metadata": {},
   "source": [
    "### Question 6. Goods in a container cost 120,000,000 naira. If the goods were sold at 150,000,000 naira, what is the percentage profit on the gooods. (Hint: profit = Selling price – cost price) (Percentage profit = (profit/cost price) x 100)"
   ]
  },
  {
   "cell_type": "code",
   "execution_count": 40,
   "id": "6d03d29f",
   "metadata": {},
   "outputs": [
    {
     "data": {
      "text/plain": [
       "25.0"
      ]
     },
     "execution_count": 40,
     "metadata": {},
     "output_type": "execute_result"
    }
   ],
   "source": [
    "Cost = 120000\n",
    "\n",
    "SellingPrice = 150000\n",
    "\n",
    "Profit = SellingPrice - Cost #This formula calculates the profit made\n",
    "\n",
    "\n",
    "PercentageProfit = ((Profit/Cost)*100) #This formula calculates the Percentage Profit\n",
    "\n",
    "PercentageProfit"
   ]
  }
 ],
 "metadata": {
  "kernelspec": {
   "display_name": "Python 3 (ipykernel)",
   "language": "python",
   "name": "python3"
  },
  "language_info": {
   "codemirror_mode": {
    "name": "ipython",
    "version": 3
   },
   "file_extension": ".py",
   "mimetype": "text/x-python",
   "name": "python",
   "nbconvert_exporter": "python",
   "pygments_lexer": "ipython3",
   "version": "3.9.12"
  }
 },
 "nbformat": 4,
 "nbformat_minor": 5
}
