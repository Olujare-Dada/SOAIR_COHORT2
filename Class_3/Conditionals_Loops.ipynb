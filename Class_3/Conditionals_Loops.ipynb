{
 "cells": [
  {
   "cell_type": "markdown",
   "id": "e8e70ef5",
   "metadata": {},
   "source": [
    "# Conditionals, Loops, Functions, Re Module"
   ]
  },
  {
   "cell_type": "markdown",
   "id": "16d0854c",
   "metadata": {},
   "source": [
    "## Conditionals\n",
    "\n",
    "\n",
    "\n",
    "Conditional statements in Python allow the program to execute different actions based on specific conditions. These statements are implemented using IF statements, which evaluate Boolean constraints and direct the program flow accordingly.\n",
    "\n",
    "In Python, there are three primary types of conditional statements: IF statements, IF-ELSE statements, and IF-ELIF-ELSE ladders. These statements help guide the program's decision-making processes based on the conditions encountered during runtime.\n",
    "\n",
    "The Python IF statement executes a block of code only if the specified condition is true. Alternatively, if the condition is false, the optional ELSE statement runs a different block of code. When you need to handle both true and false conditions, the IF-ELSE statement can be used to control program flow.\n",
    "\n",
    "\n",
    "### Graphic showing how Conditionals work\n",
    "![convert notebook to web app](https://www.guru99.com/images/2013/04/if_then_flowchart.png)\n",
    "\n",
    "(Source: www.guru99.com)\n",
    "\n",
    "<br>\n",
    "<br>\n",
    "<br>\n",
    "The syntax for creating conditionals in python is given below:\n",
    "\n",
    "\n",
    "#### IF BLOCK\n",
    "**if condition:**<br>\n",
    "    &emsp; (Your code goes here)\n",
    "\n",
    "<br>\n",
    "<br>\n",
    "\n",
    "#### IF-ELSE BLOCK\n",
    "**if condition:**<br>\n",
    "&emsp; (Your code goes here)\n",
    "\n",
    "**else:**<br>\n",
    "&emsp; (Your code goes here)\n",
    "\n",
    "\n",
    "<br>\n",
    "<br>\n",
    "\n",
    "#### IF-ELIF-ELSE BLOCK\n",
    "**if condition:**<br>\n",
    "&emsp; (Your code goes here)\n",
    "\n",
    "**elif condition:**<br>\n",
    "&emsp; (Your code goes here)\n",
    "\n",
    "**else:**<br>\n",
    "&emsp; (Your code goes here)\n",
    "\n",
    "\n",
    "\n",
    "\n",
    "<br>\n",
    "<br>\n",
    "\n",
    "There are many real-world scenarios that can be modeled using the simple syntax for conditionals outlined above. For example:\n",
    "1. \"**If** today is a weekday, then my son should go to school. **Else**, he should not go to school\"\n",
    "2. \"**If** you are over 6ft tall, then, you can play in the Basketball team\"\n",
    "3. \"**If** you voted for Obi, then you are Obedient, **Elif** you voted for Atiku, then you are 'Atiku'lated, **Else** you supported the winner\"\n",
    "4. \"**If** there is money in circulation, then Olujare comes to class, **Else**, he teaches from his home\"\n",
    "5. \"**If** the surface of water is flat and 70% of the earth is covered in water, then, 70% of the world is flat\"\n",
    "6. \"**If** there is a god, then, there's a meaning to life, **Else**, if there is no god, life is meaningless\"\n",
    "7. \"**If** I had played for Manchester United and Lionel Messi was a carpenter, then, I would be the best player in the world.\n",
    "\n",
    "\n",
    "<br>\n",
    "<br>\n",
    "\n",
    "Now, let us take a look at some simple coding examples."
   ]
  },
  {
   "cell_type": "code",
   "execution_count": 28,
   "id": "24c93e5e",
   "metadata": {},
   "outputs": [
    {
     "name": "stdout",
     "output_type": "stream",
     "text": [
      "x is a positive number.\n",
      "x is a negative number.\n",
      "x is zero.\n"
     ]
    }
   ],
   "source": [
    "# Example 1: if statement\n",
    "x = 5\n",
    "if x > 0:\n",
    "    print(\"x is a positive number.\")\n",
    "\n",
    "    \n",
    "    \n",
    "# Example 2: if-else statement\n",
    "x = -2\n",
    "if x > 0:\n",
    "    print(\"x is a positive number.\")\n",
    "else:\n",
    "    print(\"x is a negative number.\")\n",
    "\n",
    "    \n",
    "    \n",
    "# Example 3: if-elif-else statement\n",
    "x = 0\n",
    "if x > 0:\n",
    "    print(\"x is a positive number.\")\n",
    "elif x == 0:\n",
    "    print(\"x is zero.\")\n",
    "else:\n",
    "    print(\"x is a negative number.\")\n"
   ]
  },
  {
   "cell_type": "markdown",
   "id": "4e147737",
   "metadata": {},
   "source": [
    "In Example 1, an if statement is used to check if the value of the variable x is greater than zero. If it is, then the message \"x is a positive number.\" is printed to the console.\n",
    "\n",
    "In Example 2, an if-else statement is used to check if the value of x is greater than zero. If it is, the message \"x is a positive number.\" is printed. If it's not greater than zero, the message \"x is a negative number.\" is printed.\n",
    "\n",
    "In Example 3, an if-elif-else statement is used to check if the value of x is positive, zero, or negative. If it's positive, the message \"x is a positive number.\" is printed. If it's zero, the message \"x is zero.\" is printed. If it's negative, the message \"x is a negative number.\" is printed."
   ]
  },
  {
   "cell_type": "code",
   "execution_count": null,
   "id": "db025673",
   "metadata": {},
   "outputs": [],
   "source": []
  },
  {
   "cell_type": "markdown",
   "id": "99a3ed3c",
   "metadata": {},
   "source": [
    "Now, for examples that are more involved:"
   ]
  },
  {
   "cell_type": "markdown",
   "id": "a818eece",
   "metadata": {},
   "source": [
    "##### Example 1:\n",
    "\n",
    "Remember the formula $C=(F-32)\\times \\frac{5}{9}$\n",
    "\n",
    "We shall use this formula to determine if the temperatur range of water in a pot is \"Cold\", \"Moderate\", or \"Hot\".\n",
    "> temperature is below $10 ^{\\circ}C \\to$  \"Cold\" <br>\n",
    "> temperature is between $10 ^{\\circ}C  \\text{ and } 65^{\\circ}C \\to$  \"Moderate\" <br>\n",
    "> temperature is above $67 ^{\\circ}C \\to$  \"Hot\" <br>"
   ]
  },
  {
   "cell_type": "code",
   "execution_count": 29,
   "id": "c0bb9087",
   "metadata": {},
   "outputs": [
    {
     "name": "stdout",
     "output_type": "stream",
     "text": [
      "The water in the pot is cold\n"
     ]
    }
   ],
   "source": [
    "F = 45\n",
    "\n",
    "C = (F-32)*(5/9)\n",
    "\n",
    "if C < 10:\n",
    "    print(\"The water in the pot is cold\")\n",
    "elif C < 65:\n",
    "    print(\"The water in the pot is at a moderate temperature\")\n",
    "\n",
    "else:\n",
    "    print(\"The water in the pot is hot\")"
   ]
  },
  {
   "cell_type": "code",
   "execution_count": null,
   "id": "0b09af0c",
   "metadata": {},
   "outputs": [],
   "source": []
  },
  {
   "cell_type": "markdown",
   "id": "9025f567",
   "metadata": {},
   "source": [
    "##### Example 2:\n",
    "\n",
    "Checking if a number is ODD Or EVEN"
   ]
  },
  {
   "cell_type": "code",
   "execution_count": 30,
   "id": "96991882",
   "metadata": {},
   "outputs": [
    {
     "name": "stdout",
     "output_type": "stream",
     "text": [
      "The number is an Even number\n"
     ]
    }
   ],
   "source": [
    "n = 44\n",
    "\n",
    "if n % 2 == 0:\n",
    "    print(\"The number is an Even number\")\n",
    "else:\n",
    "    print(\"The number is an Odd number\")"
   ]
  },
  {
   "cell_type": "markdown",
   "id": "ad289a0b",
   "metadata": {},
   "source": [
    "We can also perform the printing using f-strings as follows:"
   ]
  },
  {
   "cell_type": "code",
   "execution_count": 31,
   "id": "9a6a0b4b",
   "metadata": {},
   "outputs": [
    {
     "name": "stdout",
     "output_type": "stream",
     "text": [
      "44 is an Even number\n"
     ]
    }
   ],
   "source": [
    "if n % 2 == 0:\n",
    "    print(f\"{n} is an Even number\")\n",
    "else:\n",
    "    print(f\"{n} is an Odd number\")"
   ]
  },
  {
   "cell_type": "code",
   "execution_count": null,
   "id": "5b7f1a92",
   "metadata": {},
   "outputs": [],
   "source": []
  },
  {
   "cell_type": "markdown",
   "id": "72f9d2bf",
   "metadata": {},
   "source": [
    "##### Example 3:\n",
    "\n",
    "Checking if a particular username and password were written properly"
   ]
  },
  {
   "cell_type": "code",
   "execution_count": 32,
   "id": "6e385f28",
   "metadata": {},
   "outputs": [
    {
     "name": "stdout",
     "output_type": "stream",
     "text": [
      "Enter your username: df\n",
      "Enter your password: er\n",
      "df is not registered on our platform!\n",
      "Incorrect password\n"
     ]
    }
   ],
   "source": [
    "username = input(\"Enter your username: \")\n",
    "\n",
    "password = input(\"Enter your password: \")\n",
    "\n",
    "\n",
    "if username == \"SugarDaddy\":\n",
    "    print(f\"Welcome {username}!\")\n",
    "    \n",
    "else: \n",
    "    print(f\"{username} is not registered on our platform!\")\n",
    "    \n",
    "\n",
    "if password == \"Liv7-0ManU\":\n",
    "    print(\"You have successfully logged in\")\n",
    "    \n",
    "else:\n",
    "    print(\"Incorrect password\")"
   ]
  },
  {
   "cell_type": "markdown",
   "id": "bc185d71",
   "metadata": {},
   "source": [
    "In most platforms, instead of getting two messages; one for incorrect password and the other for incorrect username, we usually get one message saying \"Username or Password incorrect\". \n",
    "\n",
    "We can also implement this as follows:"
   ]
  },
  {
   "cell_type": "code",
   "execution_count": 33,
   "id": "61b9e745",
   "metadata": {},
   "outputs": [
    {
     "name": "stdout",
     "output_type": "stream",
     "text": [
      "Enter your username: 34\n",
      "Enter your password: er\n",
      "\n",
      "Username or Password incorrect!\n"
     ]
    }
   ],
   "source": [
    "username = input(\"Enter your username: \")\n",
    "\n",
    "password = input(\"Enter your password: \")\n",
    "\n",
    "\n",
    "if username == \"SugarDaddy\" and password ==\"Liv7-0ManU\":\n",
    "    print(f\"\\nWelcome {username}! You have successfully logged in\")\n",
    "\n",
    "else:\n",
    "    print(\"\\nUsername or Password incorrect!\")"
   ]
  },
  {
   "cell_type": "code",
   "execution_count": null,
   "id": "2fc3677c",
   "metadata": {},
   "outputs": [],
   "source": []
  },
  {
   "cell_type": "markdown",
   "id": "5e479360",
   "metadata": {},
   "source": [
    "#### Classwork\n",
    "\n",
    "\n",
    "Create 2 conditional scenarios and use The conditionals taught so far to solve them."
   ]
  },
  {
   "cell_type": "code",
   "execution_count": null,
   "id": "33555bba",
   "metadata": {},
   "outputs": [],
   "source": []
  },
  {
   "cell_type": "code",
   "execution_count": null,
   "id": "6b780d95",
   "metadata": {},
   "outputs": [],
   "source": []
  },
  {
   "cell_type": "code",
   "execution_count": null,
   "id": "bb71a1d1",
   "metadata": {},
   "outputs": [],
   "source": []
  },
  {
   "cell_type": "code",
   "execution_count": null,
   "id": "3b1eb731",
   "metadata": {},
   "outputs": [],
   "source": []
  },
  {
   "cell_type": "markdown",
   "id": "137324ce",
   "metadata": {},
   "source": [
    "##### Example 4:\n",
    "\n",
    "Recommending movies based on the particular client that logs in to a movie streaming service. We shall assume that the streaming service's recommender system recommends movies based on previous movies that a client has watched. We can build a simple interface to help serve the recommendations of the recommender system to the client."
   ]
  },
  {
   "cell_type": "code",
   "execution_count": 34,
   "id": "3ae95fc7",
   "metadata": {},
   "outputs": [
    {
     "name": "stdout",
     "output_type": "stream",
     "text": [
      "\n",
      " __________________\n",
      "|Client Login.     |\n",
      "|__________________|\n",
      "\n",
      "Please enter your login details below\n",
      "\n",
      "\n",
      "\n",
      "Enter Username: ert\n",
      "Enter Password: r\n",
      "\n",
      "Username or Password incorrect!\n"
     ]
    }
   ],
   "source": [
    "#Action: Movie1, Movie3\n",
    "#Adventure: Movie2, Movie4\n",
    "#Romance: Movie5, Movie6\n",
    "\n",
    "#Here are the client names and their passwords\n",
    "clients = {\"Adedokun\": \"password1\", \"Lasaki\": \"password2\", \"Bolanle\": \"password3\"}\n",
    "\n",
    "#Here is a collection of the last movie watched by each client\n",
    "watched_movies = {\n",
    "    \n",
    "    \"Adedokun\": \"Movie1\",\n",
    "    \"Lasaki\": \"Movie3\",\n",
    "    \"Bolanle\": \"Movie2\",\n",
    "    \"Chidozie\": \"Movie5\",\n",
    "    \"Ebuka\": \"Movie6\"\n",
    "\n",
    "}\n",
    "\n",
    "\n",
    "#Here are the recommendations by the recommender system\n",
    "recommendations = {\n",
    "    \n",
    "    \"Movie1\": [\"Movie2\", \"Movie3\", \"Movie4\"],\n",
    "    \"Movie2\": [\"Movie1\", \"Movie4\"],\n",
    "    \"Movie3\": [\"Movie1\", \"Movie5\"],\n",
    "    \"Movie4\": [\"Movie2\", \"Movie6\", \"Movie3\"],\n",
    "    \"Movie5\": [\"Movie6\"],\n",
    "    \"Movie6\": [\"Movie5\", \"Movie4\"]\n",
    "}\n",
    "\n",
    "\n",
    "\n",
    "print(\"\"\"\n",
    " __________________\n",
    "|Client Login.     |\n",
    "|__________________|\n",
    "\n",
    "Please enter your login details below\\n\n",
    "\n",
    "\"\"\")\n",
    "\n",
    "\n",
    "#Login in details capture\n",
    "username = input(\"Enter Username: \")\n",
    "password = input(\"Enter Password: \")\n",
    "\n",
    "\n",
    "#Authenticating the password and username of the client\n",
    "if username in clients.keys() and password == clients[username]:\n",
    "    print(f\"\\nWelcome {username}! Your log in was successful\")\n",
    "    \n",
    "    #Collecting user response about seeing recommendations\n",
    "    response = input(\"\\nWould you like to see some recommendations? Y/N: \")\n",
    "    \n",
    "    #If response is yes, show recommendations, else if response is no do not show recommendations, else enter a valid response\n",
    "    if response.lower() == \"y\" or response.lower() == \"yes\":\n",
    "        previous_movie = watched_movies[username]\n",
    "        recommendation_list = recommendations[previous_movie]\n",
    "        print(f\"\\n{username}, here are a list of movies you should definitely try out! {recommendation_list}\")\n",
    "        \n",
    "    elif response.lower() == \"n\" or response.lower() == \"no\":\n",
    "        print(f\"{username}, we promise our recommendations are great.Feel free to try them some other time. Happy viewing!\")\n",
    "        \n",
    "    else:\n",
    "        print(f\"{username}, please enter a valid response!\")\n",
    "\n",
    "\n",
    "#Telling the user to enter a valid Password or Username\n",
    "else:\n",
    "    print(\"\\nUsername or Password incorrect!\")     \n",
    "        \n",
    "        "
   ]
  },
  {
   "cell_type": "code",
   "execution_count": null,
   "id": "b70709e1",
   "metadata": {},
   "outputs": [],
   "source": []
  },
  {
   "cell_type": "markdown",
   "id": "983c83ec",
   "metadata": {},
   "source": [
    "##### Example 5:\n",
    "\n",
    "Suppose we are creating a simple model of a self-driving car. We program the car to \"Stop\" when the traffic light is \"Red\", \"Slow down\" when the traffic light is \"Yellow\", and \"Go\" when the traffic light is \"Green\""
   ]
  },
  {
   "cell_type": "code",
   "execution_count": 35,
   "id": "1849db3d",
   "metadata": {},
   "outputs": [],
   "source": [
    "import random\n",
    "\n",
    "\n",
    "light_options = [\"Red\", \"Yellow\", \"Green\"]\n",
    "\n",
    "traffic_light = random.choice(light_options)"
   ]
  },
  {
   "cell_type": "code",
   "execution_count": 36,
   "id": "d4e226cf",
   "metadata": {},
   "outputs": [
    {
     "name": "stdout",
     "output_type": "stream",
     "text": [
      "The light is Yellow, therefore, Car slows down\n"
     ]
    }
   ],
   "source": [
    "if traffic_light == \"Red\":\n",
    "    print(f\"The light is {traffic_light}, therefore, the Car stops\")\n",
    "    \n",
    "elif traffic_light == \"Yellow\":\n",
    "    print(f\"The light is {traffic_light}, therefore, Car slows down\")\n",
    "    \n",
    "else:\n",
    "    print(f\"The light is {traffic_light}, therefore, Car speeds up\")"
   ]
  },
  {
   "cell_type": "code",
   "execution_count": null,
   "id": "eac81dbd",
   "metadata": {},
   "outputs": [],
   "source": []
  },
  {
   "cell_type": "code",
   "execution_count": null,
   "id": "1c4e2f24",
   "metadata": {},
   "outputs": [],
   "source": []
  },
  {
   "cell_type": "markdown",
   "id": "5d622b18",
   "metadata": {},
   "source": [
    "For further study, go through the links below:\n",
    "\n",
    "https://www.naukri.com/learning/articles/conditional-statement-in-python/\n",
    "\n",
    "https://www.guru99.com/if-loop-python-conditional-structures.html\n",
    "\n",
    "https://realpython.com/python-conditional-statements/"
   ]
  },
  {
   "cell_type": "code",
   "execution_count": null,
   "id": "3cb14803",
   "metadata": {},
   "outputs": [],
   "source": []
  },
  {
   "cell_type": "code",
   "execution_count": null,
   "id": "934d4bac",
   "metadata": {},
   "outputs": [],
   "source": []
  },
  {
   "cell_type": "code",
   "execution_count": null,
   "id": "9eae0350",
   "metadata": {},
   "outputs": [],
   "source": []
  },
  {
   "cell_type": "code",
   "execution_count": null,
   "id": "3ef8b741",
   "metadata": {},
   "outputs": [],
   "source": []
  },
  {
   "cell_type": "markdown",
   "id": "7631657e",
   "metadata": {},
   "source": [
    "## Loops"
   ]
  },
  {
   "cell_type": "markdown",
   "id": "424845dc",
   "metadata": {},
   "source": [
    "Generally, code statements are executed in sequence, meaning that the first statement in a function is executed first, followed by the second statement, and so on. However, there may be instances where you need to execute a block of code multiple times. Programming languages offer different control structures to enable more complex execution paths. One of these control structures is the loop statement, which allows us to execute a statement or group of statements repeatedly. The diagram below demonstrates a loop statement.\n",
    "<br>\n",
    "<br>\n",
    "<br>\n",
    "![convert notebook to web app](https://www.tutorialspoint.com/python/images/loop_architecture.jpg)\n",
    "\n",
    "\n",
    "<br>\n",
    "<br>\n",
    "\n",
    "Python programming language provides following types of loops to handle looping requirements:<br>\n",
    "**While loops**<br>\n",
    "**For Loops**<br>\n",
    "**Nested Loops**"
   ]
  },
  {
   "cell_type": "markdown",
   "id": "5500770a",
   "metadata": {},
   "source": [
    "### While Loops\n",
    "\n",
    "Python employs a while loop to repeatedly execute a block of statements until a specified condition is met. Once the condition evaluates to false, the line of code immediately following the loop in the program is executed.\n",
    "\n",
    "The syntax of a while loop is given below:<br>\n",
    "\n",
    "while (condition):<br>\n",
    "    &emsp; (your code goes here)<br>\n",
    "    &emsp; (update your condition)\n",
    "    \n",
    "    \n",
    "It is very important to always update your condition in a while loop or else you will create an infinite loop. In cases when we do not use a condition, we need to ensure that at some point in the while loop, there is a condition that ensures that the while loop will \"break\" out of its cycle.\n",
    "\n",
    "Simple examples of while loops are given below:"
   ]
  },
  {
   "cell_type": "code",
   "execution_count": 39,
   "id": "bffc38ae",
   "metadata": {},
   "outputs": [
    {
     "name": "stdout",
     "output_type": "stream",
     "text": [
      "Count is: 1\n",
      "Count is: 2\n",
      "Count is: 3\n",
      "Count is: 4\n",
      "Count is: 5\n",
      "Loop finished!\n"
     ]
    }
   ],
   "source": [
    "# initialize the variable\n",
    "count = 1\n",
    "\n",
    "# set the condition for the while loop\n",
    "while count <= 5:\n",
    "    print(\"Count is:\", count)\n",
    "    count += 1\n",
    "\n",
    "# print a message once the loop is finished\n",
    "print(\"Loop finished!\")\n"
   ]
  },
  {
   "cell_type": "markdown",
   "id": "2f4af976",
   "metadata": {},
   "source": [
    "In this example, the while loop is used to print out the value of the count variable, starting from 1 and incrementing by 1 until it reaches 5. Once the condition count $\\le 5$ is no longer satisfied, the loop terminates and the message \"Loop finished!\" is printed to the console."
   ]
  },
  {
   "cell_type": "code",
   "execution_count": null,
   "id": "b553dfc8",
   "metadata": {},
   "outputs": [],
   "source": []
  },
  {
   "cell_type": "code",
   "execution_count": 40,
   "id": "942303aa",
   "metadata": {},
   "outputs": [
    {
     "name": "stdout",
     "output_type": "stream",
     "text": [
      "1\n",
      "2\n",
      "3\n",
      "4\n",
      "5\n",
      "3\n",
      "5\n",
      "7\n",
      "9\n",
      "11\n"
     ]
    }
   ],
   "source": [
    "# Example A: While loop with a break statement\n",
    "count = 1\n",
    "while count <= 10:\n",
    "    if count == 6:\n",
    "        break\n",
    "    print(count)\n",
    "    count += 1\n",
    "\n",
    "# Example B: While loop with a continue statement\n",
    "count = 1\n",
    "while count <= 10:\n",
    "    count += 1\n",
    "    if count % 2 == 0:\n",
    "        continue\n",
    "    print(count)"
   ]
  },
  {
   "cell_type": "markdown",
   "id": "1a06eb4b",
   "metadata": {},
   "source": [
    "In Example A, a while loop is used to print the numbers from 1 to 5 to the console, but the loop is terminated early with the **break statement** when the value of count equals 6.\n",
    "\n",
    "In Example B, a while loop is used to print the odd numbers from 1 to 10 to the console using the **continue statement** to skip even numbers.\n",
    "\n",
    "In Python, continue and break are two flow control statements that alter the behavior of loops (e.g. for and while loops).\n",
    "\n",
    "#### Continue Statement\n",
    "The continue statement skips the remaining statements in the current iteration of the loop and moves on to the next iteration. In other words, it allows you to skip over a part of the loop's code block when a certain condition is met, and then continue with the next iteration. For example, if you want to iterate over a list of numbers and print only the odd numbers, you can use the continue statement to skip the even numbers.\n",
    "\n",
    "\n",
    "\n",
    "#### Break Statement\n",
    "The break statement terminates the loop immediately when a certain condition is met. It \"breaks out\" of the loop and continues with the next statement after the loop. For example, if you want to search a list of numbers for a certain value, you can use the break statement to stop the loop as soon as you find the value.\n",
    "\n",
    "\n",
    "Examples further illustrating the Continue and Break statements are given below:"
   ]
  },
  {
   "cell_type": "code",
   "execution_count": 41,
   "id": "08f203e8",
   "metadata": {},
   "outputs": [
    {
     "name": "stdout",
     "output_type": "stream",
     "text": [
      "28\n",
      "26\n",
      "24\n",
      "22\n",
      "20\n",
      "18\n",
      "16\n",
      "14\n",
      "12\n",
      "10\n",
      "8\n",
      "6\n",
      "4\n",
      "2\n",
      "0\n",
      "\n",
      "\n",
      "\n",
      "0\n",
      "1\n",
      "2\n",
      "3\n",
      "4\n",
      "5\n",
      "6\n",
      "Found the number 7!\n"
     ]
    }
   ],
   "source": [
    "# Using continue statement\n",
    "i = 30\n",
    "while i > 0:\n",
    "    if i % 2 == 0:\n",
    "        i -= 1\n",
    "        continue\n",
    "    else:\n",
    "        i -= 1\n",
    "        print(i)\n",
    "    \n",
    "print(\"\\n\\n\")\n",
    "\n",
    "# Using break statement\n",
    "num = 0\n",
    "while num < 30:\n",
    "    if num == 7:\n",
    "        print(\"Found the number 7!\")\n",
    "        break\n",
    "    print(num)\n",
    "    num += 1\n"
   ]
  },
  {
   "cell_type": "markdown",
   "id": "4f2acaad",
   "metadata": {},
   "source": [
    "In the first example, the continue statement is used to skip even numbers and only print the odd numbers from 1 to 30.\n",
    "\n",
    "In the second example, the break statement is used to stop the loop when the number 7 is found, and print a message indicating that the number has been found."
   ]
  },
  {
   "cell_type": "code",
   "execution_count": null,
   "id": "311abffa",
   "metadata": {},
   "outputs": [],
   "source": []
  },
  {
   "cell_type": "code",
   "execution_count": null,
   "id": "62b6e628",
   "metadata": {},
   "outputs": [],
   "source": []
  },
  {
   "cell_type": "code",
   "execution_count": 42,
   "id": "e34b3810",
   "metadata": {
    "scrolled": true
   },
   "outputs": [
    {
     "name": "stdout",
     "output_type": "stream",
     "text": [
      "The value of x is 50\n",
      "The value of x is 49\n",
      "The value of x is 48\n",
      "The value of x is 47\n",
      "The value of x is 46\n",
      "The value of x is 45\n",
      "The value of x is 44\n",
      "The value of x is 43\n",
      "The value of x is 42\n",
      "The value of x is 41\n",
      "The value of x is 40\n",
      "The value of x is 39\n",
      "The value of x is 38\n",
      "The value of x is 37\n",
      "The value of x is 36\n",
      "The value of x is 35\n",
      "The value of x is 34\n",
      "The value of x is 33\n",
      "The value of x is 32\n",
      "The value of x is 31\n",
      "The value of x is 30\n",
      "The value of x is 29\n",
      "The value of x is 28\n",
      "The value of x is 27\n",
      "The value of x is 26\n",
      "The value of x is 25\n",
      "The value of x is 24\n",
      "The value of x is 23\n",
      "The value of x is 22\n",
      "The value of x is 21\n",
      "The value of x is 20\n",
      "The value of x is 19\n",
      "The value of x is 18\n",
      "The value of x is 17\n",
      "The value of x is 16\n",
      "The value of x is 15\n",
      "The value of x is 14\n",
      "The value of x is 13\n",
      "The value of x is 12\n",
      "The value of x is 11\n",
      "The value of x is 10\n",
      "The value of x is 9\n",
      "The value of x is 8\n",
      "The value of x is 7\n",
      "The value of x is 6\n",
      "The value of x is 5\n",
      "The value of x is 4\n",
      "The value of x is 3\n",
      "The value of x is 2\n",
      "The value of x is 1\n"
     ]
    }
   ],
   "source": [
    "x = 50\n",
    "\n",
    "while x > 0:\n",
    "    print(f\"The value of x is {x}\")\n",
    "    x -= 1"
   ]
  },
  {
   "cell_type": "markdown",
   "id": "a44cf7fc",
   "metadata": {},
   "source": [
    "This Python code initializes a variable x with a value of 50. It then enters a while loop that will execute as long as x is greater than 0.\n",
    "\n",
    "During each iteration of the loop, the code prints out a string that includes the current value of x using an f-string. Then it subtracts 1 from x using the -= 1 operator, effectively counting down from 50 to 1.\n",
    "\n",
    "Once x is less than or equal to 0, the condition of the while loop is no longer true, and the loop exits. Therefore, the code will print out a sequence of 50 strings, each containing a different value of x as it decrements from 50 to 1."
   ]
  },
  {
   "cell_type": "markdown",
   "id": "ff0d4cda",
   "metadata": {},
   "source": [
    "**Here is 1 last example of using a while loop:**<br>\n",
    "While loops are often used for game loops, which enable games to keep playing ad infinitum, until the user opts out of the game. A simply Yes or No game is implemented below:"
   ]
  },
  {
   "cell_type": "code",
   "execution_count": 43,
   "id": "ac7e440c",
   "metadata": {},
   "outputs": [
    {
     "name": "stdout",
     "output_type": "stream",
     "text": [
      "According the World Economic Forum, 'By 2030, you will own nothing, and you will be happy': er\n",
      "Every single star moves across the sky: er\n",
      "Man never landed on the Moon: er\n",
      "The speed of the earth can be measured with instruments on earth, True or False: er\n",
      "\n",
      "Game over! Final score: 0/40\n"
     ]
    }
   ],
   "source": [
    "#Importing random for choosing the questions randomly.\n",
    "import random\n",
    "\n",
    "#This is the variable that will determine if the while loop should continue or not\n",
    "game_over = False\n",
    "\n",
    "#This is the variable used to monitor the score of the player\n",
    "score = 0\n",
    "\n",
    "#This is the list of questions\n",
    "questions = [\n",
    "    \n",
    "    \"The speed of the earth can be measured with instruments on earth, True or False\",\n",
    "    \"Every single star moves across the sky\",\n",
    "    \"Man never landed on the Moon\",\n",
    "    \"According the World Economic Forum, 'By 2030, you will own nothing, and you will be happy'\"\n",
    "    \n",
    "            ]\n",
    "\n",
    "\n",
    "#This dictionary takes the questions as keys and provides the answers to the questions as the values of the dictionary.\n",
    "q_and_a = {\n",
    "    \n",
    "    questions[0]: \"false\",\n",
    "    questions[1]: \"false\",\n",
    "    questions[2]: \"true\",\n",
    "    questions[3]: \"true\"\n",
    "    \n",
    "}\n",
    "\n",
    "\n",
    "q_and_a = {\n",
    "    \n",
    "    questions[0]: [\"false\", \"f\"],\n",
    "    questions[1]: [\"false\", \"f\"],\n",
    "    questions[2]: [\"true\", \"t\"],\n",
    "    questions[3]: [\"true\", \"t\"]\n",
    "    \n",
    "}\n",
    "\n",
    "\n",
    "#Creating a copy of the questions list. This is so that we can decrement the list during the game but not lose the original list\n",
    "in_game_list = questions.copy()\n",
    "\n",
    "\n",
    "#Creating the while loop for the game\n",
    "while not game_over:\n",
    "    \n",
    "    #Selecting a question for the player at random\n",
    "    chosen_question = random.choice(in_game_list)\n",
    "    \n",
    "    #Removing that question from the game's list of questions\n",
    "    in_game_list.remove(chosen_question)\n",
    "    \n",
    "    #Recording the response of the player\n",
    "    player_response = input(chosen_question + \": \")\n",
    "    \n",
    "    #Checking if the player response is correct. If it is, the score variable is incremented by 10 points.\n",
    "    if player_response.lower() == q_and_a[chosen_question]:\n",
    "        score += 10\n",
    "        \n",
    "    #Checking if there are any more questions in the list to ask. If there are none, set game_over variable to true and exit\n",
    "    #the while loop.\n",
    "    if len(in_game_list) == 0:\n",
    "        game_over = True\n",
    "\n",
    "#printing the final score\n",
    "print(f\"\\nGame over! Final score: {score}/40\")\n"
   ]
  },
  {
   "cell_type": "code",
   "execution_count": null,
   "id": "4d9a38bf",
   "metadata": {},
   "outputs": [],
   "source": []
  },
  {
   "cell_type": "code",
   "execution_count": null,
   "id": "b3597158",
   "metadata": {},
   "outputs": [],
   "source": []
  },
  {
   "cell_type": "code",
   "execution_count": null,
   "id": "c736b08c",
   "metadata": {},
   "outputs": [],
   "source": []
  },
  {
   "attachments": {
    "37467251-2.jpg": {
     "image/jpeg": "[encoded data removed]"
    }
   },
   "cell_type": "markdown",
   "id": "66d942b0",
   "metadata": {},
   "source": [
    "### For Loops\n",
    "\n",
    "\n",
    "In Python, a for loop is used to iterate over a sequence of elements, such as a list, tuple, string, or range. The for loop is designed to make it easy to process each item in a sequence one by one, without having to worry about the details of how the iteration is implemented.\n",
    "\n",
    "The basic syntax of a for loop in Python is as follows:\n",
    "\n",
    "**for item in sequence:**<br>\n",
    "    &emsp; (Your code goes here)\n",
    "\n",
    "\n",
    "\n",
    "In this code, sequence is a list, tuple, string, range, or other iterable object, and item is a variable that takes on each element of the sequence in turn. During each iteration of the loop, the code block within the loop is executed once with item set to the current element of the sequence.\n",
    "\n",
    "### For Loops are like a bunch of keys...\n",
    "\n",
    "![37467251-2.jpg](attachment:37467251-2.jpg)\n",
    "\n",
    "\n",
    "\n",
    "<br>\n",
    "<br>\n",
    "<br>\n",
    "<br>\n",
    "Here's an example of a for loop in action:"
   ]
  },
  {
   "cell_type": "code",
   "execution_count": 44,
   "id": "5880480a",
   "metadata": {},
   "outputs": [
    {
     "name": "stdout",
     "output_type": "stream",
     "text": [
      "apple\n",
      "banana\n",
      "cherry\n"
     ]
    }
   ],
   "source": [
    "fruits = ['apple', 'banana', 'cherry']\n",
    "\n",
    "for fruit in fruits:\n",
    "    print(fruit)\n"
   ]
  },
  {
   "cell_type": "markdown",
   "id": "0ae2a659",
   "metadata": {},
   "source": [
    "In this code, the for loop iterates over the list fruits, assigning each element of the list in turn to the variable fruit. During each iteration of the loop, the code block within the loop is executed with fruit set to the current element of the list. In this case, the code prints out each fruit in the list on a separate line.\n",
    "\n",
    "Other examples of using For loops are given below:"
   ]
  },
  {
   "cell_type": "markdown",
   "id": "b9b5a5c5",
   "metadata": {},
   "source": [
    "1. Looping through a list of numbers"
   ]
  },
  {
   "cell_type": "code",
   "execution_count": 45,
   "id": "e7de9d0a",
   "metadata": {},
   "outputs": [
    {
     "name": "stdout",
     "output_type": "stream",
     "text": [
      "1\n",
      "2\n",
      "3\n",
      "4\n",
      "5\n"
     ]
    }
   ],
   "source": [
    "numbers = [1, 2, 3, 4, 5]\n",
    "\n",
    "for num in numbers:\n",
    "    print(num)\n"
   ]
  },
  {
   "cell_type": "markdown",
   "id": "6d75b759",
   "metadata": {},
   "source": [
    "2. Looping through a string"
   ]
  },
  {
   "cell_type": "code",
   "execution_count": 46,
   "id": "f7a4fd8c",
   "metadata": {},
   "outputs": [
    {
     "name": "stdout",
     "output_type": "stream",
     "text": [
      "h\n",
      "e\n",
      "l\n",
      "l\n",
      "o\n",
      ",\n",
      " \n",
      "w\n",
      "o\n",
      "r\n",
      "l\n",
      "d\n",
      "!\n"
     ]
    }
   ],
   "source": [
    "string = \"hello, world!\"\n",
    "\n",
    "for char in string:\n",
    "    print(char)\n"
   ]
  },
  {
   "cell_type": "markdown",
   "id": "a60a7e9e",
   "metadata": {},
   "source": [
    "3. Looping through a range of numbers"
   ]
  },
  {
   "cell_type": "code",
   "execution_count": 47,
   "id": "2ed54bb7",
   "metadata": {},
   "outputs": [
    {
     "name": "stdout",
     "output_type": "stream",
     "text": [
      "1\n",
      "2\n",
      "3\n",
      "4\n",
      "5\n",
      "6\n",
      "7\n",
      "8\n",
      "9\n"
     ]
    }
   ],
   "source": [
    "for i in range(1, 10):\n",
    "    print(i)\n"
   ]
  },
  {
   "cell_type": "markdown",
   "id": "b0f0eab5",
   "metadata": {},
   "source": [
    "4. Looping through a dictionary"
   ]
  },
  {
   "cell_type": "code",
   "execution_count": 48,
   "id": "4118280e",
   "metadata": {},
   "outputs": [
    {
     "name": "stdout",
     "output_type": "stream",
     "text": [
      "name Alice\n",
      "age 30\n",
      "gender female\n"
     ]
    }
   ],
   "source": [
    "person = {\"name\": \"Alice\", \"age\": 30, \"gender\": \"female\"}\n",
    "\n",
    "for key, value in person.items():\n",
    "    print(key, value)\n"
   ]
  },
  {
   "cell_type": "markdown",
   "id": "9cd6c524",
   "metadata": {},
   "source": [
    "5. Looping through nested list"
   ]
  },
  {
   "cell_type": "code",
   "execution_count": 49,
   "id": "6040fc9e",
   "metadata": {},
   "outputs": [
    {
     "name": "stdout",
     "output_type": "stream",
     "text": [
      "1\n",
      "2\n",
      "3\n",
      "4\n",
      "5\n",
      "6\n",
      "7\n",
      "8\n",
      "9\n"
     ]
    }
   ],
   "source": [
    "matrix = [[1, 2, 3], [4, 5, 6], [7, 8, 9]]\n",
    "\n",
    "for row in matrix:\n",
    "    for num in row:\n",
    "        print(num)\n"
   ]
  },
  {
   "cell_type": "code",
   "execution_count": null,
   "id": "bd9f1947",
   "metadata": {},
   "outputs": [],
   "source": []
  },
  {
   "cell_type": "code",
   "execution_count": null,
   "id": "4333c63d",
   "metadata": {},
   "outputs": [],
   "source": []
  },
  {
   "cell_type": "markdown",
   "id": "37c8aabf",
   "metadata": {},
   "source": [
    "### When to use For loops or While loops in Python\n",
    "\n",
    "\n",
    "Both for loops and while loops can be used for iteration in Python, but they are often used in different situations.\n",
    "\n",
    "A for loop is best used when you know exactly how many times you need to loop, and when you want to iterate over a sequence of items, such as a list, tuple, or string. for loops are typically more concise and easier to read than while loops, and they can help prevent bugs that can arise from improperly incrementing a loop variable.\n",
    "\n",
    "On the other hand, a while loop is best used when you don't know exactly how many times you need to loop, or when you need to loop until a certain condition is met. while loops are often used for tasks such as input validation or implementing game loops, where you need to repeatedly execute a block of code until a certain condition is met.\n",
    "\n",
    "In general, if you have a specific sequence of items you need to iterate over, or if you know exactly how many times you need to loop, a for loop is probably the better choice. If you need to repeatedly execute a block of code until a certain condition is met, or if you don't know exactly how many times you need to loop, a while loop may be more appropriate."
   ]
  },
  {
   "cell_type": "markdown",
   "id": "5ca5b4a0",
   "metadata": {},
   "source": [
    "Other practical examples of using loops are given below:"
   ]
  },
  {
   "cell_type": "markdown",
   "id": "e2e54e12",
   "metadata": {},
   "source": [
    "#### Example 1:\n",
    "\n",
    "Suppose we have a list of contacts and we want to search for all customers whose names start with a letter \"P\". We can create a loop to go through each name in the list of contants and check if the names start with the letter \"P\" using a conditional statement."
   ]
  },
  {
   "cell_type": "code",
   "execution_count": 50,
   "id": "fdbdeebc",
   "metadata": {},
   "outputs": [
    {
     "name": "stdout",
     "output_type": "stream",
     "text": [
      "['Penelope', 'Paisley']\n"
     ]
    }
   ],
   "source": [
    "# A list with 100 names\n",
    "names = ['Sophia', 'Jackson', 'Olivia', 'Liam', 'Emma', 'Noah', 'Ava', 'Elijah', 'Isabella', 'Lucas', 'Mia', 'Mason', 'Charlotte', 'Ethan', 'Amelia', 'Oliver', 'Harper', 'Aiden', 'Evelyn', 'Ezra', 'Abigail', 'Sebastian', 'Emily', 'Caleb', 'Elizabeth', 'Henry', 'Mila', 'Alexander', 'Ella', 'Benjamin', 'Avery', 'Leo', 'Sofia', 'Daniel', 'Camila', 'Matthew', 'Scarlett', 'Levi', 'Victoria', 'Mateo', 'Madison', 'David', 'Luna', 'Joseph', 'Grace', 'Samuel', 'Chloe', 'Muhammad', 'Penelope', 'Carter', 'Riley', 'William', 'Layla', 'Owen', 'Nora', 'Wyatt', 'Aubrey', 'John', 'Addison', 'Jack', 'Hazel', 'Luke', 'Stella', 'Jayden', 'Natalie', 'Dylan', 'Savannah', 'Christopher', 'Brooklyn', 'Lila', 'Brandon', 'Audrey', 'Joshua', 'Claire', 'Nicholas', 'Bella', 'Isaac', 'Aaliyah', 'Eleanor', 'Skylar', 'Tyler', 'Ellie', 'Eli', 'Paisley', 'Max', 'Everly', 'Jaxon', 'Arianna', 'Greyson', 'Victoria', 'Luke', 'Aria', 'Isabelle', 'Scarlet', 'Julian', 'Aurora', 'Aaron', 'Anna', 'Landon', 'Ariana', 'Connor', 'Kaylee']\n",
    "\n",
    "result_list = []\n",
    "\n",
    "for name in names:\n",
    "    if name.startswith(\"P\"):\n",
    "        result_list.append(name)\n",
    "        \n",
    "print(result_list)"
   ]
  },
  {
   "cell_type": "code",
   "execution_count": null,
   "id": "e3418a79",
   "metadata": {},
   "outputs": [],
   "source": []
  },
  {
   "cell_type": "markdown",
   "id": "f7694723",
   "metadata": {},
   "source": [
    "#### Exampe 2:\n",
    "\n",
    "Let's say you work at a grocery store and need to create a program that calculates the total cost of a customer's purchase. The program needs to take in the price of each item and the quantity of each item, and then calculate the total cost.\n",
    "\n",
    "Using Python loops, you could write a program that:\n",
    "\n",
    "- Asks the user to input the number of items they're purchasing.\n",
    "- Initializes a variable to hold the total cost of the purchase.\n",
    "- Uses a loop to ask the user to input the price and quantity of each item, and adds the total cost of each item to the total cost variable.\n",
    "- Prints out the total cost of the purchase.\n",
    "\n",
    "\n",
    "Here's an example code snippet that could be used for this scenario:"
   ]
  },
  {
   "cell_type": "code",
   "execution_count": 52,
   "id": "61cdc831",
   "metadata": {},
   "outputs": [
    {
     "name": "stdout",
     "output_type": "stream",
     "text": [
      "How many items are you purchasing? 1\n",
      "Enter the price of item #1: 4\n",
      "Enter the quantity of item #1: 4\n",
      "The total cost of your purchase is: $16.0\n"
     ]
    }
   ],
   "source": [
    "num_items = int(input(\"How many items are you purchasing? \"))\n",
    "total_cost = 0\n",
    "\n",
    "for i in range(num_items):\n",
    "    item_price = float(input(\"Enter the price of item #\" + str(i+1) + \": \"))\n",
    "    item_quantity = int(input(\"Enter the quantity of item #\" + str(i+1) + \": \"))\n",
    "    item_total_cost = item_price * item_quantity\n",
    "    total_cost += item_total_cost\n",
    "\n",
    "print(\"The total cost of your purchase is: $\" + str(total_cost))\n"
   ]
  },
  {
   "cell_type": "code",
   "execution_count": null,
   "id": "24d78239",
   "metadata": {},
   "outputs": [],
   "source": []
  },
  {
   "cell_type": "markdown",
   "id": "3766ffd4",
   "metadata": {},
   "source": [
    "### The Range function\n",
    "\n",
    "\n",
    "The introduction to for loops would not be complete without also introducing the Range function.\n",
    "\n",
    "The range() function in Python is used to generate a sequence of numbers, which is commonly used to iterate over a loop a specific number of times. It returns an object of type \"range\" which is an immutable sequence of numbers.\n",
    "\n",
    "The general syntax of the range() function is:\n",
    "\n",
    "> range(start, stop[, step])\n",
    "\n",
    "\n",
    "Here, start is the starting point of the range, stop is the endpoint (not included), and step is the increment value between the numbers. If start is not specified, it defaults to 0. If step is not specified, it defaults to 1.\n",
    "\n",
    "Here are some examples of using the range() function in Python:"
   ]
  },
  {
   "cell_type": "markdown",
   "id": "7056ad6c",
   "metadata": {},
   "source": [
    "#### Example 1: \n",
    "\n",
    "Printing numbers from 0 to 4"
   ]
  },
  {
   "cell_type": "code",
   "execution_count": 53,
   "id": "e7428d38",
   "metadata": {},
   "outputs": [
    {
     "name": "stdout",
     "output_type": "stream",
     "text": [
      "0\n",
      "1\n",
      "2\n",
      "3\n",
      "4\n"
     ]
    }
   ],
   "source": [
    "for i in range(5):\n",
    "    print(i)"
   ]
  },
  {
   "cell_type": "code",
   "execution_count": null,
   "id": "68f32ea6",
   "metadata": {},
   "outputs": [],
   "source": []
  },
  {
   "cell_type": "markdown",
   "id": "cfa33132",
   "metadata": {},
   "source": [
    "#### Example 2: \n",
    "Printing numbers from 2 to 7 (increment by 1)"
   ]
  },
  {
   "cell_type": "code",
   "execution_count": 54,
   "id": "b5d4ece0",
   "metadata": {},
   "outputs": [
    {
     "name": "stdout",
     "output_type": "stream",
     "text": [
      "2\n",
      "3\n",
      "4\n",
      "5\n",
      "6\n",
      "7\n"
     ]
    }
   ],
   "source": [
    "for i in range(2, 8):\n",
    "    print(i)\n"
   ]
  },
  {
   "cell_type": "code",
   "execution_count": null,
   "id": "3789afac",
   "metadata": {},
   "outputs": [],
   "source": []
  },
  {
   "cell_type": "markdown",
   "id": "0d5a869c",
   "metadata": {},
   "source": [
    "#### Example 3: \n",
    "Printing even numbers from 0 to 10 (increment by 2)"
   ]
  },
  {
   "cell_type": "code",
   "execution_count": 55,
   "id": "74795af1",
   "metadata": {},
   "outputs": [
    {
     "name": "stdout",
     "output_type": "stream",
     "text": [
      "0\n",
      "2\n",
      "4\n",
      "6\n",
      "8\n",
      "10\n"
     ]
    }
   ],
   "source": [
    "for i in range(0, 11, 2):\n",
    "    print(i)"
   ]
  },
  {
   "cell_type": "code",
   "execution_count": null,
   "id": "51fbf97c",
   "metadata": {},
   "outputs": [],
   "source": []
  },
  {
   "cell_type": "markdown",
   "id": "ced77adc",
   "metadata": {},
   "source": [
    "#### Example 4: \n",
    "\n",
    "Using range() to create a list of numbers"
   ]
  },
  {
   "cell_type": "code",
   "execution_count": 56,
   "id": "c893de60",
   "metadata": {},
   "outputs": [
    {
     "name": "stdout",
     "output_type": "stream",
     "text": [
      "[1, 2, 3, 4, 5]\n"
     ]
    }
   ],
   "source": [
    "my_list = list(range(1, 6))\n",
    "print(my_list)\n"
   ]
  },
  {
   "cell_type": "code",
   "execution_count": null,
   "id": "1c7034c6",
   "metadata": {},
   "outputs": [],
   "source": []
  },
  {
   "cell_type": "markdown",
   "id": "2ebfe0a1",
   "metadata": {},
   "source": [
    "#### Example 5: \n",
    "Finding the sum of all numbers from 1 to 100"
   ]
  },
  {
   "cell_type": "code",
   "execution_count": 57,
   "id": "c5cae129",
   "metadata": {},
   "outputs": [
    {
     "name": "stdout",
     "output_type": "stream",
     "text": [
      "5050\n"
     ]
    }
   ],
   "source": [
    "total = 0\n",
    "for i in range(1, 101):\n",
    "    total += i\n",
    "print(total)\n"
   ]
  },
  {
   "cell_type": "code",
   "execution_count": null,
   "id": "6cd9d970",
   "metadata": {},
   "outputs": [],
   "source": []
  },
  {
   "cell_type": "code",
   "execution_count": null,
   "id": "e306ed1a",
   "metadata": {},
   "outputs": [],
   "source": []
  },
  {
   "cell_type": "markdown",
   "id": "2350c99e",
   "metadata": {},
   "source": [
    "### Nested Loops\n",
    "\n",
    "In Python, nested loops are loops that are contained within other loops.\n",
    "\n",
    "Nested loops are useful when you need to iterate over a set of data that is structured in multiple dimensions, such as a matrix or a two-dimensional array. By using nested loops, you can iterate over each row and column of the data structure in a systematic way.\n",
    "\n",
    "Here's an example of nested loops in Python:"
   ]
  },
  {
   "cell_type": "code",
   "execution_count": 58,
   "id": "decdff8f",
   "metadata": {},
   "outputs": [
    {
     "name": "stdout",
     "output_type": "stream",
     "text": [
      "i= 0 j= 0\n",
      "i= 0 j= 1\n",
      "i= 0 j= 2\n",
      "i= 1 j= 0\n",
      "i= 1 j= 1\n",
      "i= 1 j= 2\n",
      "i= 2 j= 0\n",
      "i= 2 j= 1\n",
      "i= 2 j= 2\n"
     ]
    }
   ],
   "source": [
    "for i in range(3):\n",
    "    for j in range(3):\n",
    "        print(\"i=\", i, \"j=\", j)\n"
   ]
  },
  {
   "cell_type": "markdown",
   "id": "3ab6ded3",
   "metadata": {},
   "source": [
    "In this example, we have two nested for loops. The outer loop iterates over the values 0, 1, and 2 for the variable i. The inner loop also iterates over the values 0, 1, and 2 for the variable j.\n",
    "\n",
    "For each combination of i and j, the print statement is executed, printing the values of i and j to the console. "
   ]
  },
  {
   "cell_type": "code",
   "execution_count": null,
   "id": "12688b48",
   "metadata": {},
   "outputs": [],
   "source": []
  },
  {
   "cell_type": "markdown",
   "id": "17ed6625",
   "metadata": {},
   "source": [
    "Another popular example of using nested loops is in the creation of multiplication tables. The code implementation is given below:"
   ]
  },
  {
   "cell_type": "code",
   "execution_count": 59,
   "id": "09c63ab3",
   "metadata": {},
   "outputs": [
    {
     "name": "stdout",
     "output_type": "stream",
     "text": [
      "1\t2\t3\t4\t5\t6\t7\t8\t9\t10\t\n",
      "2\t4\t6\t8\t10\t12\t14\t16\t18\t20\t\n",
      "3\t6\t9\t12\t15\t18\t21\t24\t27\t30\t\n",
      "4\t8\t12\t16\t20\t24\t28\t32\t36\t40\t\n",
      "5\t10\t15\t20\t25\t30\t35\t40\t45\t50\t\n",
      "6\t12\t18\t24\t30\t36\t42\t48\t54\t60\t\n",
      "7\t14\t21\t28\t35\t42\t49\t56\t63\t70\t\n",
      "8\t16\t24\t32\t40\t48\t56\t64\t72\t80\t\n",
      "9\t18\t27\t36\t45\t54\t63\t72\t81\t90\t\n",
      "10\t20\t30\t40\t50\t60\t70\t80\t90\t100\t\n"
     ]
    }
   ],
   "source": [
    "# Define the size of the multiplication table\n",
    "size = 10\n",
    "\n",
    "# Generate the multiplication table\n",
    "for i in range(1, size+1):\n",
    "    for j in range(1, size+1):\n",
    "        # Calculate the product of i and j\n",
    "        product = i * j\n",
    "        # Print the product, followed by a tab character\n",
    "        print(product, end='\\t')\n",
    "    # Print a newline character after each row is complete\n",
    "    print()\n"
   ]
  },
  {
   "cell_type": "markdown",
   "id": "f1707df3",
   "metadata": {},
   "source": [
    "In this code, we first define the size of the multiplication table using the size variable. Then we use two nested for loops to iterate over the rows and columns of the table. For each pair of numbers (i,j), we calculate the product i * j and print it to the console, followed by a tab character (\\t). After each row is complete, we print a newline character (\\n) to move to the next line.\n",
    "\n",
    "When you run this code, you should see a multiplication table printed to the console, with the numbers 1 to 10 along the top and left-hand sides, and the products of each pair of numbers in the cells of the table."
   ]
  },
  {
   "cell_type": "code",
   "execution_count": null,
   "id": "81f651a9",
   "metadata": {},
   "outputs": [],
   "source": []
  },
  {
   "cell_type": "code",
   "execution_count": null,
   "id": "a37de88c",
   "metadata": {},
   "outputs": [],
   "source": []
  },
  {
   "cell_type": "markdown",
   "id": "2e27886c",
   "metadata": {},
   "source": [
    "### Assignment\n",
    "\n",
    "\n",
    "#### For Loops:\n",
    "1. Printing the elements of a list: You can use a for loop to iterate through each element in a list and print it to the console. Give a code example of how you can achieve this.\n",
    "\n",
    "2. Summing the elements of a list: You can use a for loop to iterate through each element in a list and add it to a running total. Give a code example of how you can achieve this.\n",
    "\n",
    "3. Counting the occurrences of a character in a string: You can use a for loop to iterate through each character in a string and count how many times a specific character appears. Give a code example of how you can achieve this.\n",
    "\n",
    "4. Filtering a list based on a condition: One scenario could be that you are filtering out numbers that are divisible by 3 from a list and adding these numbers to a new list. Give a code example of how you can achieve this.\n",
    "\n",
    "5. Generate a list of numbers from 1 to 500, then, write code that checks for which numbers are perfect squares and then moves those numbers to a new list.\n",
    "\n",
    "\n",
    "\n",
    "#### If Statements:\n",
    "1. Validating user input: You can create a code block that checks if a user input is valid or not. For example, a code that checks if a user is above 18 years old or not.\n",
    "\n",
    "2. You have 3 people: Joe, Susan, and Eric. Joe is an admin user to a certain database while Susan and Eric are ordinary users. Build a code block that checks whether a particular user is an admin or not.\n",
    "\n",
    "\n",
    "\n",
    "#### While Statement:\n",
    "1. Processing User Input: A while loop can be used to repeatedly prompt the user for input until a valid response is received. For example, a program that asks the user to enter their age could use a while loop to ensure that the input is a positive integer. Implement this example in code.\n",
    "\n",
    "2. Use a while loop to generate a list of numbers from 1 to 500."
   ]
  },
  {
   "cell_type": "raw",
   "id": "89e03a69",
   "metadata": {},
   "source": []
  }
 ],
 "metadata": {
  "kernelspec": {
   "display_name": "Python 3 (ipykernel)",
   "language": "python",
   "name": "python3"
  },
  "language_info": {
   "codemirror_mode": {
    "name": "ipython",
    "version": 3
   },
   "file_extension": ".py",
   "mimetype": "text/x-python",
   "name": "python",
   "nbconvert_exporter": "python",
   "pygments_lexer": "ipython3",
   "version": "3.9.13"
  }
 },
 "nbformat": 4,
 "nbformat_minor": 5
}
