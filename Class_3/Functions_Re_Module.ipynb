{
 "cells": [
  {
   "cell_type": "markdown",
   "id": "514e4f16",
   "metadata": {},
   "source": [
    "# Conditionals, Loops, Functions, Re Module (cont'd)"
   ]
  },
  {
   "cell_type": "code",
   "execution_count": null,
   "id": "2072860f",
   "metadata": {},
   "outputs": [],
   "source": []
  },
  {
   "cell_type": "markdown",
   "id": "ec88280a",
   "metadata": {},
   "source": [
    "## Functions\n",
    "\n",
    "\n",
    "In Python, a function is a block of code that performs a specific task and can be called from other parts of a program. Functions provide a way to organize code into reusable modules, making code more efficient, readable, and easier to maintain.\n",
    "\n",
    "Functions in Python are defined using the def keyword, followed by the function name and parentheses. Any parameters that the function requires are listed inside the parentheses, and the function code is indented below the function definition. Here's an example of a simple function that takes two arguments and returns their sum:"
   ]
  },
  {
   "cell_type": "code",
   "execution_count": 1,
   "id": "51c4c693",
   "metadata": {},
   "outputs": [],
   "source": [
    "def add_numbers(a, b):\n",
    "    sum = a + b\n",
    "    return sum\n"
   ]
  },
  {
   "cell_type": "markdown",
   "id": "581d46d9",
   "metadata": {},
   "source": [
    "In this example, we have defined a function called add_numbers that takes two arguments, a and b. Inside the function, we have created a variable called sum that contains the sum of a and b. Finally, we have used the return statement to return the value of sum to the caller.\n",
    "\n",
    "To call a function in Python, we simply use its name followed by parentheses, passing any required arguments inside the parentheses. Here's an example of how we could call the add_numbers function:"
   ]
  },
  {
   "cell_type": "code",
   "execution_count": 2,
   "id": "d6efdb0f",
   "metadata": {},
   "outputs": [
    {
     "name": "stdout",
     "output_type": "stream",
     "text": [
      "5\n"
     ]
    }
   ],
   "source": [
    "result = add_numbers(2, 3)\n",
    "print(result)\n"
   ]
  },
  {
   "cell_type": "markdown",
   "id": "e035b304",
   "metadata": {},
   "source": [
    "In this example, we have called the add_numbers function with arguments 2 and 3. The function returns the value 5, which we have assigned to a variable called result. Finally, we have printed the value of result to the console, which should output 5.\n",
    "\n",
    "Functions in Python can have optional parameters, default parameter values, and can return multiple values using tuples. They are an essential tool for any Python programmer and provide a way to write efficient and reusable code."
   ]
  },
  {
   "cell_type": "markdown",
   "id": "704817f4",
   "metadata": {},
   "source": [
    "There are built-in functions as well in python. These are functions that come pre-installed with the Python package. We have already used a couple of them in this course. Here is a list of some of the built-in functions in python"
   ]
  },
  {
   "cell_type": "markdown",
   "id": "18e15deb",
   "metadata": {},
   "source": [
    "print() - This function is used to print out a message or value to the console.\n",
    "\n",
    "len() - This function is used to find the length of a string, list, tuple, or any other sequence.\n",
    "\n",
    "range() - This function is used to create a range of numbers that can be used in a loop.\n",
    "\n",
    "type() - This function is used to determine the data type of a given value.\n",
    "\n",
    "str() - This function is used to convert a value to a string.\n",
    "\n",
    "int() - This function is used to convert a value to an integer.\n",
    "\n",
    "float() - This function is used to convert a value to a floating-point number.\n",
    "\n",
    "abs() - This function is used to find the absolute value of a number.\n",
    "\n",
    "sum() - This function is used to find the sum of all the values in a list.\n",
    "\n",
    "max() and min() - These functions are used to find the maximum and minimum values in a list."
   ]
  },
  {
   "cell_type": "code",
   "execution_count": null,
   "id": "621714f8",
   "metadata": {},
   "outputs": [],
   "source": []
  },
  {
   "cell_type": "markdown",
   "id": "6b484b0c",
   "metadata": {},
   "source": [
    "Let us look at more examples of simple functions:"
   ]
  },
  {
   "cell_type": "markdown",
   "id": "c9b1e29b",
   "metadata": {},
   "source": [
    "greet(): This function takes no arguments and simply prints a greeting message."
   ]
  },
  {
   "cell_type": "code",
   "execution_count": null,
   "id": "f9f056f8",
   "metadata": {},
   "outputs": [],
   "source": [
    "def greet():\n",
    "    print(\"Hello, how are you?\")\n"
   ]
  },
  {
   "cell_type": "code",
   "execution_count": null,
   "id": "20059f91",
   "metadata": {},
   "outputs": [],
   "source": []
  },
  {
   "cell_type": "markdown",
   "id": "5143c1a8",
   "metadata": {},
   "source": [
    "add(): This function takes two arguments - a and b - and returns the sum of the two arguments."
   ]
  },
  {
   "cell_type": "code",
   "execution_count": null,
   "id": "44d55978",
   "metadata": {},
   "outputs": [],
   "source": [
    "def add(a, b):\n",
    "    return a + b\n"
   ]
  },
  {
   "cell_type": "code",
   "execution_count": null,
   "id": "9bfe1574",
   "metadata": {},
   "outputs": [],
   "source": []
  },
  {
   "cell_type": "markdown",
   "id": "51084928",
   "metadata": {},
   "source": [
    "is_even(): This function takes one argument - a number - and checks whether the number is even or odd. It returns True if the number is even and False if it is odd."
   ]
  },
  {
   "cell_type": "code",
   "execution_count": null,
   "id": "84715c84",
   "metadata": {},
   "outputs": [],
   "source": [
    "def is_even(num):\n",
    "    if num % 2 == 0:\n",
    "        return True\n",
    "    else:\n",
    "        return False\n"
   ]
  },
  {
   "cell_type": "code",
   "execution_count": null,
   "id": "1a4f16d0",
   "metadata": {},
   "outputs": [],
   "source": []
  },
  {
   "cell_type": "markdown",
   "id": "1115ef6d",
   "metadata": {},
   "source": [
    "double_list(): This function takes one argument - a list of numbers - and returns a new list with each number in the original list doubled."
   ]
  },
  {
   "cell_type": "code",
   "execution_count": null,
   "id": "51902252",
   "metadata": {},
   "outputs": [],
   "source": [
    "def double_list(numbers):\n",
    "    doubled_numbers = []\n",
    "    for num in numbers:\n",
    "        doubled_numbers.append(num * 2)\n",
    "    return doubled_numbers\n"
   ]
  },
  {
   "cell_type": "code",
   "execution_count": null,
   "id": "dfac8716",
   "metadata": {},
   "outputs": [],
   "source": []
  },
  {
   "cell_type": "markdown",
   "id": "c053f25b",
   "metadata": {},
   "source": [
    "calculate_area(): This function takes two arguments - the base and height of a triangle - and returns the area of the triangle."
   ]
  },
  {
   "cell_type": "code",
   "execution_count": null,
   "id": "6cef0eb7",
   "metadata": {},
   "outputs": [],
   "source": [
    "def calculate_area(base, height):\n",
    "    area = 0.5 * base * height\n",
    "    return area\n"
   ]
  },
  {
   "cell_type": "code",
   "execution_count": null,
   "id": "14f34991",
   "metadata": {},
   "outputs": [],
   "source": []
  },
  {
   "cell_type": "markdown",
   "id": "d0c4c464",
   "metadata": {},
   "source": [
    "Now, for examples that are more involved"
   ]
  },
  {
   "cell_type": "markdown",
   "id": "9fe2937b",
   "metadata": {},
   "source": [
    "#### Example 1\n",
    "\n",
    "calculate_bmi(): This function takes in two arguments - weight in kilograms and height in meters - and returns the Body Mass Index (BMI) of an individual."
   ]
  },
  {
   "cell_type": "code",
   "execution_count": null,
   "id": "e31647f6",
   "metadata": {},
   "outputs": [],
   "source": [
    "def calculate_bmi(weight, height):\n",
    "    bmi = weight / (height ** 2)\n",
    "    return bmi\n"
   ]
  },
  {
   "cell_type": "code",
   "execution_count": null,
   "id": "5848e1ad",
   "metadata": {},
   "outputs": [],
   "source": []
  },
  {
   "cell_type": "markdown",
   "id": "e8f1120d",
   "metadata": {},
   "source": [
    "#### Example 2:\n",
    "\n",
    "convert_currency(): This function takes in three arguments - the amount of money to be converted, the currency of the original amount, and the currency to which the amount needs to be converted - and returns the converted amount."
   ]
  },
  {
   "cell_type": "code",
   "execution_count": 1,
   "id": "bd815221",
   "metadata": {},
   "outputs": [],
   "source": [
    "def convert_currency(amount, original_currency, target_currency):\n",
    "    # assume the conversion rates are stored in a dictionary\n",
    "    conversion_rates = {'USD': 1.0, 'EUR': 0.83, 'GBP': 0.72}\n",
    "    converted_amount = amount * conversion_rates[original_currency] / conversion_rates[target_currency]\n",
    "    return converted_amount\n"
   ]
  },
  {
   "cell_type": "code",
   "execution_count": null,
   "id": "c2304309",
   "metadata": {},
   "outputs": [],
   "source": []
  },
  {
   "cell_type": "markdown",
   "id": "bc12b014",
   "metadata": {},
   "source": [
    "#### Example 3:\n",
    "\n",
    "calculate_tip(): This function takes in two arguments - the total bill amount and the percentage of the tip - and returns the amount of tip to be paid."
   ]
  },
  {
   "cell_type": "code",
   "execution_count": 2,
   "id": "073e922d",
   "metadata": {},
   "outputs": [],
   "source": [
    "def calculate_tip(total_bill, tip_percent):\n",
    "    tip_amount = total_bill * tip_percent / 100\n",
    "    return tip_amount\n"
   ]
  },
  {
   "cell_type": "code",
   "execution_count": null,
   "id": "a2fde23d",
   "metadata": {},
   "outputs": [],
   "source": []
  },
  {
   "cell_type": "markdown",
   "id": "c1808395",
   "metadata": {},
   "source": [
    "#### Example 4:\n",
    "\n",
    "calculate_distance(): This function takes in four arguments - the latitude and longitude of two locations - and returns the distance between the two locations in kilometers."
   ]
  },
  {
   "cell_type": "code",
   "execution_count": null,
   "id": "79dae5fb",
   "metadata": {},
   "outputs": [],
   "source": [
    "import geopy.distance\n",
    "\n",
    "def calculate_distance(lat1, lon1, lat2, lon2):\n",
    "    location1 = (lat1, lon1)\n",
    "    location2 = (lat2, lon2)\n",
    "    distance_km = geopy.distance.distance(location1, location2).km\n",
    "    return distance_km\n"
   ]
  },
  {
   "cell_type": "code",
   "execution_count": null,
   "id": "e43d935f",
   "metadata": {},
   "outputs": [],
   "source": []
  },
  {
   "cell_type": "markdown",
   "id": "5f38c608",
   "metadata": {},
   "source": [
    "## Lambda Functions\n",
    "\n",
    "Lambda functions, also known as anonymous functions, are a type of function in Python that are defined using a single line of code and do not have a name.\n",
    "\n",
    "Lambda functions are typically used when a small, one-time function is needed, and defining a full function is unnecessary. They can take any number of arguments, but only return one value.\n",
    "\n",
    "Here is an example of a lambda function that takes two arguments and returns their sum:"
   ]
  },
  {
   "cell_type": "code",
   "execution_count": null,
   "id": "f6ff0d45",
   "metadata": {},
   "outputs": [],
   "source": [
    "add = lambda x, y: x + y\n",
    "result = add(2, 3)\n",
    "print(result) # Output: 5\n"
   ]
  },
  {
   "cell_type": "markdown",
   "id": "7c0c9ffa",
   "metadata": {},
   "source": [
    "In this example, lambda is used to define a function that takes two arguments x and y, and returns their sum x + y. The function is then assigned to the variable add, and called with arguments 2 and 3. The result is printed, which is 5."
   ]
  },
  {
   "cell_type": "code",
   "execution_count": null,
   "id": "2bf62ccf",
   "metadata": {},
   "outputs": [],
   "source": []
  },
  {
   "cell_type": "code",
   "execution_count": null,
   "id": "dc7a8d8c",
   "metadata": {},
   "outputs": [],
   "source": []
  },
  {
   "cell_type": "markdown",
   "id": "cda7a6be",
   "metadata": {},
   "source": [
    "### Application of Functions in Pandas\n",
    "\n",
    "\n",
    "Python functions are used extensively in Pandas for data manipulation and analysis in Python. Pandas provides a wide range of built-in functions for common operations on data, but sometimes you may need to write your own custom functions to perform specific data manipulations or calculations.\n",
    "\n",
    "So far, we have learned how to create our own custom functions and now we can apply this knowledge to dataframes. Here are a few examples of how Python functions can be used in Pandas:"
   ]
  },
  {
   "cell_type": "markdown",
   "id": "def80ac7",
   "metadata": {},
   "source": [
    "**Apply function to a column or row:** <br>\n",
    "\n",
    "You can use the apply() function to apply a Python function to each element of a Pandas Series or DataFrame column or row. For example, you could define a function that calculates the square of a number and apply it to a column in a DataFrame:"
   ]
  },
  {
   "cell_type": "code",
   "execution_count": 3,
   "id": "9537ac0c",
   "metadata": {},
   "outputs": [],
   "source": [
    "import pandas as pd\n",
    "\n",
    "df = pd.DataFrame({'numbers': [1, 2, 3, 4, 5]})\n",
    "square = lambda x: x ** 2\n",
    "df['squared'] = df['numbers'].apply(square)\n"
   ]
  },
  {
   "cell_type": "markdown",
   "id": "5c19335c",
   "metadata": {},
   "source": [
    "The above code will create a new column in the DataFrame called \"squared\" that contains the square of each number in the \"numbers\" column."
   ]
  },
  {
   "cell_type": "markdown",
   "id": "ae3f564a",
   "metadata": {},
   "source": [
    "You can use Python functions with conditional statements to manipulate data in a Pandas DataFrame. For example, you could define a function that sets values in a column to \"high\" or \"low\" based on a threshold value and use it with the apply() function:"
   ]
  },
  {
   "cell_type": "code",
   "execution_count": 4,
   "id": "c805e98f",
   "metadata": {},
   "outputs": [],
   "source": [
    "import pandas as pd\n",
    "\n",
    "df = pd.DataFrame({'values': [1, 2, 3, 4, 5]})\n",
    "threshold = 3\n",
    "def set_threshold(x):\n",
    "    if x >= threshold:\n",
    "        return 'high'\n",
    "    else:\n",
    "        return 'low'\n",
    "df['threshold'] = df['values'].apply(set_threshold)\n"
   ]
  },
  {
   "cell_type": "markdown",
   "id": "68af3998",
   "metadata": {},
   "source": [
    "This will create a new column in the DataFrame called \"threshold\" that contains \"high\" or \"low\" based on whether the corresponding value in the \"values\" column is above or below the threshold."
   ]
  },
  {
   "cell_type": "code",
   "execution_count": null,
   "id": "6409a46e",
   "metadata": {},
   "outputs": [],
   "source": []
  },
  {
   "cell_type": "code",
   "execution_count": null,
   "id": "d6d14870",
   "metadata": {},
   "outputs": [],
   "source": []
  },
  {
   "cell_type": "code",
   "execution_count": null,
   "id": "363dbd0e",
   "metadata": {},
   "outputs": [],
   "source": []
  },
  {
   "cell_type": "markdown",
   "id": "820bd98b",
   "metadata": {},
   "source": [
    "**Apply functionto the entire dataframe:** <br>\n",
    "\n",
    "Here, we make use of the applymap() function to apply a python function to each element of all rows of the Dataframe.\n",
    "\n",
    "applymap is a method in the pandas library that can be used to apply a function to each element of a pandas DataFrame. Here's an example of how to use applymap in pandas:\n",
    "\n",
    "Suppose you have a DataFrame df as follows:"
   ]
  },
  {
   "cell_type": "code",
   "execution_count": 5,
   "id": "83bf01e0",
   "metadata": {},
   "outputs": [],
   "source": [
    "df = pd.DataFrame({'A': [1, 2, 3], 'B': [4, 5, 6]})\n"
   ]
  },
  {
   "cell_type": "markdown",
   "id": "32c0ee3d",
   "metadata": {},
   "source": [
    "You can use applymap to apply a function to each element of the DataFrame. For example, let's say we want to square each element of the DataFrame. We can define a lambda function to do this:"
   ]
  },
  {
   "cell_type": "code",
   "execution_count": 6,
   "id": "dc3ae135",
   "metadata": {},
   "outputs": [],
   "source": [
    "square = lambda x: x ** 2"
   ]
  },
  {
   "cell_type": "markdown",
   "id": "b1dec611",
   "metadata": {},
   "source": [
    "Then, we can use applymap to apply the square function to each element of the DataFrame:"
   ]
  },
  {
   "cell_type": "code",
   "execution_count": 7,
   "id": "10d71cb3",
   "metadata": {},
   "outputs": [
    {
     "data": {
      "text/html": [
       "<div>\n",
       "<style scoped>\n",
       "    .dataframe tbody tr th:only-of-type {\n",
       "        vertical-align: middle;\n",
       "    }\n",
       "\n",
       "    .dataframe tbody tr th {\n",
       "        vertical-align: top;\n",
       "    }\n",
       "\n",
       "    .dataframe thead th {\n",
       "        text-align: right;\n",
       "    }\n",
       "</style>\n",
       "<table border=\"1\" class=\"dataframe\">\n",
       "  <thead>\n",
       "    <tr style=\"text-align: right;\">\n",
       "      <th></th>\n",
       "      <th>A</th>\n",
       "      <th>B</th>\n",
       "    </tr>\n",
       "  </thead>\n",
       "  <tbody>\n",
       "    <tr>\n",
       "      <th>0</th>\n",
       "      <td>1</td>\n",
       "      <td>16</td>\n",
       "    </tr>\n",
       "    <tr>\n",
       "      <th>1</th>\n",
       "      <td>4</td>\n",
       "      <td>25</td>\n",
       "    </tr>\n",
       "    <tr>\n",
       "      <th>2</th>\n",
       "      <td>9</td>\n",
       "      <td>36</td>\n",
       "    </tr>\n",
       "  </tbody>\n",
       "</table>\n",
       "</div>"
      ],
      "text/plain": [
       "   A   B\n",
       "0  1  16\n",
       "1  4  25\n",
       "2  9  36"
      ]
     },
     "execution_count": 7,
     "metadata": {},
     "output_type": "execute_result"
    }
   ],
   "source": [
    "df_squared = df.applymap(square)\n",
    "df_squared"
   ]
  },
  {
   "cell_type": "code",
   "execution_count": null,
   "id": "98cce874",
   "metadata": {},
   "outputs": [],
   "source": []
  },
  {
   "cell_type": "code",
   "execution_count": null,
   "id": "1e15cf58",
   "metadata": {},
   "outputs": [],
   "source": []
  },
  {
   "cell_type": "markdown",
   "id": "faf19c91",
   "metadata": {},
   "source": [
    "### Classwork\n",
    "\n",
    "1. **calculate_tax()**: This function takes in two arguments - the total purchase amount and the tax rate - and returns the amount of tax to be paid.\n",
    "\n",
    "2. **generate_password()**: This function generates a random password of a specified length and complexity. You can use the \"random\" module in python. (This requires some research into how to use the random module)\n",
    "\n",
    "3. Give code examples of using the built-in functions given in this notebook on ordinary numbers and also pandas tables. You can create the tables on your own or you can use the tables we have used so far in class.\n",
    "\n",
    "4. Write a program that takes a list of integers and returns the sum of all even numbers in the list using a loop.\n",
    "\n",
    "5. Write a Python program that takes a string as input and outputs the number of vowels in the string using a loop.\n",
    "\n",
    "6. Write a python function that reverses a string. For example, \"Olujare\" becomes \"erajulO\"\n"
   ]
  },
  {
   "cell_type": "code",
   "execution_count": null,
   "id": "9fa342d7",
   "metadata": {},
   "outputs": [],
   "source": []
  },
  {
   "cell_type": "markdown",
   "id": "91d324b4",
   "metadata": {},
   "source": [
    "### List Comprehension\n",
    "\n",
    "List comprehension is a concise and elegant way to create a new list in Python by applying an expression or function to each element in an existing list. It is a powerful and efficient tool for data processing and is often used as a replacement for loops.\n",
    "\n",
    "The basic syntax of list comprehension is as follows:"
   ]
  },
  {
   "cell_type": "code",
   "execution_count": 2,
   "id": "ff1ad363",
   "metadata": {},
   "outputs": [],
   "source": [
    "iterable = []\n",
    "\n",
    "new_list = [expression for item in iterable]\n"
   ]
  },
  {
   "cell_type": "markdown",
   "id": "3b6eba59",
   "metadata": {},
   "source": [
    "Here, expression is an expression or function that is applied to each element in the iterable, item is the variable that represents each element in the iterable, and iterable is a list, tuple, set, or any other iterable object.\n",
    "\n",
    "For example, the following code creates a new list of squared numbers using list comprehension:"
   ]
  },
  {
   "cell_type": "code",
   "execution_count": null,
   "id": "507b777f",
   "metadata": {},
   "outputs": [],
   "source": [
    "numbers = [1, 2, 3, 4, 5]\n",
    "\n",
    "squares = [x**2 for x in numbers]\n",
    "\n",
    "print(squares) # Output: [1, 4, 9, 16, 25]\n"
   ]
  },
  {
   "cell_type": "markdown",
   "id": "ea5cddae",
   "metadata": {},
   "source": [
    "This code creates a new list called squares by squaring each element in the numbers list using the expression x**2. List comprehension is often more concise and readable than equivalent code that uses loops, and it can also be faster and more efficient in many cases.\n",
    "\n",
    "List comprehension also allows for filtering of elements by including an optional if clause at the end of the expression. For example, the following code creates a new list of even numbers using list comprehension:"
   ]
  },
  {
   "cell_type": "code",
   "execution_count": null,
   "id": "68b6f4c4",
   "metadata": {},
   "outputs": [],
   "source": [
    "numbers = [1, 2, 3, 4, 5]\n",
    "\n",
    "even_numbers = [x for x in numbers if x % 2 == 0]\n",
    "\n",
    "print(even_numbers) # Output: [2, 4]\n"
   ]
  },
  {
   "cell_type": "markdown",
   "id": "9c86ddc0",
   "metadata": {},
   "source": [
    "This code creates a new list called even_numbers that includes only the even numbers from the numbers list by checking the remainder when each number is divided by 2."
   ]
  },
  {
   "cell_type": "code",
   "execution_count": null,
   "id": "b426151b",
   "metadata": {},
   "outputs": [],
   "source": []
  },
  {
   "cell_type": "markdown",
   "id": "918575ce",
   "metadata": {},
   "source": [
    "### Assignment\n",
    "\n",
    "1. There are tuple comprehension, dictionary comprehension, and set comprehension. Create code examples for each.\n",
    "\n",
    "2. Create a program that generates a multiplication table for a given number using a nested loop in Python.\n",
    "\n",
    "3. Create a program that takes a list of strings and sorts them alphabetically using a loop and the built-in string comparison functions in Python. (It is possible to compare strings using the > or < signs. For example \"j\" > \"i\" outputs True in python)\n",
    "\n",
    "4. Explain the code snippets given in the cell below. Use comments to explain what the code is doing at each line."
   ]
  },
  {
   "cell_type": "code",
   "execution_count": null,
   "id": "94f05cab",
   "metadata": {},
   "outputs": [],
   "source": [
    "max_num = int(input(\"Enter the maximum number: \"))\n",
    "\n",
    "for num in range(2, max_num + 1):\n",
    "\n",
    "    is_prime = True\n",
    "    \n",
    "    for i in range(2, num):\n",
    "        if num % i == 0:\n",
    "            is_prime = False\n",
    "            break\n",
    "    \n",
    "    if is_prime:\n",
    "        print(num, end=\" \")\n"
   ]
  },
  {
   "cell_type": "markdown",
   "id": "09671be1",
   "metadata": {},
   "source": [
    "5. Write a Python function that takes in a list of numbers and returns the sum of all the even numbers in the list.\n",
    "\n",
    "6. Write a Python function that takes in a string and returns True if the string is a palindrome (reads the same backwards as forwards), and False otherwise.\n",
    "\n",
    "7. Write a Python function that takes in a list of numbers and returns a new list with only the numbers that are greater than the average of all the numbers in the original list.\n",
    "\n",
    "8. Implement question 7 with list comprehension."
   ]
  },
  {
   "cell_type": "code",
   "execution_count": null,
   "id": "2b23929e",
   "metadata": {},
   "outputs": [],
   "source": []
  },
  {
   "cell_type": "code",
   "execution_count": null,
   "id": "7c4102e2",
   "metadata": {},
   "outputs": [],
   "source": []
  },
  {
   "cell_type": "markdown",
   "id": "8326029e",
   "metadata": {},
   "source": [
    "## Re Module\n",
    "\n",
    "\n",
    "The re module is a built-in module in Python that provides support for regular expressions, which are a powerful and flexible way to match and manipulate text. The re module allows you to use regular expressions in your Python code, providing a wide range of functions for searching, replacing, and manipulating text.\n",
    "\n",
    "Some of the key functions provided by the re module include:\n",
    "\n",
    "Search: You can use the re.search() function to search for a pattern in a string and return the first occurrence of the match.<br>\n",
    "\n",
    "Match: You can use the re.match() function to match a pattern at the beginning of a string. <br>\n",
    "\n",
    "Substitution: You can use the re.sub() function to search and replace a pattern in a string with a replacement string. <br>\n",
    "\n",
    "Splitting: You can use the re.split() function to split a string into a list based on a specified pattern. <br>\n",
    "\n",
    "Findall: You can use the re.findall() function to find all occurrences of a pattern in a string and return them as a list. <br>\n",
    "\n",
    "Groups: You can use the groups() method to extract specific parts of a matched pattern. <br>\n",
    "\n",
    "Compile: You can use the re.compile() function to compile a regular expression pattern into a regex object for better performance if you plan to use the same pattern multiple times.<br>\n",
    "\n",
    "<br>\n",
    "<br>\n",
    "Regular expressions are a powerful tool for text processing and can be used in a wide range of applications, including data cleaning, natural language processing, and web scraping. The re module is an essential tool for anyone working with text data in Python, and it provides a powerful and flexible way to work with regular expressions."
   ]
  },
  {
   "cell_type": "markdown",
   "id": "26a80eb8",
   "metadata": {},
   "source": [
    "[Geeks for Geeks re module article](https://www.geeksforgeeks.org/regular-expression-python-examples-set-1/)\n",
    "\n",
    "[Google re module article](https://developers.google.com/edu/python/regular-expressions)\n",
    "\n",
    "[guru99 website](https://www.guru99.com/python-regular-expressions-complete-tutorial.html)\n",
    "\n",
    "\n",
    "### Official Documentation for the Re module:\n",
    "[Official Re Documentation](https://docs.python.org/3/library/re.html)"
   ]
  },
  {
   "cell_type": "code",
   "execution_count": null,
   "id": "87eb0fa2",
   "metadata": {},
   "outputs": [],
   "source": []
  },
  {
   "cell_type": "markdown",
   "id": "6f512cd6",
   "metadata": {},
   "source": [
    "### Re.search():\n",
    "\n",
    "Here are five examples of how to use re.search() in Python:"
   ]
  },
  {
   "cell_type": "markdown",
   "id": "b338d562",
   "metadata": {},
   "source": [
    "#### Matching a specific pattern in a string:"
   ]
  },
  {
   "cell_type": "code",
   "execution_count": null,
   "id": "ae3a7551",
   "metadata": {},
   "outputs": [],
   "source": [
    "import re\n",
    "\n",
    "text = \"The quick brown fox jumps over the lazy dog.\"\n",
    "pattern = \"brown\"\n",
    "match = re.search(pattern, text)\n",
    "if match:\n",
    "    print(\"Pattern found in the text!\")\n",
    "else:\n",
    "    print(\"Pattern not found.\")\n"
   ]
  },
  {
   "cell_type": "code",
   "execution_count": null,
   "id": "b4f1fb2a",
   "metadata": {},
   "outputs": [],
   "source": []
  },
  {
   "cell_type": "markdown",
   "id": "e04aaa68",
   "metadata": {},
   "source": [
    "#### Matching a pattern with a variable in a string:"
   ]
  },
  {
   "cell_type": "code",
   "execution_count": null,
   "id": "553fcf04",
   "metadata": {},
   "outputs": [],
   "source": [
    "import re\n",
    "\n",
    "text = \"My favorite number is 42.\"\n",
    "number = 42\n",
    "pattern = str(number)\n",
    "match = re.search(pattern, text)\n",
    "if match:\n",
    "    print(\"Pattern found in the text!\")\n",
    "else:\n",
    "    print(\"Pattern not found.\")\n"
   ]
  },
  {
   "cell_type": "code",
   "execution_count": null,
   "id": "f716160c",
   "metadata": {},
   "outputs": [],
   "source": []
  },
  {
   "cell_type": "markdown",
   "id": "fb9790df",
   "metadata": {},
   "source": [
    "#### Matching a pattern with a regular expression:"
   ]
  },
  {
   "cell_type": "code",
   "execution_count": 13,
   "id": "3b3f3785",
   "metadata": {},
   "outputs": [
    {
     "name": "stdout",
     "output_type": "stream",
     "text": [
      "Pattern not found.\n"
     ]
    }
   ],
   "source": [
    "import re\n",
    "\n",
    "text = \"The quick brown fox jumps over the lazy dog.\"\n",
    "pattern = r\"\\b[A-Z]{5}\\b\"\n",
    "match = re.search(pattern, text)\n",
    "if match:\n",
    "    print(\"Pattern found in the text!\")\n",
    "else:\n",
    "    print(\"Pattern not found.\")\n"
   ]
  },
  {
   "cell_type": "code",
   "execution_count": null,
   "id": "04af32a3",
   "metadata": {},
   "outputs": [],
   "source": []
  },
  {
   "cell_type": "markdown",
   "id": "0a0e2011",
   "metadata": {},
   "source": [
    "#### Matching a pattern with a case-insensitive search:"
   ]
  },
  {
   "cell_type": "code",
   "execution_count": null,
   "id": "ca4d6c42",
   "metadata": {},
   "outputs": [],
   "source": [
    "import re\n",
    "\n",
    "text = \"The quick brown fox jumps over the Lazy dog.\"\n",
    "pattern = \"lazy\"\n",
    "match = re.search(pattern, text, re.IGNORECASE)\n",
    "if match:\n",
    "    print(\"Pattern found in the text!\")\n",
    "else:\n",
    "    print(\"Pattern not found.\")\n"
   ]
  },
  {
   "cell_type": "code",
   "execution_count": null,
   "id": "55b8eadf",
   "metadata": {},
   "outputs": [],
   "source": []
  },
  {
   "cell_type": "markdown",
   "id": "db34f804",
   "metadata": {},
   "source": [
    "#### Matching a pattern with a multiline string:"
   ]
  },
  {
   "cell_type": "code",
   "execution_count": null,
   "id": "7d73341b",
   "metadata": {},
   "outputs": [],
   "source": [
    "import re\n",
    "\n",
    "text = \"The quick brown fox\\njumps over the lazy dog.\"\n",
    "pattern = \"fox.*dog\"\n",
    "match = re.search(pattern, text, re.MULTILINE)\n",
    "if match:\n",
    "    print(\"Pattern found in the text!\")\n",
    "else:\n",
    "    print(\"Pattern not found.\")\n"
   ]
  },
  {
   "cell_type": "code",
   "execution_count": null,
   "id": "b8612d1a",
   "metadata": {},
   "outputs": [],
   "source": []
  },
  {
   "cell_type": "markdown",
   "id": "8047be7c",
   "metadata": {},
   "source": [
    "In each of these examples, re.search() is used to search for a pattern in a string. The first argument to re.search() is the pattern to search for, and the second argument is the string to search in. Optional arguments can be used to specify additional search options such as case-insensitivity or multi-line search. If the pattern is found, re.search() returns a match object, which can be used to retrieve information about the match."
   ]
  },
  {
   "cell_type": "code",
   "execution_count": null,
   "id": "e78cbb28",
   "metadata": {},
   "outputs": [],
   "source": []
  },
  {
   "cell_type": "code",
   "execution_count": null,
   "id": "912e4730",
   "metadata": {},
   "outputs": [],
   "source": []
  },
  {
   "cell_type": "markdown",
   "id": "9c0e01a5",
   "metadata": {},
   "source": [
    "### Common Regex Symbols"
   ]
  },
  {
   "cell_type": "markdown",
   "id": "dfbf786d",
   "metadata": {},
   "source": [
    "Before we continue, we saw the usage of regex patterns in example 3. This concept has not yet been covered. Therefore, we will take some time to go through them.\n",
    "\n",
    "\n",
    "#### Common Regex symbols:\n",
    "\n",
    ". - Matches any character except a newline.<br>\n",
    "^ - Matches the start of a string.<br>\n",
    "$ - Matches the end of a string.<br>\n",
    "'\\*' - Matches zero or more occurrences of the preceding character.<br>\n",
    "'+' - Matches one or more occurrences of the preceding character.<br>\n",
    "? - Matches zero or one occurrence of the preceding character.<br>\n",
    "{m} - Matches exactly m occurrences of the preceding character.<br>\n",
    "{m,n} - Matches between m and n occurrences of the preceding character.<br>\n",
    "[] - Matches any character inside the square brackets. For example, [abc] matches any character that is either a, b, or c.<br>\n",
    "() - Groups characters together. For example, (ab)* matches zero or more occurrences of the characters \"ab\".<br>\n",
    "\\ - Escapes special characters, allowing them to be treated as literal characters. For example, \\. matches a period character.<br>\n",
    "<br>\n",
    "<br>\n",
    "These are just a few of the most commonly used symbols in regex patterns. There are many more, and their meaning can vary depending on the context and the regex flavor being used. It's important to carefully study the documentation for the specific regex engine you're using to fully understand how to use these symbols effectively in your code.\n"
   ]
  },
  {
   "cell_type": "code",
   "execution_count": null,
   "id": "2f9fd1e6",
   "metadata": {},
   "outputs": [],
   "source": []
  },
  {
   "cell_type": "code",
   "execution_count": null,
   "id": "95e719f9",
   "metadata": {},
   "outputs": [],
   "source": []
  },
  {
   "cell_type": "code",
   "execution_count": null,
   "id": "0e6a4520",
   "metadata": {},
   "outputs": [],
   "source": []
  },
  {
   "cell_type": "markdown",
   "id": "569c915b",
   "metadata": {},
   "source": [
    "### Re.compile()"
   ]
  },
  {
   "cell_type": "markdown",
   "id": "1ae537d3",
   "metadata": {},
   "source": [
    "In this syntax, \"regex_pattern\" is the regular expression pattern that you want to compile. Once the pattern is compiled, you can use the resulting regular expression object with other functions in the re module, such as search(), findall(), sub(), and so on.\n",
    "\n",
    "Here is an example that demonstrates how to use re.compile() to search for a pattern in a string:"
   ]
  },
  {
   "cell_type": "code",
   "execution_count": null,
   "id": "2fe873d1",
   "metadata": {},
   "outputs": [],
   "source": [
    "\n",
    "pattern = re.compile(\"apple\")\n",
    "string = \"I like to eat apples\"\n",
    "\n",
    "match = pattern.search(string)\n",
    "\n",
    "if match:\n",
    "    print(\"Match found!\")\n",
    "else:\n",
    "    print(\"No match found.\")\n"
   ]
  },
  {
   "cell_type": "markdown",
   "id": "3c33bf92",
   "metadata": {},
   "source": [
    "In this example, we compile the regular expression pattern \"apple\" using re.compile(). We then search for this pattern in the string \"I like to eat apples\" using the search() function, which returns a match object if the pattern is found. Finally, we check if a match was found and print a message accordingly."
   ]
  },
  {
   "cell_type": "code",
   "execution_count": null,
   "id": "16b3141e",
   "metadata": {},
   "outputs": [],
   "source": []
  },
  {
   "cell_type": "markdown",
   "id": "405c6c32",
   "metadata": {},
   "source": [
    "#### Creating compile objects"
   ]
  },
  {
   "cell_type": "code",
   "execution_count": null,
   "id": "3f9d41f1",
   "metadata": {},
   "outputs": [],
   "source": [
    "import re\n",
    "\n",
    "#Matches any string that starts with \"apple\"\n",
    "pattern = re.compile(\"apple\")\n",
    "\n",
    "# Matches any string that starts with \"hello\"\n",
    "pattern1 = re.compile(\"^hello\")\n",
    "\n",
    "# Matches any string that ends with \"world\"\n",
    "pattern2 = re.compile(\"world$\")\n",
    "\n",
    "# Matches any string that contains one or more digits\n",
    "pattern3 = re.compile(\"\\d+\")\n",
    "\n",
    "# Matches any string that contains one or more whitespace characters\n",
    "pattern4 = re.compile(\"\\s+\")\n",
    "\n",
    "# Matches any string that starts with a capital letter and contains only letters and whitespace characters\n",
    "pattern5 = re.compile(\"^[A-Z][a-zA-Z\\s]*$\")\n",
    "\n",
    "# Matches any string that contains the word \"cat\", regardless of case\n",
    "pattern6 = re.compile(\"cat\", re.IGNORECASE)\n",
    "\n",
    "# Matches any string that contains the characters \"a\" and \"b\", in that order\n",
    "pattern7 = re.compile(\"a.*b\")\n",
    "\n",
    "# Matches any string that contains exactly three digits in a row\n",
    "pattern8 = re.compile(\"\\d{3}\")\n",
    "\n",
    "# Matches any string that starts with \"abc\" or \"def\"\n",
    "pattern9 = re.compile(\"^(abc|def)\")\n",
    "\n",
    "# Matches any string that ends with either \"pdf\" or \"docx\"\n",
    "pattern10 = re.compile(\"(pdf|docx)$\")\n"
   ]
  },
  {
   "cell_type": "code",
   "execution_count": null,
   "id": "f966078d",
   "metadata": {},
   "outputs": [],
   "source": []
  },
  {
   "cell_type": "markdown",
   "id": "6480867d",
   "metadata": {},
   "source": [
    "Let us use the remaining regex objects we have created to find pieces of text within the writeup given below:"
   ]
  },
  {
   "cell_type": "code",
   "execution_count": null,
   "id": "a1db1470",
   "metadata": {},
   "outputs": [],
   "source": [
    "text = \"\"\"\n",
    "\n",
    "The first code snippet most people type is 'hello world!'. They usually print these words and in that moment, they realize\n",
    "that they have entered into a much different world than they were used to.\n",
    "\n",
    "The abc's of coding are categorically easy concepts to grasp. The definitions of functions using the 'def' keyword is one of the\n",
    "most beautiful thing.\n",
    "\n",
    "After writing over 100,000 lines of code(I wonder who was counting), lead data scientist, Jumoke Kasali, says that 'The world \n",
    "of coding and data science and inextricably linked for life'\n",
    "\n",
    "\"\"\""
   ]
  },
  {
   "cell_type": "code",
   "execution_count": null,
   "id": "c57f4e01",
   "metadata": {},
   "outputs": [],
   "source": [
    "pattern1.search(text)"
   ]
  },
  {
   "cell_type": "code",
   "execution_count": null,
   "id": "1c1dc62b",
   "metadata": {},
   "outputs": [],
   "source": [
    "pattern2.search(text)"
   ]
  },
  {
   "cell_type": "code",
   "execution_count": null,
   "id": "07999b27",
   "metadata": {},
   "outputs": [],
   "source": [
    "pattern3.search(text)"
   ]
  },
  {
   "cell_type": "code",
   "execution_count": null,
   "id": "3cdc41c6",
   "metadata": {},
   "outputs": [],
   "source": [
    "pattern4.search(text)"
   ]
  },
  {
   "cell_type": "code",
   "execution_count": null,
   "id": "9eed4efe",
   "metadata": {},
   "outputs": [],
   "source": [
    "pattern5.search(text)"
   ]
  },
  {
   "cell_type": "code",
   "execution_count": null,
   "id": "7a21104d",
   "metadata": {},
   "outputs": [],
   "source": [
    "pattern6.search(text)"
   ]
  },
  {
   "cell_type": "code",
   "execution_count": null,
   "id": "fd552c45",
   "metadata": {},
   "outputs": [],
   "source": [
    "pattern7.search(text)"
   ]
  },
  {
   "cell_type": "code",
   "execution_count": null,
   "id": "8bcfd693",
   "metadata": {},
   "outputs": [],
   "source": [
    "pattern8.search(text)"
   ]
  },
  {
   "cell_type": "code",
   "execution_count": null,
   "id": "020ca272",
   "metadata": {},
   "outputs": [],
   "source": [
    "pattern9.search(text)"
   ]
  },
  {
   "cell_type": "code",
   "execution_count": null,
   "id": "9f8621d4",
   "metadata": {},
   "outputs": [],
   "source": [
    "pattern10.search(text)"
   ]
  },
  {
   "cell_type": "markdown",
   "id": "63842629",
   "metadata": {},
   "source": [
    "### Phew...\n",
    "\n",
    "We repeated code quite a bit there, can you come up with a function or loop implementation to give us the same results generated above?"
   ]
  },
  {
   "cell_type": "code",
   "execution_count": null,
   "id": "7ee69fe9",
   "metadata": {},
   "outputs": [],
   "source": []
  },
  {
   "cell_type": "code",
   "execution_count": null,
   "id": "c89742d5",
   "metadata": {},
   "outputs": [],
   "source": []
  },
  {
   "cell_type": "markdown",
   "id": "fc279e8c",
   "metadata": {},
   "source": [
    "### Re.sub():\n",
    "\n",
    "re.sub() is a function in Python's built-in regular expression module, which is used to substitute one string with another in a given text. The syntax for re.sub() is as follows:\n",
    "\n",
    "> re.sub(pattern, repl, string, count=0, flags=0)"
   ]
  },
  {
   "cell_type": "markdown",
   "id": "c638654e",
   "metadata": {},
   "source": [
    "- pattern: A regular expression pattern to be searched in the string.\n",
    "- repl: A string that replaces the pattern found in string.\n",
    "- string: A string in which the pattern needs to be searched and replaced.\n",
    "- count (optional): An integer to specify the maximum number of substitutions to be made. Default is 0 which means all occurrences will be replaced.\n",
    "- flags (optional): An integer to specify different flags such as re.IGNORECASE, re.MULTILINE, etc."
   ]
  },
  {
   "cell_type": "markdown",
   "id": "0295e5b9",
   "metadata": {},
   "source": [
    "**Example 1: Replacing a string in a sentence**"
   ]
  },
  {
   "cell_type": "code",
   "execution_count": null,
   "id": "2c8953e1",
   "metadata": {},
   "outputs": [],
   "source": [
    "\n",
    "text = \"I am so happy today! Let's celebrate happiness together.\"\n",
    "new_text = re.sub(\"happy\", \"joyful\", text)\n",
    "\n",
    "print(\"Original Text: \", text)\n",
    "print(\"New Text: \", new_text)\n"
   ]
  },
  {
   "cell_type": "code",
   "execution_count": null,
   "id": "cae61787",
   "metadata": {},
   "outputs": [],
   "source": []
  },
  {
   "cell_type": "markdown",
   "id": "c3f8dac8",
   "metadata": {},
   "source": [
    "**Example 2: Removing digits from a string**\n",
    "\n",
    "Suppose you have a string that contains some digits, and you want to remove them. You can use the re.sub() function with a regular expression pattern as follows:\n"
   ]
  },
  {
   "cell_type": "code",
   "execution_count": null,
   "id": "e9b7b34a",
   "metadata": {},
   "outputs": [],
   "source": [
    "\n",
    "text = \"My phone number is 123-456-7890. Call me anytime.\"\n",
    "new_text = re.sub(\"\\d\", \"\", text)\n",
    "\n",
    "print(\"Original Text: \", text)\n",
    "print(\"New Text: \", new_text)\n"
   ]
  },
  {
   "cell_type": "code",
   "execution_count": null,
   "id": "1e484f2a",
   "metadata": {},
   "outputs": [],
   "source": []
  },
  {
   "cell_type": "code",
   "execution_count": null,
   "id": "440f11af",
   "metadata": {},
   "outputs": [],
   "source": []
  },
  {
   "cell_type": "code",
   "execution_count": null,
   "id": "8753f6b6",
   "metadata": {},
   "outputs": [],
   "source": []
  },
  {
   "cell_type": "markdown",
   "id": "028770df",
   "metadata": {},
   "source": [
    "The next portion of this class will be done on the internet over the website link given below:\n",
    "\n",
    "[Next Portion of the Class!](https://developers.google.com/edu/python/regular-expressions)"
   ]
  },
  {
   "cell_type": "code",
   "execution_count": null,
   "id": "4da5e539",
   "metadata": {},
   "outputs": [],
   "source": []
  },
  {
   "cell_type": "code",
   "execution_count": null,
   "id": "cccca49c",
   "metadata": {},
   "outputs": [],
   "source": []
  },
  {
   "cell_type": "markdown",
   "id": "f5ffafa2",
   "metadata": {},
   "source": [
    "### Common Matching Challenges: Matching Phone Numbers, Emails, and License plate numbers"
   ]
  },
  {
   "cell_type": "markdown",
   "id": "3ca4f1ad",
   "metadata": {},
   "source": [
    "#### Phone Numbers:"
   ]
  },
  {
   "cell_type": "code",
   "execution_count": 1,
   "id": "fbbe63d2",
   "metadata": {},
   "outputs": [
    {
     "name": "stdout",
     "output_type": "stream",
     "text": [
      "['123-456-7890']\n"
     ]
    }
   ],
   "source": [
    "import re\n",
    "\n",
    "# Define the pattern for matching phone numbers\n",
    "pattern = r'\\d{3}-\\d{3}-\\d{4}'\n",
    "\n",
    "# Example text\n",
    "text = 'John Doe\\'s phone number is 123-456-7890.'\n",
    "\n",
    "# Find all occurrences of the pattern in the text\n",
    "matches = re.findall(pattern, text)\n",
    "\n",
    "# Print the matches\n",
    "print(matches)\n"
   ]
  },
  {
   "cell_type": "markdown",
   "id": "679bf8d2",
   "metadata": {},
   "source": [
    "In this example, we import the re module and define the pattern for matching phone numbers as \\d{3}-\\d{3}-\\d{4}, which matches phone numbers in the format ###-###-####. We then define an example text string containing a phone number and use the findall() function to find all occurrences of the pattern in the text. Finally, we print the matches."
   ]
  },
  {
   "cell_type": "code",
   "execution_count": null,
   "id": "3709c488",
   "metadata": {},
   "outputs": [],
   "source": []
  },
  {
   "cell_type": "markdown",
   "id": "bb2af078",
   "metadata": {},
   "source": [
    "#### Emails:"
   ]
  },
  {
   "cell_type": "code",
   "execution_count": null,
   "id": "2adddacb",
   "metadata": {},
   "outputs": [],
   "source": [
    "import re\n",
    "\n",
    "# Define the pattern for matching emails\n",
    "pattern = r'\\b[A-Za-z0-9._%+-]+@[A-Za-z0-9.-]+\\.[A-Z|a-z]{2,}\\b'\n",
    "\n",
    "# Example text\n",
    "text = 'John Doe\\'s email is john.doe@example.com.'\n",
    "\n",
    "# Find all occurrences of the pattern in the text\n",
    "matches = re.findall(pattern, text)\n",
    "\n",
    "# Print the matches\n",
    "print(matches)\n"
   ]
  },
  {
   "cell_type": "markdown",
   "id": "868ca2ec",
   "metadata": {},
   "source": [
    "**Line by line explanation of the above code:**\n",
    "- \\b: A word boundary to ensure that we match the entire email address.\n",
    "- [A-Za-z0-9._%+-]+: One or more characters that can be letters (uppercase or lowercase), digits, dots, underscores, percent signs, plus signs, or hyphens.\n",
    "- @: The at symbol, which separates the username and domain name in an email address.\n",
    "- [A-Za-z0-9.-]+: One or more characters that can be letters (uppercase or lowercase), digits, dots, or hyphens, representing the domain name.\n",
    "- \\.: A literal period, which separates the domain name from the top-level domain.\n",
    "- [A-Z|a-z]{2,}: Two or more characters that can be uppercase or lowercase letters, representing the top-level domain.\n",
    "- \\b: Another word boundary.\n",
    "- text = 'John Doe\\'s email is john.doe@example.com.': This line defines an example text that we want to search for email addresses.\n",
    "\n",
    "- matches = re.findall(pattern, text): This line uses the findall() method from the re module to find all occurrences of the pattern in the text. The method returns a list of all matches.\n",
    "\n",
    "- print(matches): This line prints the list of matches, which will be any email addresses found in the text."
   ]
  },
  {
   "cell_type": "markdown",
   "id": "0c66aab8",
   "metadata": {},
   "source": [
    "In this example, we define the pattern for matching emails as \\b[A-Za-z0-9._%+-]+@[A-Za-z0-9.-]+\\.[A-Z|a-z]{2,}\\b, which matches email addresses in the format username@domain.com. We then define an example text string containing an email address and use the findall() function to find all occurrences of the pattern in the text. Finally, we print the matches."
   ]
  },
  {
   "cell_type": "code",
   "execution_count": null,
   "id": "1a75b133",
   "metadata": {},
   "outputs": [],
   "source": []
  },
  {
   "cell_type": "markdown",
   "id": "7e316f36",
   "metadata": {},
   "source": [
    "#### License Plate Number:"
   ]
  },
  {
   "cell_type": "code",
   "execution_count": null,
   "id": "ec629160",
   "metadata": {},
   "outputs": [],
   "source": [
    "import re\n",
    "\n",
    "# Define the pattern for matching license plate numbers\n",
    "pattern = r'[A-Z]{2}\\d{2}\\s[A-Z]{3}'\n",
    "\n",
    "# Example text\n",
    "text = 'The license plate number is AB12 XYZ.'\n",
    "\n",
    "# Find all occurrences of the pattern in the text\n",
    "matches = re.findall(pattern, text)\n",
    "\n",
    "# Print the matches\n",
    "print(matches)\n"
   ]
  },
  {
   "cell_type": "markdown",
   "id": "9edddc49",
   "metadata": {},
   "source": [
    "**Line by line explanation of the code:**\n",
    "\n",
    "- pattern = r'[A-Z]{2}\\d{2}\\s[A-Z]{3}': This line defines a regular expression pattern that matches license plate numbers. The pattern consists of:\n",
    "> - [A-Z]{2}: two uppercase letters, which represent the state or country code of the license plate.\n",
    "> - \\d{2}: two digits, which represent the numerical part of the license plate.\n",
    "> - \\s: a whitespace character, which separates the numerical part from the alphabetical part of the license plate.\n",
    "> - [A-Z]{3}: three uppercase letters, which represent the alphabetical part of the license plate."
   ]
  },
  {
   "cell_type": "markdown",
   "id": "77d41a33",
   "metadata": {},
   "source": [
    "In this example, we define the pattern for matching license plate numbers as [A-Z]{2}\\d{2}\\s[A-Z]{3}, which matches license plate numbers in the format AA99 AAA. We then define an example text string containing a license plate number and use the findall() function to find all occurrences of the pattern in the text. Finally, we print the matches.\n"
   ]
  },
  {
   "cell_type": "markdown",
   "id": "bdff8e6c",
   "metadata": {},
   "source": [
    "\n",
    "These examples show how to use regular expressions in Python to match phone numbers, emails, and license plate numbers. By adjusting the regular expression pattern, you can match different formats and patterns in text."
   ]
  },
  {
   "cell_type": "code",
   "execution_count": null,
   "id": "2126398c",
   "metadata": {},
   "outputs": [],
   "source": []
  },
  {
   "cell_type": "code",
   "execution_count": null,
   "id": "f281ad4d",
   "metadata": {},
   "outputs": [],
   "source": []
  },
  {
   "cell_type": "markdown",
   "id": "fad8d976",
   "metadata": {},
   "source": [
    "# Assignment\n",
    "\n",
    "1. Keyword Matching:\n",
    "- Read the \"re_text.txt\" file using the Open function.\n",
    "- Search for the following keywords in the text and record the number of times those keywords occur in the text:\n",
    "\n",
    "lions, physical characteristics, behavior, habitat, conservation, prides, apex predators, sub-Saharan Africa, Asiatic lions, savannas, grasslands, scrubland, vulnerable species, decreasing population trend, habitat loss, poaching, human-lion conflicts, ecosystem, organizations, awareness.\n",
    "\n",
    "\n",
    "- Add the following text to the re_text.txt file on a new paragraph:\n",
    "\n",
    "\"In conclusion, lions are remarkable animals that have captured the imaginations of people around the world. Their physical characteristics, behavior, and habitat make them a unique and important part of the natural world. However, they are facing numerous threats to their survival, and conservation efforts are needed to ensure that these majestic creatures continue to thrive in the wild.\"\n",
    "\n",
    "2. Identity Matching:\n",
    "- Read the \"phone_email_license.txt\" file and then locate and record the number of occurrences of phone numbers emails, and license plate numbers.\n",
    "- Replace all the phone numbers in the \"phone_email_license.txt\" file with your own phone number and write the result into a different .txt file\n",
    "\n",
    "\n",
    "3. Write a function that takes in text and matches dates of the year. The date format is: 05/15/2022\n",
    "\n",
    "4. Write a function that takes in text and matches websites within the text. The website format is: https://www.example.com"
   ]
  },
  {
   "cell_type": "code",
   "execution_count": null,
   "id": "50ac5caa",
   "metadata": {},
   "outputs": [],
   "source": []
  },
  {
   "cell_type": "code",
   "execution_count": null,
   "id": "2fbc8ec6",
   "metadata": {},
   "outputs": [],
   "source": []
  },
  {
   "cell_type": "markdown",
   "id": "91d0eb00",
   "metadata": {},
   "source": [
    "# Further Practice\n",
    "\n",
    "\n",
    "The link below will provide several coding problems that you can use to perfect your programming skills:\n",
    "\n",
    "https://www.hackerrank.com/domains/python\n",
    "\n",
    "**Enjoy!**"
   ]
  },
  {
   "cell_type": "code",
   "execution_count": null,
   "id": "e43461f2",
   "metadata": {},
   "outputs": [],
   "source": []
  },
  {
   "cell_type": "code",
   "execution_count": null,
   "id": "1f5d0673",
   "metadata": {},
   "outputs": [],
   "source": []
  }
 ],
 "metadata": {
  "kernelspec": {
   "display_name": "Python 3 (ipykernel)",
   "language": "python",
   "name": "python3"
  },
  "language_info": {
   "codemirror_mode": {
    "name": "ipython",
    "version": 3
   },
   "file_extension": ".py",
   "mimetype": "text/x-python",
   "name": "python",
   "nbconvert_exporter": "python",
   "pygments_lexer": "ipython3",
   "version": "3.9.13"
  }
 },
 "nbformat": 4,
 "nbformat_minor": 5
}
