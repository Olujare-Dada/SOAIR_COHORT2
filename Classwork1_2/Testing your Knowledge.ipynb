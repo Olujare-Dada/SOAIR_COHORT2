{
 "cells": [
  {
   "cell_type": "markdown",
   "id": "d949625a",
   "metadata": {},
   "source": [
    "# Classwork"
   ]
  },
  {
   "cell_type": "markdown",
   "id": "f8313aef",
   "metadata": {},
   "source": [
    "### Question 1:\n",
    "\n",
    "\n",
    "Some scientists are trying to know whether a particular clock slows down after 538 hours of use. They start timing by 6am and found out that the time after 538 hours is 2:30am. Did the clock slow down? IF so, by how much?"
   ]
  },
  {
   "cell_type": "code",
   "execution_count": null,
   "id": "0995592c",
   "metadata": {},
   "outputs": [],
   "source": []
  },
  {
   "cell_type": "markdown",
   "id": "8fd5f20a",
   "metadata": {},
   "source": [
    "### Question 2:\n",
    "\n",
    "Try to access the element, \"Victoria\" in the lists given below:"
   ]
  },
  {
   "cell_type": "code",
   "execution_count": 4,
   "id": "7be0325d",
   "metadata": {},
   "outputs": [],
   "source": [
    "m = [\"Temitope\", \"Wura\", [1, 3, 15, [\"Victoria\"]]]\n",
    "\n",
    "l = [1, 2, 8, [\"Oriaki\", \"Melon\", (\"orange\", 18, 55, 28, [\"Father\", \"Mother\", [[\"Victoria\"]]])]]"
   ]
  },
  {
   "cell_type": "code",
   "execution_count": null,
   "id": "9111fcb1",
   "metadata": {},
   "outputs": [],
   "source": []
  },
  {
   "cell_type": "markdown",
   "id": "3c5472d1",
   "metadata": {},
   "source": [
    "### Question 3:\n",
    "\n",
    "Computers communicate using JSON files. These JSON files are just like python dictionaries. The military has intercepted communication between the servers of a terrorist group. There is an important message within this message and you have been tasked with retrieving this important message. Good luck."
   ]
  },
  {
   "cell_type": "code",
   "execution_count": 6,
   "id": "88a128ca",
   "metadata": {},
   "outputs": [],
   "source": [
    "terror_message = {\n",
    "    \n",
    "    \"id\": 3432245335322, \n",
    "    \"Users\": {\"Ex-Machina\": \"Let us fight\", \"The Mechanic\": \"Let it burn\"},\n",
    "    \"Leaders\":{\"Leader1\": \"\", \"Leader2\": \"Hmmm\", \"Leader3\": \"I like coffee\", \"GrandMaster\":{\"Important Message\": \"Boom!\"}} \n",
    "                 \n",
    "                 }"
   ]
  },
  {
   "cell_type": "code",
   "execution_count": null,
   "id": "076388f0",
   "metadata": {},
   "outputs": [],
   "source": []
  },
  {
   "cell_type": "markdown",
   "id": "ba55156b",
   "metadata": {},
   "source": [
    "### Question 4\n",
    "\n",
    "How many list methods are available in python?"
   ]
  },
  {
   "cell_type": "code",
   "execution_count": null,
   "id": "74441343",
   "metadata": {},
   "outputs": [],
   "source": [
    "\"Kunle\", \"Abigail\", \"Jennifer\", \"Angel\", \"Seun\", \"Amaka\", \"Uche\", \"Kingsley\", \"Emeka\", \"Arita\", \"Anita\", \"Bello\", \"Wura\", \"Eniola\", \"Ahmed\", \"Bella\", \"Mustapha\", \"Ken\", \"Michael\""
   ]
  },
  {
   "cell_type": "markdown",
   "id": "67286f42",
   "metadata": {},
   "source": [
    "### Question 5\n",
    "\n",
    "A social media website tries to find long lost friends based on the number of mutual friends that you have. There are 5 people: Bolaji, Desmond, Obi, Wale, Stephanie,  who are friends with different people. Your job is to find which two people could be friends through their mutual contacts. Their list of current friends are given below:"
   ]
  },
  {
   "cell_type": "code",
   "execution_count": null,
   "id": "ee4a42ff",
   "metadata": {},
   "outputs": [],
   "source": [
    "Bolaji_friends = [\"Abigail\", \"Amaka\", \"Uche\", \"Kingsley\", \"Emeka\", \"Arita\", \"Anita\", \"Bello\", \"Wura\", \"Eniola\", \"Ahmed\"]\n",
    "\n",
    "Desmond_friends = [ \"Kingsley\", \"Emeka\", \"Arita\", \"Anita\", \"Bello\", \"Wura\", \"Eniola\", \"Ahmed\", \"Bella\"]\n",
    "\n",
    "Obi_friends = [\"Kunle\", \"Abigail\", \"Jennifer\", \"Eniola\", \"Ahmed\", \"Bella\", \"Mustapha\", \"Ken\", \"Michael\"]\n",
    "\n",
    "Wale_friends = [\"Jennifer\", \"Angel\", \"Seun\", \"Amaka\", \"Uche\", \"Anita\", \"Bello\",  \"Ahmed\", \"Bella\", \"Mustapha\", \"Ken\", \"Michael\"]\n",
    "\n",
    "Stephanie_friends = [\"Wura\", \"Eniola\", \"Ahmed\", \"Bella\", \"Mustapha\", \"Ken\", \"Michael\"]"
   ]
  },
  {
   "cell_type": "code",
   "execution_count": null,
   "id": "a58b69b2",
   "metadata": {},
   "outputs": [],
   "source": []
  },
  {
   "cell_type": "markdown",
   "id": "03b458a8",
   "metadata": {},
   "source": [
    "### Question 6\n",
    "\n",
    "The distance moved by a car is given by the formula: <br>\n",
    "\n",
    "$S=ut + \\frac{1}{2}at^2$<br>\n",
    "\n",
    "where, <br>\n",
    "$a$ = Acceleration<br>\n",
    "$t$ = Time elapsed<br>\n",
    "$u$ = Initial Speed<br>\n",
    "\n",
    "\n",
    "Find the total distance moved by the car if it started moving with a speed of 48km/hr, accelerated at about 2km/hr/hr for 2 minutes."
   ]
  },
  {
   "cell_type": "code",
   "execution_count": null,
   "id": "a6439329",
   "metadata": {},
   "outputs": [],
   "source": []
  },
  {
   "cell_type": "markdown",
   "id": "720f1feb",
   "metadata": {},
   "source": [
    "### Question 7\n",
    "\n",
    "A list with 1000 numbers has been generated at random below. Find how many unique numbers was generated within the list."
   ]
  },
  {
   "cell_type": "code",
   "execution_count": 14,
   "id": "8e984588",
   "metadata": {
    "collapsed": true
   },
   "outputs": [
    {
     "name": "stdout",
     "output_type": "stream",
     "text": [
      "[891, 421, 803, 938, 457, 68, 292, 550, 524, 441, 967, 829, 876, 337, 515, 393, 624, 940, 956, 250, 543, 169, 315, 170, 800, 124, 660, 845, 283, 958, 572, 749, 856, 643, 950, 177, 344, 128, 774, 102, 947, 897, 727, 365, 510, 600, 130, 389, 471, 350, 652, 682, 961, 236, 592, 515, 480, 913, 560, 293, 90, 851, 967, 588, 964, 41, 122, 763, 887, 435, 754, 871, 830, 711, 667, 28, 653, 532, 874, 915, 368, 276, 774, 360, 747, 918, 91, 222, 966, 608, 254, 271, 849, 172, 849, 583, 485, 120, 109, 354, 923, 547, 982, 528, 138, 335, 591, 325, 750, 154, 587, 367, 861, 971, 580, 235, 845, 644, 587, 628, 321, 482, 120, 637, 844, 421, 351, 616, 274, 324, 215, 220, 868, 218, 60, 654, 699, 293, 514, 97, 118, 722, 802, 160, 924, 180, 972, 66, 889, 109, 946, 743, 972, 876, 580, 726, 427, 884, 749, 564, 309, 561, 858, 268, 896, 247, 943, 722, 630, 872, 999, 456, 620, 308, 488, 531, 703, 683, 744, 965, 839, 392, 111, 359, 654, 145, 525, 628, 672, 370, 892, 221, 275, 43, 776, 304, 146, 749, 252, 407, 840, 201, 367, 463, 862, 90, 130, 828, 176, 902, 741, 251, 73, 863, 614, 676, 958, 985, 574, 643, 723, 102, 54, 154, 677, 220, 647, 877, 616, 149, 427, 120, 406, 880, 145, 64, 647, 49, 226, 216, 762, 153, 517, 242, 771, 846, 89, 986, 722, 50, 584, 462, 662, 130, 882, 293, 98, 253, 100, 689, 335, 385, 473, 211, 89, 542, 505, 67, 637, 130, 743, 427, 231, 293, 394, 953, 776, 508, 885, 950, 967, 610, 200, 741, 715, 235, 812, 86, 834, 719, 189, 892, 192, 377, 569, 283, 147, 638, 970, 479, 708, 206, 40, 509, 724, 446, 948, 609, 922, 547, 966, 345, 691, 392, 424, 884, 700, 283, 184, 601, 734, 39, 495, 786, 107, 370, 783, 73, 584, 314, 165, 272, 807, 520, 387, 651, 321, 716, 394, 631, 996, 940, 675, 901, 662, 162, 759, 344, 424, 793, 451, 875, 693, 109, 28, 635, 223, 742, 369, 190, 272, 255, 679, 485, 414, 754, 923, 716, 608, 922, 451, 59, 438, 919, 745, 608, 455, 817, 705, 753, 74, 196, 483, 92, 292, 745, 188, 484, 567, 933, 525, 956, 601, 645, 800, 27, 932, 66, 533, 360, 346, 884, 505, 78, 855, 869, 923, 858, 452, 219, 588, 675, 112, 884, 769, 160, 42, 438, 999, 721, 454, 350, 30, 245, 41, 761, 799, 29, 869, 718, 568, 653, 127, 222, 148, 649, 691, 230, 921, 336, 313, 732, 213, 129, 514, 901, 971, 433, 669, 110, 49, 308, 962, 490, 846, 838, 145, 909, 289, 163, 696, 560, 863, 693, 687, 382, 144, 919, 185, 312, 898, 46, 70, 68, 237, 724, 292, 598, 349, 996, 402, 987, 608, 958, 896, 70, 893, 794, 745, 649, 698, 533, 756, 686, 951, 496, 682, 472, 408, 919, 577, 209, 239, 411, 628, 325, 36, 168, 181, 304, 368, 372, 835, 403, 762, 122, 373, 825, 662, 63, 69, 303, 194, 180, 624, 323, 396, 431, 588, 159, 327, 144, 516, 775, 272, 983, 76, 342, 210, 904, 562, 773, 99, 336, 439, 882, 363, 333, 451, 138, 128, 601, 957, 519, 512, 372, 888, 844, 858, 378, 154, 517, 145, 743, 536, 463, 65, 336, 370, 779, 730, 942, 186, 968, 197, 668, 605, 411, 852, 681, 116, 94, 854, 113, 229, 794, 253, 89, 421, 35, 127, 430, 596, 558, 323, 486, 969, 527, 834, 625, 758, 722, 249, 460, 112, 404, 252, 294, 626, 822, 197, 468, 223, 394, 144, 92, 868, 911, 900, 745, 55, 951, 565, 489, 797, 720, 233, 148, 536, 434, 289, 239, 683, 70, 997, 843, 248, 665, 176, 134, 229, 496, 414, 397, 586, 873, 181, 134, 637, 526, 178, 604, 442, 680, 723, 460, 925, 560, 534, 722, 966, 936, 357, 880, 537, 537, 677, 713, 922, 233, 582, 651, 980, 251, 36, 375, 749, 791, 947, 352, 864, 356, 63, 564, 178, 922, 290, 644, 829, 186, 889, 415, 623, 328, 762, 750, 853, 508, 94, 846, 113, 555, 916, 964, 67, 94, 257, 160, 68, 334, 42, 804, 891, 486, 365, 909, 191, 846, 179, 916, 698, 498, 407, 544, 418, 949, 569, 541, 61, 614, 119, 721, 840, 851, 557, 803, 641, 105, 791, 463, 954, 799, 238, 323, 575, 949, 639, 454, 872, 520, 892, 837, 424, 649, 627, 266, 898, 912, 844, 47, 699, 933, 27, 785, 213, 336, 546, 610, 287, 367, 94, 532, 907, 295, 992, 871, 337, 818, 444, 420, 856, 419, 90, 194, 683, 984, 157, 271, 320, 773, 876, 369, 83, 991, 63, 519, 454, 171, 530, 938, 911, 643, 761, 110, 716, 742, 182, 856, 388, 448, 63, 653, 504, 422, 496, 75, 130, 509, 823, 182, 47, 60, 639, 659, 162, 672, 358, 134, 743, 589, 691, 381, 226, 419, 829, 822, 823, 529, 140, 929, 88, 651, 744, 505, 656, 674, 983, 372, 693, 154, 725, 757, 663, 330, 834, 896, 157, 960, 423, 845, 327, 965, 790, 920, 724, 856, 151, 558, 908, 831, 220, 66, 827, 428, 482, 407, 801, 222, 493, 392, 835, 674, 104, 72, 950, 983, 67, 524, 288, 949, 54, 994, 559, 709, 609, 612, 923, 248, 262, 122, 821, 866, 932, 937, 669, 825, 541, 742, 563, 457, 546, 339, 995, 143, 176, 463, 940, 606, 459, 972, 113, 985, 134, 452, 91, 128, 452, 819, 186, 778, 58, 837, 484, 468, 729, 454, 57, 535, 968, 911, 359, 766, 285, 107, 387, 99, 151, 394, 735, 57, 380, 383, 209, 37, 877, 263, 865, 401, 99, 637, 941, 173, 239, 30, 236, 701, 716, 776, 987, 949, 153, 792, 34, 327, 404, 733, 52, 982, 646, 265, 906, 172, 218, 491, 142, 515, 379, 751, 291, 160, 55, 240, 397, 370, 511, 326, 330, 986, 926, 593]\n"
     ]
    }
   ],
   "source": [
    "#Generation of the list:\n",
    "import random\n",
    "\n",
    "random.seed(0)\n",
    "\n",
    "l = []\n",
    "for i in range (1000):\n",
    "    l.append(random.randint(27, 999))\n",
    "    \n",
    "print(l)"
   ]
  },
  {
   "cell_type": "code",
   "execution_count": null,
   "id": "0ef0ccec",
   "metadata": {},
   "outputs": [],
   "source": []
  },
  {
   "cell_type": "code",
   "execution_count": null,
   "id": "1bafbcf4",
   "metadata": {},
   "outputs": [],
   "source": []
  },
  {
   "cell_type": "markdown",
   "id": "9675a2ee",
   "metadata": {},
   "source": [
    "### Question 8\n",
    "\n",
    "Find the revenue from the table in the Table1.csv file. Did you notice anything strange? Explain this behavior"
   ]
  },
  {
   "cell_type": "code",
   "execution_count": null,
   "id": "722979c1",
   "metadata": {},
   "outputs": [],
   "source": []
  },
  {
   "cell_type": "markdown",
   "id": "53de3c4b",
   "metadata": {},
   "source": [
    "### Question 9\n",
    "\n",
    "Find the gross profit from the table in the Table2.csv file. "
   ]
  },
  {
   "cell_type": "code",
   "execution_count": null,
   "id": "80e92d9c",
   "metadata": {},
   "outputs": [],
   "source": []
  },
  {
   "cell_type": "code",
   "execution_count": null,
   "id": "a671ab31",
   "metadata": {},
   "outputs": [],
   "source": []
  },
  {
   "cell_type": "code",
   "execution_count": null,
   "id": "1bfba818",
   "metadata": {},
   "outputs": [],
   "source": []
  },
  {
   "cell_type": "code",
   "execution_count": null,
   "id": "d5699f09",
   "metadata": {},
   "outputs": [],
   "source": []
  }
 ],
 "metadata": {
  "kernelspec": {
   "display_name": "Python 3",
   "language": "python",
   "name": "python3"
  },
  "language_info": {
   "codemirror_mode": {
    "name": "ipython",
    "version": 3
   },
   "file_extension": ".py",
   "mimetype": "text/x-python",
   "name": "python",
   "nbconvert_exporter": "python",
   "pygments_lexer": "ipython3",
   "version": "3.6.13"
  }
 },
 "nbformat": 4,
 "nbformat_minor": 5
}
