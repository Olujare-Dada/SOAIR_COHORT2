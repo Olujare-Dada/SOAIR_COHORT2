{
 "cells": [
  {
   "cell_type": "markdown",
   "id": "d949625a",
   "metadata": {},
   "source": [
    "# Classwork"
   ]
  },
  {
   "cell_type": "markdown",
   "id": "f8313aef",
   "metadata": {},
   "source": [
    "### Question 1:\n",
    "\n",
    "\n",
    "Some scientists are trying to know whether a particular clock slows down after 538 hours of use. They start timing by 6am and found out that the time after 538 hours is 2:30am. Did the clock slow down? IF so, by how much?"
   ]
  },
  {
   "cell_type": "markdown",
   "id": "61eb2dc1",
   "metadata": {},
   "source": [
    "### Solution\n",
    "\n",
    "We can reason out the solution in the following way:\n",
    "\n",
    "We have been told that the start time is 6am. After 24 hours, we would have reached 6am again, the next day. Therefore, if we divide 538 hours by 24 hours, the remainder gives the number of hours after 6am that the clock ought to stop. This means that we can apply the \"Modulo\" operator to find this remainder."
   ]
  },
  {
   "cell_type": "code",
   "execution_count": 67,
   "id": "433fd08e",
   "metadata": {},
   "outputs": [
    {
     "data": {
      "text/plain": [
       "10"
      ]
     },
     "execution_count": 67,
     "metadata": {},
     "output_type": "execute_result"
    }
   ],
   "source": [
    "538 % 24"
   ]
  },
  {
   "cell_type": "markdown",
   "id": "c6030563",
   "metadata": {},
   "source": [
    "This implies that there is a 10-hour period after 6am before the 538-hour period elapses. Thus, we can add 10 hours to 6am and we arrive at 4pm in the afternoon.\n",
    "\n",
    "But we have been told that the clock was 2:30am after 538 hours. This would imply that the clock is now slow by 13 hours 30 minutes."
   ]
  },
  {
   "cell_type": "code",
   "execution_count": null,
   "id": "2e351e37",
   "metadata": {},
   "outputs": [],
   "source": []
  },
  {
   "cell_type": "markdown",
   "id": "8fd5f20a",
   "metadata": {},
   "source": [
    "### Question 2:\n",
    "\n",
    "Try to access the element, \"Victoria\" in the lists given below:"
   ]
  },
  {
   "cell_type": "code",
   "execution_count": 73,
   "id": "7be0325d",
   "metadata": {},
   "outputs": [],
   "source": [
    "m = [\"Temitope\", \"Wura\", [1, 3, 15, [\"Victoria\"]]]\n",
    "\n",
    "l = [1, 2, 8, [\"Oriaki\", \"Melon\", (\"orange\", 18, 55, 28, [\"Father\", \"Mother\", [[\"Victoria\"]]])]]"
   ]
  },
  {
   "cell_type": "markdown",
   "id": "58db39e7",
   "metadata": {},
   "source": [
    "### Solution"
   ]
  },
  {
   "cell_type": "code",
   "execution_count": 68,
   "id": "72d7290c",
   "metadata": {},
   "outputs": [
    {
     "data": {
      "text/plain": [
       "[1, 3, 15, ['Victoria']]"
      ]
     },
     "execution_count": 68,
     "metadata": {},
     "output_type": "execute_result"
    }
   ],
   "source": [
    "m[2]"
   ]
  },
  {
   "cell_type": "code",
   "execution_count": 69,
   "id": "63b47344",
   "metadata": {},
   "outputs": [
    {
     "data": {
      "text/plain": [
       "['Victoria']"
      ]
     },
     "execution_count": 69,
     "metadata": {},
     "output_type": "execute_result"
    }
   ],
   "source": [
    "m[2][3]"
   ]
  },
  {
   "cell_type": "code",
   "execution_count": 70,
   "id": "6640b69e",
   "metadata": {},
   "outputs": [
    {
     "data": {
      "text/plain": [
       "'Victoria'"
      ]
     },
     "execution_count": 70,
     "metadata": {},
     "output_type": "execute_result"
    }
   ],
   "source": [
    "m[2][3][0]"
   ]
  },
  {
   "cell_type": "code",
   "execution_count": null,
   "id": "98fad9b4",
   "metadata": {},
   "outputs": [],
   "source": []
  },
  {
   "cell_type": "code",
   "execution_count": 74,
   "id": "950abff2",
   "metadata": {},
   "outputs": [
    {
     "data": {
      "text/plain": [
       "['Oriaki',\n",
       " 'Melon',\n",
       " ('orange', 18, 55, 28, ['Father', 'Mother', [['Victoria']]])]"
      ]
     },
     "execution_count": 74,
     "metadata": {},
     "output_type": "execute_result"
    }
   ],
   "source": [
    "l[3]"
   ]
  },
  {
   "cell_type": "code",
   "execution_count": 75,
   "id": "47432d6b",
   "metadata": {},
   "outputs": [
    {
     "data": {
      "text/plain": [
       "('orange', 18, 55, 28, ['Father', 'Mother', [['Victoria']]])"
      ]
     },
     "execution_count": 75,
     "metadata": {},
     "output_type": "execute_result"
    }
   ],
   "source": [
    "l[3][2]"
   ]
  },
  {
   "cell_type": "code",
   "execution_count": 76,
   "id": "3fc54b33",
   "metadata": {},
   "outputs": [
    {
     "data": {
      "text/plain": [
       "['Father', 'Mother', [['Victoria']]]"
      ]
     },
     "execution_count": 76,
     "metadata": {},
     "output_type": "execute_result"
    }
   ],
   "source": [
    "l[3][2][4]"
   ]
  },
  {
   "cell_type": "code",
   "execution_count": 77,
   "id": "29202f32",
   "metadata": {},
   "outputs": [
    {
     "data": {
      "text/plain": [
       "[['Victoria']]"
      ]
     },
     "execution_count": 77,
     "metadata": {},
     "output_type": "execute_result"
    }
   ],
   "source": [
    "l[3][2][4][2]"
   ]
  },
  {
   "cell_type": "code",
   "execution_count": 78,
   "id": "125b9394",
   "metadata": {},
   "outputs": [
    {
     "data": {
      "text/plain": [
       "['Victoria']"
      ]
     },
     "execution_count": 78,
     "metadata": {},
     "output_type": "execute_result"
    }
   ],
   "source": [
    "l[3][2][4][2][0]"
   ]
  },
  {
   "cell_type": "code",
   "execution_count": 79,
   "id": "2bb024a5",
   "metadata": {},
   "outputs": [
    {
     "data": {
      "text/plain": [
       "'Victoria'"
      ]
     },
     "execution_count": 79,
     "metadata": {},
     "output_type": "execute_result"
    }
   ],
   "source": [
    "l[3][2][4][2][0][0]"
   ]
  },
  {
   "cell_type": "code",
   "execution_count": null,
   "id": "9111fcb1",
   "metadata": {},
   "outputs": [],
   "source": []
  },
  {
   "cell_type": "markdown",
   "id": "3c5472d1",
   "metadata": {},
   "source": [
    "### Question 3:\n",
    "\n",
    "Computers communicate using JSON files. These JSON files are just like python dictionaries. The military has intercepted communication between the servers of a terrorist group. There is an important message within this message and you have been tasked with retrieving this important message. Good luck."
   ]
  },
  {
   "cell_type": "code",
   "execution_count": 81,
   "id": "88a128ca",
   "metadata": {},
   "outputs": [],
   "source": [
    "terror_message = {\n",
    "    \n",
    "    \"id\": 3432245335322, \n",
    "    \"Users\": {\"Ex-Machina\": \"Let us fight\", \"The Mechanic\": \"Let it burn\"},\n",
    "    \"Leaders\":{\"Leader1\": \"\", \"Leader2\": \"Hmmm\", \"Leader3\": \"I like coffee\", \"GrandMaster\":{\"Important Message\": \"Boom!\"}} \n",
    "                 \n",
    "                 }"
   ]
  },
  {
   "cell_type": "markdown",
   "id": "a855f6a8",
   "metadata": {},
   "source": [
    "### Solution"
   ]
  },
  {
   "cell_type": "code",
   "execution_count": 82,
   "id": "076388f0",
   "metadata": {},
   "outputs": [
    {
     "data": {
      "text/plain": [
       "{'Leader1': '',\n",
       " 'Leader2': 'Hmmm',\n",
       " 'Leader3': 'I like coffee',\n",
       " 'GrandMaster': {'Important Message': 'Boom!'}}"
      ]
     },
     "execution_count": 82,
     "metadata": {},
     "output_type": "execute_result"
    }
   ],
   "source": [
    "terror_message[\"Leaders\"]"
   ]
  },
  {
   "cell_type": "code",
   "execution_count": 83,
   "id": "77fbefaf",
   "metadata": {},
   "outputs": [
    {
     "data": {
      "text/plain": [
       "{'Important Message': 'Boom!'}"
      ]
     },
     "execution_count": 83,
     "metadata": {},
     "output_type": "execute_result"
    }
   ],
   "source": [
    "terror_message[\"Leaders\"][\"GrandMaster\"]"
   ]
  },
  {
   "cell_type": "code",
   "execution_count": 84,
   "id": "5844754b",
   "metadata": {},
   "outputs": [
    {
     "data": {
      "text/plain": [
       "'Boom!'"
      ]
     },
     "execution_count": 84,
     "metadata": {},
     "output_type": "execute_result"
    }
   ],
   "source": [
    "terror_message[\"Leaders\"][\"GrandMaster\"][\"Important Message\"]"
   ]
  },
  {
   "cell_type": "code",
   "execution_count": null,
   "id": "96250146",
   "metadata": {},
   "outputs": [],
   "source": []
  },
  {
   "cell_type": "code",
   "execution_count": null,
   "id": "c1dba716",
   "metadata": {},
   "outputs": [],
   "source": []
  },
  {
   "cell_type": "markdown",
   "id": "ba55156b",
   "metadata": {},
   "source": [
    "### Question 4\n",
    "\n",
    "How many list methods are available in python?"
   ]
  },
  {
   "cell_type": "markdown",
   "id": "89d17696",
   "metadata": {},
   "source": [
    "### Solution\n",
    "\n",
    "To find the number of list methods in python, follow these steps:\n",
    "1. Create a list: any list we want. \n",
    "2. Next, we equate that list to a variable. \n",
    "3. After that, type out that variable and then type a dot (\".\") after that variable. \n",
    "4. Lastly, press the \"tab\" button on the keyboard. These steps should give you all the various list methods available in python. The list methods are:\n",
    "\n",
    "- append\n",
    "- clear\n",
    "- copy\n",
    "- count\n",
    "- extend\n",
    "- index\n",
    "- insert\n",
    "- pop\n",
    "- remove\n",
    "- reverse\n",
    "- sort\n"
   ]
  },
  {
   "cell_type": "code",
   "execution_count": null,
   "id": "bdfcd4e2",
   "metadata": {},
   "outputs": [],
   "source": []
  },
  {
   "cell_type": "code",
   "execution_count": null,
   "id": "c7062f17",
   "metadata": {},
   "outputs": [],
   "source": []
  },
  {
   "cell_type": "code",
   "execution_count": null,
   "id": "498ec946",
   "metadata": {},
   "outputs": [],
   "source": []
  },
  {
   "cell_type": "code",
   "execution_count": null,
   "id": "100e5f7e",
   "metadata": {},
   "outputs": [],
   "source": []
  },
  {
   "cell_type": "markdown",
   "id": "67286f42",
   "metadata": {},
   "source": [
    "### Question 5\n",
    "\n",
    "A social media website tries to find long lost friends based on the number of mutual friends that you have. There are 5 people: Bolaji, Desmond, Obi, Wale, Stephanie,  who are friends with different people. Your job is to find which two people could be friends through their mutual contacts. Their list of current friends are given below:"
   ]
  },
  {
   "cell_type": "code",
   "execution_count": 18,
   "id": "ee4a42ff",
   "metadata": {},
   "outputs": [],
   "source": [
    "Bolaji_friends = [\"Abigail\", \"Amaka\", \"Uche\", \"Kingsley\", \"Emeka\", \"Arita\", \"Anita\", \"Bello\", \"Wura\", \"Eniola\", \"Ahmed\"]\n",
    "\n",
    "Desmond_friends = [ \"Kingsley\", \"Emeka\", \"Arita\", \"Anita\", \"Bello\", \"Wura\", \"Eniola\", \"Ahmed\", \"Bella\"]\n",
    "\n",
    "Obi_friends = [\"Kunle\", \"Abigail\", \"Jennifer\", \"Eniola\", \"Ahmed\", \"Bella\", \"Mustapha\", \"Ken\", \"Michael\"]\n",
    "\n",
    "Wale_friends = [\"Jennifer\", \"Angel\", \"Seun\", \"Amaka\", \"Uche\", \"Anita\", \"Bello\",  \"Ahmed\", \"Bella\", \"Mustapha\", \"Ken\", \"Michael\"]\n",
    "\n",
    "Stephanie_friends = [\"Wura\", \"Eniola\", \"Ahmed\", \"Bella\", \"Mustapha\", \"Ken\", \"Michael\"]"
   ]
  },
  {
   "cell_type": "markdown",
   "id": "e1795ef0",
   "metadata": {},
   "source": [
    "### Solution\n",
    "\n",
    "The above cell contains the friends that Bolaji, Desmond, Obi, Wale, and Stephanie have. These friends have each been placed in a list. To find which people have common friends, we can simply convert the lists into sets. This is because we know that there is an intersection method for sets which helps us to find the common elements between two sets. Thus, we can run this intersection on a pair of sets to find which friends are common to both people."
   ]
  },
  {
   "cell_type": "code",
   "execution_count": 85,
   "id": "a58b69b2",
   "metadata": {},
   "outputs": [],
   "source": [
    "\n",
    "#Converting the lists to sets\n",
    "Bolaji_set = set([\"Abigail\", \"Amaka\", \"Uche\", \"Kingsley\", \"Emeka\", \"Arita\", \"Anita\", \"Bello\", \"Wura\", \"Eniola\", \"Ahmed\"])\n",
    "\n",
    "Desmond_set = set([ \"Kingsley\", \"Emeka\", \"Arita\", \"Anita\", \"Bello\", \"Wura\", \"Eniola\", \"Ahmed\", \"Bella\"])\n",
    "\n",
    "Obi_set = set([\"Kunle\", \"Abigail\", \"Jennifer\", \"Eniola\", \"Ahmed\", \"Bella\", \"Mustapha\", \"Ken\", \"Michael\"])\n",
    "\n",
    "Wale_set = set([\"Jennifer\", \"Angel\", \"Seun\", \"Amaka\", \"Uche\", \"Anita\", \"Bello\",  \"Ahmed\", \"Bella\", \"Mustapha\", \"Ken\", \"Michael\"])\n",
    "\n",
    "Stephanie_set = set([\"Wura\", \"Eniola\", \"Ahmed\", \"Bella\", \"Mustapha\", \"Ken\", \"Michael\"])"
   ]
  },
  {
   "cell_type": "code",
   "execution_count": 87,
   "id": "65a2e61c",
   "metadata": {},
   "outputs": [
    {
     "data": {
      "text/plain": [
       "{'Ahmed', 'Bella', 'Ken', 'Michael', 'Mustapha'}"
      ]
     },
     "execution_count": 87,
     "metadata": {},
     "output_type": "execute_result"
    }
   ],
   "source": [
    "#Using the intersection to find the common friends among the 5 people\n",
    "\n",
    "Bolaji_set.intersection(Desmond_set)\n",
    "\n",
    "Bolaji_set.intersection(Obi_set)\n",
    "\n",
    "Bolaji_set.intersection(Wale_set)\n",
    "\n",
    "Bolaji_set.intersection(Stephanie_set)\n",
    "\n",
    "\n",
    "Desmond_set.intersection(Obi_set)\n",
    "\n",
    "Desmond_set.intersection(Wale_set)\n",
    "\n",
    "Desmond_set.intersection(Stephanie_set)\n",
    "\n",
    "\n",
    "Obi_set.intersection(Wale_set)\n",
    "\n",
    "Obi_set.intersection(Stephanie_set)\n",
    "\n",
    "\n",
    "Wale_set.intersection(Stephanie_set)"
   ]
  },
  {
   "cell_type": "code",
   "execution_count": null,
   "id": "dbfbb644",
   "metadata": {},
   "outputs": [],
   "source": []
  },
  {
   "cell_type": "code",
   "execution_count": null,
   "id": "7eb0e833",
   "metadata": {},
   "outputs": [],
   "source": []
  },
  {
   "cell_type": "code",
   "execution_count": null,
   "id": "6af40172",
   "metadata": {},
   "outputs": [],
   "source": []
  },
  {
   "cell_type": "code",
   "execution_count": null,
   "id": "fc27eb1d",
   "metadata": {},
   "outputs": [],
   "source": []
  },
  {
   "cell_type": "markdown",
   "id": "03b458a8",
   "metadata": {},
   "source": [
    "### Question 6\n",
    "\n",
    "The distance moved by a car is given by the formula: <br>\n",
    "\n",
    "$S=ut + \\frac{1}{2}at^2$<br>\n",
    "\n",
    "where, <br>\n",
    "$a$ = Acceleration<br>\n",
    "$t$ = Time elapsed<br>\n",
    "$u$ = Initial Speed<br>\n",
    "\n",
    "\n",
    "Find the total distance moved by the car if it started moving with a speed of 48km/hr, accelerated at about 2km/hr/hr for 2 minutes."
   ]
  },
  {
   "cell_type": "markdown",
   "id": "3698c186",
   "metadata": {},
   "source": [
    "### Solution"
   ]
  },
  {
   "cell_type": "code",
   "execution_count": 51,
   "id": "5f3a60fb",
   "metadata": {},
   "outputs": [
    {
     "name": "stdout",
     "output_type": "stream",
     "text": [
      "The distance moved by the car is 1.6011111111111112km\n"
     ]
    }
   ],
   "source": [
    "u = 48\n",
    "a = 2\n",
    "t = 2/60\n",
    "\n",
    "S = u*t + 0.5*a*t**2\n",
    "\n",
    "print(f\"The distance moved by the car is {S}km\")"
   ]
  },
  {
   "cell_type": "code",
   "execution_count": null,
   "id": "edc3d728",
   "metadata": {},
   "outputs": [],
   "source": []
  },
  {
   "cell_type": "code",
   "execution_count": null,
   "id": "a6439329",
   "metadata": {},
   "outputs": [],
   "source": []
  },
  {
   "cell_type": "markdown",
   "id": "720f1feb",
   "metadata": {},
   "source": [
    "### Question 7\n",
    "\n",
    "A list with 1000 numbers has been generated at random below. Find how many unique numbers was generated within the list."
   ]
  },
  {
   "cell_type": "code",
   "execution_count": 52,
   "id": "8e984588",
   "metadata": {},
   "outputs": [
    {
     "name": "stdout",
     "output_type": "stream",
     "text": [
      "[891, 421, 803, 938, 457, 68, 292, 550, 524, 441, 967, 829, 876, 337, 515, 393, 624, 940, 956, 250, 543, 169, 315, 170, 800, 124, 660, 845, 283, 958, 572, 749, 856, 643, 950, 177, 344, 128, 774, 102, 947, 897, 727, 365, 510, 600, 130, 389, 471, 350, 652, 682, 961, 236, 592, 515, 480, 913, 560, 293, 90, 851, 967, 588, 964, 41, 122, 763, 887, 435, 754, 871, 830, 711, 667, 28, 653, 532, 874, 915, 368, 276, 774, 360, 747, 918, 91, 222, 966, 608, 254, 271, 849, 172, 849, 583, 485, 120, 109, 354, 923, 547, 982, 528, 138, 335, 591, 325, 750, 154, 587, 367, 861, 971, 580, 235, 845, 644, 587, 628, 321, 482, 120, 637, 844, 421, 351, 616, 274, 324, 215, 220, 868, 218, 60, 654, 699, 293, 514, 97, 118, 722, 802, 160, 924, 180, 972, 66, 889, 109, 946, 743, 972, 876, 580, 726, 427, 884, 749, 564, 309, 561, 858, 268, 896, 247, 943, 722, 630, 872, 999, 456, 620, 308, 488, 531, 703, 683, 744, 965, 839, 392, 111, 359, 654, 145, 525, 628, 672, 370, 892, 221, 275, 43, 776, 304, 146, 749, 252, 407, 840, 201, 367, 463, 862, 90, 130, 828, 176, 902, 741, 251, 73, 863, 614, 676, 958, 985, 574, 643, 723, 102, 54, 154, 677, 220, 647, 877, 616, 149, 427, 120, 406, 880, 145, 64, 647, 49, 226, 216, 762, 153, 517, 242, 771, 846, 89, 986, 722, 50, 584, 462, 662, 130, 882, 293, 98, 253, 100, 689, 335, 385, 473, 211, 89, 542, 505, 67, 637, 130, 743, 427, 231, 293, 394, 953, 776, 508, 885, 950, 967, 610, 200, 741, 715, 235, 812, 86, 834, 719, 189, 892, 192, 377, 569, 283, 147, 638, 970, 479, 708, 206, 40, 509, 724, 446, 948, 609, 922, 547, 966, 345, 691, 392, 424, 884, 700, 283, 184, 601, 734, 39, 495, 786, 107, 370, 783, 73, 584, 314, 165, 272, 807, 520, 387, 651, 321, 716, 394, 631, 996, 940, 675, 901, 662, 162, 759, 344, 424, 793, 451, 875, 693, 109, 28, 635, 223, 742, 369, 190, 272, 255, 679, 485, 414, 754, 923, 716, 608, 922, 451, 59, 438, 919, 745, 608, 455, 817, 705, 753, 74, 196, 483, 92, 292, 745, 188, 484, 567, 933, 525, 956, 601, 645, 800, 27, 932, 66, 533, 360, 346, 884, 505, 78, 855, 869, 923, 858, 452, 219, 588, 675, 112, 884, 769, 160, 42, 438, 999, 721, 454, 350, 30, 245, 41, 761, 799, 29, 869, 718, 568, 653, 127, 222, 148, 649, 691, 230, 921, 336, 313, 732, 213, 129, 514, 901, 971, 433, 669, 110, 49, 308, 962, 490, 846, 838, 145, 909, 289, 163, 696, 560, 863, 693, 687, 382, 144, 919, 185, 312, 898, 46, 70, 68, 237, 724, 292, 598, 349, 996, 402, 987, 608, 958, 896, 70, 893, 794, 745, 649, 698, 533, 756, 686, 951, 496, 682, 472, 408, 919, 577, 209, 239, 411, 628, 325, 36, 168, 181, 304, 368, 372, 835, 403, 762, 122, 373, 825, 662, 63, 69, 303, 194, 180, 624, 323, 396, 431, 588, 159, 327, 144, 516, 775, 272, 983, 76, 342, 210, 904, 562, 773, 99, 336, 439, 882, 363, 333, 451, 138, 128, 601, 957, 519, 512, 372, 888, 844, 858, 378, 154, 517, 145, 743, 536, 463, 65, 336, 370, 779, 730, 942, 186, 968, 197, 668, 605, 411, 852, 681, 116, 94, 854, 113, 229, 794, 253, 89, 421, 35, 127, 430, 596, 558, 323, 486, 969, 527, 834, 625, 758, 722, 249, 460, 112, 404, 252, 294, 626, 822, 197, 468, 223, 394, 144, 92, 868, 911, 900, 745, 55, 951, 565, 489, 797, 720, 233, 148, 536, 434, 289, 239, 683, 70, 997, 843, 248, 665, 176, 134, 229, 496, 414, 397, 586, 873, 181, 134, 637, 526, 178, 604, 442, 680, 723, 460, 925, 560, 534, 722, 966, 936, 357, 880, 537, 537, 677, 713, 922, 233, 582, 651, 980, 251, 36, 375, 749, 791, 947, 352, 864, 356, 63, 564, 178, 922, 290, 644, 829, 186, 889, 415, 623, 328, 762, 750, 853, 508, 94, 846, 113, 555, 916, 964, 67, 94, 257, 160, 68, 334, 42, 804, 891, 486, 365, 909, 191, 846, 179, 916, 698, 498, 407, 544, 418, 949, 569, 541, 61, 614, 119, 721, 840, 851, 557, 803, 641, 105, 791, 463, 954, 799, 238, 323, 575, 949, 639, 454, 872, 520, 892, 837, 424, 649, 627, 266, 898, 912, 844, 47, 699, 933, 27, 785, 213, 336, 546, 610, 287, 367, 94, 532, 907, 295, 992, 871, 337, 818, 444, 420, 856, 419, 90, 194, 683, 984, 157, 271, 320, 773, 876, 369, 83, 991, 63, 519, 454, 171, 530, 938, 911, 643, 761, 110, 716, 742, 182, 856, 388, 448, 63, 653, 504, 422, 496, 75, 130, 509, 823, 182, 47, 60, 639, 659, 162, 672, 358, 134, 743, 589, 691, 381, 226, 419, 829, 822, 823, 529, 140, 929, 88, 651, 744, 505, 656, 674, 983, 372, 693, 154, 725, 757, 663, 330, 834, 896, 157, 960, 423, 845, 327, 965, 790, 920, 724, 856, 151, 558, 908, 831, 220, 66, 827, 428, 482, 407, 801, 222, 493, 392, 835, 674, 104, 72, 950, 983, 67, 524, 288, 949, 54, 994, 559, 709, 609, 612, 923, 248, 262, 122, 821, 866, 932, 937, 669, 825, 541, 742, 563, 457, 546, 339, 995, 143, 176, 463, 940, 606, 459, 972, 113, 985, 134, 452, 91, 128, 452, 819, 186, 778, 58, 837, 484, 468, 729, 454, 57, 535, 968, 911, 359, 766, 285, 107, 387, 99, 151, 394, 735, 57, 380, 383, 209, 37, 877, 263, 865, 401, 99, 637, 941, 173, 239, 30, 236, 701, 716, 776, 987, 949, 153, 792, 34, 327, 404, 733, 52, 982, 646, 265, 906, 172, 218, 491, 142, 515, 379, 751, 291, 160, 55, 240, 397, 370, 511, 326, 330, 986, 926, 593]\n"
     ]
    }
   ],
   "source": [
    "#Generation of the list:\n",
    "import random\n",
    "\n",
    "random.seed(0)\n",
    "\n",
    "l = []\n",
    "for i in range (1000):\n",
    "    l.append(random.randint(27, 999))\n",
    "    \n",
    "print(l)"
   ]
  },
  {
   "cell_type": "markdown",
   "id": "9d4cfd75",
   "metadata": {},
   "source": [
    "### Solution"
   ]
  },
  {
   "cell_type": "code",
   "execution_count": 53,
   "id": "0ef0ccec",
   "metadata": {},
   "outputs": [
    {
     "data": {
      "text/plain": [
       "618"
      ]
     },
     "execution_count": 53,
     "metadata": {},
     "output_type": "execute_result"
    }
   ],
   "source": [
    "set_l = set(l)\n",
    "\n",
    "len(set_l)"
   ]
  },
  {
   "cell_type": "code",
   "execution_count": null,
   "id": "1bafbcf4",
   "metadata": {},
   "outputs": [],
   "source": []
  },
  {
   "cell_type": "markdown",
   "id": "9675a2ee",
   "metadata": {},
   "source": [
    "### Question 8\n",
    "\n",
    "Find the revenue from the table in the Table1.csv file. Did you notice anything strange? Explain this behavior"
   ]
  },
  {
   "cell_type": "markdown",
   "id": "455a48b3",
   "metadata": {},
   "source": [
    "### Solution"
   ]
  },
  {
   "cell_type": "code",
   "execution_count": 60,
   "id": "722979c1",
   "metadata": {},
   "outputs": [
    {
     "data": {
      "text/html": [
       "<div>\n",
       "<style scoped>\n",
       "    .dataframe tbody tr th:only-of-type {\n",
       "        vertical-align: middle;\n",
       "    }\n",
       "\n",
       "    .dataframe tbody tr th {\n",
       "        vertical-align: top;\n",
       "    }\n",
       "\n",
       "    .dataframe thead th {\n",
       "        text-align: right;\n",
       "    }\n",
       "</style>\n",
       "<table border=\"1\" class=\"dataframe\">\n",
       "  <thead>\n",
       "    <tr style=\"text-align: right;\">\n",
       "      <th></th>\n",
       "      <th>Product</th>\n",
       "      <th>Cost_of_Production</th>\n",
       "      <th>Unit_Sales_Price</th>\n",
       "      <th>Number_of_Units_Sold</th>\n",
       "      <th>Revenue</th>\n",
       "    </tr>\n",
       "  </thead>\n",
       "  <tbody>\n",
       "    <tr>\n",
       "      <th>0</th>\n",
       "      <td>beans</td>\n",
       "      <td>200</td>\n",
       "      <td>5</td>\n",
       "      <td>100</td>\n",
       "      <td>5555555555555555555555555555555555555555555555...</td>\n",
       "    </tr>\n",
       "    <tr>\n",
       "      <th>1</th>\n",
       "      <td>rice</td>\n",
       "      <td>300</td>\n",
       "      <td>4</td>\n",
       "      <td>150</td>\n",
       "      <td>4444444444444444444444444444444444444444444444...</td>\n",
       "    </tr>\n",
       "    <tr>\n",
       "      <th>2</th>\n",
       "      <td>plantain</td>\n",
       "      <td>400</td>\n",
       "      <td>6</td>\n",
       "      <td>50</td>\n",
       "      <td>6666666666666666666666666666666666666666666666...</td>\n",
       "    </tr>\n",
       "    <tr>\n",
       "      <th>3</th>\n",
       "      <td>yam</td>\n",
       "      <td>350</td>\n",
       "      <td>8</td>\n",
       "      <td>25</td>\n",
       "      <td>8888888888888888888888888</td>\n",
       "    </tr>\n",
       "    <tr>\n",
       "      <th>4</th>\n",
       "      <td>eggs</td>\n",
       "      <td>600</td>\n",
       "      <td>20</td>\n",
       "      <td>80</td>\n",
       "      <td>2020202020202020202020202020202020202020202020...</td>\n",
       "    </tr>\n",
       "    <tr>\n",
       "      <th>5</th>\n",
       "      <td>chicken</td>\n",
       "      <td>1200</td>\n",
       "      <td>32</td>\n",
       "      <td>30</td>\n",
       "      <td>3232323232323232323232323232323232323232323232...</td>\n",
       "    </tr>\n",
       "    <tr>\n",
       "      <th>6</th>\n",
       "      <td>fish</td>\n",
       "      <td>850</td>\n",
       "      <td>.</td>\n",
       "      <td>65</td>\n",
       "      <td>.................................................</td>\n",
       "    </tr>\n",
       "  </tbody>\n",
       "</table>\n",
       "</div>"
      ],
      "text/plain": [
       "    Product  Cost_of_Production Unit_Sales_Price  Number_of_Units_Sold  \\\n",
       "0     beans                 200                5                   100   \n",
       "1      rice                 300                4                   150   \n",
       "2  plantain                 400                6                    50   \n",
       "3       yam                 350                8                    25   \n",
       "4      eggs                 600               20                    80   \n",
       "5   chicken                1200               32                    30   \n",
       "6      fish                 850                .                    65   \n",
       "\n",
       "                                             Revenue  \n",
       "0  5555555555555555555555555555555555555555555555...  \n",
       "1  4444444444444444444444444444444444444444444444...  \n",
       "2  6666666666666666666666666666666666666666666666...  \n",
       "3                          8888888888888888888888888  \n",
       "4  2020202020202020202020202020202020202020202020...  \n",
       "5  3232323232323232323232323232323232323232323232...  \n",
       "6  .................................................  "
      ]
     },
     "execution_count": 60,
     "metadata": {},
     "output_type": "execute_result"
    }
   ],
   "source": [
    "import pandas as pd\n",
    "\n",
    "\n",
    "data1 = pd.read_csv(\"Table1.csv\")\n",
    "\n",
    "data1[\"Revenue\"] = data1[\"Unit_Sales_Price\"] * data1[\"Number_of_Units_Sold\"]\n",
    "\n",
    "data1"
   ]
  },
  {
   "cell_type": "markdown",
   "id": "de84af88",
   "metadata": {},
   "source": [
    "The reason that the Revenue column is behaving this way is that there is a dot (\".\") present in the Unit_Sales_Price column. Because the dot is not a number, pandas converts the entire Unit_Sales_Price into a string column. This is why when we multiply the column by the Number_of_Units_Sold, we get the repitition, which is just simply a feature of python strings, but it is a wrong feature for our problem"
   ]
  },
  {
   "cell_type": "code",
   "execution_count": null,
   "id": "779f4727",
   "metadata": {},
   "outputs": [],
   "source": []
  },
  {
   "cell_type": "markdown",
   "id": "53de3c4b",
   "metadata": {},
   "source": [
    "### Question 9\n",
    "\n",
    "Find the gross profit from the table in the Table2.csv file. "
   ]
  },
  {
   "cell_type": "markdown",
   "id": "22313c07",
   "metadata": {},
   "source": [
    "### Solution"
   ]
  },
  {
   "cell_type": "code",
   "execution_count": 64,
   "id": "80e92d9c",
   "metadata": {},
   "outputs": [
    {
     "data": {
      "text/html": [
       "<div>\n",
       "<style scoped>\n",
       "    .dataframe tbody tr th:only-of-type {\n",
       "        vertical-align: middle;\n",
       "    }\n",
       "\n",
       "    .dataframe tbody tr th {\n",
       "        vertical-align: top;\n",
       "    }\n",
       "\n",
       "    .dataframe thead th {\n",
       "        text-align: right;\n",
       "    }\n",
       "</style>\n",
       "<table border=\"1\" class=\"dataframe\">\n",
       "  <thead>\n",
       "    <tr style=\"text-align: right;\">\n",
       "      <th></th>\n",
       "      <th>Product</th>\n",
       "      <th>Cost_of_Production</th>\n",
       "      <th>Unit_Sales_Price</th>\n",
       "      <th>Number_of_Units_Sold</th>\n",
       "    </tr>\n",
       "  </thead>\n",
       "  <tbody>\n",
       "    <tr>\n",
       "      <th>0</th>\n",
       "      <td>beans</td>\n",
       "      <td>200</td>\n",
       "      <td>5</td>\n",
       "      <td>100</td>\n",
       "    </tr>\n",
       "    <tr>\n",
       "      <th>1</th>\n",
       "      <td>rice</td>\n",
       "      <td>300</td>\n",
       "      <td>4</td>\n",
       "      <td>150</td>\n",
       "    </tr>\n",
       "    <tr>\n",
       "      <th>2</th>\n",
       "      <td>plantain</td>\n",
       "      <td>400</td>\n",
       "      <td>6</td>\n",
       "      <td>50</td>\n",
       "    </tr>\n",
       "    <tr>\n",
       "      <th>3</th>\n",
       "      <td>yam</td>\n",
       "      <td>350</td>\n",
       "      <td>8</td>\n",
       "      <td>25</td>\n",
       "    </tr>\n",
       "    <tr>\n",
       "      <th>4</th>\n",
       "      <td>eggs</td>\n",
       "      <td>600</td>\n",
       "      <td>20</td>\n",
       "      <td>80</td>\n",
       "    </tr>\n",
       "    <tr>\n",
       "      <th>5</th>\n",
       "      <td>chicken</td>\n",
       "      <td>1200</td>\n",
       "      <td>32</td>\n",
       "      <td>30</td>\n",
       "    </tr>\n",
       "    <tr>\n",
       "      <th>6</th>\n",
       "      <td>fish</td>\n",
       "      <td>850</td>\n",
       "      <td>15</td>\n",
       "      <td>65</td>\n",
       "    </tr>\n",
       "  </tbody>\n",
       "</table>\n",
       "</div>"
      ],
      "text/plain": [
       "    Product  Cost_of_Production  Unit_Sales_Price  Number_of_Units_Sold\n",
       "0     beans                 200                 5                   100\n",
       "1      rice                 300                 4                   150\n",
       "2  plantain                 400                 6                    50\n",
       "3       yam                 350                 8                    25\n",
       "4      eggs                 600                20                    80\n",
       "5   chicken                1200                32                    30\n",
       "6      fish                 850                15                    65"
      ]
     },
     "execution_count": 64,
     "metadata": {},
     "output_type": "execute_result"
    }
   ],
   "source": [
    "data2 = pd.read_csv(\"Table2.csv\")\n",
    "\n",
    "data2"
   ]
  },
  {
   "cell_type": "code",
   "execution_count": null,
   "id": "a671ab31",
   "metadata": {},
   "outputs": [],
   "source": []
  },
  {
   "cell_type": "code",
   "execution_count": 66,
   "id": "1bfba818",
   "metadata": {},
   "outputs": [
    {
     "data": {
      "text/html": [
       "<div>\n",
       "<style scoped>\n",
       "    .dataframe tbody tr th:only-of-type {\n",
       "        vertical-align: middle;\n",
       "    }\n",
       "\n",
       "    .dataframe tbody tr th {\n",
       "        vertical-align: top;\n",
       "    }\n",
       "\n",
       "    .dataframe thead th {\n",
       "        text-align: right;\n",
       "    }\n",
       "</style>\n",
       "<table border=\"1\" class=\"dataframe\">\n",
       "  <thead>\n",
       "    <tr style=\"text-align: right;\">\n",
       "      <th></th>\n",
       "      <th>Product</th>\n",
       "      <th>Cost_of_Production</th>\n",
       "      <th>Unit_Sales_Price</th>\n",
       "      <th>Number_of_Units_Sold</th>\n",
       "      <th>Revenue</th>\n",
       "      <th>Gross_Profit</th>\n",
       "    </tr>\n",
       "  </thead>\n",
       "  <tbody>\n",
       "    <tr>\n",
       "      <th>0</th>\n",
       "      <td>beans</td>\n",
       "      <td>200</td>\n",
       "      <td>5</td>\n",
       "      <td>100</td>\n",
       "      <td>500</td>\n",
       "      <td>300</td>\n",
       "    </tr>\n",
       "    <tr>\n",
       "      <th>1</th>\n",
       "      <td>rice</td>\n",
       "      <td>300</td>\n",
       "      <td>4</td>\n",
       "      <td>150</td>\n",
       "      <td>600</td>\n",
       "      <td>300</td>\n",
       "    </tr>\n",
       "    <tr>\n",
       "      <th>2</th>\n",
       "      <td>plantain</td>\n",
       "      <td>400</td>\n",
       "      <td>6</td>\n",
       "      <td>50</td>\n",
       "      <td>300</td>\n",
       "      <td>-100</td>\n",
       "    </tr>\n",
       "    <tr>\n",
       "      <th>3</th>\n",
       "      <td>yam</td>\n",
       "      <td>350</td>\n",
       "      <td>8</td>\n",
       "      <td>25</td>\n",
       "      <td>200</td>\n",
       "      <td>-150</td>\n",
       "    </tr>\n",
       "    <tr>\n",
       "      <th>4</th>\n",
       "      <td>eggs</td>\n",
       "      <td>600</td>\n",
       "      <td>20</td>\n",
       "      <td>80</td>\n",
       "      <td>1600</td>\n",
       "      <td>1000</td>\n",
       "    </tr>\n",
       "    <tr>\n",
       "      <th>5</th>\n",
       "      <td>chicken</td>\n",
       "      <td>1200</td>\n",
       "      <td>32</td>\n",
       "      <td>30</td>\n",
       "      <td>960</td>\n",
       "      <td>-240</td>\n",
       "    </tr>\n",
       "    <tr>\n",
       "      <th>6</th>\n",
       "      <td>fish</td>\n",
       "      <td>850</td>\n",
       "      <td>15</td>\n",
       "      <td>65</td>\n",
       "      <td>975</td>\n",
       "      <td>125</td>\n",
       "    </tr>\n",
       "  </tbody>\n",
       "</table>\n",
       "</div>"
      ],
      "text/plain": [
       "    Product  Cost_of_Production  Unit_Sales_Price  Number_of_Units_Sold  \\\n",
       "0     beans                 200                 5                   100   \n",
       "1      rice                 300                 4                   150   \n",
       "2  plantain                 400                 6                    50   \n",
       "3       yam                 350                 8                    25   \n",
       "4      eggs                 600                20                    80   \n",
       "5   chicken                1200                32                    30   \n",
       "6      fish                 850                15                    65   \n",
       "\n",
       "   Revenue  Gross_Profit  \n",
       "0      500           300  \n",
       "1      600           300  \n",
       "2      300          -100  \n",
       "3      200          -150  \n",
       "4     1600          1000  \n",
       "5      960          -240  \n",
       "6      975           125  "
      ]
     },
     "execution_count": 66,
     "metadata": {},
     "output_type": "execute_result"
    }
   ],
   "source": [
    "data2[\"Revenue\"] = data2[\"Unit_Sales_Price\"] * data2[\"Number_of_Units_Sold\"]\n",
    "\n",
    "data2[\"Gross_Profit\"] = data2[\"Revenue\"] - data2[\"Cost_of_Production\"]\n",
    "\n",
    "data2"
   ]
  },
  {
   "cell_type": "code",
   "execution_count": null,
   "id": "d5699f09",
   "metadata": {},
   "outputs": [],
   "source": []
  }
 ],
 "metadata": {
  "kernelspec": {
   "display_name": "Python 3 (ipykernel)",
   "language": "python",
   "name": "python3"
  },
  "language_info": {
   "codemirror_mode": {
    "name": "ipython",
    "version": 3
   },
   "file_extension": ".py",
   "mimetype": "text/x-python",
   "name": "python",
   "nbconvert_exporter": "python",
   "pygments_lexer": "ipython3",
   "version": "3.9.13"
  }
 },
 "nbformat": 4,
 "nbformat_minor": 5
}
