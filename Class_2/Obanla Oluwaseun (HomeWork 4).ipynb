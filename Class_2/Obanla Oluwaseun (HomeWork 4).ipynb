{
 "cells": [
  {
   "cell_type": "markdown",
   "id": "343f1637",
   "metadata": {},
   "source": [
    "Create a Dictionary of more than 10 key-value pairs.\n"
   ]
  },
  {
   "cell_type": "code",
   "execution_count": 59,
   "id": "7d407b9a",
   "metadata": {},
   "outputs": [],
   "source": [
    "C_I = {\"Eze\" : 14, \"Joseph\" : 18, \n",
    "            \n",
    "            \"Tom\" : 20, \"Isaac\" :  15, \n",
    "            \n",
    "            \"Jennifer\" : 5, \"Samson\" : 20, \n",
    "            \n",
    "            \"Mandela\" : 20, \"Dave\": 13, \"Justice\" : 10, \"Martins\" : 20}\n"
   ]
  },
  {
   "cell_type": "code",
   "execution_count": 43,
   "id": "87344010",
   "metadata": {},
   "outputs": [
    {
     "data": {
      "text/plain": [
       "{'Name': ['Eze',\n",
       "  'Joseph',\n",
       "  'Tom',\n",
       "  'Isaac',\n",
       "  'Jennifer',\n",
       "  'Samson',\n",
       "  'Mandela',\n",
       "  'Dave',\n",
       "  'Justice',\n",
       "  'Martins'],\n",
       " 'Age': [14, 18, 20, 15, 5, 20, 20, 13, 10, 20]}"
      ]
     },
     "execution_count": 43,
     "metadata": {},
     "output_type": "execute_result"
    }
   ],
   "source": [
    "C_I"
   ]
  },
  {
   "cell_type": "markdown",
   "id": "c6f3e6a1",
   "metadata": {},
   "source": [
    "Convert the keys of the Dictionary to a list\n"
   ]
  },
  {
   "cell_type": "code",
   "execution_count": 60,
   "id": "f28a575a",
   "metadata": {},
   "outputs": [
    {
     "data": {
      "text/plain": [
       "['Eze',\n",
       " 'Joseph',\n",
       " 'Tom',\n",
       " 'Isaac',\n",
       " 'Jennifer',\n",
       " 'Samson',\n",
       " 'Mandela',\n",
       " 'Dave',\n",
       " 'Justice',\n",
       " 'Martins']"
      ]
     },
     "execution_count": 60,
     "metadata": {},
     "output_type": "execute_result"
    }
   ],
   "source": [
    "list(C_I)"
   ]
  },
  {
   "cell_type": "markdown",
   "id": "b2412c23",
   "metadata": {},
   "source": [
    "Convert the values of the Dictionary to a tuple\n"
   ]
  },
  {
   "cell_type": "code",
   "execution_count": 61,
   "id": "639adfda",
   "metadata": {
    "scrolled": true
   },
   "outputs": [
    {
     "data": {
      "text/plain": [
       "(14, 18, 20, 15, 5, 20, 20, 13, 10, 20)"
      ]
     },
     "execution_count": 61,
     "metadata": {},
     "output_type": "execute_result"
    }
   ],
   "source": [
    "tuple (C_I.values())"
   ]
  },
  {
   "cell_type": "markdown",
   "id": "03e71a47",
   "metadata": {},
   "source": [
    "Create a Pandas Series from your list\n"
   ]
  },
  {
   "cell_type": "code",
   "execution_count": 62,
   "id": "b1daa15b",
   "metadata": {
    "scrolled": false
   },
   "outputs": [],
   "source": [
    "import pandas as pd\n",
    "\n"
   ]
  },
  {
   "cell_type": "code",
   "execution_count": 63,
   "id": "7d9c0694",
   "metadata": {
    "scrolled": true
   },
   "outputs": [
    {
     "data": {
      "text/plain": [
       "0         Eze\n",
       "1      Joseph\n",
       "2         Tom\n",
       "3       Isaac\n",
       "4    Jennifer\n",
       "5      Samson\n",
       "6     Mandela\n",
       "7        Dave\n",
       "8     Justice\n",
       "9     Martins\n",
       "dtype: object"
      ]
     },
     "execution_count": 63,
     "metadata": {},
     "output_type": "execute_result"
    }
   ],
   "source": [
    "pd.Series(list(C_I))\n"
   ]
  },
  {
   "cell_type": "code",
   "execution_count": 75,
   "id": "b0c27dbd",
   "metadata": {
    "scrolled": true
   },
   "outputs": [
    {
     "data": {
      "text/plain": [
       "0         Eze\n",
       "1      Joseph\n",
       "2         Tom\n",
       "3       Isaac\n",
       "4    Jennifer\n",
       "5      Samson\n",
       "6     Mandela\n",
       "7        Dave\n",
       "8     Justice\n",
       "9     Martins\n",
       "Name: First_name, dtype: object"
      ]
     },
     "execution_count": 75,
     "metadata": {},
     "output_type": "execute_result"
    }
   ],
   "source": [
    "pd.Series(list(C_I), name = \"First_name\")\n",
    "\n",
    "li_series = pd.Series(list(C_I), name = \"First_name\")\n",
    "\n",
    "li_series"
   ]
  },
  {
   "cell_type": "markdown",
   "id": "290a567e",
   "metadata": {},
   "source": [
    "Create a Pandas Series from your tuple\n"
   ]
  },
  {
   "cell_type": "code",
   "execution_count": 68,
   "id": "153f827f",
   "metadata": {
    "scrolled": false
   },
   "outputs": [
    {
     "data": {
      "text/plain": [
       "0    14\n",
       "1    18\n",
       "2    20\n",
       "3    15\n",
       "4     5\n",
       "5    20\n",
       "6    20\n",
       "7    13\n",
       "8    10\n",
       "9    20\n",
       "dtype: int64"
      ]
     },
     "execution_count": 68,
     "metadata": {},
     "output_type": "execute_result"
    }
   ],
   "source": [
    "pd.Series(tuple (C_I.values()))"
   ]
  },
  {
   "cell_type": "code",
   "execution_count": 73,
   "id": "58f5746e",
   "metadata": {
    "scrolled": true
   },
   "outputs": [
    {
     "data": {
      "text/plain": [
       "0    14\n",
       "1    18\n",
       "2    20\n",
       "3    15\n",
       "4     5\n",
       "5    20\n",
       "6    20\n",
       "7    13\n",
       "8    10\n",
       "9    20\n",
       "Name: Days_in_Class, dtype: int64"
      ]
     },
     "execution_count": 73,
     "metadata": {},
     "output_type": "execute_result"
    }
   ],
   "source": [
    "pd.Series(tuple (C_I.values()), name = \"Days_in_Class\")\n",
    "\n",
    "tup_series = pd.Series(tuple (C_I.values()), name = \"Days_in_Class\")\n",
    "\n",
    "tup_series"
   ]
  },
  {
   "cell_type": "markdown",
   "id": "3d38c4a4",
   "metadata": {},
   "source": [
    "Create a Pandas DataFrame from the two Pandas Series you have created.\n"
   ]
  },
  {
   "cell_type": "code",
   "execution_count": 77,
   "id": "ebde64e7",
   "metadata": {
    "scrolled": true
   },
   "outputs": [
    {
     "data": {
      "text/html": [
       "<div>\n",
       "<style scoped>\n",
       "    .dataframe tbody tr th:only-of-type {\n",
       "        vertical-align: middle;\n",
       "    }\n",
       "\n",
       "    .dataframe tbody tr th {\n",
       "        vertical-align: top;\n",
       "    }\n",
       "\n",
       "    .dataframe thead th {\n",
       "        text-align: right;\n",
       "    }\n",
       "</style>\n",
       "<table border=\"1\" class=\"dataframe\">\n",
       "  <thead>\n",
       "    <tr style=\"text-align: right;\">\n",
       "      <th></th>\n",
       "      <th>First_name</th>\n",
       "      <th>Days_in_Class</th>\n",
       "    </tr>\n",
       "  </thead>\n",
       "  <tbody>\n",
       "    <tr>\n",
       "      <th>0</th>\n",
       "      <td>Eze</td>\n",
       "      <td>14</td>\n",
       "    </tr>\n",
       "    <tr>\n",
       "      <th>1</th>\n",
       "      <td>Joseph</td>\n",
       "      <td>18</td>\n",
       "    </tr>\n",
       "    <tr>\n",
       "      <th>2</th>\n",
       "      <td>Tom</td>\n",
       "      <td>20</td>\n",
       "    </tr>\n",
       "    <tr>\n",
       "      <th>3</th>\n",
       "      <td>Isaac</td>\n",
       "      <td>15</td>\n",
       "    </tr>\n",
       "    <tr>\n",
       "      <th>4</th>\n",
       "      <td>Jennifer</td>\n",
       "      <td>5</td>\n",
       "    </tr>\n",
       "    <tr>\n",
       "      <th>5</th>\n",
       "      <td>Samson</td>\n",
       "      <td>20</td>\n",
       "    </tr>\n",
       "    <tr>\n",
       "      <th>6</th>\n",
       "      <td>Mandela</td>\n",
       "      <td>20</td>\n",
       "    </tr>\n",
       "    <tr>\n",
       "      <th>7</th>\n",
       "      <td>Dave</td>\n",
       "      <td>13</td>\n",
       "    </tr>\n",
       "    <tr>\n",
       "      <th>8</th>\n",
       "      <td>Justice</td>\n",
       "      <td>10</td>\n",
       "    </tr>\n",
       "    <tr>\n",
       "      <th>9</th>\n",
       "      <td>Martins</td>\n",
       "      <td>20</td>\n",
       "    </tr>\n",
       "  </tbody>\n",
       "</table>\n",
       "</div>"
      ],
      "text/plain": [
       "  First_name  Days_in_Class\n",
       "0        Eze             14\n",
       "1     Joseph             18\n",
       "2        Tom             20\n",
       "3      Isaac             15\n",
       "4   Jennifer              5\n",
       "5     Samson             20\n",
       "6    Mandela             20\n",
       "7       Dave             13\n",
       "8    Justice             10\n",
       "9    Martins             20"
      ]
     },
     "execution_count": 77,
     "metadata": {},
     "output_type": "execute_result"
    }
   ],
   "source": [
    "pd.concat([li_series, tup_series], axis = 1)"
   ]
  },
  {
   "cell_type": "markdown",
   "id": "d8ba4bb5",
   "metadata": {},
   "source": [
    "Create a Pandas DataFrame from the Dictionary you created at the start.\n"
   ]
  },
  {
   "cell_type": "code",
   "execution_count": 89,
   "id": "ff7bb6ff",
   "metadata": {
    "scrolled": true
   },
   "outputs": [
    {
     "data": {
      "text/html": [
       "<div>\n",
       "<style scoped>\n",
       "    .dataframe tbody tr th:only-of-type {\n",
       "        vertical-align: middle;\n",
       "    }\n",
       "\n",
       "    .dataframe tbody tr th {\n",
       "        vertical-align: top;\n",
       "    }\n",
       "\n",
       "    .dataframe thead th {\n",
       "        text-align: right;\n",
       "    }\n",
       "</style>\n",
       "<table border=\"1\" class=\"dataframe\">\n",
       "  <thead>\n",
       "    <tr style=\"text-align: right;\">\n",
       "      <th></th>\n",
       "      <th>Eze</th>\n",
       "      <th>Joseph</th>\n",
       "      <th>Tom</th>\n",
       "      <th>Isaac</th>\n",
       "      <th>Jennifer</th>\n",
       "      <th>Samson</th>\n",
       "      <th>Mandela</th>\n",
       "      <th>Dave</th>\n",
       "      <th>Justice</th>\n",
       "      <th>Martins</th>\n",
       "    </tr>\n",
       "  </thead>\n",
       "  <tbody>\n",
       "    <tr>\n",
       "      <th>0</th>\n",
       "      <td>14</td>\n",
       "      <td>18</td>\n",
       "      <td>20</td>\n",
       "      <td>15</td>\n",
       "      <td>5</td>\n",
       "      <td>20</td>\n",
       "      <td>20</td>\n",
       "      <td>13</td>\n",
       "      <td>10</td>\n",
       "      <td>20</td>\n",
       "    </tr>\n",
       "  </tbody>\n",
       "</table>\n",
       "</div>"
      ],
      "text/plain": [
       "   Eze  Joseph  Tom  Isaac  Jennifer  Samson  Mandela  Dave  Justice  Martins\n",
       "0   14      18   20     15         5      20       20    13       10       20"
      ]
     },
     "execution_count": 89,
     "metadata": {},
     "output_type": "execute_result"
    }
   ],
   "source": [
    "pd.DataFrame([C_I])"
   ]
  },
  {
   "cell_type": "markdown",
   "id": "c035782f",
   "metadata": {},
   "source": [
    "Check if these two Pandas DataFrames are equal"
   ]
  },
  {
   "cell_type": "code",
   "execution_count": 92,
   "id": "9befcc8a",
   "metadata": {},
   "outputs": [
    {
     "ename": "SyntaxError",
     "evalue": "invalid syntax (2471419771.py, line 1)",
     "output_type": "error",
     "traceback": [
      "\u001b[1;36m  Input \u001b[1;32mIn [92]\u001b[1;36m\u001b[0m\n\u001b[1;33m    is pd.DataFrame([C_I]) == pd.concat([li_series, tup_series])\u001b[0m\n\u001b[1;37m    ^\u001b[0m\n\u001b[1;31mSyntaxError\u001b[0m\u001b[1;31m:\u001b[0m invalid syntax\n"
     ]
    }
   ],
   "source": [
    "is pd.DataFrame([C_I]) == pd.concat([li_series, tup_series])"
   ]
  },
  {
   "cell_type": "code",
   "execution_count": null,
   "id": "af104b91",
   "metadata": {},
   "outputs": [],
   "source": []
  }
 ],
 "metadata": {
  "kernelspec": {
   "display_name": "Python 3 (ipykernel)",
   "language": "python",
   "name": "python3"
  },
  "language_info": {
   "codemirror_mode": {
    "name": "ipython",
    "version": 3
   },
   "file_extension": ".py",
   "mimetype": "text/x-python",
   "name": "python",
   "nbconvert_exporter": "python",
   "pygments_lexer": "ipython3",
   "version": "3.9.12"
  }
 },
 "nbformat": 4,
 "nbformat_minor": 5
}
