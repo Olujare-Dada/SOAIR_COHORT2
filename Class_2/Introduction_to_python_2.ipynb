{
 "cells": [
  {
   "cell_type": "markdown",
   "metadata": {},
   "source": [
    "# Introduction to Python"
   ]
  },
  {
   "cell_type": "markdown",
   "metadata": {},
   "source": [
    "This brief introduction to the Python programming language aims to explain the Python concepts required in Data Science in a concise manner"
   ]
  },
  {
   "cell_type": "markdown",
   "metadata": {},
   "source": [
    "## Table of Content\n",
    "\n",
    "\n",
    "1. Types of Numbers in Python\n",
    "\n",
    "2. Common Math Operations\n",
    "\n",
    "3. Comments in Python\n",
    "\n",
    "4. Variables\n",
    "\n",
    "5. Case-sensitivity\n",
    "\n",
    "6. Data types\n",
    "\n",
    "7. Built-in Data Structures\n",
    "\n",
    "8. Built-in Functions\n",
    "\n",
    "9. Conditions\n",
    "\n",
    "10. Loops\n",
    "\n",
    "11. Custom Functions"
   ]
  },
  {
   "cell_type": "code",
   "execution_count": null,
   "metadata": {},
   "outputs": [],
   "source": []
  },
  {
   "cell_type": "code",
   "execution_count": null,
   "metadata": {},
   "outputs": [],
   "source": []
  },
  {
   "cell_type": "markdown",
   "metadata": {},
   "source": [
    "#### String\n",
    "\n",
    "\n",
    "Strings have already been discussed earlier in the section for Comments. However, there are some operations called \"methods\" that we can perform on strings to help us manipulate strings the way we want.\n",
    "\n",
    "There are several methods for manipulating strings but the most important methods have been given below:"
   ]
  },
  {
   "cell_type": "markdown",
   "metadata": {},
   "source": [
    "The various string methods we shall look at are:\n",
    "\n",
    "**slicing<br>\n",
    "strip<br>\n",
    "lstrip<br>\n",
    "rstrip<br>\n",
    "strip with character<br>\n",
    "replace<br>\n",
    "split(, maxsplit = ...)<br>\n",
    "rsplit(, maxsplit)<br>\n",
    ".join()<br>\n",
    ".upper, .lower, .capitalize<br>\n",
    ".islower, isupper<br>\n",
    "isalpha, isnumeric, isalnum<br>\n",
    "count()<br>\n",
    ".find()<br>\n",
    ".rfind()<br>\n",
    ".startswith<br>\n",
    ".endswith<br>\n",
    "partition(seperator)<br>\n",
    "f-strings<br>\n",
    "swapcase()<br>\n",
    "len()<br>**"
   ]
  },
  {
   "cell_type": "markdown",
   "metadata": {},
   "source": [
    "In order to make use of the methods, it is imperative to always use a dot \".\" before using the name of the method.\n",
    "\n",
    "For example, given a string \"I am a boy\". \n",
    "\n",
    "To make all the letters in the statement capitalized, we use the method **.upper()**. This is shown below:"
   ]
  },
  {
   "cell_type": "code",
   "execution_count": null,
   "metadata": {},
   "outputs": [],
   "source": [
    "\"I am a boy\".upper()"
   ]
  },
  {
   "cell_type": "markdown",
   "metadata": {},
   "source": [
    "You might have noticed that the method .upper() has a bracket after it. For most methods in python, we have a bracket after them and this is just the convention. The bracket also serves other uses which will be discussed later on in this notebook.\n",
    "\n",
    "For now, just know that there are brackets that accompany methods in most cases but in some cases, there might not be a bracket."
   ]
  },
  {
   "cell_type": "code",
   "execution_count": null,
   "metadata": {},
   "outputs": [],
   "source": []
  },
  {
   "cell_type": "markdown",
   "metadata": {},
   "source": [
    "To explore these string methods in python, we shall use the string \"My name is Modupe\". We will assign it to a variable x.\n",
    "\n",
    "This is so that we can work with variable x, instead of the actual string \"My name is Modupe\". \n",
    "\n",
    "The reason for doing this is mostly for convenience since it is easier to type x, instead of the statement \"My name is Modupe\"."
   ]
  },
  {
   "cell_type": "code",
   "execution_count": null,
   "metadata": {},
   "outputs": [],
   "source": []
  },
  {
   "cell_type": "code",
   "execution_count": null,
   "metadata": {},
   "outputs": [],
   "source": []
  },
  {
   "cell_type": "code",
   "execution_count": 1,
   "metadata": {},
   "outputs": [],
   "source": [
    "x = \"My name is Modupe\""
   ]
  },
  {
   "cell_type": "code",
   "execution_count": null,
   "metadata": {},
   "outputs": [],
   "source": []
  },
  {
   "cell_type": "markdown",
   "metadata": {},
   "source": [
    "**String Slicing:**\n",
    "\n",
    "This is the a piece of code that helps us to divide strings up or retrieve only certain parts of a string. These portions of the strings are accessed using the **indices** of the string.\n",
    "\n",
    "The **indices** of the string are the numbers that represent the position of the indvidual letters in the string.\n",
    "\n",
    "For example,\n",
    "\n",
    "in the string x = \"My name is Modupe\", The first \"M\" in the sentence takes up index 0. The \"y\" takes up index 1, the space after these two letters takes up index 2, next the \"n\" takes up index 3 and so on.\n",
    "\n",
    "To access the indices from behind, we use negative numbers. The last letter \"e\" is indexed by -1, the letter \"p\" is indexed by -2, and so on."
   ]
  },
  {
   "cell_type": "code",
   "execution_count": null,
   "metadata": {},
   "outputs": [],
   "source": [
    "x[0]\n",
    "\n",
    "x[1]\n",
    "\n",
    "x[5]\n",
    "\n",
    "x[-1]\n",
    "\n",
    "x[-2]"
   ]
  },
  {
   "cell_type": "code",
   "execution_count": null,
   "metadata": {},
   "outputs": [],
   "source": []
  },
  {
   "cell_type": "markdown",
   "metadata": {},
   "source": [
    "So far, we have been able to select the particular letter of the string that we want. But what if we want multiple letters? What if we want whole sections of a string but still not the entire thing? This is where string slicing really shines.\n",
    "\n",
    "In this case, we select the index where we want the portion of string we want, to start from and then also choose the end index where you want the string to stop. So basically, you are left with the following syntax for string slicing:\n",
    "\n",
    "string(beginning_index : end_index]. The colon (:) signifies that you want a range of indices between the beginning_index and the end_index."
   ]
  },
  {
   "cell_type": "code",
   "execution_count": 3,
   "metadata": {},
   "outputs": [
    {
     "data": {
      "text/plain": [
       "'na'"
      ]
     },
     "execution_count": 3,
     "metadata": {},
     "output_type": "execute_result"
    }
   ],
   "source": [
    "#Slicing\n",
    "\n",
    "x[3:5]\n",
    "\n",
    "x[0:]\n",
    "\n",
    "x[:-1]\n",
    "\n",
    "x[2: -1]\n",
    "\n",
    "x[3:-4]\n"
   ]
  },
  {
   "cell_type": "code",
   "execution_count": null,
   "metadata": {},
   "outputs": [],
   "source": []
  },
  {
   "cell_type": "markdown",
   "metadata": {},
   "source": [
    "**Strip:**\n",
    "\n",
    "This is the functionality of removing either spaces or other specified characters from the beginning or end of a string. For example, if we had the following string:\n",
    "\n",
    "@username\n",
    "\n",
    "We can use strip to remove the at and then derive the username itself. We can also use strip on the following string:\n",
    "\n",
    "HHData Science ClassHH\n",
    "\n",
    "The strip() method can be used to remove the two h's on either side of the string \"Data Science Class\"\n",
    "\n",
    "\n",
    "In the example given below, spaces have been placed at the beginning and end of the statement. The strip method removes the spaces after being run agains the string.\n",
    "\n",
    "To remove other characters other than spaces, we can place the character itself in quotes within the brackets of the strip method. This is infact, how you deal with the \"HHData Science ClassHH\" or \"username\" examples given earlier. The syntax would be:\n",
    "\n",
    "string.strip(\"HH\") for HHData Science ClassHH and string.strip(\"@\") for @username"
   ]
  },
  {
   "cell_type": "code",
   "execution_count": 4,
   "metadata": {},
   "outputs": [
    {
     "data": {
      "text/plain": [
       "'My name is Modupe'"
      ]
     },
     "execution_count": 4,
     "metadata": {},
     "output_type": "execute_result"
    }
   ],
   "source": [
    "#Strip, lstrip, rstrip, strip with character\n",
    "x = \"    My name is Modupe   \"\n",
    "x.strip()\n"
   ]
  },
  {
   "cell_type": "code",
   "execution_count": null,
   "metadata": {},
   "outputs": [],
   "source": [
    "x = \"    My name is Modupe   \"\n",
    "\n",
    "x.strip()\n",
    "\n",
    "#x.lstrip()\n",
    "\n",
    "#x.rstrip()"
   ]
  },
  {
   "cell_type": "code",
   "execution_count": null,
   "metadata": {},
   "outputs": [],
   "source": [
    "x = \"##My name is Modupe##\"\n",
    "\n",
    "x.strip(\"#\")"
   ]
  },
  {
   "cell_type": "code",
   "execution_count": null,
   "metadata": {},
   "outputs": [],
   "source": []
  },
  {
   "cell_type": "markdown",
   "metadata": {},
   "source": [
    "**Replace:**\n",
    "\n",
    "This is used to replace a letter/character within a string with another string. For example given a string \"Ade\", we can replace the letter \"e\" with the letter \"a\" in the following way:\n",
    "\n",
    "string.replace(\"e\", \"a\")"
   ]
  },
  {
   "cell_type": "code",
   "execution_count": null,
   "metadata": {},
   "outputs": [],
   "source": [
    "#Replace\n",
    "x.replace(\"#\", \"*\")"
   ]
  },
  {
   "cell_type": "code",
   "execution_count": null,
   "metadata": {},
   "outputs": [],
   "source": []
  },
  {
   "cell_type": "markdown",
   "metadata": {},
   "source": [
    "**Split:**\n",
    "\n",
    "This is used to split a string into individual portions based on a specified separator. For example,\n",
    "\n",
    "\"Ade is a boy\" can be separated by the space between each word by typing: string.split(\" \"). The result is:\n",
    "(\"Ade\", \"is\", \"a\", \"boy\")\n",
    "\n",
    "\n",
    "We can also split by any other character as well."
   ]
  },
  {
   "cell_type": "code",
   "execution_count": 5,
   "metadata": {},
   "outputs": [
    {
     "data": {
      "text/plain": [
       "['', '', '', '', 'My', 'name', 'is', 'Modupe', '', '', '']"
      ]
     },
     "execution_count": 5,
     "metadata": {},
     "output_type": "execute_result"
    }
   ],
   "source": [
    "#split, rsplit\n",
    "\n",
    "x.split(\" \")\n",
    "\n",
    "#x.split(\" \", 2)\n",
    "\n",
    "#x.rsplit(\" \", 2)"
   ]
  },
  {
   "cell_type": "code",
   "execution_count": null,
   "metadata": {},
   "outputs": [],
   "source": []
  },
  {
   "cell_type": "markdown",
   "metadata": {},
   "source": [
    "**Join:**:\n",
    "\n",
    "The join method bascially does the opposite of the split method. It takes a list of string items and then brings them together to form one singular string."
   ]
  },
  {
   "cell_type": "code",
   "execution_count": 55,
   "metadata": {},
   "outputs": [
    {
     "data": {
      "text/plain": [
       "'John is a boy'"
      ]
     },
     "execution_count": 55,
     "metadata": {},
     "output_type": "execute_result"
    }
   ],
   "source": [
    "#join\n",
    "\n",
    "y = [\"John\", \"is\", \"a\", \"boy\"]\n",
    "\n",
    "\" \".join(y)"
   ]
  },
  {
   "cell_type": "code",
   "execution_count": 60,
   "metadata": {},
   "outputs": [
    {
     "data": {
      "text/plain": [
       "['J', 'hn is a b', 'y']"
      ]
     },
     "execution_count": 60,
     "metadata": {},
     "output_type": "execute_result"
    }
   ],
   "source": [
    "string1 = \" \".join(y)\n",
    "\n",
    "string1.split(\"o\")"
   ]
  },
  {
   "cell_type": "code",
   "execution_count": null,
   "metadata": {},
   "outputs": [],
   "source": []
  },
  {
   "cell_type": "markdown",
   "metadata": {},
   "source": [
    "**Upper**:\n",
    "\n",
    "The upper method simply converts all the letters in a string to uppercase.\n",
    "\n",
    "\n",
    "**Lower**:\n",
    "The lower method converts all the letters in a string to lowercase.\n",
    "\n",
    "\n",
    "**Capitalize**:\n",
    "This method converts the first letter alone to uppercase and changes all others to lowercase\n",
    "\n",
    "\n",
    "**Islower**:\n",
    "This method checks if a string is completely in lowercase\n",
    "\n",
    "\n",
    "**Isupper**:\n",
    "This checks if a string is completely in uppercase"
   ]
  },
  {
   "cell_type": "code",
   "execution_count": 65,
   "metadata": {},
   "outputs": [
    {
     "data": {
      "text/plain": [
       "'Iyiola'"
      ]
     },
     "execution_count": 65,
     "metadata": {},
     "output_type": "execute_result"
    }
   ],
   "source": [
    "#Upper, Lower, Capitalize\n",
    "\n",
    "x.upper()\n",
    "\n",
    "#x.lower()\n",
    "\n",
    "#x.capitalize()"
   ]
  },
  {
   "cell_type": "code",
   "execution_count": 73,
   "metadata": {},
   "outputs": [
    {
     "data": {
      "text/plain": [
       "False"
      ]
     },
     "execution_count": 73,
     "metadata": {},
     "output_type": "execute_result"
    }
   ],
   "source": [
    "#isupper, islower\n",
    "\n",
    "x.isupper()\n",
    "\n",
    "#x.islower()"
   ]
  },
  {
   "cell_type": "code",
   "execution_count": null,
   "metadata": {},
   "outputs": [],
   "source": []
  },
  {
   "cell_type": "markdown",
   "metadata": {},
   "source": [
    "**Isalpha**:\n",
    "Used to check if the expression inside a string is full of only letters of the alphabet\n",
    "\n",
    "**Isnumeric**:\n",
    "Used to check if the expression inside a string is full of only numbers. It does the same job as **Isdigit**. The difference between them is subtle enough to ignore for now.\n",
    "\n",
    "**Isalnum**:\n",
    "Used to check if the expression inside a string is full of letters and numbers at the same time."
   ]
  },
  {
   "cell_type": "code",
   "execution_count": 83,
   "metadata": {},
   "outputs": [
    {
     "data": {
      "text/plain": [
       "False"
      ]
     },
     "execution_count": 83,
     "metadata": {},
     "output_type": "execute_result"
    }
   ],
   "source": [
    "#isalpha,isnumeric,isalnum,isdigit\n",
    "\n",
    "x = \"45, 56\"\n",
    "\n",
    "#x.isalpha()\n",
    "\n",
    "x.isnumeric()\n",
    "\n",
    "#x.isalnum()\n",
    "\n",
    "#x.isdigit()"
   ]
  },
  {
   "cell_type": "code",
   "execution_count": null,
   "metadata": {},
   "outputs": [],
   "source": []
  },
  {
   "cell_type": "markdown",
   "metadata": {},
   "source": [
    "**Count**:\n",
    "\n",
    "This is used to count all the occurences of a particular character in a string"
   ]
  },
  {
   "cell_type": "code",
   "execution_count": 91,
   "metadata": {},
   "outputs": [
    {
     "data": {
      "text/plain": [
       "5"
      ]
     },
     "execution_count": 91,
     "metadata": {},
     "output_type": "execute_result"
    }
   ],
   "source": [
    "#count\n",
    "x = \"My name is ModupMe Iyiola Priscillia\"\n",
    "x.count(\" \")\n",
    "\n",
    "#x.count(\"m\")"
   ]
  },
  {
   "cell_type": "code",
   "execution_count": 112,
   "metadata": {},
   "outputs": [
    {
     "name": "stdout",
     "output_type": "stream",
     "text": [
      "The index is: 0\n",
      "The index is: 11\n",
      "The index is: 16\n"
     ]
    }
   ],
   "source": [
    "for index, letter in enumerate(x):\n",
    "    if letter == \"M\":\n",
    "        print(f\"The index is: {index}\")\n",
    "        "
   ]
  },
  {
   "cell_type": "code",
   "execution_count": null,
   "metadata": {},
   "outputs": [],
   "source": []
  },
  {
   "cell_type": "markdown",
   "metadata": {},
   "source": [
    "**Find**:\n",
    "\n",
    "This is used to return the index of a particular character within a string. It runs on a lazy algorithm that finds only the first instance of the character you are looking for without going further to see if the same character exists in the following portion of the string."
   ]
  },
  {
   "cell_type": "code",
   "execution_count": 93,
   "metadata": {},
   "outputs": [
    {
     "data": {
      "text/plain": [
       "16"
      ]
     },
     "execution_count": 93,
     "metadata": {},
     "output_type": "execute_result"
    }
   ],
   "source": [
    "#Find\n",
    "\n",
    "x.find(\"M\")\n",
    "\n",
    "x.rfind(\"M\")"
   ]
  },
  {
   "cell_type": "code",
   "execution_count": null,
   "metadata": {},
   "outputs": [],
   "source": []
  },
  {
   "cell_type": "markdown",
   "metadata": {},
   "source": [
    "**Startswith**:\n",
    "\n",
    "This is used to check if a string starts with a specified character or set of characters or not.\n",
    "\n",
    "\n",
    "\n",
    "**endswith**:\n",
    "\n",
    "This is used to check if a string ends with a speciifed character or set of characters or not."
   ]
  },
  {
   "cell_type": "code",
   "execution_count": 98,
   "metadata": {},
   "outputs": [
    {
     "data": {
      "text/plain": [
       "True"
      ]
     },
     "execution_count": 98,
     "metadata": {},
     "output_type": "execute_result"
    }
   ],
   "source": [
    "#startswith\n",
    "\n",
    "x.startswith(\"M\")"
   ]
  },
  {
   "cell_type": "code",
   "execution_count": null,
   "metadata": {},
   "outputs": [],
   "source": [
    "#endsiwth\n",
    "\n",
    "x.endswith(\"j\")"
   ]
  },
  {
   "cell_type": "code",
   "execution_count": null,
   "metadata": {},
   "outputs": [],
   "source": []
  },
  {
   "cell_type": "markdown",
   "metadata": {},
   "source": [
    "**Partition**:\n",
    "\n",
    "This is used to break a string down such that after finding the first occurrence of the separator, the string is split into 3 items in a list: The first set of string characters before the first instance of the separator, the separator itself, and the remaining part of the string"
   ]
  },
  {
   "cell_type": "code",
   "execution_count": 100,
   "metadata": {},
   "outputs": [
    {
     "data": {
      "text/plain": [
       "('My', ' ', 'name is ModupMe Iyiola Priscillia')"
      ]
     },
     "execution_count": 100,
     "metadata": {},
     "output_type": "execute_result"
    }
   ],
   "source": [
    "#partition by a character or word\n",
    "\n",
    "x.partition(\" \")"
   ]
  },
  {
   "cell_type": "code",
   "execution_count": null,
   "metadata": {},
   "outputs": [],
   "source": []
  },
  {
   "cell_type": "markdown",
   "metadata": {},
   "source": [
    "**F-strings**:\n",
    "\n",
    "These are strings that allow you to add another string to them as a variable."
   ]
  },
  {
   "cell_type": "code",
   "execution_count": 101,
   "metadata": {},
   "outputs": [
    {
     "data": {
      "text/plain": [
       "'My name is ModupMe Iyiola Priscillia and Tolu is my friend'"
      ]
     },
     "execution_count": 101,
     "metadata": {},
     "output_type": "execute_result"
    }
   ],
   "source": [
    "#F-strings\n",
    "\n",
    "f\"{x}\"\n",
    "\n",
    "y = \"Tolu\"\n",
    "\n",
    "f\"{x} and {y} is my friend\""
   ]
  },
  {
   "cell_type": "code",
   "execution_count": null,
   "metadata": {},
   "outputs": [],
   "source": []
  },
  {
   "cell_type": "markdown",
   "metadata": {},
   "source": [
    "**Swapcase**:\n",
    "\n",
    "This is a method that allows us to make the capitalized letters, become lowercase and at the same time, make lowercase letters become capitalized, which in effect, switches the cases of the letters, hence its name \"swapcase\". For example,\n",
    "\n",
    "\"JAre\" is swapped to become \"jaRE\""
   ]
  },
  {
   "cell_type": "code",
   "execution_count": 110,
   "metadata": {},
   "outputs": [
    {
     "data": {
      "text/plain": [
       "'mY NAME IS ModupMe Iyiola Priscillia'"
      ]
     },
     "execution_count": 110,
     "metadata": {},
     "output_type": "execute_result"
    }
   ],
   "source": [
    "#Swapcase\n",
    "\n",
    "x[0:10].swapcase() + x[10:]"
   ]
  },
  {
   "cell_type": "code",
   "execution_count": 107,
   "metadata": {},
   "outputs": [
    {
     "data": {
      "text/plain": [
       "85"
      ]
     },
     "execution_count": 107,
     "metadata": {},
     "output_type": "execute_result"
    }
   ],
   "source": [
    "50 + 35"
   ]
  },
  {
   "cell_type": "code",
   "execution_count": null,
   "metadata": {},
   "outputs": [],
   "source": []
  },
  {
   "cell_type": "markdown",
   "metadata": {},
   "source": [
    "**Len**:\n",
    "\n",
    "The Len method is used to calculate the length of a string. This counts all the instances of letters, spaces, and any other character within the quotation marks representing the string.\n",
    "    "
   ]
  },
  {
   "cell_type": "code",
   "execution_count": 111,
   "metadata": {},
   "outputs": [
    {
     "data": {
      "text/plain": [
       "36"
      ]
     },
     "execution_count": 111,
     "metadata": {},
     "output_type": "execute_result"
    }
   ],
   "source": [
    "#len\n",
    "\n",
    "len(x)"
   ]
  },
  {
   "cell_type": "code",
   "execution_count": 113,
   "metadata": {},
   "outputs": [
    {
     "data": {
      "text/plain": [
       "12"
      ]
     },
     "execution_count": 113,
     "metadata": {},
     "output_type": "execute_result"
    }
   ],
   "source": [
    "len(\"Ben is a boy\")"
   ]
  },
  {
   "cell_type": "code",
   "execution_count": null,
   "metadata": {},
   "outputs": [],
   "source": []
  },
  {
   "cell_type": "markdown",
   "metadata": {},
   "source": [
    "**STRING CONCATENATION**:\n",
    "\n",
    "This is the process of adding two pieces of string together to get a larger string. For example \"40\" + \"20\" will not give us \"60\", but rather, it will give us \"4020\" because these are numbers which are strings. Python strings can only perform string concatenation when the \"+\" sign is used."
   ]
  },
  {
   "cell_type": "code",
   "execution_count": null,
   "metadata": {},
   "outputs": [],
   "source": [
    "first_name = \"Olujare\"\n",
    "\n",
    "last_name = \"Dada\"\n",
    "\n",
    "\n",
    "first_name + \" \" + last_name"
   ]
  },
  {
   "cell_type": "code",
   "execution_count": null,
   "metadata": {},
   "outputs": [],
   "source": []
  },
  {
   "cell_type": "markdown",
   "metadata": {},
   "source": [
    "**Using String manipulation and the already discussed techniques in Pandas**"
   ]
  },
  {
   "cell_type": "markdown",
   "metadata": {},
   "source": [
    "So far, you might be wondering why we are learning some of these string manipulation techniques among the other things discussed earlier.\n",
    "\n",
    "On their own, these concepts are not very useful and this is why using them to solve certain examples that come up in reality is a good way to understand their usefulness.\n",
    "\n",
    "Pandas is an open source Python package that is most widely used for data science/data analysis and machine learning tasks. It helps us to visualize the datasets we have in tabular form. It also provides a number of data mining, manipulation, and cleaning functionalities which will be useful for us in our journey.\n",
    "\n",
    "Some of these are discussed below, as they concern a number of topics already covered."
   ]
  },
  {
   "cell_type": "code",
   "execution_count": null,
   "metadata": {},
   "outputs": [],
   "source": []
  },
  {
   "cell_type": "markdown",
   "metadata": {},
   "source": [
    "The next line of code is not compulsory to know just yet, but it is well-described for all who are interested.\n",
    "\n",
    "This code bit is for initializing pandas and then telling pandas to read our dataset file."
   ]
  },
  {
   "cell_type": "code",
   "execution_count": 17,
   "metadata": {},
   "outputs": [
    {
     "data": {
      "text/html": [
       "<div>\n",
       "<style scoped>\n",
       "    .dataframe tbody tr th:only-of-type {\n",
       "        vertical-align: middle;\n",
       "    }\n",
       "\n",
       "    .dataframe tbody tr th {\n",
       "        vertical-align: top;\n",
       "    }\n",
       "\n",
       "    .dataframe thead th {\n",
       "        text-align: right;\n",
       "    }\n",
       "</style>\n",
       "<table border=\"1\" class=\"dataframe\">\n",
       "  <thead>\n",
       "    <tr style=\"text-align: right;\">\n",
       "      <th></th>\n",
       "      <th>Firstname</th>\n",
       "      <th>Lastname</th>\n",
       "      <th>age</th>\n",
       "      <th>sales</th>\n",
       "      <th>cost</th>\n",
       "    </tr>\n",
       "  </thead>\n",
       "  <tbody>\n",
       "    <tr>\n",
       "      <th>0</th>\n",
       "      <td>Olanrewaju</td>\n",
       "      <td>Kazeem</td>\n",
       "      <td>[24]</td>\n",
       "      <td>15000</td>\n",
       "      <td>11000</td>\n",
       "    </tr>\n",
       "    <tr>\n",
       "      <th>1</th>\n",
       "      <td>Chibuzo</td>\n",
       "      <td>Ekenne</td>\n",
       "      <td>[30]</td>\n",
       "      <td>25800</td>\n",
       "      <td>15200</td>\n",
       "    </tr>\n",
       "    <tr>\n",
       "      <th>2</th>\n",
       "      <td>Onyinyechi</td>\n",
       "      <td>Amos</td>\n",
       "      <td>[22]</td>\n",
       "      <td>45000</td>\n",
       "      <td>28000</td>\n",
       "    </tr>\n",
       "    <tr>\n",
       "      <th>3</th>\n",
       "      <td>Orlando</td>\n",
       "      <td>Bloom</td>\n",
       "      <td>[25]</td>\n",
       "      <td>28000</td>\n",
       "      <td>22000</td>\n",
       "    </tr>\n",
       "    <tr>\n",
       "      <th>4</th>\n",
       "      <td>Alex</td>\n",
       "      <td>Iwobi</td>\n",
       "      <td>[34]</td>\n",
       "      <td>36500</td>\n",
       "      <td>18850</td>\n",
       "    </tr>\n",
       "  </tbody>\n",
       "</table>\n",
       "</div>"
      ],
      "text/plain": [
       "    Firstname Lastname   age  sales   cost\n",
       "0  Olanrewaju   Kazeem  [24]  15000  11000\n",
       "1     Chibuzo   Ekenne  [30]  25800  15200\n",
       "2  Onyinyechi     Amos  [22]  45000  28000\n",
       "3     Orlando    Bloom  [25]  28000  22000\n",
       "4        Alex    Iwobi  [34]  36500  18850"
      ]
     },
     "execution_count": 17,
     "metadata": {},
     "output_type": "execute_result"
    }
   ],
   "source": [
    "#This line initializes pandas and all its functionalities. This is how many packages for data science and python in general\n",
    "#are initialized.\n",
    "\n",
    "#Normally, using only \"import pandas\" would be good enough but we use \"as pd\" to create an alias for pandas within our code.\n",
    "#This is so as to help us refer to pandas in our code by just typing \"pd\" instead of typing the full name \"pandas\"\n",
    "import pandas as pd\n",
    "\n",
    "\n",
    "\n",
    "#Here, we use the alias of pandas, \"pd\", to read our .csv file which contains the data we want to analyze. This is the standard\n",
    "#method for importing .csv data into pandas. We shall look into other data formats and other slightly more complicated data\n",
    "#imports in later classes.\n",
    "data = pd.read_csv(\"working_with_tables.csv\")\n",
    "\n",
    "\n",
    "#data.head() is simply tellling pandas that we want to view the first 5 rows of the data\n",
    "\n",
    "data.head()"
   ]
  },
  {
   "cell_type": "markdown",
   "metadata": {},
   "source": [
    "Pandas has displayed the table for us. The table contains 5 rows: row 0, row 1, row 2,..., row 4. The table contains 5 columns:\n",
    "\"Firstname\", \"Lastname\", \"age\", \"sales\", \"cost\". **It is important to note that rows are the horizontal fields while columns are the vertical fields in the dataset, always**\n",
    "\n",
    "From the above table, straightaway, we can see that the ages are in square brackets which are not the best for analysis. Also, we can also see that the first and last names of each person are separated. Sometimes, it might make sense to join them together. Lastly, we might also want to calculate the revenue generated by each sales representative by subtracting the cost from the amount of sales made.\n",
    "\n",
    "\n",
    "For these 3 things outlined above, we already have enough information to solve them with relative ease. We shall go through each problem sequentially with simple steps to follow.\n",
    "\n",
    "But first, we must discuss how to access each column."
   ]
  },
  {
   "cell_type": "code",
   "execution_count": 19,
   "metadata": {},
   "outputs": [
    {
     "data": {
      "text/html": [
       "<div>\n",
       "<style scoped>\n",
       "    .dataframe tbody tr th:only-of-type {\n",
       "        vertical-align: middle;\n",
       "    }\n",
       "\n",
       "    .dataframe tbody tr th {\n",
       "        vertical-align: top;\n",
       "    }\n",
       "\n",
       "    .dataframe thead th {\n",
       "        text-align: right;\n",
       "    }\n",
       "</style>\n",
       "<table border=\"1\" class=\"dataframe\">\n",
       "  <thead>\n",
       "    <tr style=\"text-align: right;\">\n",
       "      <th></th>\n",
       "      <th>Firstname</th>\n",
       "      <th>Lastname</th>\n",
       "      <th>age</th>\n",
       "      <th>sales</th>\n",
       "      <th>cost</th>\n",
       "    </tr>\n",
       "  </thead>\n",
       "  <tbody>\n",
       "    <tr>\n",
       "      <th>0</th>\n",
       "      <td>Olanrewaju</td>\n",
       "      <td>Kazeem</td>\n",
       "      <td>[24]</td>\n",
       "      <td>15000</td>\n",
       "      <td>11000</td>\n",
       "    </tr>\n",
       "    <tr>\n",
       "      <th>1</th>\n",
       "      <td>Chibuzo</td>\n",
       "      <td>Ekenne</td>\n",
       "      <td>[30]</td>\n",
       "      <td>25800</td>\n",
       "      <td>15200</td>\n",
       "    </tr>\n",
       "    <tr>\n",
       "      <th>2</th>\n",
       "      <td>Onyinyechi</td>\n",
       "      <td>Amos</td>\n",
       "      <td>[22]</td>\n",
       "      <td>45000</td>\n",
       "      <td>28000</td>\n",
       "    </tr>\n",
       "    <tr>\n",
       "      <th>3</th>\n",
       "      <td>Orlando</td>\n",
       "      <td>Bloom</td>\n",
       "      <td>[25]</td>\n",
       "      <td>28000</td>\n",
       "      <td>22000</td>\n",
       "    </tr>\n",
       "    <tr>\n",
       "      <th>4</th>\n",
       "      <td>Alex</td>\n",
       "      <td>Iwobi</td>\n",
       "      <td>[34]</td>\n",
       "      <td>36500</td>\n",
       "      <td>18850</td>\n",
       "    </tr>\n",
       "    <tr>\n",
       "      <th>5</th>\n",
       "      <td>Kachi</td>\n",
       "      <td>Felix</td>\n",
       "      <td>[50]</td>\n",
       "      <td>44235</td>\n",
       "      <td>33218</td>\n",
       "    </tr>\n",
       "    <tr>\n",
       "      <th>6</th>\n",
       "      <td>Olujare</td>\n",
       "      <td>Dada</td>\n",
       "      <td>[28]</td>\n",
       "      <td>27500</td>\n",
       "      <td>25800</td>\n",
       "    </tr>\n",
       "    <tr>\n",
       "      <th>7</th>\n",
       "      <td>Tomiwa</td>\n",
       "      <td>Sogaolu</td>\n",
       "      <td>[42]</td>\n",
       "      <td>50509</td>\n",
       "      <td>34850</td>\n",
       "    </tr>\n",
       "    <tr>\n",
       "      <th>8</th>\n",
       "      <td>Timilehin</td>\n",
       "      <td>Kupolokun</td>\n",
       "      <td>[49]</td>\n",
       "      <td>88390</td>\n",
       "      <td>76001</td>\n",
       "    </tr>\n",
       "    <tr>\n",
       "      <th>9</th>\n",
       "      <td>Nnena</td>\n",
       "      <td>Dickson</td>\n",
       "      <td>[39]</td>\n",
       "      <td>122200</td>\n",
       "      <td>85900</td>\n",
       "    </tr>\n",
       "  </tbody>\n",
       "</table>\n",
       "</div>"
      ],
      "text/plain": [
       "    Firstname   Lastname   age   sales   cost\n",
       "0  Olanrewaju     Kazeem  [24]   15000  11000\n",
       "1     Chibuzo     Ekenne  [30]   25800  15200\n",
       "2  Onyinyechi       Amos  [22]   45000  28000\n",
       "3     Orlando      Bloom  [25]   28000  22000\n",
       "4        Alex      Iwobi  [34]   36500  18850\n",
       "5       Kachi      Felix  [50]   44235  33218\n",
       "6     Olujare       Dada  [28]   27500  25800\n",
       "7      Tomiwa    Sogaolu  [42]   50509  34850\n",
       "8   Timilehin  Kupolokun  [49]   88390  76001\n",
       "9       Nnena    Dickson  [39]  122200  85900"
      ]
     },
     "execution_count": 19,
     "metadata": {},
     "output_type": "execute_result"
    }
   ],
   "source": [
    "data[\"Firstname\"] #This displays all the values in the \"Firstname\" column\n",
    "\n",
    "data[\"Lastname\"] #This displays all the values in the \"Lastname\" column\n",
    "\n",
    "data[\"age\"] #This displays all the values in the \"age\" column"
   ]
  },
  {
   "cell_type": "markdown",
   "metadata": {},
   "source": [
    "While there are more ways to access columns and even rows from the dataset, the above examples suffice for now."
   ]
  },
  {
   "cell_type": "code",
   "execution_count": 36,
   "metadata": {},
   "outputs": [
    {
     "data": {
      "text/plain": [
       "0    nr\n",
       "1    bu\n",
       "2    in\n",
       "3    an\n",
       "4     x\n",
       "5    hi\n",
       "6    ja\n",
       "7    iw\n",
       "8    il\n",
       "9    na\n",
       "Name: Firstname, dtype: object"
      ]
     },
     "execution_count": 36,
     "metadata": {},
     "output_type": "execute_result"
    }
   ],
   "source": [
    "data[\"Firstname\"].str[3:5]"
   ]
  },
  {
   "cell_type": "code",
   "execution_count": null,
   "metadata": {},
   "outputs": [],
   "source": []
  },
  {
   "cell_type": "code",
   "execution_count": null,
   "metadata": {},
   "outputs": [],
   "source": []
  },
  {
   "cell_type": "markdown",
   "metadata": {},
   "source": [
    "### Sorting out the Names\n",
    "\n",
    "\n",
    "Remember string concatenation? Well, that is what we shall use to join the first and last names together. The only difference is that instead of creating our own variables like x = \"Aiex\" and y = \"Iwobi\" and then saying x + \" \" + y = \"Alex Iwobi\", rather, we use the table column names as our variables.\n",
    "\n",
    "Using the table column names ensures that the entire change is made throughout the entire table. An example of this is displayed below:"
   ]
  },
  {
   "cell_type": "code",
   "execution_count": 20,
   "metadata": {},
   "outputs": [
    {
     "data": {
      "text/plain": [
       "0      Olanrewaju Kazeem\n",
       "1         Chibuzo Ekenne\n",
       "2        Onyinyechi Amos\n",
       "3          Orlando Bloom\n",
       "4             Alex Iwobi\n",
       "5            Kachi Felix\n",
       "6           Olujare Dada\n",
       "7         Tomiwa Sogaolu\n",
       "8    Timilehin Kupolokun\n",
       "9          Nnena Dickson\n",
       "dtype: object"
      ]
     },
     "execution_count": 20,
     "metadata": {},
     "output_type": "execute_result"
    }
   ],
   "source": [
    "\n",
    "data[\"Firstname\"] +\" \"+ data[\"Lastname\"]"
   ]
  },
  {
   "cell_type": "markdown",
   "metadata": {},
   "source": [
    "This has produced a similar result to our string concatenation discussed earlier. However, it is important to note that:\n",
    "**Pandas has not made this change permanent yet. We can easily spot when pandas has not made a data manipulation step permanent because it returns the tabular result of whatever manipulation we are after. If we want the change to be permanent, we should equate the data manipulation step to a new column name**\n",
    "\n",
    "This step is carried out below. But we will check if the string concatenation we performed had any impact on our table."
   ]
  },
  {
   "cell_type": "code",
   "execution_count": 31,
   "metadata": {},
   "outputs": [
    {
     "data": {
      "text/html": [
       "<div>\n",
       "<style scoped>\n",
       "    .dataframe tbody tr th:only-of-type {\n",
       "        vertical-align: middle;\n",
       "    }\n",
       "\n",
       "    .dataframe tbody tr th {\n",
       "        vertical-align: top;\n",
       "    }\n",
       "\n",
       "    .dataframe thead th {\n",
       "        text-align: right;\n",
       "    }\n",
       "</style>\n",
       "<table border=\"1\" class=\"dataframe\">\n",
       "  <thead>\n",
       "    <tr style=\"text-align: right;\">\n",
       "      <th></th>\n",
       "      <th>Firstname</th>\n",
       "      <th>Lastname</th>\n",
       "      <th>age</th>\n",
       "      <th>sales</th>\n",
       "      <th>cost</th>\n",
       "      <th>Fullname</th>\n",
       "    </tr>\n",
       "  </thead>\n",
       "  <tbody>\n",
       "    <tr>\n",
       "      <th>0</th>\n",
       "      <td>Olanrewaju</td>\n",
       "      <td>Kazeem</td>\n",
       "      <td>24</td>\n",
       "      <td>15000</td>\n",
       "      <td>11000</td>\n",
       "      <td>Olanrewaju Kazeem</td>\n",
       "    </tr>\n",
       "    <tr>\n",
       "      <th>1</th>\n",
       "      <td>Chibuzo</td>\n",
       "      <td>Ekenne</td>\n",
       "      <td>30</td>\n",
       "      <td>25800</td>\n",
       "      <td>15200</td>\n",
       "      <td>Chibuzo Ekenne</td>\n",
       "    </tr>\n",
       "    <tr>\n",
       "      <th>2</th>\n",
       "      <td>Onyinyechi</td>\n",
       "      <td>Amos</td>\n",
       "      <td>22</td>\n",
       "      <td>45000</td>\n",
       "      <td>28000</td>\n",
       "      <td>Onyinyechi Amos</td>\n",
       "    </tr>\n",
       "    <tr>\n",
       "      <th>3</th>\n",
       "      <td>Orlando</td>\n",
       "      <td>Bloom</td>\n",
       "      <td>25</td>\n",
       "      <td>28000</td>\n",
       "      <td>22000</td>\n",
       "      <td>Orlando Bloom</td>\n",
       "    </tr>\n",
       "    <tr>\n",
       "      <th>4</th>\n",
       "      <td>Alex</td>\n",
       "      <td>Iwobi</td>\n",
       "      <td>34</td>\n",
       "      <td>36500</td>\n",
       "      <td>18850</td>\n",
       "      <td>Alex Iwobi</td>\n",
       "    </tr>\n",
       "  </tbody>\n",
       "</table>\n",
       "</div>"
      ],
      "text/plain": [
       "    Firstname Lastname age  sales   cost           Fullname\n",
       "0  Olanrewaju   Kazeem  24  15000  11000  Olanrewaju Kazeem\n",
       "1     Chibuzo   Ekenne  30  25800  15200     Chibuzo Ekenne\n",
       "2  Onyinyechi     Amos  22  45000  28000    Onyinyechi Amos\n",
       "3     Orlando    Bloom  25  28000  22000      Orlando Bloom\n",
       "4        Alex    Iwobi  34  36500  18850         Alex Iwobi"
      ]
     },
     "execution_count": 31,
     "metadata": {},
     "output_type": "execute_result"
    }
   ],
   "source": [
    "data.head()"
   ]
  },
  {
   "cell_type": "markdown",
   "metadata": {},
   "source": [
    "Clearly, the data manipulation step did not work. As a result, we need to assign the result of the data manipulation to another column name. This is done below:"
   ]
  },
  {
   "cell_type": "code",
   "execution_count": 24,
   "metadata": {},
   "outputs": [],
   "source": [
    "data[\"Fullname\"] = data[\"Firstname\"] +\" \"+ data[\"Lastname\"]"
   ]
  },
  {
   "cell_type": "code",
   "execution_count": 22,
   "metadata": {},
   "outputs": [
    {
     "data": {
      "text/html": [
       "<div>\n",
       "<style scoped>\n",
       "    .dataframe tbody tr th:only-of-type {\n",
       "        vertical-align: middle;\n",
       "    }\n",
       "\n",
       "    .dataframe tbody tr th {\n",
       "        vertical-align: top;\n",
       "    }\n",
       "\n",
       "    .dataframe thead th {\n",
       "        text-align: right;\n",
       "    }\n",
       "</style>\n",
       "<table border=\"1\" class=\"dataframe\">\n",
       "  <thead>\n",
       "    <tr style=\"text-align: right;\">\n",
       "      <th></th>\n",
       "      <th>Firstname</th>\n",
       "      <th>Lastname</th>\n",
       "      <th>age</th>\n",
       "      <th>sales</th>\n",
       "      <th>cost</th>\n",
       "      <th>Fullname</th>\n",
       "    </tr>\n",
       "  </thead>\n",
       "  <tbody>\n",
       "    <tr>\n",
       "      <th>0</th>\n",
       "      <td>Olanrewaju</td>\n",
       "      <td>Kazeem</td>\n",
       "      <td>[24]</td>\n",
       "      <td>15000</td>\n",
       "      <td>11000</td>\n",
       "      <td>Olanrewaju Kazeem</td>\n",
       "    </tr>\n",
       "    <tr>\n",
       "      <th>1</th>\n",
       "      <td>Chibuzo</td>\n",
       "      <td>Ekenne</td>\n",
       "      <td>[30]</td>\n",
       "      <td>25800</td>\n",
       "      <td>15200</td>\n",
       "      <td>Chibuzo Ekenne</td>\n",
       "    </tr>\n",
       "    <tr>\n",
       "      <th>2</th>\n",
       "      <td>Onyinyechi</td>\n",
       "      <td>Amos</td>\n",
       "      <td>[22]</td>\n",
       "      <td>45000</td>\n",
       "      <td>28000</td>\n",
       "      <td>Onyinyechi Amos</td>\n",
       "    </tr>\n",
       "    <tr>\n",
       "      <th>3</th>\n",
       "      <td>Orlando</td>\n",
       "      <td>Bloom</td>\n",
       "      <td>[25]</td>\n",
       "      <td>28000</td>\n",
       "      <td>22000</td>\n",
       "      <td>Orlando Bloom</td>\n",
       "    </tr>\n",
       "    <tr>\n",
       "      <th>4</th>\n",
       "      <td>Alex</td>\n",
       "      <td>Iwobi</td>\n",
       "      <td>[34]</td>\n",
       "      <td>36500</td>\n",
       "      <td>18850</td>\n",
       "      <td>Alex Iwobi</td>\n",
       "    </tr>\n",
       "  </tbody>\n",
       "</table>\n",
       "</div>"
      ],
      "text/plain": [
       "    Firstname Lastname   age  sales   cost           Fullname\n",
       "0  Olanrewaju   Kazeem  [24]  15000  11000  Olanrewaju Kazeem\n",
       "1     Chibuzo   Ekenne  [30]  25800  15200     Chibuzo Ekenne\n",
       "2  Onyinyechi     Amos  [22]  45000  28000    Onyinyechi Amos\n",
       "3     Orlando    Bloom  [25]  28000  22000      Orlando Bloom\n",
       "4        Alex    Iwobi  [34]  36500  18850         Alex Iwobi"
      ]
     },
     "execution_count": 22,
     "metadata": {},
     "output_type": "execute_result"
    }
   ],
   "source": [
    "data.head()"
   ]
  },
  {
   "cell_type": "code",
   "execution_count": null,
   "metadata": {},
   "outputs": [],
   "source": []
  },
  {
   "cell_type": "markdown",
   "metadata": {},
   "source": [
    "### Sorting out Ages\n",
    "\n",
    "\n",
    "We can see that the ages of the sales representatives are in square brackets. We can use the .strip method discussed in string methods above. We just need to signify what character we are stripping away from the values in ages column. In this case, we want to get rid of the square brackets. This is done below:"
   ]
  },
  {
   "cell_type": "code",
   "execution_count": 27,
   "metadata": {},
   "outputs": [
    {
     "data": {
      "text/plain": [
       "0    24]\n",
       "1    30]\n",
       "2    22]\n",
       "3    25]\n",
       "4    34]\n",
       "5    50]\n",
       "6    28]\n",
       "7    42]\n",
       "8    49]\n",
       "9    39]\n",
       "Name: age, dtype: object"
      ]
     },
     "execution_count": 27,
     "metadata": {},
     "output_type": "execute_result"
    }
   ],
   "source": [
    "data[\"age\"].str.strip(\"[\")"
   ]
  },
  {
   "cell_type": "code",
   "execution_count": 28,
   "metadata": {},
   "outputs": [
    {
     "data": {
      "text/plain": [
       "0    [24\n",
       "1    [30\n",
       "2    [22\n",
       "3    [25\n",
       "4    [34\n",
       "5    [50\n",
       "6    [28\n",
       "7    [42\n",
       "8    [49\n",
       "9    [39\n",
       "Name: age, dtype: object"
      ]
     },
     "execution_count": 28,
     "metadata": {},
     "output_type": "execute_result"
    }
   ],
   "source": [
    "data[\"age\"].str.strip(\"]\")"
   ]
  },
  {
   "cell_type": "markdown",
   "metadata": {},
   "source": [
    "Notice that there is a method \"str\" being used before we apply the standard python string method, strip. This \".str\" is used to access each value in the column we are interested in as individual strings that python can work on. Put differently, because we use \".str\", we are able to apply standard python string methods on each string within a column. Without it, no python string method can work on a pandas table. So \"str\" helps us to access the strings in the tables, which then helps us to use the standard python string methods discussed above.\n",
    "\n",
    "Now, all that is left to do is to assign the result to the table column name to make the changes parmanent."
   ]
  },
  {
   "cell_type": "code",
   "execution_count": 30,
   "metadata": {},
   "outputs": [
    {
     "data": {
      "text/html": [
       "<div>\n",
       "<style scoped>\n",
       "    .dataframe tbody tr th:only-of-type {\n",
       "        vertical-align: middle;\n",
       "    }\n",
       "\n",
       "    .dataframe tbody tr th {\n",
       "        vertical-align: top;\n",
       "    }\n",
       "\n",
       "    .dataframe thead th {\n",
       "        text-align: right;\n",
       "    }\n",
       "</style>\n",
       "<table border=\"1\" class=\"dataframe\">\n",
       "  <thead>\n",
       "    <tr style=\"text-align: right;\">\n",
       "      <th></th>\n",
       "      <th>Firstname</th>\n",
       "      <th>Lastname</th>\n",
       "      <th>age</th>\n",
       "      <th>sales</th>\n",
       "      <th>cost</th>\n",
       "      <th>Fullname</th>\n",
       "    </tr>\n",
       "  </thead>\n",
       "  <tbody>\n",
       "    <tr>\n",
       "      <th>0</th>\n",
       "      <td>Olanrewaju</td>\n",
       "      <td>Kazeem</td>\n",
       "      <td>24</td>\n",
       "      <td>15000</td>\n",
       "      <td>11000</td>\n",
       "      <td>Olanrewaju Kazeem</td>\n",
       "    </tr>\n",
       "    <tr>\n",
       "      <th>1</th>\n",
       "      <td>Chibuzo</td>\n",
       "      <td>Ekenne</td>\n",
       "      <td>30</td>\n",
       "      <td>25800</td>\n",
       "      <td>15200</td>\n",
       "      <td>Chibuzo Ekenne</td>\n",
       "    </tr>\n",
       "    <tr>\n",
       "      <th>2</th>\n",
       "      <td>Onyinyechi</td>\n",
       "      <td>Amos</td>\n",
       "      <td>22</td>\n",
       "      <td>45000</td>\n",
       "      <td>28000</td>\n",
       "      <td>Onyinyechi Amos</td>\n",
       "    </tr>\n",
       "    <tr>\n",
       "      <th>3</th>\n",
       "      <td>Orlando</td>\n",
       "      <td>Bloom</td>\n",
       "      <td>25</td>\n",
       "      <td>28000</td>\n",
       "      <td>22000</td>\n",
       "      <td>Orlando Bloom</td>\n",
       "    </tr>\n",
       "    <tr>\n",
       "      <th>4</th>\n",
       "      <td>Alex</td>\n",
       "      <td>Iwobi</td>\n",
       "      <td>34</td>\n",
       "      <td>36500</td>\n",
       "      <td>18850</td>\n",
       "      <td>Alex Iwobi</td>\n",
       "    </tr>\n",
       "  </tbody>\n",
       "</table>\n",
       "</div>"
      ],
      "text/plain": [
       "    Firstname Lastname age  sales   cost           Fullname\n",
       "0  Olanrewaju   Kazeem  24  15000  11000  Olanrewaju Kazeem\n",
       "1     Chibuzo   Ekenne  30  25800  15200     Chibuzo Ekenne\n",
       "2  Onyinyechi     Amos  22  45000  28000    Onyinyechi Amos\n",
       "3     Orlando    Bloom  25  28000  22000      Orlando Bloom\n",
       "4        Alex    Iwobi  34  36500  18850         Alex Iwobi"
      ]
     },
     "execution_count": 30,
     "metadata": {},
     "output_type": "execute_result"
    }
   ],
   "source": [
    "data[\"age\"] = data[\"age\"].str.strip(\"[\")\n",
    "\n",
    "data[\"age\"] = data[\"age\"].str.strip(\"]\")\n",
    "\n",
    "data.head()"
   ]
  },
  {
   "cell_type": "markdown",
   "metadata": {},
   "source": [
    "***NOTE: IT IS ONLY WHEN YOU NEED TO USE STRING METHODS THAT YOU NEED \"str\". OTHER CALCULATIONS JUST REQUIRE WORKING WITH THE COLUMN NAMES ALONE***"
   ]
  },
  {
   "cell_type": "code",
   "execution_count": null,
   "metadata": {},
   "outputs": [],
   "source": []
  },
  {
   "cell_type": "markdown",
   "metadata": {},
   "source": [
    "### Creating the Revenue column\n",
    "\n",
    "\n",
    "Here, we again use one of the concepts we have learned earlier. This time, we are subtracting real numbers, not strings.\n",
    "\n",
    "Therefore, just as we did with the string columns, we do not need to create new variables for this operation, we only need to use the name of the columns in the table."
   ]
  },
  {
   "cell_type": "code",
   "execution_count": 32,
   "metadata": {},
   "outputs": [
    {
     "data": {
      "text/plain": [
       "0     4000\n",
       "1    10600\n",
       "2    17000\n",
       "3     6000\n",
       "4    17650\n",
       "5    11017\n",
       "6     1700\n",
       "7    15659\n",
       "8    12389\n",
       "9    36300\n",
       "dtype: int64"
      ]
     },
     "execution_count": 32,
     "metadata": {},
     "output_type": "execute_result"
    }
   ],
   "source": [
    "data[\"sales\"] - data[\"cost\"]"
   ]
  },
  {
   "cell_type": "code",
   "execution_count": 33,
   "metadata": {},
   "outputs": [
    {
     "data": {
      "text/html": [
       "<div>\n",
       "<style scoped>\n",
       "    .dataframe tbody tr th:only-of-type {\n",
       "        vertical-align: middle;\n",
       "    }\n",
       "\n",
       "    .dataframe tbody tr th {\n",
       "        vertical-align: top;\n",
       "    }\n",
       "\n",
       "    .dataframe thead th {\n",
       "        text-align: right;\n",
       "    }\n",
       "</style>\n",
       "<table border=\"1\" class=\"dataframe\">\n",
       "  <thead>\n",
       "    <tr style=\"text-align: right;\">\n",
       "      <th></th>\n",
       "      <th>Firstname</th>\n",
       "      <th>Lastname</th>\n",
       "      <th>age</th>\n",
       "      <th>sales</th>\n",
       "      <th>cost</th>\n",
       "      <th>Fullname</th>\n",
       "      <th>Revenue</th>\n",
       "    </tr>\n",
       "  </thead>\n",
       "  <tbody>\n",
       "    <tr>\n",
       "      <th>0</th>\n",
       "      <td>Olanrewaju</td>\n",
       "      <td>Kazeem</td>\n",
       "      <td>24</td>\n",
       "      <td>15000</td>\n",
       "      <td>11000</td>\n",
       "      <td>Olanrewaju Kazeem</td>\n",
       "      <td>4000</td>\n",
       "    </tr>\n",
       "    <tr>\n",
       "      <th>1</th>\n",
       "      <td>Chibuzo</td>\n",
       "      <td>Ekenne</td>\n",
       "      <td>30</td>\n",
       "      <td>25800</td>\n",
       "      <td>15200</td>\n",
       "      <td>Chibuzo Ekenne</td>\n",
       "      <td>10600</td>\n",
       "    </tr>\n",
       "    <tr>\n",
       "      <th>2</th>\n",
       "      <td>Onyinyechi</td>\n",
       "      <td>Amos</td>\n",
       "      <td>22</td>\n",
       "      <td>45000</td>\n",
       "      <td>28000</td>\n",
       "      <td>Onyinyechi Amos</td>\n",
       "      <td>17000</td>\n",
       "    </tr>\n",
       "    <tr>\n",
       "      <th>3</th>\n",
       "      <td>Orlando</td>\n",
       "      <td>Bloom</td>\n",
       "      <td>25</td>\n",
       "      <td>28000</td>\n",
       "      <td>22000</td>\n",
       "      <td>Orlando Bloom</td>\n",
       "      <td>6000</td>\n",
       "    </tr>\n",
       "    <tr>\n",
       "      <th>4</th>\n",
       "      <td>Alex</td>\n",
       "      <td>Iwobi</td>\n",
       "      <td>34</td>\n",
       "      <td>36500</td>\n",
       "      <td>18850</td>\n",
       "      <td>Alex Iwobi</td>\n",
       "      <td>17650</td>\n",
       "    </tr>\n",
       "  </tbody>\n",
       "</table>\n",
       "</div>"
      ],
      "text/plain": [
       "    Firstname Lastname age  sales   cost           Fullname  Revenue\n",
       "0  Olanrewaju   Kazeem  24  15000  11000  Olanrewaju Kazeem     4000\n",
       "1     Chibuzo   Ekenne  30  25800  15200     Chibuzo Ekenne    10600\n",
       "2  Onyinyechi     Amos  22  45000  28000    Onyinyechi Amos    17000\n",
       "3     Orlando    Bloom  25  28000  22000      Orlando Bloom     6000\n",
       "4        Alex    Iwobi  34  36500  18850         Alex Iwobi    17650"
      ]
     },
     "execution_count": 33,
     "metadata": {},
     "output_type": "execute_result"
    }
   ],
   "source": [
    "data[\"Revenue\"] = data[\"sales\"] - data[\"cost\"]\n",
    "\n",
    "data.head()"
   ]
  },
  {
   "cell_type": "markdown",
   "metadata": {},
   "source": [
    "We have subtracted the Cost column from the Sales column and it has given us the Revenue column. However, we can also perform other simple arithmetic tasks such as addition, multiplication and division."
   ]
  },
  {
   "cell_type": "code",
   "execution_count": null,
   "metadata": {},
   "outputs": [],
   "source": []
  },
  {
   "cell_type": "markdown",
   "metadata": {},
   "source": [
    "### Homework\n",
    "\n",
    "Use the working_with_tables_homework.csv file to answer the following questions.\n",
    "\n",
    "- Write a program to calculate the length of the string\n",
    "\n",
    "- Write a program to get a string made of the first 2 and last 2 characters\n",
    "from a given string.\n",
    "\n",
    "- Write a program to get a string made of the first 2, a middle letter,\n",
    "and last 2 characters from a given string.\n",
    "\n",
    "- Write a python program to add \"ing\" at the end of a given string.\n",
    "\n",
    "- Write a python program to remove the nth index character from a string.\n",
    "\n",
    "\n",
    "- Create a new column that generates the initials of the sales representatives. The initials must be in the form:\n",
    "\n",
    "> The first letter of their first name + . + The first letter of their last name. For example:\n",
    "> Olanrewaju Kazeem would be: O.K\n",
    "\n",
    "\n",
    "- If the commision that each sales representative is entitled to is 15% of the revenue generated, create a new column that generates this commission column.\n",
    "\n",
    "\n",
    "- Suppose we are interested in knowing the character length of each peron's fullname for the new app the company is creating, create a new column containing the character length for each sales representative.\n",
    "\n",
    "\n",
    "- In the new app to be created, the first 4 characters of the employee's full name is to be used as user name along with the first 4 characters of the employee's last name. These two pairs of 4 characters must be separated by an underscore. For example,\n",
    "\n",
    "> Olanrewaju Kazeem will have a username of: Olan_Kaze\n",
    "> - Create a new column that contains this new username."
   ]
  },
  {
   "cell_type": "code",
   "execution_count": null,
   "metadata": {},
   "outputs": [],
   "source": []
  },
  {
   "cell_type": "markdown",
   "metadata": {},
   "source": [
    "### Built-in Data Structures\n",
    "\n",
    "\n",
    "These are simply objects in python that help us store and manipulate data.\n",
    "\n",
    "So far, we have discussed how numbers and strings themselves can be manipulated and stored in variables. This level of manipulation and storage is not sufficient for Data Science. We are going to be working with millions of rows and columns of data and simply working with variable assignment and string manipulation won't cut it. This is one of the main reasons we need to learn Data Structures.\n",
    "\n",
    "\n",
    "For now, we would focus on the Built-in Data Structures within the Python programming language. These structures have parallels in other programming languages as well. So they are universal for anyone trying to use a programming language to achieve anything at all, from website creation, to hacking.\n",
    "\n",
    "\n",
    "The 4 major Data Structures are:\n",
    "\n",
    "- Lists\n",
    "\n",
    "- Tuples\n",
    "\n",
    "- Sets\n",
    "\n",
    "- Dictionaries"
   ]
  },
  {
   "cell_type": "markdown",
   "metadata": {},
   "source": [
    "#### Lists:\n",
    "\n",
    "\n",
    "This is simply a collection of items. Items could be numbers, strings, or any other type of objects we have yet to discuss in python.\n",
    "\n",
    "It has certain properties that sets it appart from other Data Structures, but these properties will be discussed later. For now, we introduce these data structures."
   ]
  },
  {
   "cell_type": "markdown",
   "metadata": {},
   "source": [
    "**A list with numbers:**"
   ]
  },
  {
   "cell_type": "code",
   "execution_count": null,
   "metadata": {},
   "outputs": [],
   "source": [
    "A = [2, 4, 6, 8]\n",
    "\n",
    "A"
   ]
  },
  {
   "cell_type": "code",
   "execution_count": 117,
   "metadata": {},
   "outputs": [
    {
     "data": {
      "text/plain": [
       "NoneType"
      ]
     },
     "execution_count": 117,
     "metadata": {},
     "output_type": "execute_result"
    }
   ],
   "source": [
    "type(None)"
   ]
  },
  {
   "cell_type": "markdown",
   "metadata": {},
   "source": [
    "**A list with strings:**"
   ]
  },
  {
   "cell_type": "code",
   "execution_count": null,
   "metadata": {},
   "outputs": [],
   "source": [
    "B = [\"Modupe\", \"Iyiola\", \"Priscillia\"]\n",
    "\n",
    "B"
   ]
  },
  {
   "cell_type": "markdown",
   "metadata": {},
   "source": [
    "A list can contain a mixture of numbers and strings and even other lists. It can contain a Tuple, a Set or Dictionaries."
   ]
  },
  {
   "cell_type": "code",
   "execution_count": null,
   "metadata": {},
   "outputs": [],
   "source": [
    "y = [\"kunle\", 5, 10.5, [\"another list\", \"is\", \"in\", \"this\", \"list y\"]]\n",
    "y"
   ]
  },
  {
   "cell_type": "code",
   "execution_count": null,
   "metadata": {},
   "outputs": [],
   "source": []
  },
  {
   "cell_type": "markdown",
   "metadata": {},
   "source": [
    "**Tuple**:\n",
    "\n",
    "This can also hold any type of objects just like a list. And just like lists, it has its set of unique properties discussed later"
   ]
  },
  {
   "cell_type": "code",
   "execution_count": null,
   "metadata": {},
   "outputs": [],
   "source": [
    "C = (2, 4, 7, 8)\n",
    "\n",
    "C"
   ]
  },
  {
   "cell_type": "code",
   "execution_count": null,
   "metadata": {},
   "outputs": [],
   "source": []
  },
  {
   "cell_type": "markdown",
   "metadata": {},
   "source": [
    "**Sets**:\n",
    "\n",
    "\n",
    "This is another collection of items, only this time, the items must not be duplicated and they must be arranged in ascending order"
   ]
  },
  {
   "cell_type": "code",
   "execution_count": 118,
   "metadata": {},
   "outputs": [
    {
     "data": {
      "text/plain": [
       "{0, 1, 2, 3, 'two'}"
      ]
     },
     "execution_count": 118,
     "metadata": {},
     "output_type": "execute_result"
    }
   ],
   "source": [
    "D = {2, 1, \"two\", 2, 3, 3, 0}\n",
    "\n",
    "D"
   ]
  },
  {
   "cell_type": "code",
   "execution_count": null,
   "metadata": {},
   "outputs": [],
   "source": []
  },
  {
   "cell_type": "markdown",
   "metadata": {},
   "source": [
    "**Dictionaries**:\n",
    "\n",
    "A dictionary contains key-value pairs. A value can easily be accessed via its key. For the example given below, the keys are: \"one\", \"two\", and \"three\", while the values are 1, 2 and 3 respectively."
   ]
  },
  {
   "cell_type": "code",
   "execution_count": 119,
   "metadata": {},
   "outputs": [
    {
     "data": {
      "text/plain": [
       "{'one': 1, 'two': 2, 'three': 3}"
      ]
     },
     "execution_count": 119,
     "metadata": {},
     "output_type": "execute_result"
    }
   ],
   "source": [
    "E = {\"one\": 1, \"two\" : 2, \"three\": 3}\n",
    "\n",
    "E"
   ]
  },
  {
   "cell_type": "code",
   "execution_count": null,
   "metadata": {},
   "outputs": [],
   "source": []
  },
  {
   "cell_type": "markdown",
   "metadata": {},
   "source": [
    "**Properties of Data Structures**:\n",
    "\n",
    "\n",
    "**List**:\n",
    "- Lists are ordered.\n",
    "- Lists can contain any arbitrary objects.\n",
    "- List elements can be accessed by index.\n",
    "- Lists can be nested to arbitrary depth.\n",
    "- Lists are mutable.\n",
    "- Lists are dynamic.\n",
    "\n",
    "\n",
    "**Tuple**:\n",
    "\n",
    "- Ordered, \n",
    "- Unchangeable\n",
    "- Allow duplicate values.\n",
    "\n",
    "\n",
    "**Set**:\n",
    "- Sets are unordered, as a result, they cannot be indexed.\n",
    "- Set elements are unique. Duplicate elements are not allowed.\n",
    "- A set itself may be modified, but the elements contained in the set must be of an immutable type.\n",
    "\n",
    "\n",
    "**Dictionary**:\n",
    "- Dictionaries are unordered.\n",
    "- Keys are unique.\n",
    "- Keys must be immutable. \n",
    "- Values of dictionaries can be accessed by the keys\n",
    "\n",
    "\n",
    "Below, we shall proceed to explain these properties."
   ]
  },
  {
   "cell_type": "code",
   "execution_count": null,
   "metadata": {},
   "outputs": [],
   "source": []
  },
  {
   "cell_type": "markdown",
   "metadata": {},
   "source": [
    "**List**"
   ]
  },
  {
   "cell_type": "code",
   "execution_count": 7,
   "metadata": {},
   "outputs": [
    {
     "data": {
      "text/plain": [
       "True"
      ]
     },
     "execution_count": 7,
     "metadata": {},
     "output_type": "execute_result"
    }
   ],
   "source": [
    "# Lists are ordered\n",
    "\n",
    "L = [\"a\", \"c\", \"b\"]\n",
    "\n",
    "M = [\"a\", \"b\", \"c\"]\n",
    "\n",
    "N = [\"a\", \"b\", \"c\"]\n",
    "\n",
    "L == M\n",
    "\n",
    "M == N"
   ]
  },
  {
   "cell_type": "code",
   "execution_count": 124,
   "metadata": {},
   "outputs": [
    {
     "data": {
      "text/plain": [
       "['one', 2, 'three', 4, None]"
      ]
     },
     "execution_count": 124,
     "metadata": {},
     "output_type": "execute_result"
    }
   ],
   "source": [
    "# Lists can contain any arbitrary objects.\n",
    "\n",
    "L = [\"one\", 2, \"three\", 4, None]\n",
    "\n",
    "L"
   ]
  },
  {
   "cell_type": "code",
   "execution_count": 125,
   "metadata": {},
   "outputs": [
    {
     "data": {
      "text/plain": [
       "4"
      ]
     },
     "execution_count": 125,
     "metadata": {},
     "output_type": "execute_result"
    }
   ],
   "source": [
    "# Lists are accessed by index\n",
    "\n",
    "L[0]\n",
    "\n",
    "L[1]\n",
    "\n",
    "L[2]\n",
    "\n",
    "L[3]"
   ]
  },
  {
   "cell_type": "code",
   "execution_count": 48,
   "metadata": {},
   "outputs": [
    {
     "data": {
      "text/plain": [
       "'Sister'"
      ]
     },
     "execution_count": 48,
     "metadata": {},
     "output_type": "execute_result"
    }
   ],
   "source": [
    "# Lists can be nested\n",
    "\n",
    "M = [\"Father\", \"Mother\", [\"Brother\", \"Sister\"]]\n",
    "\n",
    "M[0]\n",
    "\n",
    "M[1]\n",
    "\n",
    "M[2]\n",
    "\n",
    "M[2][0]\n",
    "\n",
    "M[2][1]"
   ]
  },
  {
   "cell_type": "code",
   "execution_count": 49,
   "metadata": {},
   "outputs": [
    {
     "data": {
      "text/plain": [
       "['Apple', 'Samsung', 'Nokia', 'Father', 'Mother', ['Brother', 'Sister']]"
      ]
     },
     "execution_count": 49,
     "metadata": {},
     "output_type": "execute_result"
    }
   ],
   "source": [
    "# Lists can be mutable or changeable\n",
    "\n",
    "N = [\"Apple\", \"Samsung\", \"Nokia\"]\n",
    "\n",
    "N += M\n",
    "\n",
    "N"
   ]
  },
  {
   "cell_type": "code",
   "execution_count": null,
   "metadata": {},
   "outputs": [],
   "source": [
    "N[0] = 1\n",
    "\n",
    "N"
   ]
  },
  {
   "cell_type": "code",
   "execution_count": null,
   "metadata": {},
   "outputs": [],
   "source": []
  },
  {
   "cell_type": "markdown",
   "metadata": {},
   "source": [
    "**Tuple**"
   ]
  },
  {
   "cell_type": "code",
   "execution_count": 12,
   "metadata": {},
   "outputs": [
    {
     "data": {
      "text/plain": [
       "False"
      ]
     },
     "execution_count": 12,
     "metadata": {},
     "output_type": "execute_result"
    }
   ],
   "source": [
    "# Tuples are ordered\n",
    "\n",
    "T = (1, \"a\", 2, \"b\")\n",
    "\n",
    "U = (1, 2, \"a\", \"b\")\n",
    "\n",
    "T == U"
   ]
  },
  {
   "cell_type": "code",
   "execution_count": 38,
   "metadata": {},
   "outputs": [
    {
     "ename": "TypeError",
     "evalue": "'tuple' object does not support item assignment",
     "output_type": "error",
     "traceback": [
      "\u001b[1;31m---------------------------------------------------------------------------\u001b[0m",
      "\u001b[1;31mTypeError\u001b[0m                                 Traceback (most recent call last)",
      "\u001b[1;32m<ipython-input-38-c5001a8e05ee>\u001b[0m in \u001b[0;36m<module>\u001b[1;34m\u001b[0m\n\u001b[0;32m      1\u001b[0m \u001b[1;31m# Tuples are unchangeable\u001b[0m\u001b[1;33m\u001b[0m\u001b[1;33m\u001b[0m\u001b[1;33m\u001b[0m\u001b[0m\n\u001b[0;32m      2\u001b[0m \u001b[1;33m\u001b[0m\u001b[0m\n\u001b[1;32m----> 3\u001b[1;33m \u001b[0mT\u001b[0m\u001b[1;33m[\u001b[0m\u001b[1;36m1\u001b[0m\u001b[1;33m]\u001b[0m \u001b[1;33m=\u001b[0m \u001b[1;36m19\u001b[0m\u001b[1;33m\u001b[0m\u001b[1;33m\u001b[0m\u001b[0m\n\u001b[0m",
      "\u001b[1;31mTypeError\u001b[0m: 'tuple' object does not support item assignment"
     ]
    }
   ],
   "source": [
    "# Tuples are unchangeable\n",
    "\n",
    "T[1] = 19"
   ]
  },
  {
   "cell_type": "code",
   "execution_count": 43,
   "metadata": {},
   "outputs": [
    {
     "data": {
      "text/plain": [
       "(1, 1, 4, 2, 4, 4, 2)"
      ]
     },
     "execution_count": 43,
     "metadata": {},
     "output_type": "execute_result"
    }
   ],
   "source": [
    "# Allow duplicates\n",
    "R = (1, 1, 4, 2, 4, 4, 2)\n",
    "\n",
    "R"
   ]
  },
  {
   "cell_type": "code",
   "execution_count": 44,
   "metadata": {},
   "outputs": [
    {
     "data": {
      "text/plain": [
       "4"
      ]
     },
     "execution_count": 44,
     "metadata": {},
     "output_type": "execute_result"
    }
   ],
   "source": [
    "R[2] #Tuples can be indexed"
   ]
  },
  {
   "cell_type": "code",
   "execution_count": null,
   "metadata": {},
   "outputs": [],
   "source": []
  },
  {
   "cell_type": "code",
   "execution_count": null,
   "metadata": {},
   "outputs": [],
   "source": []
  },
  {
   "cell_type": "markdown",
   "metadata": {},
   "source": [
    "Sets"
   ]
  },
  {
   "cell_type": "code",
   "execution_count": 35,
   "metadata": {},
   "outputs": [
    {
     "data": {
      "text/plain": [
       "{0, 1, 2, 3, 'two'}"
      ]
     },
     "execution_count": 35,
     "metadata": {},
     "output_type": "execute_result"
    }
   ],
   "source": [
    "D = {2, 1, \"two\", 2, 3, 3, 0}\n",
    "\n",
    "D #Duplicates have been removed"
   ]
  },
  {
   "cell_type": "code",
   "execution_count": 42,
   "metadata": {},
   "outputs": [
    {
     "ename": "TypeError",
     "evalue": "'set' object is not callable",
     "output_type": "error",
     "traceback": [
      "\u001b[1;31m---------------------------------------------------------------------------\u001b[0m",
      "\u001b[1;31mTypeError\u001b[0m                                 Traceback (most recent call last)",
      "\u001b[1;32m<ipython-input-42-1b36ec05a8b2>\u001b[0m in \u001b[0;36m<module>\u001b[1;34m\u001b[0m\n\u001b[1;32m----> 1\u001b[1;33m \u001b[0mD\u001b[0m\u001b[1;33m(\u001b[0m\u001b[1;36m1\u001b[0m\u001b[1;33m)\u001b[0m\u001b[1;33m\u001b[0m\u001b[1;33m\u001b[0m\u001b[0m\n\u001b[0m",
      "\u001b[1;31mTypeError\u001b[0m: 'set' object is not callable"
     ]
    }
   ],
   "source": [
    "D[2] #sets cannot be indexed"
   ]
  },
  {
   "cell_type": "code",
   "execution_count": 41,
   "metadata": {},
   "outputs": [
    {
     "data": {
      "text/plain": [
       "{0, 1, 13, 2, 3, 'two'}"
      ]
     },
     "execution_count": 41,
     "metadata": {},
     "output_type": "execute_result"
    }
   ],
   "source": [
    "D.add(13)  #Sets can only be updated the other elements previously in the set cannot be changed.\n",
    "\n",
    "D"
   ]
  },
  {
   "cell_type": "code",
   "execution_count": 45,
   "metadata": {},
   "outputs": [
    {
     "data": {
      "text/plain": [
       "True"
      ]
     },
     "execution_count": 45,
     "metadata": {},
     "output_type": "execute_result"
    }
   ],
   "source": [
    "K = {1, 2, 0, \"two\", 3, 2, 3}\n",
    "D = {2, 1, \"two\", 2, 3, 3, 0}\n",
    "\n",
    "#Sets are unordered. This is why the exact same set representations are equal\n",
    "K == D"
   ]
  },
  {
   "cell_type": "code",
   "execution_count": null,
   "metadata": {},
   "outputs": [],
   "source": []
  },
  {
   "cell_type": "markdown",
   "metadata": {},
   "source": [
    "**Dictionary**:"
   ]
  },
  {
   "cell_type": "code",
   "execution_count": 6,
   "metadata": {},
   "outputs": [
    {
     "data": {
      "text/plain": [
       "{'one': 2, 'two': 2, 'three': 3}"
      ]
     },
     "execution_count": 6,
     "metadata": {},
     "output_type": "execute_result"
    }
   ],
   "source": [
    "E = {\"one\": 1, \"two\" : 2, \"three\": 3}\n",
    "\n",
    "#Keys are unique\n",
    "E[\"one\"] = 2 # Dictionaries can be indexed using their keys\n",
    "\n",
    "E"
   ]
  },
  {
   "cell_type": "markdown",
   "metadata": {},
   "source": [
    "Notice that when we try to create another element in the dictionary that has the same key but a different value, the value attached to the key \"one\" just got updated instead of creating duplicate keys with different values."
   ]
  },
  {
   "cell_type": "code",
   "execution_count": null,
   "metadata": {},
   "outputs": [],
   "source": []
  },
  {
   "cell_type": "code",
   "execution_count": null,
   "metadata": {},
   "outputs": [],
   "source": []
  },
  {
   "cell_type": "markdown",
   "metadata": {},
   "source": [
    "**Operations with lists and list methods**"
   ]
  },
  {
   "cell_type": "markdown",
   "metadata": {},
   "source": [
    "- append: This is used to add a new element to the end of a list.\n",
    "- clear: This is used to remove all the elements within a list.\n",
    "- copy: This is used to make a copy of a list.\n",
    "- count: This is used the number of instances of an element within a list.\n",
    "- extend: This adds all the elements of an iterable (list, tuple, string etc.) to the end of the list\n",
    "- index: This is used to return the index of a specified element within a list.\n",
    "- insert: This is used to insert the specified value at the specified position. Syntax. list.insert(pos, elmnt).\n",
    "- pop: This is used to remove the last element added to the list.\n",
    "- remove: This is used to remvoe a specific element from the list.\n",
    "- reverse: This is used to reverse the order of a list.\n",
    "- sort: This is used to sort a list in ascending or descending order."
   ]
  },
  {
   "cell_type": "code",
   "execution_count": 50,
   "metadata": {},
   "outputs": [
    {
     "data": {
      "text/plain": [
       "['Apple', 'Samsung', 'Nokia', 'Father', 'Mother', ['Brother', 'Sister']]"
      ]
     },
     "execution_count": 50,
     "metadata": {},
     "output_type": "execute_result"
    }
   ],
   "source": [
    "N"
   ]
  },
  {
   "cell_type": "code",
   "execution_count": 66,
   "metadata": {},
   "outputs": [
    {
     "data": {
      "text/plain": [
       "['Apple',\n",
       " 'Samsung',\n",
       " 'Nokia',\n",
       " 'Father',\n",
       " 'Mother',\n",
       " ['Brother', 'Sister'],\n",
       " 'Father']"
      ]
     },
     "execution_count": 66,
     "metadata": {},
     "output_type": "execute_result"
    }
   ],
   "source": [
    "N.pop()\n",
    "N"
   ]
  },
  {
   "cell_type": "code",
   "execution_count": 67,
   "metadata": {},
   "outputs": [
    {
     "data": {
      "text/plain": [
       "['Apple',\n",
       " 'Samsung',\n",
       " 'Nokia',\n",
       " 'Father',\n",
       " 'Mother',\n",
       " ['Brother', 'Sister'],\n",
       " 'Father',\n",
       " 'Last_element']"
      ]
     },
     "execution_count": 67,
     "metadata": {},
     "output_type": "execute_result"
    }
   ],
   "source": [
    "N.append(\"Last_element\")\n",
    "N"
   ]
  },
  {
   "cell_type": "code",
   "execution_count": 68,
   "metadata": {},
   "outputs": [
    {
     "data": {
      "text/plain": [
       "['Apple',\n",
       " 'Samsung',\n",
       " 'Nokia',\n",
       " 'Father',\n",
       " 'Mother',\n",
       " ['Brother', 'Sister'],\n",
       " 'Father',\n",
       " 'Last_element']"
      ]
     },
     "execution_count": 68,
     "metadata": {},
     "output_type": "execute_result"
    }
   ],
   "source": [
    "new_N = N.copy()\n",
    "\n",
    "new_N"
   ]
  },
  {
   "cell_type": "code",
   "execution_count": 70,
   "metadata": {},
   "outputs": [
    {
     "data": {
      "text/plain": [
       "2"
      ]
     },
     "execution_count": 70,
     "metadata": {},
     "output_type": "execute_result"
    }
   ],
   "source": [
    "N.count(\"Father\")"
   ]
  },
  {
   "cell_type": "code",
   "execution_count": 73,
   "metadata": {},
   "outputs": [
    {
     "data": {
      "text/plain": [
       "['Apple',\n",
       " 'Samsung',\n",
       " 'Nokia',\n",
       " 'Father',\n",
       " 'Mother',\n",
       " ['Brother', 'Sister'],\n",
       " 'Father',\n",
       " 'Last_element',\n",
       " 'a',\n",
       " 'c',\n",
       " 'b']"
      ]
     },
     "execution_count": 73,
     "metadata": {},
     "output_type": "execute_result"
    }
   ],
   "source": [
    "N.extend(L)\n",
    "N"
   ]
  },
  {
   "cell_type": "code",
   "execution_count": 78,
   "metadata": {},
   "outputs": [
    {
     "data": {
      "text/plain": [
       "4"
      ]
     },
     "execution_count": 78,
     "metadata": {},
     "output_type": "execute_result"
    }
   ],
   "source": [
    "N.index(\"Mother\")"
   ]
  },
  {
   "cell_type": "code",
   "execution_count": 79,
   "metadata": {},
   "outputs": [
    {
     "data": {
      "text/plain": [
       "['Apple',\n",
       " 'Samsung',\n",
       " 'Nokia',\n",
       " 'Father',\n",
       " 'Mother',\n",
       " ['Brother', 'Sister'],\n",
       " 'Father',\n",
       " 'Last_element',\n",
       " 'a',\n",
       " 'c',\n",
       " 'Jare',\n",
       " 'b']"
      ]
     },
     "execution_count": 79,
     "metadata": {},
     "output_type": "execute_result"
    }
   ],
   "source": [
    "N.insert(10, \"Jare\")\n",
    "N"
   ]
  },
  {
   "cell_type": "code",
   "execution_count": 81,
   "metadata": {
    "scrolled": true
   },
   "outputs": [
    {
     "data": {
      "text/plain": [
       "['Apple',\n",
       " 'Samsung',\n",
       " 'Mother',\n",
       " ['Brother', 'Sister'],\n",
       " 'Father',\n",
       " 'Last_element',\n",
       " 'a',\n",
       " 'c',\n",
       " 'Jare',\n",
       " 'b']"
      ]
     },
     "execution_count": 81,
     "metadata": {},
     "output_type": "execute_result"
    }
   ],
   "source": [
    "N.remove(\"Nokia\")\n",
    "\n",
    "N"
   ]
  },
  {
   "cell_type": "code",
   "execution_count": 82,
   "metadata": {},
   "outputs": [
    {
     "data": {
      "text/plain": [
       "['b',\n",
       " 'Jare',\n",
       " 'c',\n",
       " 'a',\n",
       " 'Last_element',\n",
       " 'Father',\n",
       " ['Brother', 'Sister'],\n",
       " 'Mother',\n",
       " 'Samsung',\n",
       " 'Apple']"
      ]
     },
     "execution_count": 82,
     "metadata": {},
     "output_type": "execute_result"
    }
   ],
   "source": [
    "N.reverse()\n",
    "\n",
    "N"
   ]
  },
  {
   "cell_type": "code",
   "execution_count": 88,
   "metadata": {},
   "outputs": [
    {
     "data": {
      "text/plain": [
       "['a', 'b', 'c']"
      ]
     },
     "execution_count": 88,
     "metadata": {},
     "output_type": "execute_result"
    }
   ],
   "source": [
    "L.sort()\n",
    "\n",
    "L"
   ]
  },
  {
   "cell_type": "code",
   "execution_count": 89,
   "metadata": {},
   "outputs": [
    {
     "data": {
      "text/plain": [
       "['c', 'b', 'a']"
      ]
     },
     "execution_count": 89,
     "metadata": {},
     "output_type": "execute_result"
    }
   ],
   "source": [
    "L.sort(reverse = True)\n",
    "\n",
    "L"
   ]
  },
  {
   "cell_type": "code",
   "execution_count": null,
   "metadata": {},
   "outputs": [],
   "source": []
  },
  {
   "cell_type": "code",
   "execution_count": null,
   "metadata": {},
   "outputs": [],
   "source": []
  },
  {
   "cell_type": "markdown",
   "metadata": {},
   "source": [
    "### Operations and Methods with Sets\n",
    "\n",
    "\n",
    "- add: This is used to add a single value to the elements of a set.\n",
    "- clear: This is used to clear all the elements of a set.\n",
    "- copy: This is used to make an extra copy of a set\n",
    "- difference: Returns a set containing the difference between two or more sets\n",
    "- difference_update: Removes the items in this set that are also included in another, specified set\n",
    "- discard: This is used to remove an element from a set. Just like remove().\n",
    "- intersection: This is used to find the common elements between two sets.\n",
    "- intersection_update: Removes the items in this set that are not present in other, specified set(s)\n",
    "- isdisjoint: Is used to check if two sets do not have any common elements.\n",
    "- issubset: Is used to check if a set is the subset of another set. If set A is a subset of set B, then, all of set A's elements can be found in set B.\n",
    "- issuperset: Is used to check if a set is the superset of another set. If set A is a superset of set B, then, set A at least contains all the elements of set B, and contains some extra elements not found in set B.\n",
    "- pop: Remove the last element added to a set\n",
    "- remove: To remove a specified element from a set\n",
    "- symmetric_difference: The set which contains the elements which are either in set A or in set B but not in both\n",
    "- symmetric_difference_update: This takes the symmetric difference and applies it to create a new set entirely.\n",
    "- union: This is for creating a combination of all the unique elements of two or more sets.\n",
    "- update: This is used to add sequence values to a set such as any iterables including list , tuple , string , dict etc."
   ]
  },
  {
   "cell_type": "code",
   "execution_count": 2,
   "metadata": {},
   "outputs": [
    {
     "data": {
      "text/plain": [
       "{0, 1, 2, 3, 'two'}"
      ]
     },
     "execution_count": 2,
     "metadata": {},
     "output_type": "execute_result"
    }
   ],
   "source": [
    "D."
   ]
  },
  {
   "cell_type": "code",
   "execution_count": null,
   "metadata": {},
   "outputs": [],
   "source": []
  },
  {
   "cell_type": "markdown",
   "metadata": {},
   "source": [
    "### Homework\n",
    "\n",
    "\n",
    "- Use the set methods listed above to perform operations involving sets.\n",
    "\n",
    "- Find and use Tuple methods to perform operations involving tuples.\n",
    "\n",
    "- Find and use Dictionary methods to perform operations involving dictionaries.\n",
    "\n",
    "- In the working_with_tables_homework.csv file, find a way to separate the email service provider from each sales representatative's email into a separate column.\n",
    "\n",
    "- There are 8 students in a room: Alicia, Ope, Fiyin, Emeka, Kenny, Timothy, Grace, and Kunle. Use this information to answer the following questions:\n",
    "> 1. If one more person named Emeka joins these 8 students, which data structure can we use to represent this information?\n",
    "> 2. If there are two groups, A and B. Ope, Fiyin, Timothy, and Kunle are in group A while, Alicia, Emeka, Kenny, Timothy, and Ope are in group B. Which data structure can help us find the students common to both groups?\n",
    "> 3. If we want these 8 students to vote for who would be class president between Sandra and Michael, and we want to be able to know the order in which the students voted (e.g Emeka voted first, Alicia voted second, and so on), what data structure should we use?\n",
    "> 4. If the scenario in question 3 is repeated, but this time, we do not care about the order in which the students voted, what data structure should we use?\n",
    "> 5. If we wanted to record the number of votes that Michael and Sandra got from the election, which data structure is best suited for the task?"
   ]
  },
  {
   "cell_type": "code",
   "execution_count": null,
   "metadata": {},
   "outputs": [],
   "source": []
  },
  {
   "cell_type": "markdown",
   "metadata": {},
   "source": [
    "### Converting between Data Structures"
   ]
  },
  {
   "cell_type": "markdown",
   "metadata": {},
   "source": [
    "**Converting Lists to Tuples or Sets**"
   ]
  },
  {
   "cell_type": "code",
   "execution_count": 11,
   "metadata": {},
   "outputs": [
    {
     "data": {
      "text/plain": [
       "{'a', 'b', 'c'}"
      ]
     },
     "execution_count": 11,
     "metadata": {},
     "output_type": "execute_result"
    }
   ],
   "source": [
    "L\n",
    "tuple(L)\n",
    "set(L)"
   ]
  },
  {
   "cell_type": "code",
   "execution_count": null,
   "metadata": {},
   "outputs": [],
   "source": []
  },
  {
   "cell_type": "markdown",
   "metadata": {},
   "source": [
    "**Converting Tuples to Lists or Sets**"
   ]
  },
  {
   "cell_type": "code",
   "execution_count": 15,
   "metadata": {},
   "outputs": [
    {
     "data": {
      "text/plain": [
       "{1, 2, 'a', 'b'}"
      ]
     },
     "execution_count": 15,
     "metadata": {},
     "output_type": "execute_result"
    }
   ],
   "source": [
    "T\n",
    "list(T)\n",
    "set(T)"
   ]
  },
  {
   "cell_type": "code",
   "execution_count": null,
   "metadata": {},
   "outputs": [],
   "source": []
  },
  {
   "cell_type": "markdown",
   "metadata": {},
   "source": [
    "**Converting Sets to Tuples or Lists**"
   ]
  },
  {
   "cell_type": "code",
   "execution_count": 19,
   "metadata": {},
   "outputs": [
    {
     "data": {
      "text/plain": [
       "(0, 1, 2, 3, 'two')"
      ]
     },
     "execution_count": 19,
     "metadata": {},
     "output_type": "execute_result"
    }
   ],
   "source": [
    "D\n",
    "list(D)\n",
    "tuple(D)"
   ]
  },
  {
   "cell_type": "code",
   "execution_count": null,
   "metadata": {},
   "outputs": [],
   "source": []
  },
  {
   "cell_type": "markdown",
   "metadata": {},
   "source": [
    "**Converting Dictionaries to Tuples, Lists, or Sets:**\n",
    "\n",
    "Since a dictionary contains two pieces of linked information: keys and values, it follows that we should be able to create two children data structures from the keys and values of a dictionary."
   ]
  },
  {
   "cell_type": "code",
   "execution_count": 25,
   "metadata": {},
   "outputs": [
    {
     "data": {
      "text/plain": [
       "{('one', 2), ('three', 3), ('two', 2)}"
      ]
     },
     "execution_count": 25,
     "metadata": {},
     "output_type": "execute_result"
    }
   ],
   "source": [
    "list(E) #This takes just the keys and converts them to a list. Another way to do this is: list(E.keys())\n",
    "tuple(E) #This takes just the keys and converts them to a tuple. Another way to do this is: tuple(E.keys())\n",
    "set(E) #This takes just the keys and converts them to a set. Another way to do this is: set(E.keys())\n",
    "\n",
    "\n",
    "list(E.items()) #This creates a list of tuples containing the key-value pairing.\n",
    "tuple(E.items()) #This creates a tuple of tuples containing the key-value pairing.\n",
    "set(E.items()) #This creates a set of tuples containing the key-value pairing.\n",
    "\n",
    "\n",
    "list(E.values()) #This takes just the values and converts them to a list.\n",
    "tuple(E.values()) #This takes just the values and converts them to a tuple.\n",
    "set(E.values()) #This takes just the values and converts them to a set."
   ]
  },
  {
   "cell_type": "code",
   "execution_count": null,
   "metadata": {},
   "outputs": [],
   "source": []
  },
  {
   "cell_type": "markdown",
   "metadata": {},
   "source": [
    "### Using Built-in Data structures to create Pandas Objects\n",
    "\n",
    "\n",
    "The Built-in Data Structures discussed so far are very useful but as Data Scientists, we would most likely deal more with tables than with lists, sets, dictionaries or tuples. Since data in table form is a more appropriate way to represent data, the primitive data structures learned so far would not suffice in the long run.\n",
    "\n",
    "It is therefore imperative to find a way to link what we know, with what we will use in the near future, pandas table representations. There are 4 ways to represent data in pandas, they are:\n",
    "\n",
    "- **Pandas Series**: A Series is a one dimensional array like structure with homogeneous data. The values of the series are mutable means we can change any value in series, but the size of the series is immutable so we can not change the size of the series.\n",
    "\n",
    "- **Pandas DataFrames**:  DataFrame is a two-dimensional array with heterogeneous data. A DataFrame size is mutable and data is also mutable so we can change the data and size of DataFrame at any time.\n",
    "\n",
    "- **Pandas Panel**: The panel is a three-dimensional data structure with heterogeneous data. It is very hard to represent the Panel in a graphical representation. But a Panel can be illustrated as a container of a DataFrame. In Panel Data and size are mutable. \n",
    "\n",
    "Below is a picture depicting the above information:\n",
    "\n",
    "![convert notebook to web app](https://miro.medium.com/max/720/1*1iHWBaNA9d_ArysIiuit8A.webp)"
   ]
  },
  {
   "cell_type": "markdown",
   "metadata": {},
   "source": [
    "From the above representations given above, it does not take a Rocket Scientist to decipher that Lists and Tuples can be used to create Pandas Series objects. This is because they are single column data structures, just like the Built-in data structures of Lists and Tuples. \n",
    "***(Note: Sets are not used because they are unordered. This means that they do not have indicies that the pandas con us to create its own indicies)***\n",
    "\n",
    "Out of the Built-in data structures, only Dictionaries can take in two different types of data linked in a key-value pair relationship. This implies that we can use it to represent a data structure with multiple columns.\n",
    "\n",
    "At this point, we can proceed to show how to create these pandas objects from the Built-in Data Structures.\n",
    "\n",
    "(***Note: This is important because we would be using Pandas objects heavily in the near future***)."
   ]
  },
  {
   "cell_type": "code",
   "execution_count": null,
   "metadata": {},
   "outputs": [],
   "source": []
  },
  {
   "cell_type": "code",
   "execution_count": null,
   "metadata": {},
   "outputs": [],
   "source": []
  },
  {
   "cell_type": "markdown",
   "metadata": {},
   "source": [
    "#### Initializing Pandas"
   ]
  },
  {
   "cell_type": "code",
   "execution_count": 26,
   "metadata": {},
   "outputs": [],
   "source": [
    "import pandas as pd \n",
    "\n",
    "#Remember pd is just an alias. You can name your alias anything. But pd is the convention so that other\n",
    "#programmers can read your code with ease"
   ]
  },
  {
   "cell_type": "code",
   "execution_count": null,
   "metadata": {},
   "outputs": [],
   "source": []
  },
  {
   "cell_type": "markdown",
   "metadata": {},
   "source": [
    "#### Pandas Series from Lists"
   ]
  },
  {
   "cell_type": "code",
   "execution_count": 32,
   "metadata": {},
   "outputs": [
    {
     "data": {
      "text/plain": [
       "0     2\n",
       "1     4\n",
       "2     6\n",
       "3     8\n",
       "4    10\n",
       "dtype: int64"
      ]
     },
     "execution_count": 32,
     "metadata": {},
     "output_type": "execute_result"
    }
   ],
   "source": [
    "ls1 = [2, 4, 6, \"eight\", 10]\n",
    "#Notice that for the above the list, the series created is recognized as an \"Object\". An \"Object\" is a string in Pandas.\n",
    "#Also, the reason why this is so, is because of the presence of the value \"eight\". If the value were 8 instead of \"eight\",\n",
    "#pandas would recognize it as an integer, or int64 or int32, or int16.\n",
    "\n",
    "ls1 = [2, 4, 6, 8, 10]\n",
    "\n",
    "pd.Series(ls1)"
   ]
  },
  {
   "cell_type": "code",
   "execution_count": 58,
   "metadata": {},
   "outputs": [
    {
     "data": {
      "text/plain": [
       "0     2\n",
       "1     4\n",
       "2     6\n",
       "3     8\n",
       "4    10\n",
       "Name: Values_of_ls1, dtype: int64"
      ]
     },
     "execution_count": 58,
     "metadata": {},
     "output_type": "execute_result"
    }
   ],
   "source": [
    "#To add a column name, we use the \"name\" parameter.\n",
    "\n",
    "pd.Series(ls1, name = \"Values_of_ls1\")\n",
    "\n",
    "\n",
    "#We can assign the series created to a variable that we can use to reference the series anytime we want\n",
    "#ls1_series = pd.Series(ls1, name = \"Values_of_ls1\")"
   ]
  },
  {
   "cell_type": "code",
   "execution_count": 56,
   "metadata": {},
   "outputs": [
    {
     "data": {
      "text/plain": [
       "'Values_of_ls1'"
      ]
     },
     "execution_count": 56,
     "metadata": {},
     "output_type": "execute_result"
    }
   ],
   "source": [
    "ls1_series.name"
   ]
  },
  {
   "cell_type": "markdown",
   "metadata": {},
   "source": [
    "#### Pandas Series from Tuple"
   ]
  },
  {
   "cell_type": "code",
   "execution_count": 57,
   "metadata": {},
   "outputs": [
    {
     "data": {
      "text/plain": [
       "0    1\n",
       "1    2\n",
       "2    3\n",
       "3    4\n",
       "4    5\n",
       "5    6\n",
       "6    7\n",
       "Name: Values_of_tup1, dtype: int64"
      ]
     },
     "execution_count": 57,
     "metadata": {},
     "output_type": "execute_result"
    }
   ],
   "source": [
    "#Creating the tuple\n",
    "tup1 = (1, 2, 3, 4, 5, 6, 7)\n",
    "\n",
    "#Creating the pandas series\n",
    "pd.Series(tup1)\n",
    "\n",
    "#Creating the pandas series with a name\n",
    "pd.Series(tup1, name = \"Values_of_tup1\")\n",
    "\n",
    "#Assigning the pandas series to a variable name so it can be referenced any time\n",
    "#tup1_series = pd.Series(tup1, name = \"Values_of_tup1\")"
   ]
  },
  {
   "cell_type": "code",
   "execution_count": 53,
   "metadata": {},
   "outputs": [
    {
     "data": {
      "text/plain": [
       "'Values_of_tup1'"
      ]
     },
     "execution_count": 53,
     "metadata": {},
     "output_type": "execute_result"
    }
   ],
   "source": [
    "tup1_series.name"
   ]
  },
  {
   "cell_type": "markdown",
   "metadata": {},
   "source": [
    "#### Creating new Index for Pandas Series\n",
    "\n",
    "\n",
    "The index is the numbering to the leftmost part of the Series or DataFrame. It is pandas's way of identifying the individual rows of the dataset.\n",
    "\n",
    "The default numbering of the index is: 0, 1, 2, 3,... and so on. However, depending on our needs, we can create a new index for either our pandas series or dataframe.\n",
    "\n",
    "Again, we do not need to be a genius to figure out that if we want to create this new index, we use a list or a tuple."
   ]
  },
  {
   "cell_type": "code",
   "execution_count": 62,
   "metadata": {},
   "outputs": [
    {
     "data": {
      "text/plain": [
       "A    1\n",
       "B    2\n",
       "C    3\n",
       "D    4\n",
       "E    5\n",
       "F    6\n",
       "G    7\n",
       "Name: Values_of_tup1, dtype: int64"
      ]
     },
     "execution_count": 62,
     "metadata": {},
     "output_type": "execute_result"
    }
   ],
   "source": [
    "tup1_index = [\"A\", \"B\", \"C\"]\n",
    "pd.Series(tup1, name = \"Values_of_tup1\", index = tup1_index)"
   ]
  },
  {
   "cell_type": "markdown",
   "metadata": {},
   "source": [
    "The above code returns an error which states that there are 7 values in you pandas series yet, you have only 3 index values. This is simply telling us that we should ensure that the number of index values is exactly the same as the number of values in our pandas series. The same goes for pandas dataframes."
   ]
  },
  {
   "cell_type": "code",
   "execution_count": 63,
   "metadata": {},
   "outputs": [
    {
     "data": {
      "text/plain": [
       "A    1\n",
       "B    2\n",
       "C    3\n",
       "D    4\n",
       "E    5\n",
       "F    6\n",
       "G    7\n",
       "Name: Values_of_tup1, dtype: int64"
      ]
     },
     "execution_count": 63,
     "metadata": {},
     "output_type": "execute_result"
    }
   ],
   "source": [
    "tup1_index = [\"A\", \"B\", \"C\", \"D\", \"E\", \"F\", \"G\"]\n",
    "pd.Series(tup1, name = \"Values_of_tup1\", index = tup1_index)"
   ]
  },
  {
   "cell_type": "code",
   "execution_count": null,
   "metadata": {},
   "outputs": [],
   "source": []
  },
  {
   "cell_type": "code",
   "execution_count": null,
   "metadata": {},
   "outputs": [],
   "source": []
  },
  {
   "cell_type": "markdown",
   "metadata": {},
   "source": [
    "#### Pandas DataFrames from Dictionary"
   ]
  },
  {
   "cell_type": "code",
   "execution_count": 65,
   "metadata": {},
   "outputs": [
    {
     "data": {
      "text/html": [
       "<div>\n",
       "<style scoped>\n",
       "    .dataframe tbody tr th:only-of-type {\n",
       "        vertical-align: middle;\n",
       "    }\n",
       "\n",
       "    .dataframe tbody tr th {\n",
       "        vertical-align: top;\n",
       "    }\n",
       "\n",
       "    .dataframe thead th {\n",
       "        text-align: right;\n",
       "    }\n",
       "</style>\n",
       "<table border=\"1\" class=\"dataframe\">\n",
       "  <thead>\n",
       "    <tr style=\"text-align: right;\">\n",
       "      <th></th>\n",
       "      <th>Name</th>\n",
       "      <th>Age</th>\n",
       "      <th>Favorite Team</th>\n",
       "    </tr>\n",
       "  </thead>\n",
       "  <tbody>\n",
       "    <tr>\n",
       "      <th>0</th>\n",
       "      <td>Rahmon</td>\n",
       "      <td>10</td>\n",
       "      <td>Chelsea</td>\n",
       "    </tr>\n",
       "    <tr>\n",
       "      <th>1</th>\n",
       "      <td>Rahila</td>\n",
       "      <td>12</td>\n",
       "      <td>Tottenham</td>\n",
       "    </tr>\n",
       "    <tr>\n",
       "      <th>2</th>\n",
       "      <td>Ramsey</td>\n",
       "      <td>13</td>\n",
       "      <td>Barcelona</td>\n",
       "    </tr>\n",
       "    <tr>\n",
       "      <th>3</th>\n",
       "      <td>Ranti</td>\n",
       "      <td>8</td>\n",
       "      <td>Arsenal</td>\n",
       "    </tr>\n",
       "    <tr>\n",
       "      <th>4</th>\n",
       "      <td>Richard</td>\n",
       "      <td>9</td>\n",
       "      <td>Liverpool</td>\n",
       "    </tr>\n",
       "    <tr>\n",
       "      <th>5</th>\n",
       "      <td>Rex</td>\n",
       "      <td>11</td>\n",
       "      <td>Juventus</td>\n",
       "    </tr>\n",
       "  </tbody>\n",
       "</table>\n",
       "</div>"
      ],
      "text/plain": [
       "      Name  Age Favorite Team\n",
       "0   Rahmon   10       Chelsea\n",
       "1   Rahila   12     Tottenham\n",
       "2   Ramsey   13     Barcelona\n",
       "3    Ranti    8       Arsenal\n",
       "4  Richard    9     Liverpool\n",
       "5      Rex   11      Juventus"
      ]
     },
     "execution_count": 65,
     "metadata": {},
     "output_type": "execute_result"
    }
   ],
   "source": [
    "#Creating the dictionary\n",
    "\n",
    "details_dict = {\n",
    "    \n",
    "    \"Name\": [\"Rahmon\", \"Rahila\", \"Ramsey\", \"Ranti\", \"Richard\", \"Rex\"],\n",
    "    \"Age\": [10, 12, 13, 8, 9, 11],\n",
    "    \"Favorite Team\": [\"Chelsea\", \"Tottenham\", \"Barcelona\", \"Arsenal\", \"Liverpool\", \"Juventus\"]\n",
    "    \n",
    "}\n",
    "\n",
    "#Using the dictionary to create the dataframe\n",
    "\n",
    "pd.DataFrame(details_dict)"
   ]
  },
  {
   "cell_type": "code",
   "execution_count": null,
   "metadata": {},
   "outputs": [],
   "source": []
  },
  {
   "cell_type": "markdown",
   "metadata": {},
   "source": [
    "#### Pandas DataFrames by combining two series\n",
    "\n",
    "\n",
    "Other than using a dictionary to create a pandas DataFrame, there might be other times when it would be required to combine two or more existing pandas series objects."
   ]
  },
  {
   "cell_type": "code",
   "execution_count": 71,
   "metadata": {},
   "outputs": [
    {
     "data": {
      "text/html": [
       "<div>\n",
       "<style scoped>\n",
       "    .dataframe tbody tr th:only-of-type {\n",
       "        vertical-align: middle;\n",
       "    }\n",
       "\n",
       "    .dataframe tbody tr th {\n",
       "        vertical-align: top;\n",
       "    }\n",
       "\n",
       "    .dataframe thead th {\n",
       "        text-align: right;\n",
       "    }\n",
       "</style>\n",
       "<table border=\"1\" class=\"dataframe\">\n",
       "  <thead>\n",
       "    <tr style=\"text-align: right;\">\n",
       "      <th></th>\n",
       "      <th>Values_of_tup1</th>\n",
       "      <th>Values_of_ls1</th>\n",
       "    </tr>\n",
       "  </thead>\n",
       "  <tbody>\n",
       "    <tr>\n",
       "      <th>0</th>\n",
       "      <td>1</td>\n",
       "      <td>2.0</td>\n",
       "    </tr>\n",
       "    <tr>\n",
       "      <th>1</th>\n",
       "      <td>2</td>\n",
       "      <td>4.0</td>\n",
       "    </tr>\n",
       "    <tr>\n",
       "      <th>2</th>\n",
       "      <td>3</td>\n",
       "      <td>6.0</td>\n",
       "    </tr>\n",
       "    <tr>\n",
       "      <th>3</th>\n",
       "      <td>4</td>\n",
       "      <td>8.0</td>\n",
       "    </tr>\n",
       "    <tr>\n",
       "      <th>4</th>\n",
       "      <td>5</td>\n",
       "      <td>10.0</td>\n",
       "    </tr>\n",
       "    <tr>\n",
       "      <th>5</th>\n",
       "      <td>6</td>\n",
       "      <td>NaN</td>\n",
       "    </tr>\n",
       "    <tr>\n",
       "      <th>6</th>\n",
       "      <td>7</td>\n",
       "      <td>NaN</td>\n",
       "    </tr>\n",
       "  </tbody>\n",
       "</table>\n",
       "</div>"
      ],
      "text/plain": [
       "   Values_of_tup1  Values_of_ls1\n",
       "0               1            2.0\n",
       "1               2            4.0\n",
       "2               3            6.0\n",
       "3               4            8.0\n",
       "4               5           10.0\n",
       "5               6            NaN\n",
       "6               7            NaN"
      ]
     },
     "execution_count": 71,
     "metadata": {},
     "output_type": "execute_result"
    }
   ],
   "source": [
    "pd.concat([tup1_series, ls1_series], axis = 1)"
   ]
  },
  {
   "cell_type": "markdown",
   "metadata": {},
   "source": [
    "Observe that there are values in the data labelled NaN. These values represent empty spaces. They are pandas' waay of telling us that there is no value for that particular column or row."
   ]
  },
  {
   "cell_type": "code",
   "execution_count": null,
   "metadata": {},
   "outputs": [],
   "source": []
  },
  {
   "cell_type": "markdown",
   "metadata": {},
   "source": [
    "**An Example of Panel Data**"
   ]
  },
  {
   "cell_type": "markdown",
   "metadata": {},
   "source": [
    "![convert notebook to web app](./Panel_Data_Example.PNG)\n",
    "\n",
    "\n",
    "\n",
    "From the above table, we can see that the data has different facets to it. Instead of just looking in two dimensions, in terms of rows and column names, panel data adds extra information on top of the two dimensional depictions we have been seeing so far.\n",
    "\n",
    "In panel data, basically, the column names themselves have titles which specify what information the columns are trying to depict. For example, the country title gives the column names to be the name of countries and is the highest level of granularity of the columns. Next, we have series and pay period.\n",
    "\n",
    "It is important to note that while this conveys a lot more information to a human, this type of data is not condusive for Machine Learning, an essential part of data science but this does not mean that analysis cannot be done on it.\n",
    "\n",
    "If you are curious about analysis done on panel data, see the following:\n",
    "https://python.quantecon.org/pandas_panel.html\n",
    "\n",
    "(Please note that some of the code found in the above link has not been covered yet)"
   ]
  },
  {
   "cell_type": "code",
   "execution_count": null,
   "metadata": {},
   "outputs": [],
   "source": []
  },
  {
   "cell_type": "markdown",
   "metadata": {},
   "source": [
    "### Conditionals, Loops, and Functions"
   ]
  },
  {
   "cell_type": "code",
   "execution_count": null,
   "metadata": {},
   "outputs": [],
   "source": []
  },
  {
   "cell_type": "code",
   "execution_count": null,
   "metadata": {},
   "outputs": [],
   "source": []
  },
  {
   "cell_type": "code",
   "execution_count": null,
   "metadata": {},
   "outputs": [],
   "source": []
  },
  {
   "cell_type": "code",
   "execution_count": null,
   "metadata": {},
   "outputs": [],
   "source": []
  },
  {
   "cell_type": "code",
   "execution_count": null,
   "metadata": {},
   "outputs": [],
   "source": []
  },
  {
   "cell_type": "code",
   "execution_count": null,
   "metadata": {},
   "outputs": [],
   "source": []
  },
  {
   "cell_type": "code",
   "execution_count": null,
   "metadata": {},
   "outputs": [],
   "source": []
  },
  {
   "cell_type": "code",
   "execution_count": null,
   "metadata": {},
   "outputs": [],
   "source": []
  },
  {
   "cell_type": "code",
   "execution_count": null,
   "metadata": {},
   "outputs": [],
   "source": []
  },
  {
   "cell_type": "code",
   "execution_count": null,
   "metadata": {},
   "outputs": [],
   "source": []
  },
  {
   "cell_type": "code",
   "execution_count": null,
   "metadata": {},
   "outputs": [],
   "source": []
  },
  {
   "cell_type": "code",
   "execution_count": null,
   "metadata": {},
   "outputs": [],
   "source": []
  },
  {
   "cell_type": "code",
   "execution_count": null,
   "metadata": {},
   "outputs": [],
   "source": []
  },
  {
   "cell_type": "code",
   "execution_count": null,
   "metadata": {},
   "outputs": [],
   "source": []
  },
  {
   "cell_type": "code",
   "execution_count": null,
   "metadata": {},
   "outputs": [],
   "source": []
  },
  {
   "cell_type": "code",
   "execution_count": null,
   "metadata": {},
   "outputs": [],
   "source": []
  },
  {
   "cell_type": "markdown",
   "metadata": {},
   "source": [
    "### Numpy"
   ]
  },
  {
   "cell_type": "markdown",
   "metadata": {},
   "source": [
    "So far, we have worked with the primitive array-types in python: Lists and Tuples. These array types, however, have very limited mathematical capabilities and as a result cannot perform certain tasks required for machine learning. \n",
    "\n",
    "In steps Numpy arrays. Numpy arrays are used to perform complex mathematical analysis on various arrays. But why do we need to perform complex calculations on arrays?\n",
    "\n",
    "Numpy can be used to find general descriptive statistical figures like mean, median, mode, and so on, on column vectors. In using advanced machine learning packages such as Keras and Tensorflow, for designing Artificial Neural Networks, an understanding of Numpy is key. Also, in image and signal processing, numpy is of inestimable value. Most colored images can be represented as 3-D arrays. Lists could be used to make these arrays but performing any sort of mathematics on the lists is either overly convoluted or not possible. Numpy also sorts this out as well. Signals like radio signals or just general speech can be easily processed using numpy as numpy can create as many array dimensions to represent each component of the signal.\n",
    "\n",
    "As useful as Numpy arrays are in the field of Machine Learning, great emphasis will not be placed on Numpy arrays in this course. Perhaps more advanced courses in Deep Learning and Artificial Intelligence development with Tensorflow or Keras would make use of numpy arrays in more detail.\n",
    "\n",
    "Irrespective of this, we can find that the Numpy library is still very useful, given some of the methods it allows us to use. As a result, 3 reading materials have been provided in the links below for further reading on NUmpy. In case any of the links says you need to subscribe in order to gain access, simply subscribe and you gain free access to the article.\n",
    "\n",
    "1. https://towardsdatascience.com/21-numpy-functions-that-will-boost-your-data-analysis-process-1671fb35215\n",
    "\n",
    "2. https://medium.com/swlh/5-powerful-numpy-functions-for-beginners-20f4cdb49de9\n",
    "\n",
    "3. https://www.machinelearningplus.com/python/101-numpy-exercises-python/\n"
   ]
  },
  {
   "cell_type": "code",
   "execution_count": null,
   "metadata": {},
   "outputs": [],
   "source": []
  },
  {
   "cell_type": "markdown",
   "metadata": {},
   "source": [
    "### Pandas"
   ]
  },
  {
   "cell_type": "markdown",
   "metadata": {},
   "source": [
    "Pandas is an open source Python package that is most widely used for data science/data analysis and machine learning tasks. It is built on top of Numpy, which provides support for multi-dimensional arrays.\n",
    "\n",
    "\n",
    "**What can Pandas do?**\n",
    "- Data cleansing\n",
    "- Data fill\n",
    "- Data normalization\n",
    "- Merges and joins\n",
    "- Data visualization\n",
    "- Statistical analysis\n",
    "- Data inspection\n",
    "- Loading and saving data\n",
    "\n",
    "\n",
    "From the above list, we can see that Pandas is able to perform many useful tasks (which might not be apparent right now). The tasks listed form a core part of the skills that every Data Scientist should have and all these tasks will be touched upon later in this course. \n",
    "\n",
    "For now, we demonstrate how Pandas is able to load data from various sources"
   ]
  },
  {
   "cell_type": "markdown",
   "metadata": {},
   "source": [
    "**Data from CSV**"
   ]
  },
  {
   "cell_type": "code",
   "execution_count": 5,
   "metadata": {},
   "outputs": [
    {
     "data": {
      "text/html": [
       "<div>\n",
       "<style scoped>\n",
       "    .dataframe tbody tr th:only-of-type {\n",
       "        vertical-align: middle;\n",
       "    }\n",
       "\n",
       "    .dataframe tbody tr th {\n",
       "        vertical-align: top;\n",
       "    }\n",
       "\n",
       "    .dataframe thead th {\n",
       "        text-align: right;\n",
       "    }\n",
       "</style>\n",
       "<table border=\"1\" class=\"dataframe\">\n",
       "  <thead>\n",
       "    <tr style=\"text-align: right;\">\n",
       "      <th></th>\n",
       "      <th>Firstname</th>\n",
       "      <th>Lastname</th>\n",
       "      <th>age</th>\n",
       "      <th>sales</th>\n",
       "      <th>cost</th>\n",
       "    </tr>\n",
       "  </thead>\n",
       "  <tbody>\n",
       "    <tr>\n",
       "      <th>0</th>\n",
       "      <td>Olanrewaju</td>\n",
       "      <td>Kazeem</td>\n",
       "      <td>[24]</td>\n",
       "      <td>15000</td>\n",
       "      <td>11000</td>\n",
       "    </tr>\n",
       "    <tr>\n",
       "      <th>1</th>\n",
       "      <td>Chibuzo</td>\n",
       "      <td>Ekenne</td>\n",
       "      <td>[30]</td>\n",
       "      <td>25800</td>\n",
       "      <td>15200</td>\n",
       "    </tr>\n",
       "    <tr>\n",
       "      <th>2</th>\n",
       "      <td>Onyinyechi</td>\n",
       "      <td>Amos</td>\n",
       "      <td>[22]</td>\n",
       "      <td>45000</td>\n",
       "      <td>28000</td>\n",
       "    </tr>\n",
       "    <tr>\n",
       "      <th>3</th>\n",
       "      <td>Orlando</td>\n",
       "      <td>Bloom</td>\n",
       "      <td>[25]</td>\n",
       "      <td>28000</td>\n",
       "      <td>22000</td>\n",
       "    </tr>\n",
       "    <tr>\n",
       "      <th>4</th>\n",
       "      <td>Alex</td>\n",
       "      <td>Iwobi</td>\n",
       "      <td>[34]</td>\n",
       "      <td>36500</td>\n",
       "      <td>18850</td>\n",
       "    </tr>\n",
       "    <tr>\n",
       "      <th>5</th>\n",
       "      <td>Kachi</td>\n",
       "      <td>Felix</td>\n",
       "      <td>[50]</td>\n",
       "      <td>44235</td>\n",
       "      <td>33218</td>\n",
       "    </tr>\n",
       "    <tr>\n",
       "      <th>6</th>\n",
       "      <td>Olujare</td>\n",
       "      <td>Dada</td>\n",
       "      <td>[28]</td>\n",
       "      <td>27500</td>\n",
       "      <td>25800</td>\n",
       "    </tr>\n",
       "    <tr>\n",
       "      <th>7</th>\n",
       "      <td>Tomiwa</td>\n",
       "      <td>Sogaolu</td>\n",
       "      <td>[42]</td>\n",
       "      <td>50509</td>\n",
       "      <td>34850</td>\n",
       "    </tr>\n",
       "    <tr>\n",
       "      <th>8</th>\n",
       "      <td>Timilehin</td>\n",
       "      <td>Kupolokun</td>\n",
       "      <td>[49]</td>\n",
       "      <td>88390</td>\n",
       "      <td>76001</td>\n",
       "    </tr>\n",
       "    <tr>\n",
       "      <th>9</th>\n",
       "      <td>Nnena</td>\n",
       "      <td>Dickson</td>\n",
       "      <td>[39]</td>\n",
       "      <td>122200</td>\n",
       "      <td>85900</td>\n",
       "    </tr>\n",
       "  </tbody>\n",
       "</table>\n",
       "</div>"
      ],
      "text/plain": [
       "    Firstname   Lastname   age   sales   cost\n",
       "0  Olanrewaju     Kazeem  [24]   15000  11000\n",
       "1     Chibuzo     Ekenne  [30]   25800  15200\n",
       "2  Onyinyechi       Amos  [22]   45000  28000\n",
       "3     Orlando      Bloom  [25]   28000  22000\n",
       "4        Alex      Iwobi  [34]   36500  18850\n",
       "5       Kachi      Felix  [50]   44235  33218\n",
       "6     Olujare       Dada  [28]   27500  25800\n",
       "7      Tomiwa    Sogaolu  [42]   50509  34850\n",
       "8   Timilehin  Kupolokun  [49]   88390  76001\n",
       "9       Nnena    Dickson  [39]  122200  85900"
      ]
     },
     "execution_count": 5,
     "metadata": {},
     "output_type": "execute_result"
    }
   ],
   "source": [
    "import pandas as pd\n",
    "\n",
    "pd.read_csv(\"./working_with_tables.csv\")"
   ]
  },
  {
   "cell_type": "markdown",
   "metadata": {},
   "source": [
    "**Data from EXCEL**"
   ]
  },
  {
   "cell_type": "code",
   "execution_count": 3,
   "metadata": {},
   "outputs": [
    {
     "data": {
      "text/html": [
       "<div>\n",
       "<style scoped>\n",
       "    .dataframe tbody tr th:only-of-type {\n",
       "        vertical-align: middle;\n",
       "    }\n",
       "\n",
       "    .dataframe tbody tr th {\n",
       "        vertical-align: top;\n",
       "    }\n",
       "\n",
       "    .dataframe thead th {\n",
       "        text-align: right;\n",
       "    }\n",
       "</style>\n",
       "<table border=\"1\" class=\"dataframe\">\n",
       "  <thead>\n",
       "    <tr style=\"text-align: right;\">\n",
       "      <th></th>\n",
       "      <th>Name</th>\n",
       "      <th>Age</th>\n",
       "      <th>Favorite_food</th>\n",
       "    </tr>\n",
       "  </thead>\n",
       "  <tbody>\n",
       "    <tr>\n",
       "      <th>0</th>\n",
       "      <td>Olujare</td>\n",
       "      <td>27</td>\n",
       "      <td>Beans</td>\n",
       "    </tr>\n",
       "    <tr>\n",
       "      <th>1</th>\n",
       "      <td>Fiyin</td>\n",
       "      <td>18</td>\n",
       "      <td>Yam</td>\n",
       "    </tr>\n",
       "    <tr>\n",
       "      <th>2</th>\n",
       "      <td>Priscillia</td>\n",
       "      <td>12</td>\n",
       "      <td>Rice</td>\n",
       "    </tr>\n",
       "  </tbody>\n",
       "</table>\n",
       "</div>"
      ],
      "text/plain": [
       "         Name  Age Favorite_food\n",
       "0     Olujare   27         Beans\n",
       "1       Fiyin   18           Yam\n",
       "2  Priscillia   12          Rice"
      ]
     },
     "execution_count": 3,
     "metadata": {},
     "output_type": "execute_result"
    }
   ],
   "source": [
    "pd.read_excel(\"./data_science_people.xlsx\")"
   ]
  },
  {
   "cell_type": "markdown",
   "metadata": {},
   "source": [
    "**Data from HTML**"
   ]
  },
  {
   "cell_type": "code",
   "execution_count": 13,
   "metadata": {},
   "outputs": [
    {
     "data": {
      "text/plain": [
       "26"
      ]
     },
     "execution_count": 13,
     "metadata": {},
     "output_type": "execute_result"
    }
   ],
   "source": [
    "#This example captures a table found on Wikipedia. \n",
    "#Generally, pd.read_html is used to scrape data off the internet. Web scraping is something we shall discuss later in the course\n",
    "t = pd.read_html(\"https://en.wikipedia.org/wiki/UEFA_Champions_League\")\n",
    "\n",
    "#Taking the length of the result that pandas found on the Wikipedia page, we find that it had 26 results.\n",
    "len(t)"
   ]
  },
  {
   "cell_type": "code",
   "execution_count": null,
   "metadata": {},
   "outputs": [],
   "source": []
  },
  {
   "cell_type": "code",
   "execution_count": 14,
   "metadata": {},
   "outputs": [
    {
     "data": {
      "text/plain": [
       "[                                0  \\\n",
       " 0                             NaN   \n",
       " 1                 Organising body   \n",
       " 2                         Founded   \n",
       " 3                          Region   \n",
       " 4                 Number of teams   \n",
       " 5                   Qualifier for   \n",
       " 6            Related competitions   \n",
       " 7               Current champions   \n",
       " 8         Most successful club(s)   \n",
       " 9         Television broadcasters   \n",
       " 10                        Website   \n",
       " 11  2022–23 UEFA Champions League   \n",
       " \n",
       "                                                     1  \n",
       " 0                                                 NaN  \n",
       " 1                                                UEFA  \n",
       " 2               1955; 67 years ago(rebranded in 1992)  \n",
       " 3                                              Europe  \n",
       " 4   .mw-parser-output .plainlist ol,.mw-parser-out...  \n",
       " 5                   UEFA Super CupFIFA Club World Cup  \n",
       " 6   UEFA Europa League (2nd tier)UEFA Europa Confe...  \n",
       " 7                            Real Madrid (14th title)  \n",
       " 8                             Real Madrid (14 titles)  \n",
       " 9                                List of broadcasters  \n",
       " 10                       uefa.com/uefachampionsleague  \n",
       " 11                      2022–23 UEFA Champions League  ,\n",
       "    European Cup                   \n",
       "          Season            Winners\n",
       " 0       1955–56        Real Madrid\n",
       " 1       1956–57    Real Madrid (2)\n",
       " 2       1957–58    Real Madrid (3)\n",
       " 3       1958–59    Real Madrid (4)\n",
       " 4       1959–60    Real Madrid (5)\n",
       " ..          ...                ...\n",
       " 64      2018–19      Liverpool (6)\n",
       " 65      2019–20  Bayern Munich (6)\n",
       " 66      2020–21        Chelsea (2)\n",
       " 67      2021–22   Real Madrid (14)\n",
       " 68      2022–23                NaN\n",
       " \n",
       " [69 rows x 2 columns],\n",
       "                          Unnamed: 0                        Unnamed: 1  \\\n",
       " 0        Preliminary round(4 teams)        Preliminary round(4 teams)   \n",
       " 1  First qualifying round(34 teams)  First qualifying round(34 teams)   \n",
       " 2           Second qualifying round          Champions Path(20 teams)   \n",
       " 3           Second qualifying round              League Path(6 teams)   \n",
       " 4            Third qualifying round          Champions Path(12 teams)   \n",
       " 5            Third qualifying round              League Path(8 teams)   \n",
       " 6                    Play-off round           Champions Path(8 teams)   \n",
       " 7                    Play-off round              League Path(4 teams)   \n",
       " 8             Group stage(32 teams)             Group stage(32 teams)   \n",
       " 9          Knockout phase(16 teams)          Knockout phase(16 teams)   \n",
       " \n",
       "                         Teams entering in this round  \\\n",
       " 0                4 champions from associations 52–55   \n",
       " 1  33 champions from associations 18–51 (except L...   \n",
       " 2                3 champions from associations 15–17   \n",
       " 3               6 runners-up from associations 10–15   \n",
       " 4                2 champions from associations 13–14   \n",
       " 5  3 runners-up from associations 7–9 2 third-pla...   \n",
       " 6                2 champions from associations 11–12   \n",
       " 7                                                NaN   \n",
       " 8  UEFA Champions League title holders UEFA Europ...   \n",
       " 9                                                NaN   \n",
       " \n",
       "              Teams advancing from the previous round  \n",
       " 0                                                NaN  \n",
       " 1                1 winner from the preliminary round  \n",
       " 2         17 winners from the first qualifying round  \n",
       " 3                                                NaN  \n",
       " 4  10 winners from the second qualifying round (C...  \n",
       " 5  3 winners from the second qualifying round (Le...  \n",
       " 6  6 winners from the third qualifying round (Cha...  \n",
       " 7  4 winners from the third qualifying round (Lea...  \n",
       " 8  4 winners from the play-off round (Champions P...  \n",
       " 9  8 group winners from the group stage 8 group r...  ,\n",
       "    .mw-parser-output .navbar{display:inline;font-size:88%;font-weight:normal}.mw-parser-output .navbar-collapse{float:left;text-align:left}.mw-parser-output .navbar-boxtext{word-spacing:0}.mw-parser-output .navbar ul{display:inline-block;white-space:nowrap;line-height:inherit}.mw-parser-output .navbar-brackets::before{margin-right:-0.125em;content:\"[ \"}.mw-parser-output .navbar-brackets::after{margin-left:-0.125em;content:\" ]\"}.mw-parser-output .navbar li{word-spacing:-0.125em}.mw-parser-output .navbar a>span,.mw-parser-output .navbar a>abbr{text-decoration:inherit}.mw-parser-output .navbar-mini abbr{font-variant:small-caps;border-bottom:none;text-decoration:none;cursor:inherit}.mw-parser-output .navbar-ct-full{font-size:114%;margin:0 7em}.mw-parser-output .navbar-ct-mini{font-size:114%;margin:0 4em}vte Club  \\\n",
       " 0                                         Real Madrid                                                                                                                                                                                                                                                                                                                                                                                                                                                                                                                                                                                                                                                                                                                                                                                                 \n",
       " 1                                               Milan                                                                                                                                                                                                                                                                                                                                                                                                                                                                                                                                                                                                                                                                                                                                                                                                 \n",
       " 2                                       Bayern Munich                                                                                                                                                                                                                                                                                                                                                                                                                                                                                                                                                                                                                                                                                                                                                                                                 \n",
       " 3                                           Liverpool                                                                                                                                                                                                                                                                                                                                                                                                                                                                                                                                                                                                                                                                                                                                                                                                 \n",
       " 4                                           Barcelona                                                                                                                                                                                                                                                                                                                                                                                                                                                                                                                                                                                                                                                                                                                                                                                                 \n",
       " 5                                                Ajax                                                                                                                                                                                                                                                                                                                                                                                                                                                                                                                                                                                                                                                                                                                                                                                                 \n",
       " 6                                   Manchester United                                                                                                                                                                                                                                                                                                                                                                                                                                                                                                                                                                                                                                                                                                                                                                                                 \n",
       " 7                                         Inter Milan                                                                                                                                                                                                                                                                                                                                                                                                                                                                                                                                                                                                                                                                                                                                                                                                 \n",
       " 8                                            Juventus                                                                                                                                                                                                                                                                                                                                                                                                                                                                                                                                                                                                                                                                                                                                                                                                 \n",
       " 9                                             Benfica                                                                                                                                                                                                                                                                                                                                                                                                                                                                                                                                                                                                                                                                                                                                                                                                 \n",
       " 10                                            Chelsea                                                                                                                                                                                                                                                                                                                                                                                                                                                                                                                                                                                                                                                                                                                                                                                                 \n",
       " 11                                  Nottingham Forest                                                                                                                                                                                                                                                                                                                                                                                                                                                                                                                                                                                                                                                                                                                                                                                                 \n",
       " 12                                              Porto                                                                                                                                                                                                                                                                                                                                                                                                                                                                                                                                                                                                                                                                                                                                                                                                 \n",
       " 13                                             Celtic                                                                                                                                                                                                                                                                                                                                                                                                                                                                                                                                                                                                                                                                                                                                                                                                 \n",
       " 14                                       Hamburger SV                                                                                                                                                                                                                                                                                                                                                                                                                                                                                                                                                                                                                                                                                                                                                                                                 \n",
       " 15                                   Steaua București                                                                                                                                                                                                                                                                                                                                                                                                                                                                                                                                                                                                                                                                                                                                                                                                 \n",
       " 16                                          Marseille                                                                                                                                                                                                                                                                                                                                                                                                                                                                                                                                                                                                                                                                                                                                                                                                 \n",
       " 17                                  Borussia Dortmund                                                                                                                                                                                                                                                                                                                                                                                                                                                                                                                                                                                                                                                                                                                                                                                                 \n",
       " 18                                          Feyenoord                                                                                                                                                                                                                                                                                                                                                                                                                                                                                                                                                                                                                                                                                                                                                                                                 \n",
       " 19                                        Aston Villa                                                                                                                                                                                                                                                                                                                                                                                                                                                                                                                                                                                                                                                                                                                                                                                                 \n",
       " 20                                      PSV Eindhoven                                                                                                                                                                                                                                                                                                                                                                                                                                                                                                                                                                                                                                                                                                                                                                                                 \n",
       " 21                                  Red Star Belgrade                                                                                                                                                                                                                                                                                                                                                                                                                                                                                                                                                                                                                                                                                                                                                                                                 \n",
       " 22                                    Atlético Madrid                                                                                                                                                                                                                                                                                                                                                                                                                                                                                                                                                                                                                                                                                                                                                                                                 \n",
       " 23                                              Reims                                                                                                                                                                                                                                                                                                                                                                                                                                                                                                                                                                                                                                                                                                                                                                                                 \n",
       " 24                                           Valencia                                                                                                                                                                                                                                                                                                                                                                                                                                                                                                                                                                                                                                                                                                                                                                                                 \n",
       " 25                                         Fiorentina                                                                                                                                                                                                                                                                                                                                                                                                                                                                                                                                                                                                                                                                                                                                                                                                 \n",
       " 26                                Eintracht Frankfurt                                                                                                                                                                                                                                                                                                                                                                                                                                                                                                                                                                                                                                                                                                                                                                                                 \n",
       " 27                                           Partizan                                                                                                                                                                                                                                                                                                                                                                                                                                                                                                                                                                                                                                                                                                                                                                                                 \n",
       " 28                                      Panathinaikos                                                                                                                                                                                                                                                                                                                                                                                                                                                                                                                                                                                                                                                                                                                                                                                                 \n",
       " 29                                       Leeds United                                                                                                                                                                                                                                                                                                                                                                                                                                                                                                                                                                                                                                                                                                                                                                                                 \n",
       " 30                                      Saint-Étienne                                                                                                                                                                                                                                                                                                                                                                                                                                                                                                                                                                                                                                                                                                                                                                                                 \n",
       " 31                           Borussia Mönchengladbach                                                                                                                                                                                                                                                                                                                                                                                                                                                                                                                                                                                                                                                                                                                                                                                                 \n",
       " 32                                        Club Brugge                                                                                                                                                                                                                                                                                                                                                                                                                                                                                                                                                                                                                                                                                                                                                                                                 \n",
       " 33                                           Malmö FF                                                                                                                                                                                                                                                                                                                                                                                                                                                                                                                                                                                                                                                                                                                                                                                                 \n",
       " 34                                               Roma                                                                                                                                                                                                                                                                                                                                                                                                                                                                                                                                                                                                                                                                                                                                                                                                 \n",
       " 35                                          Sampdoria                                                                                                                                                                                                                                                                                                                                                                                                                                                                                                                                                                                                                                                                                                                                                                                                 \n",
       " 36                                   Bayer Leverkusen                                                                                                                                                                                                                                                                                                                                                                                                                                                                                                                                                                                                                                                                                                                                                                                                 \n",
       " 37                                             Monaco                                                                                                                                                                                                                                                                                                                                                                                                                                                                                                                                                                                                                                                                                                                                                                                                 \n",
       " 38                                            Arsenal                                                                                                                                                                                                                                                                                                                                                                                                                                                                                                                                                                                                                                                                                                                                                                                                 \n",
       " 39                                  Tottenham Hotspur                                                                                                                                                                                                                                                                                                                                                                                                                                                                                                                                                                                                                                                                                                                                                                                                 \n",
       " 40                                Paris Saint-Germain                                                                                                                                                                                                                                                                                                                                                                                                                                                                                                                                                                                                                                                                                                                                                                                                 \n",
       " 41                                    Manchester City                                                                                                                                                                                                                                                                                                                                                                                                                                                                                                                                                                                                                                                                                                                                                                                                 \n",
       " \n",
       "     Title(s)  Runners-up                                        Seasons won  \\\n",
       " 0         14           3  1956, 1957, 1958, 1959, 1960, 1966, 1998, 2000...   \n",
       " 1          7           4           1963, 1969, 1989, 1990, 1994, 2003, 2007   \n",
       " 2          6           5                 1974, 1975, 1976, 2001, 2013, 2020   \n",
       " 3          6           4                 1977, 1978, 1981, 1984, 2005, 2019   \n",
       " 4          5           3                       1992, 2006, 2009, 2011, 2015   \n",
       " 5          4           2                             1971, 1972, 1973, 1995   \n",
       " 6          3           2                                   1968, 1999, 2008   \n",
       " 7          3           2                                   1964, 1965, 2010   \n",
       " 8          2           7                                         1985, 1996   \n",
       " 9          2           5                                         1961, 1962   \n",
       " 10         2           1                                         2012, 2021   \n",
       " 11         2           0                                         1979, 1980   \n",
       " 12         2           0                                         1987, 2004   \n",
       " 13         1           1                                               1967   \n",
       " 14         1           1                                               1983   \n",
       " 15         1           1                                               1986   \n",
       " 16         1           1                                               1993   \n",
       " 17         1           1                                               1997   \n",
       " 18         1           0                                               1970   \n",
       " 19         1           0                                               1982   \n",
       " 20         1           0                                               1988   \n",
       " 21         1           0                                               1991   \n",
       " 22         0           3                                                  —   \n",
       " 23         0           2                                                  —   \n",
       " 24         0           2                                                  —   \n",
       " 25         0           1                                                  —   \n",
       " 26         0           1                                                  —   \n",
       " 27         0           1                                                  —   \n",
       " 28         0           1                                                  —   \n",
       " 29         0           1                                                  —   \n",
       " 30         0           1                                                  —   \n",
       " 31         0           1                                                  —   \n",
       " 32         0           1                                                  —   \n",
       " 33         0           1                                                  —   \n",
       " 34         0           1                                                  —   \n",
       " 35         0           1                                                  —   \n",
       " 36         0           1                                                  —   \n",
       " 37         0           1                                                  —   \n",
       " 38         0           1                                                  —   \n",
       " 39         0           1                                                  —   \n",
       " 40         0           1                                                  —   \n",
       " 41         0           1                                                  —   \n",
       " \n",
       "                            Seasons runner-up  \n",
       " 0                           1962, 1964, 1981  \n",
       " 1                     1958, 1993, 1995, 2005  \n",
       " 2               1982, 1987, 1999, 2010, 2012  \n",
       " 3                     1985, 2007, 2018, 2022  \n",
       " 4                           1961, 1986, 1994  \n",
       " 5                                 1969, 1996  \n",
       " 6                                 2009, 2011  \n",
       " 7                                 1967, 1972  \n",
       " 8   1973, 1983, 1997, 1998, 2003, 2015, 2017  \n",
       " 9               1963, 1965, 1968, 1988, 1990  \n",
       " 10                                      2008  \n",
       " 11                                         —  \n",
       " 12                                         —  \n",
       " 13                                      1970  \n",
       " 14                                      1980  \n",
       " 15                                      1989  \n",
       " 16                                      1991  \n",
       " 17                                      2013  \n",
       " 18                                         —  \n",
       " 19                                         —  \n",
       " 20                                         —  \n",
       " 21                                         —  \n",
       " 22                          1974, 2014, 2016  \n",
       " 23                                1956, 1959  \n",
       " 24                                2000, 2001  \n",
       " 25                                      1957  \n",
       " 26                                      1960  \n",
       " 27                                      1966  \n",
       " 28                                      1971  \n",
       " 29                                      1975  \n",
       " 30                                      1976  \n",
       " 31                                      1977  \n",
       " 32                                      1978  \n",
       " 33                                      1979  \n",
       " 34                                      1984  \n",
       " 35                                      1992  \n",
       " 36                                      2002  \n",
       " 37                                      2004  \n",
       " 38                                      2006  \n",
       " 39                                      2019  \n",
       " 40                                      2020  \n",
       " 41                                      2021  ,\n",
       "            Nation  Titles  Runners-up  Total\n",
       " 0           Spain      19          11     30\n",
       " 1         England      14          11     25\n",
       " 2           Italy      12          16     28\n",
       " 3      Germany[a]       8          10     18\n",
       " 4     Netherlands       6           2      8\n",
       " 5        Portugal       4           5      9\n",
       " 6          France       1           6      7\n",
       " 7         Romania       1           1      2\n",
       " 8        Scotland       1           1      2\n",
       " 9   Yugoslavia[b]       1           1      2\n",
       " 10        Belgium       0           1      1\n",
       " 11         Greece       0           1      1\n",
       " 12         Sweden       0           1      1,\n",
       "     No. of wins                 Player  \\\n",
       " 0             6        Francisco Gento   \n",
       " 1             5            Juan Alonso   \n",
       " 2             5          Rafael Lesmes   \n",
       " 3             5              Marquitos   \n",
       " 4             5            Héctor Rial   \n",
       " 5             5     Alfredo Di Stéfano   \n",
       " 6             5     José María Zárraga   \n",
       " 7             5  Alessandro Costacurta   \n",
       " 8             5          Paolo Maldini   \n",
       " 9             5      Cristiano Ronaldo   \n",
       " 10            5             Toni Kroos   \n",
       " 11            5            Gareth Bale   \n",
       " 12            5          Karim Benzema   \n",
       " 13            5          Dani Carvajal   \n",
       " 14            5               Casemiro   \n",
       " 15            5                   Isco   \n",
       " 16            5                Marcelo   \n",
       " 17            5            Luka Modrić   \n",
       " 18            5                  Nacho   \n",
       " 19            4                Joseíto   \n",
       " 20            4         Enrique Mateos   \n",
       " 21            4       Juan Santisteban   \n",
       " 22            4        José Santamaría   \n",
       " 23            4              Phil Neal   \n",
       " 24            4       Clarence Seedorf   \n",
       " 25            4           Samuel Eto'o   \n",
       " 26            4         Andrés Iniesta   \n",
       " 27            4           Lionel Messi   \n",
       " 28            4                   Xavi   \n",
       " 29            4           Gerard Piqué   \n",
       " 30            4           Sergio Ramos   \n",
       " 31            4         Raphaël Varane   \n",
       " 32            4          Mateo Kovačić   \n",
       " 33            4          Lucas Vázquez   \n",
       " \n",
       "                                               Club(s)  \n",
       " 0    Real Madrid (1956, 1957, 1958, 1959, 1960, 1966)  \n",
       " 1          Real Madrid (1956, 1957, 1958, 1959, 1960)  \n",
       " 2          Real Madrid (1956, 1957, 1958, 1959, 1960)  \n",
       " 3          Real Madrid (1956, 1957, 1958, 1959, 1960)  \n",
       " 4          Real Madrid (1956, 1957, 1958, 1959, 1960)  \n",
       " 5          Real Madrid (1956, 1957, 1958, 1959, 1960)  \n",
       " 6          Real Madrid (1956, 1957, 1958, 1959, 1960)  \n",
       " 7             AC Milan (1989, 1990, 1994, 2003, 2007)  \n",
       " 8             AC Milan (1989, 1990, 1994, 2003, 2007)  \n",
       " 9   Manchester United (2008)Real Madrid (2014, 201...  \n",
       " 10  Bayern Munich (2013)Real Madrid (2016, 2017, 2...  \n",
       " 11         Real Madrid (2014, 2016, 2017, 2018, 2022)  \n",
       " 12         Real Madrid (2014, 2016, 2017, 2018, 2022)  \n",
       " 13         Real Madrid (2014, 2016, 2017, 2018, 2022)  \n",
       " 14         Real Madrid (2014, 2016, 2017, 2018, 2022)  \n",
       " 15         Real Madrid (2014, 2016, 2017, 2018, 2022)  \n",
       " 16         Real Madrid (2014, 2016, 2017, 2018, 2022)  \n",
       " 17         Real Madrid (2014, 2016, 2017, 2018, 2022)  \n",
       " 18         Real Madrid (2014, 2016, 2017, 2018, 2022)  \n",
       " 19               Real Madrid (1956, 1957, 1958, 1959)  \n",
       " 20               Real Madrid (1957, 1958, 1959, 1960)  \n",
       " 21               Real Madrid (1957, 1958, 1959, 1960)  \n",
       " 22               Real Madrid (1958, 1959, 1960, 1966)  \n",
       " 23                 Liverpool (1977, 1978, 1981, 1984)  \n",
       " 24  Ajax (1995)Real Madrid (1998)AC Milan (2003, 2...  \n",
       " 25  Real Madrid (2000)Barcelona (2006, 2009)Inter ...  \n",
       " 26                 Barcelona (2006, 2009, 2011, 2015)  \n",
       " 27                 Barcelona (2006, 2009, 2011, 2015)  \n",
       " 28                 Barcelona (2006, 2009, 2011, 2015)  \n",
       " 29  Manchester United (2008)Barcelona (2009, 2011,...  \n",
       " 30               Real Madrid (2014, 2016, 2017, 2018)  \n",
       " 31               Real Madrid (2014, 2016, 2017, 2018)  \n",
       " 32      Real Madrid (2016, 2017, 2018) Chelsea (2021)  \n",
       " 33               Real Madrid (2016, 2017, 2018, 2022)  ,\n",
       "    Rank             Player     Nation  Apps      Years  \\\n",
       " 0     1  Cristiano Ronaldo   Portugal   183      2003–   \n",
       " 1     2      Iker Casillas      Spain   177  1999–2019   \n",
       " 2     3       Lionel Messi  Argentina   161      2005–   \n",
       " 3     4               Xavi      Spain   151  1998–2015   \n",
       " 4     5      Karim Benzema     France   146      2005–   \n",
       " 5     6               Raúl      Spain   142  1995–2011   \n",
       " 6     7         Ryan Giggs      Wales   141  1993–2014   \n",
       " 7     8      Thomas Müller    Germany   138      2009–   \n",
       " 8     9       Sergio Ramos      Spain   135      2005–   \n",
       " 9    10         Toni Kroos    Germany   133      2008–   \n",
       " \n",
       "                                       Club(s) (Apps)  \n",
       " 0  Manchester United (59)Real Madrid (101)Juventu...  \n",
       " 1                        Real Madrid (150)Porto (27)  \n",
       " 2            Barcelona (149)Paris Saint-Germain (12)  \n",
       " 3                                          Barcelona  \n",
       " 4                         Lyon (19)Real Madrid (127)  \n",
       " 5                   Real Madrid (130)Schalke 04 (12)  \n",
       " 6                                  Manchester United  \n",
       " 7                                      Bayern Munich  \n",
       " 8           Real Madrid (129)Paris Saint-Germain (6)  \n",
       " 9                 Bayern Munich (42)Real Madrid (91)  ,\n",
       "     Rank               Player  Goals  Apps  Ratio      Years  \\\n",
       " 0      1    Cristiano Ronaldo    140   183   0.77      2003–   \n",
       " 1      2         Lionel Messi    129   161   0.80      2005–   \n",
       " 2      3   Robert Lewandowski     91   111   0.82      2011–   \n",
       " 3      4        Karim Benzema     86   146   0.59      2005–   \n",
       " 4      5                 Raúl     71   142   0.50  1995–2011   \n",
       " 5      6  Ruud van Nistelrooy     56    73   0.77  1998–2009   \n",
       " 6      7        Thomas Müller     53   138   0.38      2009–   \n",
       " 7      8        Thierry Henry     50   112   0.45  1997–2012   \n",
       " 8      9   Alfredo Di Stéfano     49    58   0.84  1955–1964   \n",
       " 9     10    Andriy Shevchenko     48   100   0.48  1994–2012   \n",
       " 10    10   Zlatan Ibrahimović     48   124   0.39      2001–   \n",
       " \n",
       "                                  Club(s) (Goals/Apps)  \n",
       " 0   Manchester United (21/59), Real Madrid (105/10...  \n",
       " 1     Barcelona (120/149), Paris Saint-Germain (9/12)  \n",
       " 2   Borussia Dortmund (17/28), Bayern Munich (69/7...  \n",
       " 3                  Lyon (12/19), Real Madrid (74/127)  \n",
       " 4             Real Madrid (66/130), Schalke 04 (5/12)  \n",
       " 5   PSV Eindhoven (8/11), Manchester United (35/43...  \n",
       " 6                                       Bayern Munich  \n",
       " 7     Monaco (7/9), Arsenal (35/77), Barcelona (8/26)  \n",
       " 8                                         Real Madrid  \n",
       " 9   Dynamo Kyiv (15/26), Milan (29/59), Chelsea (4...  \n",
       " 10  Ajax (6/19), Juventus (3/19), Inter Milan (6/2...  ,\n",
       "                                       Season  \\\n",
       "   UEFA Champions League Player of the Season   \n",
       " 0                                    2021–22   \n",
       " \n",
       "                                       Player  \\\n",
       "   UEFA Champions League Player of the Season   \n",
       " 0                              Karim Benzema   \n",
       " \n",
       "                                         Club  \n",
       "   UEFA Champions League Player of the Season  \n",
       " 0                                Real Madrid  ,\n",
       "                                             Season  \\\n",
       "   UEFA Champions League Young Player of the Season   \n",
       " 0                                          2021–22   \n",
       " \n",
       "                                             Player  \\\n",
       "   UEFA Champions League Young Player of the Season   \n",
       " 0                                  Vinícius Júnior   \n",
       " \n",
       "                                               Club  \n",
       "   UEFA Champions League Young Player of the Season  \n",
       " 0                                      Real Madrid  ,\n",
       "             Articles related to UEFA Champions League  \\\n",
       " 0   vteEuropean Cup and UEFA Champions LeagueEurop...   \n",
       " 1           vteEuropean Cup and UEFA Champions League   \n",
       " 2   European Cup era, 1955–1992Seasons 1955–56 195...   \n",
       " 3                         European Cup era, 1955–1992   \n",
       " 4                                             Seasons   \n",
       " ..                                                ...   \n",
       " 76                                  American football   \n",
       " 77                                          Athletics   \n",
       " 78                                              Chess   \n",
       " 79                                       Rugby league   \n",
       " 80                                           Lacrosse   \n",
       " \n",
       "           Articles related to UEFA Champions League.1 Unnamed: 2  \n",
       " 0   vteEuropean Cup and UEFA Champions LeagueEurop...        NaN  \n",
       " 1           vteEuropean Cup and UEFA Champions League        NaN  \n",
       " 2   European Cup era, 1955–1992Seasons 1955–56 195...        NaN  \n",
       " 3                         European Cup era, 1955–1992        NaN  \n",
       " 4   1955–56 1956–57 1957–58 1958–59 1959–60 1960–6...        NaN  \n",
       " ..                                                ...        ...  \n",
       " 76  European League of Football BIG6 European Foot...        NaN  \n",
       " 77  Men and women Champion Clubs Cup Champion Club...        NaN  \n",
       " 78  Men European Chess Club Cup Women European Che...        NaN  \n",
       " 79                              European Super League        NaN  \n",
       " 80                                  Ken Galluccio Cup        NaN  \n",
       " \n",
       " [81 rows x 3 columns],\n",
       "            vteEuropean Cup and UEFA Champions League  \\\n",
       " 0  European Cup era, 1955–1992Seasons 1955–56 195...   \n",
       " 1                        European Cup era, 1955–1992   \n",
       " 2                                            Seasons   \n",
       " 3                                             Finals   \n",
       " 4  UEFA Champions League era, 1992–presentSeasons...   \n",
       " 5            UEFA Champions League era, 1992–present   \n",
       " 6                                            Seasons   \n",
       " 7                                             Finals   \n",
       " 8  History Finals Winning managers Records and st...   \n",
       " \n",
       "          vteEuropean Cup and UEFA Champions League.1  \n",
       " 0  European Cup era, 1955–1992Seasons 1955–56 195...  \n",
       " 1                        European Cup era, 1955–1992  \n",
       " 2  1955–56 1956–57 1957–58 1958–59 1959–60 1960–6...  \n",
       " 3  1956 1957 1958 1959 1960 1961 1962 1963 1964 1...  \n",
       " 4  UEFA Champions League era, 1992–presentSeasons...  \n",
       " 5            UEFA Champions League era, 1992–present  \n",
       " 6  1992–93 1993–94 1994–95 1995–96 1996–97 1997–9...  \n",
       " 7  1993 1994 1995 1996 1997 1998 1999 2000 2001 2...  \n",
       " 8  History Finals Winning managers Records and st...  ,\n",
       "                              0  \\\n",
       " 0  European Cup era, 1955–1992   \n",
       " 1                      Seasons   \n",
       " 2                       Finals   \n",
       " \n",
       "                                                    1  \n",
       " 0                        European Cup era, 1955–1992  \n",
       " 1  1955–56 1956–57 1957–58 1958–59 1959–60 1960–6...  \n",
       " 2  1956 1957 1958 1959 1960 1961 1962 1963 1964 1...  ,\n",
       "                                          0  \\\n",
       " 0  UEFA Champions League era, 1992–present   \n",
       " 1                                  Seasons   \n",
       " 2                                   Finals   \n",
       " \n",
       "                                                    1  \n",
       " 0            UEFA Champions League era, 1992–present  \n",
       " 1  1992–93 1993–94 1994–95 1995–96 1996–97 1997–9...  \n",
       " 2  1993 1994 1995 1996 1997 1998 1999 2000 2001 2...  ,\n",
       "     vteEuropean Cup and UEFA Champions League winners  \\\n",
       " 0   European Cup era, 1955–19921950s 1955–56: Real...   \n",
       " 1                         European Cup era, 1955–1992   \n",
       " 2                                               1950s   \n",
       " 3                                               1960s   \n",
       " 4                                               1970s   \n",
       " 5                                               1980s   \n",
       " 6                                               1990s   \n",
       " 7   UEFA Champions League era, 1992–present1990s 1...   \n",
       " 8             UEFA Champions League era, 1992–present   \n",
       " 9                                               1990s   \n",
       " 10                                              2000s   \n",
       " 11                                              2010s   \n",
       " 12                                              2020s   \n",
       " 13                            Finals Winning managers   \n",
       " \n",
       "    vteEuropean Cup and UEFA Champions League winners.1  \n",
       " 0   European Cup era, 1955–19921950s 1955–56: Real...   \n",
       " 1                         European Cup era, 1955–1992   \n",
       " 2   1955–56: Real Madrid 1956–57: Real Madrid 1957...   \n",
       " 3   1960–61: Benfica 1961–62: Benfica 1962–63: AC ...   \n",
       " 4   1970–71: Ajax 1971–72: Ajax 1972–73: Ajax 1973...   \n",
       " 5   1980–81: Liverpool 1981–82: Aston Villa 1982–8...   \n",
       " 6       1990–91: Red Star Belgrade 1991–92: Barcelona   \n",
       " 7   UEFA Champions League era, 1992–present1990s 1...   \n",
       " 8             UEFA Champions League era, 1992–present   \n",
       " 9   1992–93: Marseille 1993–94: AC Milan 1994–95: ...   \n",
       " 10  2000–01: Bayern Munich 2001–02: Real Madrid 20...   \n",
       " 11  2010–11: Barcelona 2011–12: Chelsea 2012–13: B...   \n",
       " 12              2020–21: Chelsea 2021–22: Real Madrid   \n",
       " 13                            Finals Winning managers   ,\n",
       "                              0  \\\n",
       " 0  European Cup era, 1955–1992   \n",
       " 1                        1950s   \n",
       " 2                        1960s   \n",
       " 3                        1970s   \n",
       " 4                        1980s   \n",
       " 5                        1990s   \n",
       " \n",
       "                                                    1  \n",
       " 0                        European Cup era, 1955–1992  \n",
       " 1  1955–56: Real Madrid 1956–57: Real Madrid 1957...  \n",
       " 2  1960–61: Benfica 1961–62: Benfica 1962–63: AC ...  \n",
       " 3  1970–71: Ajax 1971–72: Ajax 1972–73: Ajax 1973...  \n",
       " 4  1980–81: Liverpool 1981–82: Aston Villa 1982–8...  \n",
       " 5      1990–91: Red Star Belgrade 1991–92: Barcelona  ,\n",
       "                                          0  \\\n",
       " 0  UEFA Champions League era, 1992–present   \n",
       " 1                                    1990s   \n",
       " 2                                    2000s   \n",
       " 3                                    2010s   \n",
       " 4                                    2020s   \n",
       " \n",
       "                                                    1  \n",
       " 0            UEFA Champions League era, 1992–present  \n",
       " 1  1992–93: Marseille 1993–94: AC Milan 1994–95: ...  \n",
       " 2  2000–01: Bayern Munich 2001–02: Real Madrid 20...  \n",
       " 3  2010–11: Barcelona 2011–12: Chelsea 2012–13: B...  \n",
       " 4              2020–21: Chelsea 2021–22: Real Madrid  ,\n",
       "                                 vteUEFA competitions  \\\n",
       " 0                                           Football   \n",
       " 1                                     National teams   \n",
       " 2                                              Clubs   \n",
       " 3                                           Amateurs   \n",
       " 4                                             Futsal   \n",
       " 5                                     National teams   \n",
       " 6                                              Clubs   \n",
       " 7  UEFA men's club competitions Records and stati...   \n",
       " \n",
       "                               vteUEFA competitions.1  \n",
       " 0  National teams European Championship U-21 U-19...  \n",
       " 1  European Championship U-21 U-19 U-17 Nations L...  \n",
       " 2  Champions League Europa League Europa Conferen...  \n",
       " 3                 Regions' Cup Amateur Cup (defunct)  \n",
       " 4  National teams Futsal Championship U-21 (defun...  \n",
       " 5  Futsal Championship U-21 (defunct) U-19 Futsal...  \n",
       " 6                            Futsal Champions League  \n",
       " 7  UEFA men's club competitions Records and stati...  ,\n",
       "                 0                                                  1\n",
       " 0  National teams  European Championship U-21 U-19 U-17 Nations L...\n",
       " 1           Clubs  Champions League Europa League Europa Conferen...\n",
       " 2        Amateurs                 Regions' Cup Amateur Cup (defunct),\n",
       "                 0                                                  1\n",
       " 0  National teams  Futsal Championship U-21 (defunct) U-19 Futsal...\n",
       " 1           Clubs                            Futsal Champions League,\n",
       "                 vteInternational men's club football  \\\n",
       " 0  FIFA FIFA Club World Cup Intercontinental Cup ...   \n",
       " 1                                             Africa   \n",
       " 2                                               Asia   \n",
       " 3                                             Europe   \n",
       " 4             North,Central Americaand the Caribbean   \n",
       " 5                                            Oceania   \n",
       " 6                                      South America   \n",
       " 7      See also: International women's club football   \n",
       " \n",
       "               vteInternational men's club football.1  \\\n",
       " 0  FIFA FIFA Club World Cup Intercontinental Cup ...   \n",
       " 1  CAF – Champions League Confederation Cup Super...   \n",
       " 2  AFC – Champions League AFC Cup Top-division clubs   \n",
       " 3  UEFA – Champions League Europa League Europa C...   \n",
       " 4  CONCACAF – Champions League Leagues Cup Centra...   \n",
       " 5          OFC – Champions League Top-division clubs   \n",
       " 6  CONMEBOL – Copa Libertadores Copa Sudamericana...   \n",
       " 7      See also: International women's club football   \n",
       " \n",
       "               vteInternational men's club football.2  \n",
       " 0  FIFA FIFA Club World Cup Intercontinental Cup ...  \n",
       " 1                                                NaN  \n",
       " 2                                                NaN  \n",
       " 3                                                NaN  \n",
       " 4                                                NaN  \n",
       " 5                                                NaN  \n",
       " 6                                                NaN  \n",
       " 7      See also: International women's club football  ,\n",
       "                              vteIntercontinental Cup  \\\n",
       " 0                                Two-legged editions   \n",
       " 1                              Single match editions   \n",
       " 2                                      Qualification   \n",
       " 3                               Related competitions   \n",
       " 4  Goalscorers Records and statistics List of mat...   \n",
       " \n",
       "                            vteIntercontinental Cup.1  \n",
       " 0  1960 1961 1962 1963 1964 1965 1966 1967 1968 1...  \n",
       " 1  1980 1981 1982 1983 1984 1985 1986 1987 1988 1...  \n",
       " 2                                      CONMEBOL UEFA  \n",
       " 3  Intercontinental Champions' Supercup FIFA Club...  \n",
       " 4  Goalscorers Records and statistics List of mat...  ,\n",
       "                           vteFIFA Club World Cup  \\\n",
       " 0  Predecessor: Intercontinental Cup (1960–2004)   \n",
       " 1                                    Tournaments   \n",
       " 2                                         Finals   \n",
       " 3                                         Squads   \n",
       " 4                                  Qualification   \n",
       " 5                                     Statistics   \n",
       " 6                   Category  Portal  Multimedia   \n",
       " \n",
       "                             vteFIFA Club World Cup.1  \n",
       " 0      Predecessor: Intercontinental Cup (1960–2004)  \n",
       " 1  Brazil 2000 Spain 2001 Japan 2005 Japan 2006 J...  \n",
       " 2  2000 2001 2005 2006 2007 2008 2009 2010 2011 2...  \n",
       " 3  2000 2001 2005 2006 2007 2008 2009 2010 2011 2...  \n",
       " 4  AFC Champions League CAF Champions League CONC...  \n",
       " 5  Awards Goalscorers Hat-tricks Historical table...  \n",
       " 6                       Category  Portal  Multimedia  ,\n",
       "    vteEuropean sports club competitions  \\\n",
       " 0                              Football   \n",
       " 1                     UEFA competitions   \n",
       " 2                     Football variants   \n",
       " 3                            Basketball   \n",
       " 4                            Volleyball   \n",
       " 5                              Handball   \n",
       " 6                            Water polo   \n",
       " 7                           Rugby union   \n",
       " 8                            Ice hockey   \n",
       " 9                         Indoor hockey   \n",
       " 10                         Field hockey   \n",
       " 11                        Roller hockey   \n",
       " 12                         Table tennis   \n",
       " 13                            Badminton   \n",
       " 14                             Baseball   \n",
       " 15                             Softball   \n",
       " 16                             Korfball   \n",
       " 17                    American football   \n",
       " 18                            Athletics   \n",
       " 19                                Chess   \n",
       " 20                         Rugby league   \n",
       " 21                             Lacrosse   \n",
       " \n",
       "                vteEuropean sports club competitions.1  \n",
       " 0   UEFA competitions Men Champions League Europa ...  \n",
       " 1   Men Champions League Europa League Europa Conf...  \n",
       " 2   Futsal Champions League Women's European Champ...  \n",
       " 3   Men EuroLeague EuroCup Champions League FIBA E...  \n",
       " 4   Men Champions League CEV Cup Challenge Cup Wom...  \n",
       " 5   Men Champions League European League European ...  \n",
       " 6   Men Champions League Euro Cup Super Cup Women ...  \n",
       " 7   European Rugby Champions Cup European Rugby Ch...  \n",
       " 8   Men Champions Hockey League Continental Cup Wo...  \n",
       " 9   Men EuroHockey Indoor Club Cup Women EuroHocke...  \n",
       " 10  Men Euro Hockey League Trophy I Trophy II Chal...  \n",
       " 11  Men Euroleague World Skate Europe Cup Continen...  \n",
       " 12            Men and women Champions League ETTU Cup  \n",
       " 13                                         Europe Cup  \n",
       " 14                                       European Cup  \n",
       " 15  Men European Cup Cup Winners Cup Women Europea...  \n",
       " 16   Mixed Korfball Europa Cup Korfball Europa Shield  \n",
       " 17  European League of Football BIG6 European Foot...  \n",
       " 18  Men and women Champion Clubs Cup Champion Club...  \n",
       " 19  Men European Chess Club Cup Women European Che...  \n",
       " 20                              European Super League  \n",
       " 21                                  Ken Galluccio Cup  ,\n",
       "                    0                                                  1\n",
       " 0  UEFA competitions  Men Champions League Europa League Europa Conf...\n",
       " 1  Football variants  Futsal Champions League Women's European Champ...,\n",
       "     Authority control            Authority control.1\n",
       " 0             General                VIAF 1 WorldCat\n",
       " 1  National libraries  Germany Israel Czech Republic]"
      ]
     },
     "execution_count": 14,
     "metadata": {},
     "output_type": "execute_result"
    }
   ],
   "source": [
    "#Viewing these results to understand them and to pinpoint what we want.\n",
    "\n",
    "t"
   ]
  },
  {
   "cell_type": "code",
   "execution_count": 31,
   "metadata": {},
   "outputs": [
    {
     "data": {
      "text/plain": [
       "[   .mw-parser-output .navbar{display:inline;font-size:88%;font-weight:normal}.mw-parser-output .navbar-collapse{float:left;text-align:left}.mw-parser-output .navbar-boxtext{word-spacing:0}.mw-parser-output .navbar ul{display:inline-block;white-space:nowrap;line-height:inherit}.mw-parser-output .navbar-brackets::before{margin-right:-0.125em;content:\"[ \"}.mw-parser-output .navbar-brackets::after{margin-left:-0.125em;content:\" ]\"}.mw-parser-output .navbar li{word-spacing:-0.125em}.mw-parser-output .navbar a>span,.mw-parser-output .navbar a>abbr{text-decoration:inherit}.mw-parser-output .navbar-mini abbr{font-variant:small-caps;border-bottom:none;text-decoration:none;cursor:inherit}.mw-parser-output .navbar-ct-full{font-size:114%;margin:0 7em}.mw-parser-output .navbar-ct-mini{font-size:114%;margin:0 4em}vte Club  \\\n",
       " 0                                         Real Madrid                                                                                                                                                                                                                                                                                                                                                                                                                                                                                                                                                                                                                                                                                                                                                                                                 \n",
       " 1                                               Milan                                                                                                                                                                                                                                                                                                                                                                                                                                                                                                                                                                                                                                                                                                                                                                                                 \n",
       " 2                                       Bayern Munich                                                                                                                                                                                                                                                                                                                                                                                                                                                                                                                                                                                                                                                                                                                                                                                                 \n",
       " 3                                           Liverpool                                                                                                                                                                                                                                                                                                                                                                                                                                                                                                                                                                                                                                                                                                                                                                                                 \n",
       " 4                                           Barcelona                                                                                                                                                                                                                                                                                                                                                                                                                                                                                                                                                                                                                                                                                                                                                                                                 \n",
       " 5                                                Ajax                                                                                                                                                                                                                                                                                                                                                                                                                                                                                                                                                                                                                                                                                                                                                                                                 \n",
       " 6                                   Manchester United                                                                                                                                                                                                                                                                                                                                                                                                                                                                                                                                                                                                                                                                                                                                                                                                 \n",
       " 7                                         Inter Milan                                                                                                                                                                                                                                                                                                                                                                                                                                                                                                                                                                                                                                                                                                                                                                                                 \n",
       " 8                                            Juventus                                                                                                                                                                                                                                                                                                                                                                                                                                                                                                                                                                                                                                                                                                                                                                                                 \n",
       " 9                                             Benfica                                                                                                                                                                                                                                                                                                                                                                                                                                                                                                                                                                                                                                                                                                                                                                                                 \n",
       " 10                                            Chelsea                                                                                                                                                                                                                                                                                                                                                                                                                                                                                                                                                                                                                                                                                                                                                                                                 \n",
       " 11                                  Nottingham Forest                                                                                                                                                                                                                                                                                                                                                                                                                                                                                                                                                                                                                                                                                                                                                                                                 \n",
       " 12                                              Porto                                                                                                                                                                                                                                                                                                                                                                                                                                                                                                                                                                                                                                                                                                                                                                                                 \n",
       " 13                                             Celtic                                                                                                                                                                                                                                                                                                                                                                                                                                                                                                                                                                                                                                                                                                                                                                                                 \n",
       " 14                                       Hamburger SV                                                                                                                                                                                                                                                                                                                                                                                                                                                                                                                                                                                                                                                                                                                                                                                                 \n",
       " 15                                   Steaua București                                                                                                                                                                                                                                                                                                                                                                                                                                                                                                                                                                                                                                                                                                                                                                                                 \n",
       " 16                                          Marseille                                                                                                                                                                                                                                                                                                                                                                                                                                                                                                                                                                                                                                                                                                                                                                                                 \n",
       " 17                                  Borussia Dortmund                                                                                                                                                                                                                                                                                                                                                                                                                                                                                                                                                                                                                                                                                                                                                                                                 \n",
       " 18                                          Feyenoord                                                                                                                                                                                                                                                                                                                                                                                                                                                                                                                                                                                                                                                                                                                                                                                                 \n",
       " 19                                        Aston Villa                                                                                                                                                                                                                                                                                                                                                                                                                                                                                                                                                                                                                                                                                                                                                                                                 \n",
       " 20                                      PSV Eindhoven                                                                                                                                                                                                                                                                                                                                                                                                                                                                                                                                                                                                                                                                                                                                                                                                 \n",
       " 21                                  Red Star Belgrade                                                                                                                                                                                                                                                                                                                                                                                                                                                                                                                                                                                                                                                                                                                                                                                                 \n",
       " 22                                    Atlético Madrid                                                                                                                                                                                                                                                                                                                                                                                                                                                                                                                                                                                                                                                                                                                                                                                                 \n",
       " 23                                              Reims                                                                                                                                                                                                                                                                                                                                                                                                                                                                                                                                                                                                                                                                                                                                                                                                 \n",
       " 24                                           Valencia                                                                                                                                                                                                                                                                                                                                                                                                                                                                                                                                                                                                                                                                                                                                                                                                 \n",
       " 25                                         Fiorentina                                                                                                                                                                                                                                                                                                                                                                                                                                                                                                                                                                                                                                                                                                                                                                                                 \n",
       " 26                                Eintracht Frankfurt                                                                                                                                                                                                                                                                                                                                                                                                                                                                                                                                                                                                                                                                                                                                                                                                 \n",
       " 27                                           Partizan                                                                                                                                                                                                                                                                                                                                                                                                                                                                                                                                                                                                                                                                                                                                                                                                 \n",
       " 28                                      Panathinaikos                                                                                                                                                                                                                                                                                                                                                                                                                                                                                                                                                                                                                                                                                                                                                                                                 \n",
       " 29                                       Leeds United                                                                                                                                                                                                                                                                                                                                                                                                                                                                                                                                                                                                                                                                                                                                                                                                 \n",
       " 30                                      Saint-Étienne                                                                                                                                                                                                                                                                                                                                                                                                                                                                                                                                                                                                                                                                                                                                                                                                 \n",
       " 31                           Borussia Mönchengladbach                                                                                                                                                                                                                                                                                                                                                                                                                                                                                                                                                                                                                                                                                                                                                                                                 \n",
       " 32                                        Club Brugge                                                                                                                                                                                                                                                                                                                                                                                                                                                                                                                                                                                                                                                                                                                                                                                                 \n",
       " 33                                           Malmö FF                                                                                                                                                                                                                                                                                                                                                                                                                                                                                                                                                                                                                                                                                                                                                                                                 \n",
       " 34                                               Roma                                                                                                                                                                                                                                                                                                                                                                                                                                                                                                                                                                                                                                                                                                                                                                                                 \n",
       " 35                                          Sampdoria                                                                                                                                                                                                                                                                                                                                                                                                                                                                                                                                                                                                                                                                                                                                                                                                 \n",
       " 36                                   Bayer Leverkusen                                                                                                                                                                                                                                                                                                                                                                                                                                                                                                                                                                                                                                                                                                                                                                                                 \n",
       " 37                                             Monaco                                                                                                                                                                                                                                                                                                                                                                                                                                                                                                                                                                                                                                                                                                                                                                                                 \n",
       " 38                                            Arsenal                                                                                                                                                                                                                                                                                                                                                                                                                                                                                                                                                                                                                                                                                                                                                                                                 \n",
       " 39                                  Tottenham Hotspur                                                                                                                                                                                                                                                                                                                                                                                                                                                                                                                                                                                                                                                                                                                                                                                                 \n",
       " 40                                Paris Saint-Germain                                                                                                                                                                                                                                                                                                                                                                                                                                                                                                                                                                                                                                                                                                                                                                                                 \n",
       " 41                                    Manchester City                                                                                                                                                                                                                                                                                                                                                                                                                                                                                                                                                                                                                                                                                                                                                                                                 \n",
       " \n",
       "     Title(s)  Runners-up                                        Seasons won  \\\n",
       " 0         14           3  1956, 1957, 1958, 1959, 1960, 1966, 1998, 2000...   \n",
       " 1          7           4           1963, 1969, 1989, 1990, 1994, 2003, 2007   \n",
       " 2          6           5                 1974, 1975, 1976, 2001, 2013, 2020   \n",
       " 3          6           4                 1977, 1978, 1981, 1984, 2005, 2019   \n",
       " 4          5           3                       1992, 2006, 2009, 2011, 2015   \n",
       " 5          4           2                             1971, 1972, 1973, 1995   \n",
       " 6          3           2                                   1968, 1999, 2008   \n",
       " 7          3           2                                   1964, 1965, 2010   \n",
       " 8          2           7                                         1985, 1996   \n",
       " 9          2           5                                         1961, 1962   \n",
       " 10         2           1                                         2012, 2021   \n",
       " 11         2           0                                         1979, 1980   \n",
       " 12         2           0                                         1987, 2004   \n",
       " 13         1           1                                               1967   \n",
       " 14         1           1                                               1983   \n",
       " 15         1           1                                               1986   \n",
       " 16         1           1                                               1993   \n",
       " 17         1           1                                               1997   \n",
       " 18         1           0                                               1970   \n",
       " 19         1           0                                               1982   \n",
       " 20         1           0                                               1988   \n",
       " 21         1           0                                               1991   \n",
       " 22         0           3                                                  —   \n",
       " 23         0           2                                                  —   \n",
       " 24         0           2                                                  —   \n",
       " 25         0           1                                                  —   \n",
       " 26         0           1                                                  —   \n",
       " 27         0           1                                                  —   \n",
       " 28         0           1                                                  —   \n",
       " 29         0           1                                                  —   \n",
       " 30         0           1                                                  —   \n",
       " 31         0           1                                                  —   \n",
       " 32         0           1                                                  —   \n",
       " 33         0           1                                                  —   \n",
       " 34         0           1                                                  —   \n",
       " 35         0           1                                                  —   \n",
       " 36         0           1                                                  —   \n",
       " 37         0           1                                                  —   \n",
       " 38         0           1                                                  —   \n",
       " 39         0           1                                                  —   \n",
       " 40         0           1                                                  —   \n",
       " 41         0           1                                                  —   \n",
       " \n",
       "                            Seasons runner-up  \n",
       " 0                           1962, 1964, 1981  \n",
       " 1                     1958, 1993, 1995, 2005  \n",
       " 2               1982, 1987, 1999, 2010, 2012  \n",
       " 3                     1985, 2007, 2018, 2022  \n",
       " 4                           1961, 1986, 1994  \n",
       " 5                                 1969, 1996  \n",
       " 6                                 2009, 2011  \n",
       " 7                                 1967, 1972  \n",
       " 8   1973, 1983, 1997, 1998, 2003, 2015, 2017  \n",
       " 9               1963, 1965, 1968, 1988, 1990  \n",
       " 10                                      2008  \n",
       " 11                                         —  \n",
       " 12                                         —  \n",
       " 13                                      1970  \n",
       " 14                                      1980  \n",
       " 15                                      1989  \n",
       " 16                                      1991  \n",
       " 17                                      2013  \n",
       " 18                                         —  \n",
       " 19                                         —  \n",
       " 20                                         —  \n",
       " 21                                         —  \n",
       " 22                          1974, 2014, 2016  \n",
       " 23                                1956, 1959  \n",
       " 24                                2000, 2001  \n",
       " 25                                      1957  \n",
       " 26                                      1960  \n",
       " 27                                      1966  \n",
       " 28                                      1971  \n",
       " 29                                      1975  \n",
       " 30                                      1976  \n",
       " 31                                      1977  \n",
       " 32                                      1978  \n",
       " 33                                      1979  \n",
       " 34                                      1984  \n",
       " 35                                      1992  \n",
       " 36                                      2002  \n",
       " 37                                      2004  \n",
       " 38                                      2006  \n",
       " 39                                      2019  \n",
       " 40                                      2020  \n",
       " 41                                      2021  ]"
      ]
     },
     "execution_count": 31,
     "metadata": {},
     "output_type": "execute_result"
    }
   ],
   "source": [
    "#We can use the \"match\" parameter to find the exact table we are looking for. Most tables have a heading and this is what goes\n",
    "#into the \"match\" parameter of pandas and how pandas can help us find the exact table we want.\n",
    "\n",
    "\n",
    "t = pd.read_html(\"https://en.wikipedia.org/wiki/UEFA_Champions_League\", match = \"Performances in the European Cup and UEFA Champions League by club\")\n",
    "\n",
    "#Checking what result pandas brought back.\n",
    "t"
   ]
  },
  {
   "cell_type": "code",
   "execution_count": 33,
   "metadata": {
    "scrolled": true
   },
   "outputs": [],
   "source": [
    "#Observing the result above, we can see that the result is in a list. Remember that lists can take in any datatype.\n",
    "#Therefore, to get the table out of the list, we simply apply list slicing.\n",
    "\n",
    "t[0]\n",
    "\n",
    "#new_table = t[0]"
   ]
  },
  {
   "cell_type": "code",
   "execution_count": 34,
   "metadata": {
    "scrolled": true
   },
   "outputs": [
    {
     "data": {
      "text/html": [
       "<div>\n",
       "<style scoped>\n",
       "    .dataframe tbody tr th:only-of-type {\n",
       "        vertical-align: middle;\n",
       "    }\n",
       "\n",
       "    .dataframe tbody tr th {\n",
       "        vertical-align: top;\n",
       "    }\n",
       "\n",
       "    .dataframe thead th {\n",
       "        text-align: right;\n",
       "    }\n",
       "</style>\n",
       "<table border=\"1\" class=\"dataframe\">\n",
       "  <thead>\n",
       "    <tr style=\"text-align: right;\">\n",
       "      <th></th>\n",
       "      <th>Team Name</th>\n",
       "      <th>Title(s)</th>\n",
       "      <th>Runners-up</th>\n",
       "      <th>Season won</th>\n",
       "      <th>Season runner-up</th>\n",
       "    </tr>\n",
       "  </thead>\n",
       "  <tbody>\n",
       "    <tr>\n",
       "      <th>0</th>\n",
       "      <td>Real Madrid</td>\n",
       "      <td>14</td>\n",
       "      <td>3</td>\n",
       "      <td>1956, 1957, 1958, 1959, 1960, 1966, 1998, 2000...</td>\n",
       "      <td>1962, 1964, 1981</td>\n",
       "    </tr>\n",
       "    <tr>\n",
       "      <th>1</th>\n",
       "      <td>Milan</td>\n",
       "      <td>7</td>\n",
       "      <td>4</td>\n",
       "      <td>1963, 1969, 1989, 1990, 1994, 2003, 2007</td>\n",
       "      <td>1958, 1993, 1995, 2005</td>\n",
       "    </tr>\n",
       "    <tr>\n",
       "      <th>2</th>\n",
       "      <td>Bayern Munich</td>\n",
       "      <td>6</td>\n",
       "      <td>5</td>\n",
       "      <td>1974, 1975, 1976, 2001, 2013, 2020</td>\n",
       "      <td>1982, 1987, 1999, 2010, 2012</td>\n",
       "    </tr>\n",
       "    <tr>\n",
       "      <th>3</th>\n",
       "      <td>Liverpool</td>\n",
       "      <td>6</td>\n",
       "      <td>4</td>\n",
       "      <td>1977, 1978, 1981, 1984, 2005, 2019</td>\n",
       "      <td>1985, 2007, 2018, 2022</td>\n",
       "    </tr>\n",
       "    <tr>\n",
       "      <th>4</th>\n",
       "      <td>Barcelona</td>\n",
       "      <td>5</td>\n",
       "      <td>3</td>\n",
       "      <td>1992, 2006, 2009, 2011, 2015</td>\n",
       "      <td>1961, 1986, 1994</td>\n",
       "    </tr>\n",
       "    <tr>\n",
       "      <th>5</th>\n",
       "      <td>Ajax</td>\n",
       "      <td>4</td>\n",
       "      <td>2</td>\n",
       "      <td>1971, 1972, 1973, 1995</td>\n",
       "      <td>1969, 1996</td>\n",
       "    </tr>\n",
       "    <tr>\n",
       "      <th>6</th>\n",
       "      <td>Manchester United</td>\n",
       "      <td>3</td>\n",
       "      <td>2</td>\n",
       "      <td>1968, 1999, 2008</td>\n",
       "      <td>2009, 2011</td>\n",
       "    </tr>\n",
       "    <tr>\n",
       "      <th>7</th>\n",
       "      <td>Inter Milan</td>\n",
       "      <td>3</td>\n",
       "      <td>2</td>\n",
       "      <td>1964, 1965, 2010</td>\n",
       "      <td>1967, 1972</td>\n",
       "    </tr>\n",
       "    <tr>\n",
       "      <th>8</th>\n",
       "      <td>Juventus</td>\n",
       "      <td>2</td>\n",
       "      <td>7</td>\n",
       "      <td>1985, 1996</td>\n",
       "      <td>1973, 1983, 1997, 1998, 2003, 2015, 2017</td>\n",
       "    </tr>\n",
       "    <tr>\n",
       "      <th>9</th>\n",
       "      <td>Benfica</td>\n",
       "      <td>2</td>\n",
       "      <td>5</td>\n",
       "      <td>1961, 1962</td>\n",
       "      <td>1963, 1965, 1968, 1988, 1990</td>\n",
       "    </tr>\n",
       "    <tr>\n",
       "      <th>10</th>\n",
       "      <td>Chelsea</td>\n",
       "      <td>2</td>\n",
       "      <td>1</td>\n",
       "      <td>2012, 2021</td>\n",
       "      <td>2008</td>\n",
       "    </tr>\n",
       "    <tr>\n",
       "      <th>11</th>\n",
       "      <td>Nottingham Forest</td>\n",
       "      <td>2</td>\n",
       "      <td>0</td>\n",
       "      <td>1979, 1980</td>\n",
       "      <td>—</td>\n",
       "    </tr>\n",
       "    <tr>\n",
       "      <th>12</th>\n",
       "      <td>Porto</td>\n",
       "      <td>2</td>\n",
       "      <td>0</td>\n",
       "      <td>1987, 2004</td>\n",
       "      <td>—</td>\n",
       "    </tr>\n",
       "    <tr>\n",
       "      <th>13</th>\n",
       "      <td>Celtic</td>\n",
       "      <td>1</td>\n",
       "      <td>1</td>\n",
       "      <td>1967</td>\n",
       "      <td>1970</td>\n",
       "    </tr>\n",
       "    <tr>\n",
       "      <th>14</th>\n",
       "      <td>Hamburger SV</td>\n",
       "      <td>1</td>\n",
       "      <td>1</td>\n",
       "      <td>1983</td>\n",
       "      <td>1980</td>\n",
       "    </tr>\n",
       "    <tr>\n",
       "      <th>15</th>\n",
       "      <td>Steaua București</td>\n",
       "      <td>1</td>\n",
       "      <td>1</td>\n",
       "      <td>1986</td>\n",
       "      <td>1989</td>\n",
       "    </tr>\n",
       "    <tr>\n",
       "      <th>16</th>\n",
       "      <td>Marseille</td>\n",
       "      <td>1</td>\n",
       "      <td>1</td>\n",
       "      <td>1993</td>\n",
       "      <td>1991</td>\n",
       "    </tr>\n",
       "    <tr>\n",
       "      <th>17</th>\n",
       "      <td>Borussia Dortmund</td>\n",
       "      <td>1</td>\n",
       "      <td>1</td>\n",
       "      <td>1997</td>\n",
       "      <td>2013</td>\n",
       "    </tr>\n",
       "    <tr>\n",
       "      <th>18</th>\n",
       "      <td>Feyenoord</td>\n",
       "      <td>1</td>\n",
       "      <td>0</td>\n",
       "      <td>1970</td>\n",
       "      <td>—</td>\n",
       "    </tr>\n",
       "    <tr>\n",
       "      <th>19</th>\n",
       "      <td>Aston Villa</td>\n",
       "      <td>1</td>\n",
       "      <td>0</td>\n",
       "      <td>1982</td>\n",
       "      <td>—</td>\n",
       "    </tr>\n",
       "    <tr>\n",
       "      <th>20</th>\n",
       "      <td>PSV Eindhoven</td>\n",
       "      <td>1</td>\n",
       "      <td>0</td>\n",
       "      <td>1988</td>\n",
       "      <td>—</td>\n",
       "    </tr>\n",
       "    <tr>\n",
       "      <th>21</th>\n",
       "      <td>Red Star Belgrade</td>\n",
       "      <td>1</td>\n",
       "      <td>0</td>\n",
       "      <td>1991</td>\n",
       "      <td>—</td>\n",
       "    </tr>\n",
       "    <tr>\n",
       "      <th>22</th>\n",
       "      <td>Atlético Madrid</td>\n",
       "      <td>0</td>\n",
       "      <td>3</td>\n",
       "      <td>—</td>\n",
       "      <td>1974, 2014, 2016</td>\n",
       "    </tr>\n",
       "    <tr>\n",
       "      <th>23</th>\n",
       "      <td>Reims</td>\n",
       "      <td>0</td>\n",
       "      <td>2</td>\n",
       "      <td>—</td>\n",
       "      <td>1956, 1959</td>\n",
       "    </tr>\n",
       "    <tr>\n",
       "      <th>24</th>\n",
       "      <td>Valencia</td>\n",
       "      <td>0</td>\n",
       "      <td>2</td>\n",
       "      <td>—</td>\n",
       "      <td>2000, 2001</td>\n",
       "    </tr>\n",
       "    <tr>\n",
       "      <th>25</th>\n",
       "      <td>Fiorentina</td>\n",
       "      <td>0</td>\n",
       "      <td>1</td>\n",
       "      <td>—</td>\n",
       "      <td>1957</td>\n",
       "    </tr>\n",
       "    <tr>\n",
       "      <th>26</th>\n",
       "      <td>Eintracht Frankfurt</td>\n",
       "      <td>0</td>\n",
       "      <td>1</td>\n",
       "      <td>—</td>\n",
       "      <td>1960</td>\n",
       "    </tr>\n",
       "    <tr>\n",
       "      <th>27</th>\n",
       "      <td>Partizan</td>\n",
       "      <td>0</td>\n",
       "      <td>1</td>\n",
       "      <td>—</td>\n",
       "      <td>1966</td>\n",
       "    </tr>\n",
       "    <tr>\n",
       "      <th>28</th>\n",
       "      <td>Panathinaikos</td>\n",
       "      <td>0</td>\n",
       "      <td>1</td>\n",
       "      <td>—</td>\n",
       "      <td>1971</td>\n",
       "    </tr>\n",
       "    <tr>\n",
       "      <th>29</th>\n",
       "      <td>Leeds United</td>\n",
       "      <td>0</td>\n",
       "      <td>1</td>\n",
       "      <td>—</td>\n",
       "      <td>1975</td>\n",
       "    </tr>\n",
       "    <tr>\n",
       "      <th>30</th>\n",
       "      <td>Saint-Étienne</td>\n",
       "      <td>0</td>\n",
       "      <td>1</td>\n",
       "      <td>—</td>\n",
       "      <td>1976</td>\n",
       "    </tr>\n",
       "    <tr>\n",
       "      <th>31</th>\n",
       "      <td>Borussia Mönchengladbach</td>\n",
       "      <td>0</td>\n",
       "      <td>1</td>\n",
       "      <td>—</td>\n",
       "      <td>1977</td>\n",
       "    </tr>\n",
       "    <tr>\n",
       "      <th>32</th>\n",
       "      <td>Club Brugge</td>\n",
       "      <td>0</td>\n",
       "      <td>1</td>\n",
       "      <td>—</td>\n",
       "      <td>1978</td>\n",
       "    </tr>\n",
       "    <tr>\n",
       "      <th>33</th>\n",
       "      <td>Malmö FF</td>\n",
       "      <td>0</td>\n",
       "      <td>1</td>\n",
       "      <td>—</td>\n",
       "      <td>1979</td>\n",
       "    </tr>\n",
       "    <tr>\n",
       "      <th>34</th>\n",
       "      <td>Roma</td>\n",
       "      <td>0</td>\n",
       "      <td>1</td>\n",
       "      <td>—</td>\n",
       "      <td>1984</td>\n",
       "    </tr>\n",
       "    <tr>\n",
       "      <th>35</th>\n",
       "      <td>Sampdoria</td>\n",
       "      <td>0</td>\n",
       "      <td>1</td>\n",
       "      <td>—</td>\n",
       "      <td>1992</td>\n",
       "    </tr>\n",
       "    <tr>\n",
       "      <th>36</th>\n",
       "      <td>Bayer Leverkusen</td>\n",
       "      <td>0</td>\n",
       "      <td>1</td>\n",
       "      <td>—</td>\n",
       "      <td>2002</td>\n",
       "    </tr>\n",
       "    <tr>\n",
       "      <th>37</th>\n",
       "      <td>Monaco</td>\n",
       "      <td>0</td>\n",
       "      <td>1</td>\n",
       "      <td>—</td>\n",
       "      <td>2004</td>\n",
       "    </tr>\n",
       "    <tr>\n",
       "      <th>38</th>\n",
       "      <td>Arsenal</td>\n",
       "      <td>0</td>\n",
       "      <td>1</td>\n",
       "      <td>—</td>\n",
       "      <td>2006</td>\n",
       "    </tr>\n",
       "    <tr>\n",
       "      <th>39</th>\n",
       "      <td>Tottenham Hotspur</td>\n",
       "      <td>0</td>\n",
       "      <td>1</td>\n",
       "      <td>—</td>\n",
       "      <td>2019</td>\n",
       "    </tr>\n",
       "    <tr>\n",
       "      <th>40</th>\n",
       "      <td>Paris Saint-Germain</td>\n",
       "      <td>0</td>\n",
       "      <td>1</td>\n",
       "      <td>—</td>\n",
       "      <td>2020</td>\n",
       "    </tr>\n",
       "    <tr>\n",
       "      <th>41</th>\n",
       "      <td>Manchester City</td>\n",
       "      <td>0</td>\n",
       "      <td>1</td>\n",
       "      <td>—</td>\n",
       "      <td>2021</td>\n",
       "    </tr>\n",
       "  </tbody>\n",
       "</table>\n",
       "</div>"
      ],
      "text/plain": [
       "                   Team Name  Title(s)  Runners-up  \\\n",
       "0                Real Madrid        14           3   \n",
       "1                      Milan         7           4   \n",
       "2              Bayern Munich         6           5   \n",
       "3                  Liverpool         6           4   \n",
       "4                  Barcelona         5           3   \n",
       "5                       Ajax         4           2   \n",
       "6          Manchester United         3           2   \n",
       "7                Inter Milan         3           2   \n",
       "8                   Juventus         2           7   \n",
       "9                    Benfica         2           5   \n",
       "10                   Chelsea         2           1   \n",
       "11         Nottingham Forest         2           0   \n",
       "12                     Porto         2           0   \n",
       "13                    Celtic         1           1   \n",
       "14              Hamburger SV         1           1   \n",
       "15          Steaua București         1           1   \n",
       "16                 Marseille         1           1   \n",
       "17         Borussia Dortmund         1           1   \n",
       "18                 Feyenoord         1           0   \n",
       "19               Aston Villa         1           0   \n",
       "20             PSV Eindhoven         1           0   \n",
       "21         Red Star Belgrade         1           0   \n",
       "22           Atlético Madrid         0           3   \n",
       "23                     Reims         0           2   \n",
       "24                  Valencia         0           2   \n",
       "25                Fiorentina         0           1   \n",
       "26       Eintracht Frankfurt         0           1   \n",
       "27                  Partizan         0           1   \n",
       "28             Panathinaikos         0           1   \n",
       "29              Leeds United         0           1   \n",
       "30             Saint-Étienne         0           1   \n",
       "31  Borussia Mönchengladbach         0           1   \n",
       "32               Club Brugge         0           1   \n",
       "33                  Malmö FF         0           1   \n",
       "34                      Roma         0           1   \n",
       "35                 Sampdoria         0           1   \n",
       "36          Bayer Leverkusen         0           1   \n",
       "37                    Monaco         0           1   \n",
       "38                   Arsenal         0           1   \n",
       "39         Tottenham Hotspur         0           1   \n",
       "40       Paris Saint-Germain         0           1   \n",
       "41           Manchester City         0           1   \n",
       "\n",
       "                                           Season won  \\\n",
       "0   1956, 1957, 1958, 1959, 1960, 1966, 1998, 2000...   \n",
       "1            1963, 1969, 1989, 1990, 1994, 2003, 2007   \n",
       "2                  1974, 1975, 1976, 2001, 2013, 2020   \n",
       "3                  1977, 1978, 1981, 1984, 2005, 2019   \n",
       "4                        1992, 2006, 2009, 2011, 2015   \n",
       "5                              1971, 1972, 1973, 1995   \n",
       "6                                    1968, 1999, 2008   \n",
       "7                                    1964, 1965, 2010   \n",
       "8                                          1985, 1996   \n",
       "9                                          1961, 1962   \n",
       "10                                         2012, 2021   \n",
       "11                                         1979, 1980   \n",
       "12                                         1987, 2004   \n",
       "13                                               1967   \n",
       "14                                               1983   \n",
       "15                                               1986   \n",
       "16                                               1993   \n",
       "17                                               1997   \n",
       "18                                               1970   \n",
       "19                                               1982   \n",
       "20                                               1988   \n",
       "21                                               1991   \n",
       "22                                                  —   \n",
       "23                                                  —   \n",
       "24                                                  —   \n",
       "25                                                  —   \n",
       "26                                                  —   \n",
       "27                                                  —   \n",
       "28                                                  —   \n",
       "29                                                  —   \n",
       "30                                                  —   \n",
       "31                                                  —   \n",
       "32                                                  —   \n",
       "33                                                  —   \n",
       "34                                                  —   \n",
       "35                                                  —   \n",
       "36                                                  —   \n",
       "37                                                  —   \n",
       "38                                                  —   \n",
       "39                                                  —   \n",
       "40                                                  —   \n",
       "41                                                  —   \n",
       "\n",
       "                            Season runner-up  \n",
       "0                           1962, 1964, 1981  \n",
       "1                     1958, 1993, 1995, 2005  \n",
       "2               1982, 1987, 1999, 2010, 2012  \n",
       "3                     1985, 2007, 2018, 2022  \n",
       "4                           1961, 1986, 1994  \n",
       "5                                 1969, 1996  \n",
       "6                                 2009, 2011  \n",
       "7                                 1967, 1972  \n",
       "8   1973, 1983, 1997, 1998, 2003, 2015, 2017  \n",
       "9               1963, 1965, 1968, 1988, 1990  \n",
       "10                                      2008  \n",
       "11                                         —  \n",
       "12                                         —  \n",
       "13                                      1970  \n",
       "14                                      1980  \n",
       "15                                      1989  \n",
       "16                                      1991  \n",
       "17                                      2013  \n",
       "18                                         —  \n",
       "19                                         —  \n",
       "20                                         —  \n",
       "21                                         —  \n",
       "22                          1974, 2014, 2016  \n",
       "23                                1956, 1959  \n",
       "24                                2000, 2001  \n",
       "25                                      1957  \n",
       "26                                      1960  \n",
       "27                                      1966  \n",
       "28                                      1971  \n",
       "29                                      1975  \n",
       "30                                      1976  \n",
       "31                                      1977  \n",
       "32                                      1978  \n",
       "33                                      1979  \n",
       "34                                      1984  \n",
       "35                                      1992  \n",
       "36                                      2002  \n",
       "37                                      2004  \n",
       "38                                      2006  \n",
       "39                                      2019  \n",
       "40                                      2020  \n",
       "41                                      2021  "
      ]
     },
     "execution_count": 34,
     "metadata": {},
     "output_type": "execute_result"
    }
   ],
   "source": [
    "#Looking at the result above, we can see the table has been produced. There is still an issue with the column name for the\n",
    "#Teams. This column name can be renamed using a simple list as shown below.\n",
    "#The .columns method in new_table.columns is used to access the column header names of a pandas dataframe. Thus, reassigning\n",
    "#the column names to the names given in the list solves our problem\n",
    "\n",
    "new_table.columns = [\"Team Name\", \"Title(s)\", \"Runners-up\", \"Season won\", \"Season runner-up\"]\n",
    "\n",
    "new_table"
   ]
  },
  {
   "cell_type": "code",
   "execution_count": null,
   "metadata": {},
   "outputs": [],
   "source": []
  },
  {
   "cell_type": "markdown",
   "metadata": {},
   "source": [
    "**Data from Clipboard**\n",
    "\n",
    "\n",
    "The table used for this example can be found on the website given below:\n",
    "\n",
    "https://stackoverflow.com/questions/62318682/get-pandas-datframe-values-by-key"
   ]
  },
  {
   "cell_type": "code",
   "execution_count": 6,
   "metadata": {},
   "outputs": [
    {
     "data": {
      "text/html": [
       "<div>\n",
       "<style scoped>\n",
       "    .dataframe tbody tr th:only-of-type {\n",
       "        vertical-align: middle;\n",
       "    }\n",
       "\n",
       "    .dataframe tbody tr th {\n",
       "        vertical-align: top;\n",
       "    }\n",
       "\n",
       "    .dataframe thead th {\n",
       "        text-align: right;\n",
       "    }\n",
       "</style>\n",
       "<table border=\"1\" class=\"dataframe\">\n",
       "  <thead>\n",
       "    <tr style=\"text-align: right;\">\n",
       "      <th></th>\n",
       "      <th>id</th>\n",
       "      <th>Name</th>\n",
       "      <th>subject_id</th>\n",
       "      <th>Marks_scored</th>\n",
       "      <th>Rank</th>\n",
       "    </tr>\n",
       "  </thead>\n",
       "  <tbody>\n",
       "    <tr>\n",
       "      <th>0</th>\n",
       "      <td>1</td>\n",
       "      <td>Alex</td>\n",
       "      <td>sub1</td>\n",
       "      <td>98</td>\n",
       "      <td>1</td>\n",
       "    </tr>\n",
       "    <tr>\n",
       "      <th>1</th>\n",
       "      <td>2</td>\n",
       "      <td>Amy</td>\n",
       "      <td>sub2</td>\n",
       "      <td>90</td>\n",
       "      <td>1</td>\n",
       "    </tr>\n",
       "    <tr>\n",
       "      <th>2</th>\n",
       "      <td>3</td>\n",
       "      <td>Allen</td>\n",
       "      <td>sub3</td>\n",
       "      <td>87</td>\n",
       "      <td>2</td>\n",
       "    </tr>\n",
       "    <tr>\n",
       "      <th>3</th>\n",
       "      <td>4</td>\n",
       "      <td>Alice</td>\n",
       "      <td>sub4</td>\n",
       "      <td>69</td>\n",
       "      <td>10</td>\n",
       "    </tr>\n",
       "    <tr>\n",
       "      <th>4</th>\n",
       "      <td>5</td>\n",
       "      <td>Ayoung</td>\n",
       "      <td>sub5</td>\n",
       "      <td>78</td>\n",
       "      <td>7</td>\n",
       "    </tr>\n",
       "  </tbody>\n",
       "</table>\n",
       "</div>"
      ],
      "text/plain": [
       "   id    Name subject_id  Marks_scored  Rank\n",
       "0   1    Alex       sub1            98     1\n",
       "1   2     Amy       sub2            90     1\n",
       "2   3   Allen       sub3            87     2\n",
       "3   4   Alice       sub4            69    10\n",
       "4   5  Ayoung       sub5            78     7"
      ]
     },
     "execution_count": 6,
     "metadata": {},
     "output_type": "execute_result"
    }
   ],
   "source": [
    "pd.read_clipboard()"
   ]
  },
  {
   "cell_type": "code",
   "execution_count": null,
   "metadata": {},
   "outputs": [],
   "source": []
  },
  {
   "cell_type": "markdown",
   "metadata": {},
   "source": [
    "### How to make CSV files"
   ]
  },
  {
   "cell_type": "markdown",
   "metadata": {},
   "source": [
    "This is an interactive class"
   ]
  },
  {
   "cell_type": "markdown",
   "metadata": {},
   "source": [
    "#### Homework\n",
    "\n",
    "\n",
    "1. Create csv 5 files with separators different from the comma (,).\n",
    "\n",
    "2. Get the data for the league table in the English Premier League after the 2020/21 season. The \"Pos\" or \"Position\" column is not well formatted. We need only the final position at the end of the season. The data can be found in the link given below:\n",
    "https://www.premierleague.com/history/season-reviews/363\n",
    "\n",
    "3. It is reported that the ratio of the Goal Difference (GD) in that season and the number of games played (Pl) by a team, reflects the final position of that team at the end of the season. Find this ratio for all the teams and confirm if the assertion that this ratio determines the teams' final positions is true or not.\n",
    "\n",
    "4. If the table were ranked based on the ratio calculated above, instead of number of points (Pts), create a dataframe for this new table. It should have the following column headers: \"Position (POS)\", \"Club\", \"Games Played (Pl)\", \"Goal Difference (GD)\", \"Net Goal per Game (Ratio)\"."
   ]
  },
  {
   "cell_type": "code",
   "execution_count": null,
   "metadata": {},
   "outputs": [],
   "source": []
  },
  {
   "cell_type": "code",
   "execution_count": null,
   "metadata": {},
   "outputs": [],
   "source": []
  },
  {
   "cell_type": "code",
   "execution_count": null,
   "metadata": {},
   "outputs": [],
   "source": []
  },
  {
   "cell_type": "code",
   "execution_count": null,
   "metadata": {},
   "outputs": [],
   "source": []
  },
  {
   "cell_type": "code",
   "execution_count": null,
   "metadata": {},
   "outputs": [],
   "source": []
  },
  {
   "cell_type": "code",
   "execution_count": null,
   "metadata": {},
   "outputs": [],
   "source": []
  },
  {
   "cell_type": "code",
   "execution_count": null,
   "metadata": {},
   "outputs": [],
   "source": []
  },
  {
   "cell_type": "code",
   "execution_count": null,
   "metadata": {},
   "outputs": [],
   "source": []
  }
 ],
 "metadata": {
  "kernelspec": {
   "display_name": "Python 3",
   "language": "python",
   "name": "python3"
  },
  "language_info": {
   "codemirror_mode": {
    "name": "ipython",
    "version": 3
   },
   "file_extension": ".py",
   "mimetype": "text/x-python",
   "name": "python",
   "nbconvert_exporter": "python",
   "pygments_lexer": "ipython3",
   "version": "3.8.5"
  }
 },
 "nbformat": 4,
 "nbformat_minor": 4
}
