{
 "cells": [
  {
   "cell_type": "markdown",
   "metadata": {},
   "source": [
    "# Introduction to Python"
   ]
  },
  {
   "cell_type": "markdown",
   "metadata": {},
   "source": [
    "This brief introduction to the Python programming language aims to explain the Python concepts required in Data Science in a concise manner"
   ]
  },
  {
   "cell_type": "markdown",
   "metadata": {},
   "source": [
    "## Table of Content\n",
    "\n",
    "\n",
    "1. Types of Numbers in Python\n",
    "\n",
    "2. Common Math Operations\n",
    "\n",
    "3. Comments in Python\n",
    "\n",
    "4. Variables\n",
    "\n",
    "5. Case-sensitivity\n",
    "\n",
    "6. Data types\n",
    "\n",
    "7. Built-in Data Structures\n",
    "\n",
    "8. Built-in Functions\n",
    "\n",
    "9. Conditions\n",
    "\n",
    "10. Loops\n",
    "\n",
    "11. Custom Functions"
   ]
  },
  {
   "cell_type": "code",
   "execution_count": null,
   "metadata": {},
   "outputs": [],
   "source": []
  },
  {
   "cell_type": "code",
   "execution_count": null,
   "metadata": {},
   "outputs": [],
   "source": []
  },
  {
   "cell_type": "markdown",
   "metadata": {},
   "source": [
    "#### String\n",
    "\n",
    "\n",
    "Strings have already been discussed earlier in the section for Comments. However, there are some operations called \"methods\" that we can perform on strings to help us manipulate strings the way we want.\n",
    "\n",
    "There are several methods for manipulating strings but the most important methods have been given below:"
   ]
  },
  {
   "cell_type": "markdown",
   "metadata": {},
   "source": [
    "The various string methods we shall look at are:\n",
    "\n",
    "**slicing<br>\n",
    "strip<br>\n",
    "lstrip<br>\n",
    "rstrip<br>\n",
    "strip with character<br>\n",
    "replace<br>\n",
    "split(, maxsplit = ...)<br>\n",
    "rsplit(, maxsplit)<br>\n",
    ".join()<br>\n",
    ".upper, .lower, .capitalize<br>\n",
    ".islower, isupper<br>\n",
    "isalpha, isnumeric, isalnum<br>\n",
    "count()<br>\n",
    ".find()<br>\n",
    ".rfind()<br>\n",
    ".startswith<br>\n",
    ".endswith<br>\n",
    "partition(seperator)<br>\n",
    "f-strings<br>\n",
    "swapcase()<br>\n",
    "len()<br>**"
   ]
  },
  {
   "cell_type": "markdown",
   "metadata": {},
   "source": [
    "In order to make use of the methods, it is imperative to always use a dot \".\" before using the name of the method.\n",
    "\n",
    "For example, given a string \"I am a boy\". \n",
    "\n",
    "To make all the letters in the statement capitalized, we use the method **.upper()**. This is shown below:"
   ]
  },
  {
   "cell_type": "code",
   "execution_count": 102,
   "metadata": {},
   "outputs": [
    {
     "data": {
      "text/plain": [
       "'I AM A BOY'"
      ]
     },
     "execution_count": 102,
     "metadata": {},
     "output_type": "execute_result"
    }
   ],
   "source": [
    "\"I am a boy\".upper()"
   ]
  },
  {
   "cell_type": "markdown",
   "metadata": {},
   "source": [
    "You might have noticed that the method .upper() has a bracket after it. For most methods in python, we have a bracket after them and this is just the convention. The bracket also serves other uses which will be discussed later on in this notebook.\n",
    "\n",
    "For now, just know that there are brackets that accompany methods in most cases but in some cases, there might not be a bracket."
   ]
  },
  {
   "cell_type": "code",
   "execution_count": null,
   "metadata": {},
   "outputs": [],
   "source": []
  },
  {
   "cell_type": "markdown",
   "metadata": {},
   "source": [
    "To explore these string methods in python, we shall use the string \"My name is Modupe\". We will assign it to a variable x.\n",
    "\n",
    "This is so that we can work with variable x, instead of the actual string \"My name is Modupe\". \n",
    "\n",
    "The reason for doing this is mostly for convenience since it is easier to type x, instead of the statement \"My name is Modupe\"."
   ]
  },
  {
   "cell_type": "code",
   "execution_count": null,
   "metadata": {},
   "outputs": [],
   "source": []
  },
  {
   "cell_type": "code",
   "execution_count": null,
   "metadata": {},
   "outputs": [],
   "source": []
  },
  {
   "cell_type": "code",
   "execution_count": 103,
   "metadata": {},
   "outputs": [],
   "source": [
    "x = \"My name is Modupe\""
   ]
  },
  {
   "cell_type": "code",
   "execution_count": null,
   "metadata": {},
   "outputs": [],
   "source": []
  },
  {
   "cell_type": "markdown",
   "metadata": {},
   "source": [
    "**String Slicing:**\n",
    "\n",
    "This is the a piece of code that helps us to divide strings up or retrieve only certain parts of a string. These portions of the strings are accessed using the **indices** of the string.\n",
    "\n",
    "The **indices** of the string are the numbers that represent the position of the indvidual letters in the string.\n",
    "\n",
    "For example,\n",
    "\n",
    "in the string x = \"My name is Modupe\", The first \"M\" in the sentence takes up index 0. The \"y\" takes up index 1, the space after these two letters takes up index 2, next the \"n\" takes up index 3 and so on.\n",
    "\n",
    "To access the indices from behind, we use negative numbers. The last letter \"e\" is indexed by -1, the letter \"p\" is indexed by -2, and so on."
   ]
  },
  {
   "cell_type": "code",
   "execution_count": 104,
   "metadata": {},
   "outputs": [
    {
     "data": {
      "text/plain": [
       "'p'"
      ]
     },
     "execution_count": 104,
     "metadata": {},
     "output_type": "execute_result"
    }
   ],
   "source": [
    "x[0]\n",
    "\n",
    "x[1]\n",
    "\n",
    "x[5]\n",
    "\n",
    "x[-1]\n",
    "\n",
    "x[-2]"
   ]
  },
  {
   "cell_type": "code",
   "execution_count": null,
   "metadata": {},
   "outputs": [],
   "source": []
  },
  {
   "cell_type": "markdown",
   "metadata": {},
   "source": [
    "So far, we have been able to select the particular letter of the string that we want. But what if we want multiple letters? What if we want whole sections of a string but still not the entire thing? This is where string slicing really shines.\n",
    "\n",
    "In this case, we select the index where we want the portion of string we want, to start from and then also choose the end index where you want the string to stop. So basically, you are left with the following syntax for string slicing:\n",
    "\n",
    "string(beginning_index : end_index]. The colon (:) signifies that you want a range of indices between the beginning_index and the end_index."
   ]
  },
  {
   "cell_type": "code",
   "execution_count": 105,
   "metadata": {},
   "outputs": [
    {
     "data": {
      "text/plain": [
       "'name is Mo'"
      ]
     },
     "execution_count": 105,
     "metadata": {},
     "output_type": "execute_result"
    }
   ],
   "source": [
    "#Slicing\n",
    "\n",
    "x[3:5]\n",
    "\n",
    "x[0:]\n",
    "\n",
    "x[:-1]\n",
    "\n",
    "x[2: -1]\n",
    "\n",
    "x[3:-4]\n"
   ]
  },
  {
   "cell_type": "code",
   "execution_count": null,
   "metadata": {},
   "outputs": [],
   "source": []
  },
  {
   "cell_type": "markdown",
   "metadata": {},
   "source": [
    "**Strip:**\n",
    "\n",
    "This is the functionality of removing either spaces or other specified characters from the beginning or end of a string. For example, if we had the following string:\n",
    "\n",
    "@username\n",
    "\n",
    "We can use strip to remove the at and then derive the username itself. We can also use strip on the following string:\n",
    "\n",
    "HHData Science ClassHH\n",
    "\n",
    "The strip() method can be used to remove the two h's on either side of the string \"Data Science Class\"\n",
    "\n",
    "\n",
    "In the example given below, spaces have been placed at the beginning and end of the statement. The strip method removes the spaces after being run agains the string.\n",
    "\n",
    "To remove other characters other than spaces, we can place the character itself in quotes within the brackets of the strip method. This is infact, how you deal with the \"HHData Science ClassHH\" or \"username\" examples given earlier. The syntax would be:\n",
    "\n",
    "string.strip(\"HH\") for HHData Science ClassHH and string.strip(\"@\") for @username"
   ]
  },
  {
   "cell_type": "code",
   "execution_count": 106,
   "metadata": {},
   "outputs": [
    {
     "data": {
      "text/plain": [
       "'My name is Modupe'"
      ]
     },
     "execution_count": 106,
     "metadata": {},
     "output_type": "execute_result"
    }
   ],
   "source": [
    "#Strip, lstrip, rstrip, strip with character\n",
    "x = \"    My name is Modupe   \"\n",
    "x.strip()\n"
   ]
  },
  {
   "cell_type": "code",
   "execution_count": 107,
   "metadata": {},
   "outputs": [
    {
     "data": {
      "text/plain": [
       "'My name is Modupe'"
      ]
     },
     "execution_count": 107,
     "metadata": {},
     "output_type": "execute_result"
    }
   ],
   "source": [
    "x = \"    My name is Modupe   \"\n",
    "\n",
    "x.strip()\n",
    "\n",
    "#x.lstrip()\n",
    "\n",
    "#x.rstrip()"
   ]
  },
  {
   "cell_type": "code",
   "execution_count": 108,
   "metadata": {},
   "outputs": [
    {
     "data": {
      "text/plain": [
       "'My name is Modupe'"
      ]
     },
     "execution_count": 108,
     "metadata": {},
     "output_type": "execute_result"
    }
   ],
   "source": [
    "x = \"##My name is Modupe##\"\n",
    "\n",
    "x.strip(\"#\")"
   ]
  },
  {
   "cell_type": "code",
   "execution_count": null,
   "metadata": {},
   "outputs": [],
   "source": []
  },
  {
   "cell_type": "markdown",
   "metadata": {},
   "source": [
    "**Replace:**\n",
    "\n",
    "This is used to replace a letter/character within a string with another string. For example given a string \"Ade\", we can replace the letter \"e\" with the letter \"a\" in the following way:\n",
    "\n",
    "string.replace(\"e\", \"a\")"
   ]
  },
  {
   "cell_type": "code",
   "execution_count": 109,
   "metadata": {},
   "outputs": [
    {
     "data": {
      "text/plain": [
       "'**My name is Modupe**'"
      ]
     },
     "execution_count": 109,
     "metadata": {},
     "output_type": "execute_result"
    }
   ],
   "source": [
    "#Replace\n",
    "x.replace(\"#\", \"*\")"
   ]
  },
  {
   "cell_type": "code",
   "execution_count": null,
   "metadata": {},
   "outputs": [],
   "source": []
  },
  {
   "cell_type": "markdown",
   "metadata": {},
   "source": [
    "**Split:**\n",
    "\n",
    "This is used to split a string into individual portions based on a specified separator. For example,\n",
    "\n",
    "\"Ade is a boy\" can be separated by the space between each word by typing: string.split(\" \"). The result is:\n",
    "(\"Ade\", \"is\", \"a\", \"boy\")\n",
    "\n",
    "\n",
    "We can also split by any other character as well."
   ]
  },
  {
   "cell_type": "code",
   "execution_count": 110,
   "metadata": {},
   "outputs": [
    {
     "data": {
      "text/plain": [
       "['##My', 'name', 'is', 'Modupe##']"
      ]
     },
     "execution_count": 110,
     "metadata": {},
     "output_type": "execute_result"
    }
   ],
   "source": [
    "#split, rsplit\n",
    "\n",
    "x.split(\" \")\n",
    "\n",
    "#x.split(\" \", 2)\n",
    "\n",
    "#x.rsplit(\" \", 2)"
   ]
  },
  {
   "cell_type": "code",
   "execution_count": null,
   "metadata": {},
   "outputs": [],
   "source": []
  },
  {
   "cell_type": "markdown",
   "metadata": {},
   "source": [
    "**Join:**:\n",
    "\n",
    "The join method bascially does the opposite of the split method. It takes a list of string items and then brings them together to form one singular string."
   ]
  },
  {
   "cell_type": "code",
   "execution_count": 111,
   "metadata": {},
   "outputs": [
    {
     "data": {
      "text/plain": [
       "'John is a boy'"
      ]
     },
     "execution_count": 111,
     "metadata": {},
     "output_type": "execute_result"
    }
   ],
   "source": [
    "#join\n",
    "\n",
    "y = [\"John\", \"is\", \"a\", \"boy\"]\n",
    "\n",
    "\" \".join(y)"
   ]
  },
  {
   "cell_type": "code",
   "execution_count": 112,
   "metadata": {},
   "outputs": [
    {
     "data": {
      "text/plain": [
       "['J', 'hn is a b', 'y']"
      ]
     },
     "execution_count": 112,
     "metadata": {},
     "output_type": "execute_result"
    }
   ],
   "source": [
    "string1 = \" \".join(y)\n",
    "\n",
    "string1.split(\"o\")"
   ]
  },
  {
   "cell_type": "code",
   "execution_count": null,
   "metadata": {},
   "outputs": [],
   "source": []
  },
  {
   "cell_type": "markdown",
   "metadata": {},
   "source": [
    "**Upper**:\n",
    "\n",
    "The upper method simply converts all the letters in a string to uppercase.\n",
    "\n",
    "\n",
    "**Lower**:\n",
    "The lower method converts all the letters in a string to lowercase.\n",
    "\n",
    "\n",
    "**Capitalize**:\n",
    "This method converts the first letter alone to uppercase and changes all others to lowercase\n",
    "\n",
    "\n",
    "**Islower**:\n",
    "This method checks if a string is completely in lowercase\n",
    "\n",
    "\n",
    "**Isupper**:\n",
    "This checks if a string is completely in uppercase"
   ]
  },
  {
   "cell_type": "code",
   "execution_count": 113,
   "metadata": {},
   "outputs": [
    {
     "data": {
      "text/plain": [
       "'##MY NAME IS MODUPE##'"
      ]
     },
     "execution_count": 113,
     "metadata": {},
     "output_type": "execute_result"
    }
   ],
   "source": [
    "#Upper, Lower, Capitalize\n",
    "\n",
    "x.upper()\n",
    "\n",
    "#x.lower()\n",
    "\n",
    "#x.capitalize()"
   ]
  },
  {
   "cell_type": "code",
   "execution_count": 114,
   "metadata": {},
   "outputs": [
    {
     "data": {
      "text/plain": [
       "False"
      ]
     },
     "execution_count": 114,
     "metadata": {},
     "output_type": "execute_result"
    }
   ],
   "source": [
    "#isupper, islower\n",
    "\n",
    "x.isupper()\n",
    "\n",
    "#x.islower()"
   ]
  },
  {
   "cell_type": "code",
   "execution_count": null,
   "metadata": {},
   "outputs": [],
   "source": []
  },
  {
   "cell_type": "markdown",
   "metadata": {},
   "source": [
    "**Isalpha**:\n",
    "Used to check if the expression inside a string is full of only letters of the alphabet\n",
    "\n",
    "**Isnumeric**:\n",
    "Used to check if the expression inside a string is full of only numbers. It does the same job as **Isdigit**. The difference between them is subtle enough to ignore for now.\n",
    "\n",
    "**Isalnum**:\n",
    "Used to check if the expression inside a string is full of letters and numbers at the same time."
   ]
  },
  {
   "cell_type": "code",
   "execution_count": 115,
   "metadata": {},
   "outputs": [
    {
     "data": {
      "text/plain": [
       "False"
      ]
     },
     "execution_count": 115,
     "metadata": {},
     "output_type": "execute_result"
    }
   ],
   "source": [
    "#isalpha,isnumeric,isalnum,isdigit\n",
    "\n",
    "x = \"45, 56\"\n",
    "\n",
    "#x.isalpha()\n",
    "\n",
    "x.isnumeric()\n",
    "\n",
    "#x.isalnum()\n",
    "\n",
    "#x.isdigit()"
   ]
  },
  {
   "cell_type": "code",
   "execution_count": null,
   "metadata": {},
   "outputs": [],
   "source": []
  },
  {
   "cell_type": "markdown",
   "metadata": {},
   "source": [
    "**Count**:\n",
    "\n",
    "This is used to count all the occurences of a particular character in a string"
   ]
  },
  {
   "cell_type": "code",
   "execution_count": 116,
   "metadata": {},
   "outputs": [
    {
     "data": {
      "text/plain": [
       "5"
      ]
     },
     "execution_count": 116,
     "metadata": {},
     "output_type": "execute_result"
    }
   ],
   "source": [
    "#count\n",
    "x = \"My name is ModupMe Iyiola Priscillia\"\n",
    "x.count(\" \")\n",
    "\n",
    "#x.count(\"m\")"
   ]
  },
  {
   "cell_type": "code",
   "execution_count": 117,
   "metadata": {},
   "outputs": [
    {
     "name": "stdout",
     "output_type": "stream",
     "text": [
      "The index is: 0\n",
      "The index is: 11\n",
      "The index is: 16\n"
     ]
    }
   ],
   "source": [
    "for index, letter in enumerate(x):\n",
    "    if letter == \"M\":\n",
    "        print(f\"The index is: {index}\")\n",
    "        "
   ]
  },
  {
   "cell_type": "code",
   "execution_count": null,
   "metadata": {},
   "outputs": [],
   "source": []
  },
  {
   "cell_type": "markdown",
   "metadata": {},
   "source": [
    "**Find**:\n",
    "\n",
    "This is used to return the index of a particular character within a string. It runs on a lazy algorithm that finds only the first instance of the character you are looking for without going further to see if the same character exists in the following portion of the string."
   ]
  },
  {
   "cell_type": "code",
   "execution_count": 118,
   "metadata": {},
   "outputs": [
    {
     "data": {
      "text/plain": [
       "16"
      ]
     },
     "execution_count": 118,
     "metadata": {},
     "output_type": "execute_result"
    }
   ],
   "source": [
    "#Find\n",
    "\n",
    "x.find(\"M\")\n",
    "\n",
    "x.rfind(\"M\")"
   ]
  },
  {
   "cell_type": "code",
   "execution_count": null,
   "metadata": {},
   "outputs": [],
   "source": []
  },
  {
   "cell_type": "markdown",
   "metadata": {},
   "source": [
    "**Startswith**:\n",
    "\n",
    "This is used to check if a string starts with a specified character or set of characters or not.\n",
    "\n",
    "\n",
    "\n",
    "**endswith**:\n",
    "\n",
    "This is used to check if a string ends with a speciifed character or set of characters or not."
   ]
  },
  {
   "cell_type": "code",
   "execution_count": 119,
   "metadata": {},
   "outputs": [
    {
     "data": {
      "text/plain": [
       "True"
      ]
     },
     "execution_count": 119,
     "metadata": {},
     "output_type": "execute_result"
    }
   ],
   "source": [
    "#startswith\n",
    "\n",
    "x.startswith(\"M\")"
   ]
  },
  {
   "cell_type": "code",
   "execution_count": 120,
   "metadata": {},
   "outputs": [
    {
     "data": {
      "text/plain": [
       "False"
      ]
     },
     "execution_count": 120,
     "metadata": {},
     "output_type": "execute_result"
    }
   ],
   "source": [
    "#endsiwth\n",
    "\n",
    "x.endswith(\"j\")"
   ]
  },
  {
   "cell_type": "code",
   "execution_count": null,
   "metadata": {},
   "outputs": [],
   "source": []
  },
  {
   "cell_type": "markdown",
   "metadata": {},
   "source": [
    "**Partition**:\n",
    "\n",
    "This is used to break a string down such that after finding the first occurrence of the separator, the string is split into 3 items in a list: The first set of string characters before the first instance of the separator, the separator itself, and the remaining part of the string"
   ]
  },
  {
   "cell_type": "code",
   "execution_count": 121,
   "metadata": {},
   "outputs": [
    {
     "data": {
      "text/plain": [
       "('My', ' ', 'name is ModupMe Iyiola Priscillia')"
      ]
     },
     "execution_count": 121,
     "metadata": {},
     "output_type": "execute_result"
    }
   ],
   "source": [
    "#partition by a character or word\n",
    "\n",
    "x.partition(\" \")"
   ]
  },
  {
   "cell_type": "code",
   "execution_count": null,
   "metadata": {},
   "outputs": [],
   "source": []
  },
  {
   "cell_type": "markdown",
   "metadata": {},
   "source": [
    "**F-strings**:\n",
    "\n",
    "These are strings that allow you to add another string to them as a variable."
   ]
  },
  {
   "cell_type": "code",
   "execution_count": 122,
   "metadata": {},
   "outputs": [
    {
     "data": {
      "text/plain": [
       "'My name is ModupMe Iyiola Priscillia and Tolu is my friend'"
      ]
     },
     "execution_count": 122,
     "metadata": {},
     "output_type": "execute_result"
    }
   ],
   "source": [
    "#F-strings\n",
    "\n",
    "f\"{x}\"\n",
    "\n",
    "y = \"Tolu\"\n",
    "\n",
    "f\"{x} and {y} is my friend\""
   ]
  },
  {
   "cell_type": "code",
   "execution_count": null,
   "metadata": {},
   "outputs": [],
   "source": []
  },
  {
   "cell_type": "markdown",
   "metadata": {},
   "source": [
    "**Swapcase**:\n",
    "\n",
    "This is a method that allows us to make the capitalized letters, become lowercase and at the same time, make lowercase letters become capitalized, which in effect, switches the cases of the letters, hence its name \"swapcase\". For example,\n",
    "\n",
    "\"JAre\" is swapped to become \"jaRE\""
   ]
  },
  {
   "cell_type": "code",
   "execution_count": 123,
   "metadata": {},
   "outputs": [
    {
     "data": {
      "text/plain": [
       "'mY NAME IS ModupMe Iyiola Priscillia'"
      ]
     },
     "execution_count": 123,
     "metadata": {},
     "output_type": "execute_result"
    }
   ],
   "source": [
    "#Swapcase\n",
    "\n",
    "x[0:10].swapcase() + x[10:]"
   ]
  },
  {
   "cell_type": "code",
   "execution_count": 124,
   "metadata": {},
   "outputs": [
    {
     "data": {
      "text/plain": [
       "85"
      ]
     },
     "execution_count": 124,
     "metadata": {},
     "output_type": "execute_result"
    }
   ],
   "source": [
    "50 + 35"
   ]
  },
  {
   "cell_type": "code",
   "execution_count": null,
   "metadata": {},
   "outputs": [],
   "source": []
  },
  {
   "cell_type": "markdown",
   "metadata": {},
   "source": [
    "**Len**:\n",
    "\n",
    "The Len method is used to calculate the length of a string. This counts all the instances of letters, spaces, and any other character within the quotation marks representing the string.\n",
    "    "
   ]
  },
  {
   "cell_type": "code",
   "execution_count": 125,
   "metadata": {},
   "outputs": [
    {
     "data": {
      "text/plain": [
       "36"
      ]
     },
     "execution_count": 125,
     "metadata": {},
     "output_type": "execute_result"
    }
   ],
   "source": [
    "#len\n",
    "\n",
    "len(x)"
   ]
  },
  {
   "cell_type": "code",
   "execution_count": 126,
   "metadata": {},
   "outputs": [
    {
     "data": {
      "text/plain": [
       "12"
      ]
     },
     "execution_count": 126,
     "metadata": {},
     "output_type": "execute_result"
    }
   ],
   "source": [
    "len(\"Ben is a boy\")"
   ]
  },
  {
   "cell_type": "code",
   "execution_count": null,
   "metadata": {},
   "outputs": [],
   "source": []
  },
  {
   "cell_type": "markdown",
   "metadata": {},
   "source": [
    "**STRING CONCATENATION**:\n",
    "\n",
    "This is the process of adding two pieces of string together to get a larger string. For example \"40\" + \"20\" will not give us \"60\", but rather, it will give us \"4020\" because these are numbers which are strings. Python strings can only perform string concatenation when the \"+\" sign is used."
   ]
  },
  {
   "cell_type": "code",
   "execution_count": 127,
   "metadata": {},
   "outputs": [
    {
     "data": {
      "text/plain": [
       "'Olujare Dada'"
      ]
     },
     "execution_count": 127,
     "metadata": {},
     "output_type": "execute_result"
    }
   ],
   "source": [
    "first_name = \"Olujare\"\n",
    "\n",
    "last_name = \"Dada\"\n",
    "\n",
    "\n",
    "first_name + \" \" + last_name"
   ]
  },
  {
   "cell_type": "code",
   "execution_count": null,
   "metadata": {},
   "outputs": [],
   "source": []
  },
  {
   "cell_type": "markdown",
   "metadata": {},
   "source": [
    "**Using String manipulation and the already discussed techniques in Pandas**"
   ]
  },
  {
   "cell_type": "markdown",
   "metadata": {},
   "source": [
    "So far, you might be wondering why we are learning some of these string manipulation techniques among the other things discussed earlier.\n",
    "\n",
    "On their own, these concepts are not very useful and this is why using them to solve certain examples that come up in reality is a good way to understand their usefulness.\n",
    "\n",
    "Pandas is an open source Python package that is most widely used for data science/data analysis and machine learning tasks. It helps us to visualize the datasets we have in tabular form. It also provides a number of data mining, manipulation, and cleaning functionalities which will be useful for us in our journey.\n",
    "\n",
    "Some of these are discussed below, as they concern a number of topics already covered."
   ]
  },
  {
   "cell_type": "code",
   "execution_count": null,
   "metadata": {},
   "outputs": [],
   "source": []
  },
  {
   "cell_type": "markdown",
   "metadata": {},
   "source": [
    "The next line of code is not compulsory to know just yet, but it is well-described for all who are interested.\n",
    "\n",
    "This code bit is for initializing pandas and then telling pandas to read our dataset file."
   ]
  },
  {
   "cell_type": "code",
   "execution_count": 128,
   "metadata": {},
   "outputs": [
    {
     "data": {
      "text/html": [
       "<div>\n",
       "<style scoped>\n",
       "    .dataframe tbody tr th:only-of-type {\n",
       "        vertical-align: middle;\n",
       "    }\n",
       "\n",
       "    .dataframe tbody tr th {\n",
       "        vertical-align: top;\n",
       "    }\n",
       "\n",
       "    .dataframe thead th {\n",
       "        text-align: right;\n",
       "    }\n",
       "</style>\n",
       "<table border=\"1\" class=\"dataframe\">\n",
       "  <thead>\n",
       "    <tr style=\"text-align: right;\">\n",
       "      <th></th>\n",
       "      <th>Firstname</th>\n",
       "      <th>Lastname</th>\n",
       "      <th>age</th>\n",
       "      <th>sales</th>\n",
       "      <th>cost</th>\n",
       "    </tr>\n",
       "  </thead>\n",
       "  <tbody>\n",
       "    <tr>\n",
       "      <th>0</th>\n",
       "      <td>Olanrewaju</td>\n",
       "      <td>Kazeem</td>\n",
       "      <td>[24]</td>\n",
       "      <td>15000</td>\n",
       "      <td>11000</td>\n",
       "    </tr>\n",
       "    <tr>\n",
       "      <th>1</th>\n",
       "      <td>Chibuzo</td>\n",
       "      <td>Ekenne</td>\n",
       "      <td>[30]</td>\n",
       "      <td>25800</td>\n",
       "      <td>15200</td>\n",
       "    </tr>\n",
       "    <tr>\n",
       "      <th>2</th>\n",
       "      <td>Onyinyechi</td>\n",
       "      <td>Amos</td>\n",
       "      <td>[22]</td>\n",
       "      <td>45000</td>\n",
       "      <td>28000</td>\n",
       "    </tr>\n",
       "    <tr>\n",
       "      <th>3</th>\n",
       "      <td>Orlando</td>\n",
       "      <td>Bloom</td>\n",
       "      <td>[25]</td>\n",
       "      <td>28000</td>\n",
       "      <td>22000</td>\n",
       "    </tr>\n",
       "    <tr>\n",
       "      <th>4</th>\n",
       "      <td>Alex</td>\n",
       "      <td>Iwobi</td>\n",
       "      <td>[34]</td>\n",
       "      <td>36500</td>\n",
       "      <td>18850</td>\n",
       "    </tr>\n",
       "  </tbody>\n",
       "</table>\n",
       "</div>"
      ],
      "text/plain": [
       "    Firstname Lastname   age  sales   cost\n",
       "0  Olanrewaju   Kazeem  [24]  15000  11000\n",
       "1     Chibuzo   Ekenne  [30]  25800  15200\n",
       "2  Onyinyechi     Amos  [22]  45000  28000\n",
       "3     Orlando    Bloom  [25]  28000  22000\n",
       "4        Alex    Iwobi  [34]  36500  18850"
      ]
     },
     "execution_count": 128,
     "metadata": {},
     "output_type": "execute_result"
    }
   ],
   "source": [
    "#This line initializes pandas and all its functionalities. This is how many packages for data science and python in general\n",
    "#are initialized.\n",
    "\n",
    "#Normally, using only \"import pandas\" would be good enough but we use \"as pd\" to create an alias for pandas within our code.\n",
    "#This is so as to help us refer to pandas in our code by just typing \"pd\" instead of typing the full name \"pandas\"\n",
    "import pandas as pd\n",
    "\n",
    "\n",
    "\n",
    "#Here, we use the alias of pandas, \"pd\", to read our .csv file which contains the data we want to analyze. This is the standard\n",
    "#method for importing .csv data into pandas. We shall look into other data formats and other slightly more complicated data\n",
    "#imports in later classes.\n",
    "data = pd.read_csv(\"working_with_tables.csv\")\n",
    "\n",
    "\n",
    "#data.head() is simply tellling pandas that we want to view the first 5 rows of the data\n",
    "\n",
    "data.head()"
   ]
  },
  {
   "cell_type": "markdown",
   "metadata": {},
   "source": [
    "Pandas has displayed the table for us. The table contains 5 rows: row 0, row 1, row 2,..., row 4. The table contains 5 columns:\n",
    "\"Firstname\", \"Lastname\", \"age\", \"sales\", \"cost\". **It is important to note that rows are the horizontal fields while columns are the vertical fields in the dataset, always**\n",
    "\n",
    "From the above table, straightaway, we can see that the ages are in square brackets which are not the best for analysis. Also, we can also see that the first and last names of each person are separated. Sometimes, it might make sense to join them together. Lastly, we might also want to calculate the revenue generated by each sales representative by subtracting the cost from the amount of sales made.\n",
    "\n",
    "\n",
    "For these 3 things outlined above, we already have enough information to solve them with relative ease. We shall go through each problem sequentially with simple steps to follow.\n",
    "\n",
    "But first, we must discuss how to access each column."
   ]
  },
  {
   "cell_type": "code",
   "execution_count": null,
   "metadata": {},
   "outputs": [],
   "source": []
  },
  {
   "cell_type": "code",
   "execution_count": null,
   "metadata": {},
   "outputs": [],
   "source": []
  },
  {
   "cell_type": "code",
   "execution_count": 129,
   "metadata": {},
   "outputs": [
    {
     "data": {
      "text/plain": [
       "0    Olanrewaju\n",
       "1       Chibuzo\n",
       "2    Onyinyechi\n",
       "3       Orlando\n",
       "4          Alex\n",
       "5         Kachi\n",
       "6       Olujare\n",
       "7        Tomiwa\n",
       "8     Timilehin\n",
       "9         Nnena\n",
       "Name: Firstname, dtype: object"
      ]
     },
     "execution_count": 129,
     "metadata": {},
     "output_type": "execute_result"
    }
   ],
   "source": [
    "data[\"Firstname\"] #This displays all the values in the \"Firstname\" column\n",
    "\n",
    "#data[\"Lastname\"] #This displays all the values in the \"Lastname\" column\n",
    "\n",
    "#data[\"sales\"] #This displays all the values in the \"age\" column"
   ]
  },
  {
   "cell_type": "markdown",
   "metadata": {},
   "source": [
    "Object in pandas is a string"
   ]
  },
  {
   "cell_type": "markdown",
   "metadata": {},
   "source": [
    "While there are more ways to access columns and even rows from the dataset, the above examples suffice for now."
   ]
  },
  {
   "cell_type": "code",
   "execution_count": null,
   "metadata": {},
   "outputs": [],
   "source": []
  },
  {
   "cell_type": "code",
   "execution_count": 130,
   "metadata": {},
   "outputs": [
    {
     "data": {
      "text/plain": [
       "0    Olan\n",
       "1    Chib\n",
       "2    Onyi\n",
       "3    Orla\n",
       "4    Alex\n",
       "5    Kach\n",
       "6    Oluj\n",
       "7    Tomi\n",
       "8    Timi\n",
       "9    Nnen\n",
       "Name: Firstname, dtype: object"
      ]
     },
     "execution_count": 130,
     "metadata": {},
     "output_type": "execute_result"
    }
   ],
   "source": [
    "data[\"Firstname\"].str[0:4]"
   ]
  },
  {
   "cell_type": "code",
   "execution_count": null,
   "metadata": {},
   "outputs": [],
   "source": []
  },
  {
   "cell_type": "code",
   "execution_count": 131,
   "metadata": {},
   "outputs": [
    {
     "data": {
      "text/plain": [
       "'olujare dada'"
      ]
     },
     "execution_count": 131,
     "metadata": {},
     "output_type": "execute_result"
    }
   ],
   "source": [
    "firstname = \"olujare\"\n",
    "lastname = \"dada\"\n",
    "\n",
    "x = firstname + \" \" + lastname\n",
    "\n",
    "x"
   ]
  },
  {
   "cell_type": "markdown",
   "metadata": {},
   "source": [
    "### Sorting out the Names\n",
    "\n",
    "\n",
    "Remember string concatenation? Well, that is what we shall use to join the first and last names together. The only difference is that instead of creating our own variables like x = \"Aiex\" and y = \"Iwobi\" and then saying x + \" \" + y = \"Alex Iwobi\", rather, we use the table column names as our variables.\n",
    "\n",
    "Using the table column names ensures that the entire change is made throughout the entire table. An example of this is displayed below:"
   ]
  },
  {
   "cell_type": "code",
   "execution_count": 132,
   "metadata": {},
   "outputs": [
    {
     "data": {
      "text/plain": [
       "0      Olanrewaju Kazeem\n",
       "1         Chibuzo Ekenne\n",
       "2        Onyinyechi Amos\n",
       "3          Orlando Bloom\n",
       "4             Alex Iwobi\n",
       "5            Kachi Felix\n",
       "6           Olujare Dada\n",
       "7         Tomiwa Sogaolu\n",
       "8    Timilehin Kupolokun\n",
       "9          Nnena Dickson\n",
       "dtype: object"
      ]
     },
     "execution_count": 132,
     "metadata": {},
     "output_type": "execute_result"
    }
   ],
   "source": [
    "data[\"Firstname\"] + \" \" + data[\"Lastname\"]"
   ]
  },
  {
   "cell_type": "markdown",
   "metadata": {},
   "source": [
    "This has produced a similar result to our string concatenation discussed earlier. However, it is important to note that:\n",
    "**Pandas has not made this change permanent yet. We can easily spot when pandas has not made a data manipulation step permanent because it returns the tabular result of whatever manipulation we are after. If we want the change to be permanent, we should equate the data manipulation step to a new column name**\n",
    "\n",
    "This step is carried out below. But we will check if the string concatenation we performed had any impact on our table."
   ]
  },
  {
   "cell_type": "code",
   "execution_count": 133,
   "metadata": {},
   "outputs": [
    {
     "data": {
      "text/html": [
       "<div>\n",
       "<style scoped>\n",
       "    .dataframe tbody tr th:only-of-type {\n",
       "        vertical-align: middle;\n",
       "    }\n",
       "\n",
       "    .dataframe tbody tr th {\n",
       "        vertical-align: top;\n",
       "    }\n",
       "\n",
       "    .dataframe thead th {\n",
       "        text-align: right;\n",
       "    }\n",
       "</style>\n",
       "<table border=\"1\" class=\"dataframe\">\n",
       "  <thead>\n",
       "    <tr style=\"text-align: right;\">\n",
       "      <th></th>\n",
       "      <th>Firstname</th>\n",
       "      <th>Lastname</th>\n",
       "      <th>age</th>\n",
       "      <th>sales</th>\n",
       "      <th>cost</th>\n",
       "    </tr>\n",
       "  </thead>\n",
       "  <tbody>\n",
       "    <tr>\n",
       "      <th>0</th>\n",
       "      <td>Olanrewaju</td>\n",
       "      <td>Kazeem</td>\n",
       "      <td>[24]</td>\n",
       "      <td>15000</td>\n",
       "      <td>11000</td>\n",
       "    </tr>\n",
       "    <tr>\n",
       "      <th>1</th>\n",
       "      <td>Chibuzo</td>\n",
       "      <td>Ekenne</td>\n",
       "      <td>[30]</td>\n",
       "      <td>25800</td>\n",
       "      <td>15200</td>\n",
       "    </tr>\n",
       "    <tr>\n",
       "      <th>2</th>\n",
       "      <td>Onyinyechi</td>\n",
       "      <td>Amos</td>\n",
       "      <td>[22]</td>\n",
       "      <td>45000</td>\n",
       "      <td>28000</td>\n",
       "    </tr>\n",
       "    <tr>\n",
       "      <th>3</th>\n",
       "      <td>Orlando</td>\n",
       "      <td>Bloom</td>\n",
       "      <td>[25]</td>\n",
       "      <td>28000</td>\n",
       "      <td>22000</td>\n",
       "    </tr>\n",
       "    <tr>\n",
       "      <th>4</th>\n",
       "      <td>Alex</td>\n",
       "      <td>Iwobi</td>\n",
       "      <td>[34]</td>\n",
       "      <td>36500</td>\n",
       "      <td>18850</td>\n",
       "    </tr>\n",
       "  </tbody>\n",
       "</table>\n",
       "</div>"
      ],
      "text/plain": [
       "    Firstname Lastname   age  sales   cost\n",
       "0  Olanrewaju   Kazeem  [24]  15000  11000\n",
       "1     Chibuzo   Ekenne  [30]  25800  15200\n",
       "2  Onyinyechi     Amos  [22]  45000  28000\n",
       "3     Orlando    Bloom  [25]  28000  22000\n",
       "4        Alex    Iwobi  [34]  36500  18850"
      ]
     },
     "execution_count": 133,
     "metadata": {},
     "output_type": "execute_result"
    }
   ],
   "source": [
    "data.head()"
   ]
  },
  {
   "cell_type": "markdown",
   "metadata": {},
   "source": [
    "Clearly, the data manipulation step did not work. As a result, we need to assign the result of the data manipulation to another column name. This is done below:"
   ]
  },
  {
   "cell_type": "code",
   "execution_count": 134,
   "metadata": {},
   "outputs": [],
   "source": [
    "data[\"Fullname\"] = data[\"Firstname\"] +\" \"+ data[\"Lastname\"]"
   ]
  },
  {
   "cell_type": "code",
   "execution_count": 135,
   "metadata": {},
   "outputs": [
    {
     "data": {
      "text/html": [
       "<div>\n",
       "<style scoped>\n",
       "    .dataframe tbody tr th:only-of-type {\n",
       "        vertical-align: middle;\n",
       "    }\n",
       "\n",
       "    .dataframe tbody tr th {\n",
       "        vertical-align: top;\n",
       "    }\n",
       "\n",
       "    .dataframe thead th {\n",
       "        text-align: right;\n",
       "    }\n",
       "</style>\n",
       "<table border=\"1\" class=\"dataframe\">\n",
       "  <thead>\n",
       "    <tr style=\"text-align: right;\">\n",
       "      <th></th>\n",
       "      <th>Firstname</th>\n",
       "      <th>Lastname</th>\n",
       "      <th>age</th>\n",
       "      <th>sales</th>\n",
       "      <th>cost</th>\n",
       "      <th>Fullname</th>\n",
       "    </tr>\n",
       "  </thead>\n",
       "  <tbody>\n",
       "    <tr>\n",
       "      <th>0</th>\n",
       "      <td>Olanrewaju</td>\n",
       "      <td>Kazeem</td>\n",
       "      <td>[24]</td>\n",
       "      <td>15000</td>\n",
       "      <td>11000</td>\n",
       "      <td>Olanrewaju Kazeem</td>\n",
       "    </tr>\n",
       "    <tr>\n",
       "      <th>1</th>\n",
       "      <td>Chibuzo</td>\n",
       "      <td>Ekenne</td>\n",
       "      <td>[30]</td>\n",
       "      <td>25800</td>\n",
       "      <td>15200</td>\n",
       "      <td>Chibuzo Ekenne</td>\n",
       "    </tr>\n",
       "    <tr>\n",
       "      <th>2</th>\n",
       "      <td>Onyinyechi</td>\n",
       "      <td>Amos</td>\n",
       "      <td>[22]</td>\n",
       "      <td>45000</td>\n",
       "      <td>28000</td>\n",
       "      <td>Onyinyechi Amos</td>\n",
       "    </tr>\n",
       "    <tr>\n",
       "      <th>3</th>\n",
       "      <td>Orlando</td>\n",
       "      <td>Bloom</td>\n",
       "      <td>[25]</td>\n",
       "      <td>28000</td>\n",
       "      <td>22000</td>\n",
       "      <td>Orlando Bloom</td>\n",
       "    </tr>\n",
       "    <tr>\n",
       "      <th>4</th>\n",
       "      <td>Alex</td>\n",
       "      <td>Iwobi</td>\n",
       "      <td>[34]</td>\n",
       "      <td>36500</td>\n",
       "      <td>18850</td>\n",
       "      <td>Alex Iwobi</td>\n",
       "    </tr>\n",
       "  </tbody>\n",
       "</table>\n",
       "</div>"
      ],
      "text/plain": [
       "    Firstname Lastname   age  sales   cost           Fullname\n",
       "0  Olanrewaju   Kazeem  [24]  15000  11000  Olanrewaju Kazeem\n",
       "1     Chibuzo   Ekenne  [30]  25800  15200     Chibuzo Ekenne\n",
       "2  Onyinyechi     Amos  [22]  45000  28000    Onyinyechi Amos\n",
       "3     Orlando    Bloom  [25]  28000  22000      Orlando Bloom\n",
       "4        Alex    Iwobi  [34]  36500  18850         Alex Iwobi"
      ]
     },
     "execution_count": 135,
     "metadata": {},
     "output_type": "execute_result"
    }
   ],
   "source": [
    "data.head()"
   ]
  },
  {
   "cell_type": "code",
   "execution_count": null,
   "metadata": {},
   "outputs": [],
   "source": []
  },
  {
   "cell_type": "markdown",
   "metadata": {},
   "source": [
    "### Sorting out Ages\n",
    "\n",
    "\n",
    "We can see that the ages of the sales representatives are in square brackets. We can use the .strip method discussed in string methods above. We just need to signify what character we are stripping away from the values in ages column. In this case, we want to get rid of the square brackets. This is done below:"
   ]
  },
  {
   "cell_type": "code",
   "execution_count": 136,
   "metadata": {},
   "outputs": [
    {
     "data": {
      "text/plain": [
       "0    24]\n",
       "1    30]\n",
       "2    22]\n",
       "3    25]\n",
       "4    34]\n",
       "5    50]\n",
       "6    28]\n",
       "7    42]\n",
       "8    49]\n",
       "9    39]\n",
       "Name: age, dtype: object"
      ]
     },
     "execution_count": 136,
     "metadata": {},
     "output_type": "execute_result"
    }
   ],
   "source": [
    "data[\"age\"].str.strip(\"[\")"
   ]
  },
  {
   "cell_type": "code",
   "execution_count": 137,
   "metadata": {},
   "outputs": [
    {
     "data": {
      "text/plain": [
       "0    [24\n",
       "1    [30\n",
       "2    [22\n",
       "3    [25\n",
       "4    [34\n",
       "5    [50\n",
       "6    [28\n",
       "7    [42\n",
       "8    [49\n",
       "9    [39\n",
       "Name: age, dtype: object"
      ]
     },
     "execution_count": 137,
     "metadata": {},
     "output_type": "execute_result"
    }
   ],
   "source": [
    "data[\"age\"].str.strip(\"]\")"
   ]
  },
  {
   "cell_type": "markdown",
   "metadata": {},
   "source": [
    "Notice that there is a method \"str\" being used before we apply the standard python string method, strip. This \".str\" is used to access each value in the column we are interested in as individual strings that python can work on. Put differently, because we use \".str\", we are able to apply standard python string methods on each string within a column. Without it, no python string method can work on a pandas table. So \"str\" helps us to access the strings in the tables, which then helps us to use the standard python string methods discussed above.\n",
    "\n",
    "Now, all that is left to do is to assign the result to the table column name to make the changes parmanent."
   ]
  },
  {
   "cell_type": "code",
   "execution_count": 138,
   "metadata": {
    "scrolled": true
   },
   "outputs": [
    {
     "data": {
      "text/html": [
       "<div>\n",
       "<style scoped>\n",
       "    .dataframe tbody tr th:only-of-type {\n",
       "        vertical-align: middle;\n",
       "    }\n",
       "\n",
       "    .dataframe tbody tr th {\n",
       "        vertical-align: top;\n",
       "    }\n",
       "\n",
       "    .dataframe thead th {\n",
       "        text-align: right;\n",
       "    }\n",
       "</style>\n",
       "<table border=\"1\" class=\"dataframe\">\n",
       "  <thead>\n",
       "    <tr style=\"text-align: right;\">\n",
       "      <th></th>\n",
       "      <th>Firstname</th>\n",
       "      <th>Lastname</th>\n",
       "      <th>age</th>\n",
       "      <th>sales</th>\n",
       "      <th>cost</th>\n",
       "      <th>Fullname</th>\n",
       "    </tr>\n",
       "  </thead>\n",
       "  <tbody>\n",
       "    <tr>\n",
       "      <th>0</th>\n",
       "      <td>Olanrewaju</td>\n",
       "      <td>Kazeem</td>\n",
       "      <td>24</td>\n",
       "      <td>15000</td>\n",
       "      <td>11000</td>\n",
       "      <td>Olanrewaju Kazeem</td>\n",
       "    </tr>\n",
       "    <tr>\n",
       "      <th>1</th>\n",
       "      <td>Chibuzo</td>\n",
       "      <td>Ekenne</td>\n",
       "      <td>30</td>\n",
       "      <td>25800</td>\n",
       "      <td>15200</td>\n",
       "      <td>Chibuzo Ekenne</td>\n",
       "    </tr>\n",
       "    <tr>\n",
       "      <th>2</th>\n",
       "      <td>Onyinyechi</td>\n",
       "      <td>Amos</td>\n",
       "      <td>22</td>\n",
       "      <td>45000</td>\n",
       "      <td>28000</td>\n",
       "      <td>Onyinyechi Amos</td>\n",
       "    </tr>\n",
       "    <tr>\n",
       "      <th>3</th>\n",
       "      <td>Orlando</td>\n",
       "      <td>Bloom</td>\n",
       "      <td>25</td>\n",
       "      <td>28000</td>\n",
       "      <td>22000</td>\n",
       "      <td>Orlando Bloom</td>\n",
       "    </tr>\n",
       "    <tr>\n",
       "      <th>4</th>\n",
       "      <td>Alex</td>\n",
       "      <td>Iwobi</td>\n",
       "      <td>34</td>\n",
       "      <td>36500</td>\n",
       "      <td>18850</td>\n",
       "      <td>Alex Iwobi</td>\n",
       "    </tr>\n",
       "  </tbody>\n",
       "</table>\n",
       "</div>"
      ],
      "text/plain": [
       "    Firstname Lastname age  sales   cost           Fullname\n",
       "0  Olanrewaju   Kazeem  24  15000  11000  Olanrewaju Kazeem\n",
       "1     Chibuzo   Ekenne  30  25800  15200     Chibuzo Ekenne\n",
       "2  Onyinyechi     Amos  22  45000  28000    Onyinyechi Amos\n",
       "3     Orlando    Bloom  25  28000  22000      Orlando Bloom\n",
       "4        Alex    Iwobi  34  36500  18850         Alex Iwobi"
      ]
     },
     "execution_count": 138,
     "metadata": {},
     "output_type": "execute_result"
    }
   ],
   "source": [
    "data[\"age\"] = data[\"age\"].str.strip(\"[\")\n",
    "\n",
    "data[\"age\"] = data[\"age\"].str.strip(\"]\")\n",
    "\n",
    "data.head()"
   ]
  },
  {
   "cell_type": "code",
   "execution_count": null,
   "metadata": {},
   "outputs": [],
   "source": []
  },
  {
   "cell_type": "markdown",
   "metadata": {},
   "source": [
    "***NOTE: IT IS ONLY WHEN YOU NEED TO USE STRING METHODS THAT YOU NEED \".str\". OTHER CALCULATIONS JUST REQUIRE WORKING WITH THE COLUMN NAMES ALONE***"
   ]
  },
  {
   "cell_type": "code",
   "execution_count": null,
   "metadata": {},
   "outputs": [],
   "source": []
  },
  {
   "cell_type": "markdown",
   "metadata": {},
   "source": [
    "### Creating the Revenue column\n",
    "\n",
    "\n",
    "Here, we again use one of the concepts we have learned earlier. This time, we are subtracting real numbers, not strings.\n",
    "\n",
    "Therefore, just as we did with the string columns, we do not need to create new variables for this operation, we only need to use the name of the columns in the table."
   ]
  },
  {
   "cell_type": "code",
   "execution_count": 139,
   "metadata": {},
   "outputs": [
    {
     "data": {
      "text/plain": [
       "0     4000\n",
       "1    10600\n",
       "2    17000\n",
       "3     6000\n",
       "4    17650\n",
       "5    11017\n",
       "6     1700\n",
       "7    15659\n",
       "8    12389\n",
       "9    36300\n",
       "dtype: int64"
      ]
     },
     "execution_count": 139,
     "metadata": {},
     "output_type": "execute_result"
    }
   ],
   "source": [
    "data[\"sales\"] - data[\"cost\"]\n"
   ]
  },
  {
   "cell_type": "code",
   "execution_count": 140,
   "metadata": {},
   "outputs": [
    {
     "data": {
      "text/html": [
       "<div>\n",
       "<style scoped>\n",
       "    .dataframe tbody tr th:only-of-type {\n",
       "        vertical-align: middle;\n",
       "    }\n",
       "\n",
       "    .dataframe tbody tr th {\n",
       "        vertical-align: top;\n",
       "    }\n",
       "\n",
       "    .dataframe thead th {\n",
       "        text-align: right;\n",
       "    }\n",
       "</style>\n",
       "<table border=\"1\" class=\"dataframe\">\n",
       "  <thead>\n",
       "    <tr style=\"text-align: right;\">\n",
       "      <th></th>\n",
       "      <th>Firstname</th>\n",
       "      <th>Lastname</th>\n",
       "      <th>age</th>\n",
       "      <th>sales</th>\n",
       "      <th>cost</th>\n",
       "      <th>Fullname</th>\n",
       "      <th>Revenue</th>\n",
       "    </tr>\n",
       "  </thead>\n",
       "  <tbody>\n",
       "    <tr>\n",
       "      <th>0</th>\n",
       "      <td>Olanrewaju</td>\n",
       "      <td>Kazeem</td>\n",
       "      <td>24</td>\n",
       "      <td>15000</td>\n",
       "      <td>11000</td>\n",
       "      <td>Olanrewaju Kazeem</td>\n",
       "      <td>4000</td>\n",
       "    </tr>\n",
       "    <tr>\n",
       "      <th>1</th>\n",
       "      <td>Chibuzo</td>\n",
       "      <td>Ekenne</td>\n",
       "      <td>30</td>\n",
       "      <td>25800</td>\n",
       "      <td>15200</td>\n",
       "      <td>Chibuzo Ekenne</td>\n",
       "      <td>10600</td>\n",
       "    </tr>\n",
       "    <tr>\n",
       "      <th>2</th>\n",
       "      <td>Onyinyechi</td>\n",
       "      <td>Amos</td>\n",
       "      <td>22</td>\n",
       "      <td>45000</td>\n",
       "      <td>28000</td>\n",
       "      <td>Onyinyechi Amos</td>\n",
       "      <td>17000</td>\n",
       "    </tr>\n",
       "    <tr>\n",
       "      <th>3</th>\n",
       "      <td>Orlando</td>\n",
       "      <td>Bloom</td>\n",
       "      <td>25</td>\n",
       "      <td>28000</td>\n",
       "      <td>22000</td>\n",
       "      <td>Orlando Bloom</td>\n",
       "      <td>6000</td>\n",
       "    </tr>\n",
       "    <tr>\n",
       "      <th>4</th>\n",
       "      <td>Alex</td>\n",
       "      <td>Iwobi</td>\n",
       "      <td>34</td>\n",
       "      <td>36500</td>\n",
       "      <td>18850</td>\n",
       "      <td>Alex Iwobi</td>\n",
       "      <td>17650</td>\n",
       "    </tr>\n",
       "  </tbody>\n",
       "</table>\n",
       "</div>"
      ],
      "text/plain": [
       "    Firstname Lastname age  sales   cost           Fullname  Revenue\n",
       "0  Olanrewaju   Kazeem  24  15000  11000  Olanrewaju Kazeem     4000\n",
       "1     Chibuzo   Ekenne  30  25800  15200     Chibuzo Ekenne    10600\n",
       "2  Onyinyechi     Amos  22  45000  28000    Onyinyechi Amos    17000\n",
       "3     Orlando    Bloom  25  28000  22000      Orlando Bloom     6000\n",
       "4        Alex    Iwobi  34  36500  18850         Alex Iwobi    17650"
      ]
     },
     "execution_count": 140,
     "metadata": {},
     "output_type": "execute_result"
    }
   ],
   "source": [
    "data[\"Revenue\"] = data[\"sales\"] - data[\"cost\"]\n",
    "\n",
    "data.head()"
   ]
  },
  {
   "cell_type": "markdown",
   "metadata": {},
   "source": [
    "We have subtracted the Cost column from the Sales column and it has given us the Revenue column. However, we can also perform other simple arithmetic tasks such as addition, multiplication and division."
   ]
  },
  {
   "cell_type": "code",
   "execution_count": null,
   "metadata": {},
   "outputs": [],
   "source": []
  },
  {
   "cell_type": "markdown",
   "metadata": {},
   "source": [
    "### Homework\n",
    "\n",
    "Use the working_with_tables_homework.csv file to answer the following questions.\n",
    "\n",
    "Generate a string of your choice. Then perform the following operations on the string.\n",
    "\n",
    "- Write a program to calculate the length of the string\n",
    "\n",
    "- Write a program to get a string made of the first 2 and last 2 characters\n",
    "from a given string.\n",
    "\n",
    "- Write a program to get a string made of the first 2, a middle letter,\n",
    "and last 2 characters from a given string.\n",
    "\n",
    "- Write a python program to add \"ing\" at the end of a given string.\n",
    "\n",
    "- Write a python program to remove the nth index character from a string.\n",
    "\n",
    "\n",
    "- Create a new column that generates the initials of the sales representatives. The initials must be in the form:\n",
    "\n",
    "> The first letter of their first name + . + The first letter of their last name. For example:\n",
    "> Olanrewaju Kazeem would be: O.K\n",
    "\n",
    "\n",
    "- If the commision that each sales representative is entitled to is 15% of the revenue generated, create a new column that generates this commission column.\n",
    "\n",
    "\n",
    "- Suppose we are interested in knowing the character length of each peron's fullname for the new app the company is creating, create a new column containing the character length for each sales representative.\n",
    "\n",
    "\n",
    "- In the new app to be created, the first 4 characters of the employee's full name is to be used as user name along with the first 4 characters of the employee's last name. These two pairs of 4 characters must be separated by an underscore. For example,\n",
    "\n",
    "> Olanrewaju Kazeem will have a username of: Olan_Kaze\n",
    "> - Create a new column that contains this new username."
   ]
  },
  {
   "cell_type": "code",
   "execution_count": null,
   "metadata": {},
   "outputs": [],
   "source": []
  },
  {
   "cell_type": "markdown",
   "metadata": {},
   "source": [
    "### Built-in Data Structures\n",
    "\n",
    "\n",
    "These are simply objects in python that help us store and manipulate data.\n",
    "\n",
    "So far, we have discussed how numbers and strings themselves can be manipulated and stored in variables. This level of manipulation and storage is not sufficient for Data Science. We are going to be working with millions of rows and columns of data and simply working with variable assignment and string manipulation won't cut it. This is one of the main reasons we need to learn Data Structures.\n",
    "\n",
    "\n",
    "For now, we would focus on the Built-in Data Structures within the Python programming language. These structures have parallels in other programming languages as well. So they are universal for anyone trying to use a programming language to achieve anything at all, from website creation, to hacking.\n",
    "\n",
    "\n",
    "The 4 major Data Structures are:\n",
    "\n",
    "- Lists\n",
    "\n",
    "- Tuples\n",
    "\n",
    "- Sets\n",
    "\n",
    "- Dictionaries"
   ]
  },
  {
   "cell_type": "markdown",
   "metadata": {},
   "source": [
    "#### Lists:\n",
    "\n",
    "\n",
    "This is simply a collection of items. Items could be numbers, strings, or any other type of objects we have yet to discuss in python.\n",
    "\n",
    "It has certain properties that sets it appart from other Data Structures, but these properties will be discussed later. For now, we introduce these data structures."
   ]
  },
  {
   "cell_type": "markdown",
   "metadata": {},
   "source": [
    "**A list with numbers:**"
   ]
  },
  {
   "cell_type": "code",
   "execution_count": 141,
   "metadata": {},
   "outputs": [
    {
     "data": {
      "text/plain": [
       "[2, 4, 6, 8]"
      ]
     },
     "execution_count": 141,
     "metadata": {},
     "output_type": "execute_result"
    }
   ],
   "source": [
    "A = [2, 4, 6, 8]\n",
    "\n",
    "A"
   ]
  },
  {
   "cell_type": "code",
   "execution_count": 142,
   "metadata": {},
   "outputs": [
    {
     "data": {
      "text/plain": [
       "list"
      ]
     },
     "execution_count": 142,
     "metadata": {},
     "output_type": "execute_result"
    }
   ],
   "source": [
    "type(A)"
   ]
  },
  {
   "cell_type": "markdown",
   "metadata": {},
   "source": [
    "**A list with strings:**"
   ]
  },
  {
   "cell_type": "code",
   "execution_count": 143,
   "metadata": {},
   "outputs": [
    {
     "data": {
      "text/plain": [
       "['Modupe', 'Iyiola', 'Priscillia']"
      ]
     },
     "execution_count": 143,
     "metadata": {},
     "output_type": "execute_result"
    }
   ],
   "source": [
    "B = [\"Modupe\", \"Iyiola\", \"Priscillia\"]\n",
    "\n",
    "B"
   ]
  },
  {
   "cell_type": "markdown",
   "metadata": {},
   "source": [
    "A list can contain a mixture of numbers and strings and even other lists. It can contain a Tuple, a Set or Dictionaries."
   ]
  },
  {
   "cell_type": "code",
   "execution_count": 144,
   "metadata": {},
   "outputs": [
    {
     "data": {
      "text/plain": [
       "['kunle', 5, 10.5, ['another list', 'is', 'in', 'this', 'list y']]"
      ]
     },
     "execution_count": 144,
     "metadata": {},
     "output_type": "execute_result"
    }
   ],
   "source": [
    "y = [\"kunle\", 5, 10.5, [\"another list\", \"is\", \"in\", \"this\", \"list y\"]]\n",
    "y"
   ]
  },
  {
   "cell_type": "code",
   "execution_count": null,
   "metadata": {},
   "outputs": [],
   "source": []
  },
  {
   "cell_type": "markdown",
   "metadata": {},
   "source": [
    "**Tuple**:\n",
    "\n",
    "This can also hold any type of objects just like a list. And just like lists, it has its set of unique properties discussed later"
   ]
  },
  {
   "cell_type": "code",
   "execution_count": 145,
   "metadata": {},
   "outputs": [
    {
     "data": {
      "text/plain": [
       "(2, 4, 7, 8)"
      ]
     },
     "execution_count": 145,
     "metadata": {},
     "output_type": "execute_result"
    }
   ],
   "source": [
    "C = (2, 4, 7, 8)\n",
    "\n",
    "C"
   ]
  },
  {
   "cell_type": "code",
   "execution_count": null,
   "metadata": {},
   "outputs": [],
   "source": []
  },
  {
   "cell_type": "markdown",
   "metadata": {},
   "source": [
    "**Sets**:\n",
    "\n",
    "\n",
    "This is another collection of items, only this time, the items must not be duplicated and they must be arranged in ascending order"
   ]
  },
  {
   "cell_type": "code",
   "execution_count": 146,
   "metadata": {},
   "outputs": [
    {
     "data": {
      "text/plain": [
       "{0, 1, 2, 3, 'two'}"
      ]
     },
     "execution_count": 146,
     "metadata": {},
     "output_type": "execute_result"
    }
   ],
   "source": [
    "D = {2, 1, \"two\", 2, 3, 3, 0}\n",
    "\n",
    "D"
   ]
  },
  {
   "cell_type": "code",
   "execution_count": null,
   "metadata": {},
   "outputs": [],
   "source": []
  },
  {
   "cell_type": "markdown",
   "metadata": {},
   "source": [
    "**Dictionaries**:\n",
    "\n",
    "A dictionary contains key-value pairs. A value can easily be accessed via its key. For the example given below, the keys are: \"one\", \"two\", and \"three\", while the values are 1, 2 and 3 respectively."
   ]
  },
  {
   "cell_type": "code",
   "execution_count": 147,
   "metadata": {},
   "outputs": [
    {
     "data": {
      "text/plain": [
       "{'one': 1, 'two': 2, 'three': 3}"
      ]
     },
     "execution_count": 147,
     "metadata": {},
     "output_type": "execute_result"
    }
   ],
   "source": [
    "E = {\"one\": 1, \"two\" : 2, \"three\": 3}\n",
    "\n",
    "E"
   ]
  },
  {
   "cell_type": "code",
   "execution_count": null,
   "metadata": {},
   "outputs": [],
   "source": []
  },
  {
   "cell_type": "markdown",
   "metadata": {},
   "source": [
    "**Properties of Data Structures**:\n",
    "\n",
    "\n",
    "**List**:\n",
    "- Lists are ordered.\n",
    "- Lists can contain any arbitrary objects.\n",
    "- List elements can be accessed by index.\n",
    "- Lists can be nested to arbitrary depth.\n",
    "- Lists are mutable.\n",
    "- Lists are dynamic.\n",
    "\n",
    "\n",
    "**Tuple**:\n",
    "\n",
    "- Ordered, \n",
    "- Unchangeable\n",
    "- Allow duplicate values.\n",
    "\n",
    "\n",
    "**Set**:\n",
    "- Sets are unordered, as a result, they cannot be indexed.\n",
    "- Set elements are unique. Duplicate elements are not allowed.\n",
    "- A set itself may be modified, but the elements contained in the set must be of an immutable type.\n",
    "\n",
    "\n",
    "**Dictionary**:\n",
    "- Dictionaries are unordered.\n",
    "- Keys are unique.\n",
    "- Keys must be immutable. \n",
    "- Values of dictionaries can be accessed by the keys\n",
    "\n",
    "\n",
    "Below, we shall proceed to explain these properties."
   ]
  },
  {
   "cell_type": "code",
   "execution_count": null,
   "metadata": {},
   "outputs": [],
   "source": []
  },
  {
   "cell_type": "markdown",
   "metadata": {},
   "source": [
    "**List**"
   ]
  },
  {
   "cell_type": "code",
   "execution_count": 148,
   "metadata": {},
   "outputs": [
    {
     "data": {
      "text/plain": [
       "True"
      ]
     },
     "execution_count": 148,
     "metadata": {},
     "output_type": "execute_result"
    }
   ],
   "source": [
    "# Lists are ordered\n",
    "\n",
    "L = [\"a\", \"c\", \"b\"]\n",
    "\n",
    "M = [\"a\", \"b\", \"c\"]\n",
    "\n",
    "N = [\"a\", \"b\", \"c\"]\n",
    "\n",
    "L == M\n",
    "\n",
    "M == N"
   ]
  },
  {
   "cell_type": "code",
   "execution_count": 149,
   "metadata": {},
   "outputs": [
    {
     "data": {
      "text/plain": [
       "['one', 2, 'three', 4, None]"
      ]
     },
     "execution_count": 149,
     "metadata": {},
     "output_type": "execute_result"
    }
   ],
   "source": [
    "# Lists can contain any arbitrary objects.\n",
    "\n",
    "L = [\"one\", 2, \"three\", 4, None]\n",
    "\n",
    "L"
   ]
  },
  {
   "cell_type": "code",
   "execution_count": 150,
   "metadata": {},
   "outputs": [
    {
     "data": {
      "text/plain": [
       "4"
      ]
     },
     "execution_count": 150,
     "metadata": {},
     "output_type": "execute_result"
    }
   ],
   "source": [
    "# Lists are accessed by index\n",
    "\n",
    "L[0]\n",
    "\n",
    "L[1]\n",
    "\n",
    "L[2]\n",
    "\n",
    "L[3]"
   ]
  },
  {
   "cell_type": "code",
   "execution_count": 151,
   "metadata": {},
   "outputs": [
    {
     "data": {
      "text/plain": [
       "'Sister'"
      ]
     },
     "execution_count": 151,
     "metadata": {},
     "output_type": "execute_result"
    }
   ],
   "source": [
    "# Lists can be nested\n",
    "\n",
    "M = [\"Father\", \"Mother\", [\"Brother\", \"Sister\"]]\n",
    "\n",
    "M[0]\n",
    "\n",
    "M[1]\n",
    "\n",
    "M[2]\n",
    "\n",
    "M[2][0]\n",
    "\n",
    "M[2][1]"
   ]
  },
  {
   "cell_type": "code",
   "execution_count": 152,
   "metadata": {},
   "outputs": [
    {
     "data": {
      "text/plain": [
       "['Apple', 'Samsung', 'Nokia', 'Father', 'Mother', ['Brother', 'Sister']]"
      ]
     },
     "execution_count": 152,
     "metadata": {},
     "output_type": "execute_result"
    }
   ],
   "source": [
    "# Lists can be mutable or changeable\n",
    "\n",
    "N = [\"Apple\", \"Samsung\", \"Nokia\"]\n",
    "\n",
    "N += M\n",
    "\n",
    "N"
   ]
  },
  {
   "cell_type": "code",
   "execution_count": 153,
   "metadata": {},
   "outputs": [
    {
     "data": {
      "text/plain": [
       "[1, 'Samsung', 'Nokia', 'Father', 'Mother', ['Brother', 'Sister']]"
      ]
     },
     "execution_count": 153,
     "metadata": {},
     "output_type": "execute_result"
    }
   ],
   "source": [
    "N[0] = 1\n",
    "\n",
    "N"
   ]
  },
  {
   "cell_type": "code",
   "execution_count": null,
   "metadata": {},
   "outputs": [],
   "source": []
  },
  {
   "cell_type": "markdown",
   "metadata": {},
   "source": [
    "**Tuple**"
   ]
  },
  {
   "cell_type": "code",
   "execution_count": 154,
   "metadata": {},
   "outputs": [
    {
     "data": {
      "text/plain": [
       "False"
      ]
     },
     "execution_count": 154,
     "metadata": {},
     "output_type": "execute_result"
    }
   ],
   "source": [
    "# Tuples are ordered\n",
    "\n",
    "T = (1, \"a\", 2, \"b\")\n",
    "\n",
    "U = (1, 2, \"a\", \"b\")\n",
    "\n",
    "T == U"
   ]
  },
  {
   "cell_type": "code",
   "execution_count": 155,
   "metadata": {},
   "outputs": [
    {
     "ename": "TypeError",
     "evalue": "'tuple' object does not support item assignment",
     "output_type": "error",
     "traceback": [
      "\u001b[1;31m---------------------------------------------------------------------------\u001b[0m",
      "\u001b[1;31mTypeError\u001b[0m                                 Traceback (most recent call last)",
      "\u001b[1;32m~\\AppData\\Local\\Temp\\ipykernel_21256\\2191120183.py\u001b[0m in \u001b[0;36m<module>\u001b[1;34m\u001b[0m\n\u001b[0;32m      1\u001b[0m \u001b[1;31m# Tuples are unchangeable\u001b[0m\u001b[1;33m\u001b[0m\u001b[1;33m\u001b[0m\u001b[0m\n\u001b[0;32m      2\u001b[0m \u001b[1;33m\u001b[0m\u001b[0m\n\u001b[1;32m----> 3\u001b[1;33m \u001b[0mT\u001b[0m\u001b[1;33m[\u001b[0m\u001b[1;36m1\u001b[0m\u001b[1;33m]\u001b[0m \u001b[1;33m=\u001b[0m \u001b[1;36m19\u001b[0m\u001b[1;33m\u001b[0m\u001b[1;33m\u001b[0m\u001b[0m\n\u001b[0m",
      "\u001b[1;31mTypeError\u001b[0m: 'tuple' object does not support item assignment"
     ]
    }
   ],
   "source": [
    "# Tuples are unchangeable\n",
    "\n",
    "T[1] = 19"
   ]
  },
  {
   "cell_type": "code",
   "execution_count": 156,
   "metadata": {},
   "outputs": [
    {
     "data": {
      "text/plain": [
       "(1, 1, 4, 2, 4, 4, 2)"
      ]
     },
     "execution_count": 156,
     "metadata": {},
     "output_type": "execute_result"
    }
   ],
   "source": [
    "# Allow duplicates\n",
    "R = (1, 1, 4, 2, 4, 4, 2)\n",
    "\n",
    "R"
   ]
  },
  {
   "cell_type": "code",
   "execution_count": 157,
   "metadata": {},
   "outputs": [
    {
     "data": {
      "text/plain": [
       "4"
      ]
     },
     "execution_count": 157,
     "metadata": {},
     "output_type": "execute_result"
    }
   ],
   "source": [
    "R[2] #Tuples can be indexed"
   ]
  },
  {
   "cell_type": "code",
   "execution_count": null,
   "metadata": {},
   "outputs": [],
   "source": []
  },
  {
   "cell_type": "code",
   "execution_count": null,
   "metadata": {},
   "outputs": [],
   "source": []
  },
  {
   "cell_type": "markdown",
   "metadata": {},
   "source": [
    "Sets"
   ]
  },
  {
   "cell_type": "code",
   "execution_count": 158,
   "metadata": {},
   "outputs": [
    {
     "data": {
      "text/plain": [
       "{0, 1, 2, 3, 'two'}"
      ]
     },
     "execution_count": 158,
     "metadata": {},
     "output_type": "execute_result"
    }
   ],
   "source": [
    "D = {2, 1, \"two\", 2, 3, 3, 0}\n",
    "\n",
    "D #Duplicates have been removed"
   ]
  },
  {
   "cell_type": "code",
   "execution_count": 159,
   "metadata": {},
   "outputs": [
    {
     "ename": "TypeError",
     "evalue": "'set' object is not subscriptable",
     "output_type": "error",
     "traceback": [
      "\u001b[1;31m---------------------------------------------------------------------------\u001b[0m",
      "\u001b[1;31mTypeError\u001b[0m                                 Traceback (most recent call last)",
      "\u001b[1;32m~\\AppData\\Local\\Temp\\ipykernel_21256\\2375754699.py\u001b[0m in \u001b[0;36m<module>\u001b[1;34m\u001b[0m\n\u001b[1;32m----> 1\u001b[1;33m \u001b[0mD\u001b[0m\u001b[1;33m[\u001b[0m\u001b[1;36m2\u001b[0m\u001b[1;33m]\u001b[0m \u001b[1;31m#sets cannot be indexed\u001b[0m\u001b[1;33m\u001b[0m\u001b[1;33m\u001b[0m\u001b[0m\n\u001b[0m",
      "\u001b[1;31mTypeError\u001b[0m: 'set' object is not subscriptable"
     ]
    }
   ],
   "source": [
    "D[2] #sets cannot be indexed"
   ]
  },
  {
   "cell_type": "code",
   "execution_count": null,
   "metadata": {},
   "outputs": [],
   "source": [
    "D.add(13)  #Sets can only be updated the other elements previously in the set cannot be changed.\n",
    "\n",
    "D"
   ]
  },
  {
   "cell_type": "code",
   "execution_count": null,
   "metadata": {},
   "outputs": [],
   "source": [
    "K = {1, 2, 0, \"two\", 3, 2, 3}\n",
    "D = {2, 1, \"two\", 2, 3, 3, 0}\n",
    "\n",
    "#Sets are unordered. This is why the exact same set representations are equal\n",
    "K == D"
   ]
  },
  {
   "cell_type": "code",
   "execution_count": null,
   "metadata": {},
   "outputs": [],
   "source": []
  },
  {
   "cell_type": "markdown",
   "metadata": {},
   "source": [
    "**Dictionary**:"
   ]
  },
  {
   "cell_type": "code",
   "execution_count": null,
   "metadata": {},
   "outputs": [],
   "source": [
    "E = {\"one\": 1, \"two\" : 2, \"three\": 3}\n",
    "\n",
    "#Keys are unique\n",
    "E[\"one\"] = 2 # Dictionaries can be indexed using their keys\n",
    "\n",
    "E"
   ]
  },
  {
   "cell_type": "markdown",
   "metadata": {},
   "source": [
    "Notice that when we try to create another element in the dictionary that has the same key but a different value, the value attached to the key \"one\" just got updated instead of creating duplicate keys with different values."
   ]
  },
  {
   "cell_type": "code",
   "execution_count": null,
   "metadata": {},
   "outputs": [],
   "source": []
  },
  {
   "cell_type": "code",
   "execution_count": null,
   "metadata": {},
   "outputs": [],
   "source": []
  },
  {
   "cell_type": "markdown",
   "metadata": {},
   "source": [
    "**Operations with lists and list methods**"
   ]
  },
  {
   "cell_type": "markdown",
   "metadata": {},
   "source": [
    "- append: This is used to add a new element to the end of a list.\n",
    "- clear: This is used to remove all the elements within a list.\n",
    "- copy: This is used to make a copy of a list.\n",
    "- count: This is used the number of instances of an element within a list.\n",
    "- extend: This adds all the elements of an iterable (list, tuple, string etc.) to the end of the list\n",
    "- index: This is used to return the index of a specified element within a list.\n",
    "- insert: This is used to insert the specified value at the specified position. Syntax. list.insert(pos, elmnt).\n",
    "- pop: This is used to remove the last element added to the list.\n",
    "- remove: This is used to remvoe a specific element from the list.\n",
    "- reverse: This is used to reverse the order of a list.\n",
    "- sort: This is used to sort a list in ascending or descending order."
   ]
  },
  {
   "cell_type": "code",
   "execution_count": null,
   "metadata": {},
   "outputs": [],
   "source": [
    "N = [1, 'Samsung', 'Nokia', 'Father', 'Mother', ['Brother', 'Sister']]"
   ]
  },
  {
   "cell_type": "code",
   "execution_count": null,
   "metadata": {},
   "outputs": [],
   "source": [
    "N.pop()\n",
    "N"
   ]
  },
  {
   "cell_type": "code",
   "execution_count": null,
   "metadata": {
    "scrolled": true
   },
   "outputs": [],
   "source": [
    "N.append(\"Last_element\")\n"
   ]
  },
  {
   "cell_type": "code",
   "execution_count": null,
   "metadata": {},
   "outputs": [],
   "source": [
    "N"
   ]
  },
  {
   "cell_type": "code",
   "execution_count": null,
   "metadata": {},
   "outputs": [],
   "source": [
    "new_N = N.copy()\n",
    "\n",
    "new_N"
   ]
  },
  {
   "cell_type": "code",
   "execution_count": null,
   "metadata": {},
   "outputs": [],
   "source": [
    "x = \"Father\"\n",
    "\n",
    "N.append(x)\n",
    "N.append(x)\n",
    "\n",
    "N.count(x)"
   ]
  },
  {
   "cell_type": "code",
   "execution_count": null,
   "metadata": {},
   "outputs": [],
   "source": []
  },
  {
   "cell_type": "code",
   "execution_count": null,
   "metadata": {},
   "outputs": [],
   "source": [
    "N.extend(L)\n",
    "print(N)"
   ]
  },
  {
   "cell_type": "code",
   "execution_count": null,
   "metadata": {},
   "outputs": [],
   "source": [
    "N.index(\"Father\")"
   ]
  },
  {
   "cell_type": "code",
   "execution_count": null,
   "metadata": {},
   "outputs": [],
   "source": [
    "N.insert(10, \"Jare\")\n",
    "print(N)"
   ]
  },
  {
   "cell_type": "code",
   "execution_count": null,
   "metadata": {
    "scrolled": true
   },
   "outputs": [],
   "source": [
    "N.remove(\"Nokia\")\n",
    "\n",
    "print(N)"
   ]
  },
  {
   "cell_type": "code",
   "execution_count": null,
   "metadata": {},
   "outputs": [],
   "source": [
    "N.reverse()\n",
    "\n",
    "print(N)"
   ]
  },
  {
   "cell_type": "code",
   "execution_count": null,
   "metadata": {},
   "outputs": [],
   "source": [
    "L"
   ]
  },
  {
   "cell_type": "code",
   "execution_count": null,
   "metadata": {},
   "outputs": [],
   "source": [
    "L.remove(\"one\")\n",
    "L.remove(\"three\")\n",
    "L.pop()\n",
    "\n",
    "L.append(44)\n",
    "L.append(1000)\n",
    "L.append(300)\n",
    "\n",
    "\n",
    "L.sort()\n",
    "\n",
    "L"
   ]
  },
  {
   "cell_type": "code",
   "execution_count": null,
   "metadata": {},
   "outputs": [],
   "source": [
    "L.sort(reverse = True)\n",
    "\n",
    "L"
   ]
  },
  {
   "cell_type": "code",
   "execution_count": null,
   "metadata": {},
   "outputs": [],
   "source": []
  },
  {
   "cell_type": "code",
   "execution_count": null,
   "metadata": {},
   "outputs": [],
   "source": []
  },
  {
   "cell_type": "markdown",
   "metadata": {},
   "source": [
    "### Operations and Methods with Sets\n",
    "\n",
    "\n",
    "- add: This is used to add a single value to the elements of a set.\n",
    "- clear: This is used to clear all the elements of a set.\n",
    "- copy: This is used to make an extra copy of a set\n",
    "- difference: Returns a set containing the difference between two or more sets\n",
    "- difference_update: Removes the items in this set that are also included in another, specified set\n",
    "- discard: This is used to remove an element from a set. Just like remove().\n",
    "- intersection: This is used to find the common elements between two sets.\n",
    "- intersection_update: Removes the items in this set that are not present in other, specified set(s)\n",
    "- isdisjoint: Is used to check if two sets do not have any common elements.\n",
    "- issubset: Is used to check if a set is the subset of another set. If set A is a subset of set B, then, all of set A's elements can be found in set B.\n",
    "- issuperset: Is used to check if a set is the superset of another set. If set A is a superset of set B, then, set A at least contains all the elements of set B, and contains some extra elements not found in set B.\n",
    "- pop: Remove a random element from a set\n",
    "- remove: To remove a specified element from a set\n",
    "- symmetric_difference: The set which contains the elements which are either in set A or in set B but not in both\n",
    "- symmetric_difference_update: This takes the symmetric difference and applies it to create a new set entirely.\n",
    "- union: This is for creating a combination of all the unique elements of two or more sets.\n",
    "- update: This is used to add sequence values to a set such as any iterables including list , tuple , string , dict etc."
   ]
  },
  {
   "cell_type": "code",
   "execution_count": 219,
   "metadata": {},
   "outputs": [
    {
     "data": {
      "text/plain": [
       "{0, 1, 2, 'efgfreefg', 'two'}"
      ]
     },
     "execution_count": 219,
     "metadata": {},
     "output_type": "execute_result"
    }
   ],
   "source": [
    "D.add(\"efgfreefg\")\n",
    "D.add(0)\n",
    "D.add(2)\n",
    "D.add(\"two\")\n",
    "D.add(1)\n",
    "D"
   ]
  },
  {
   "cell_type": "code",
   "execution_count": 226,
   "metadata": {
    "scrolled": true
   },
   "outputs": [
    {
     "data": {
      "text/plain": [
       "{0,\n",
       " 1,\n",
       " 13,\n",
       " 15,\n",
       " 2,\n",
       " 28,\n",
       " 'Florence',\n",
       " 'I ',\n",
       " 'Mr. Adams',\n",
       " 'Mrs. Olaitan',\n",
       " 'Olujare',\n",
       " 'Priscillia',\n",
       " 'Seun',\n",
       " 'two'}"
      ]
     },
     "execution_count": 226,
     "metadata": {},
     "output_type": "execute_result"
    }
   ],
   "source": [
    "F.union(D,y,V)"
   ]
  },
  {
   "cell_type": "code",
   "execution_count": 228,
   "metadata": {},
   "outputs": [
    {
     "data": {
      "text/plain": [
       "{1, 13, 15, 28, 'I ', 'fifteen', 'one', 'thirteen', 'zero'}"
      ]
     },
     "execution_count": 228,
     "metadata": {},
     "output_type": "execute_result"
    }
   ],
   "source": [
    "y.update([\"zero\", \"one\", \"thirteen\", \"fifteen\"])\n",
    "y"
   ]
  },
  {
   "cell_type": "code",
   "execution_count": 171,
   "metadata": {},
   "outputs": [],
   "source": [
    "y = {0, 1, 13, 15, 28, \"I \"}"
   ]
  },
  {
   "cell_type": "code",
   "execution_count": 192,
   "metadata": {},
   "outputs": [
    {
     "data": {
      "text/plain": [
       "False"
      ]
     },
     "execution_count": 192,
     "metadata": {},
     "output_type": "execute_result"
    }
   ],
   "source": [
    "F = {\"Olujare\", \"Seun\", \"Mr. Adams\", \"Florence\"}\n",
    "\n",
    "V = {\"Priscillia\",  \"Florence\", \"Mrs. Olaitan\", \"Seun\"}\n",
    "\n",
    "F.isdisjoint(V)"
   ]
  },
  {
   "cell_type": "code",
   "execution_count": 196,
   "metadata": {},
   "outputs": [
    {
     "data": {
      "text/plain": [
       "False"
      ]
     },
     "execution_count": 196,
     "metadata": {},
     "output_type": "execute_result"
    }
   ],
   "source": [
    "B = {\"Seun\", \"Mr. Adams\"}\n",
    "\n",
    "B.issuperset(F)"
   ]
  },
  {
   "cell_type": "code",
   "execution_count": 220,
   "metadata": {},
   "outputs": [
    {
     "data": {
      "text/plain": [
       "{0, 1, 2, 'two'}"
      ]
     },
     "execution_count": 220,
     "metadata": {},
     "output_type": "execute_result"
    }
   ],
   "source": [
    "D.discard(\"efgfreefg\")\n",
    "D"
   ]
  },
  {
   "cell_type": "code",
   "execution_count": 225,
   "metadata": {},
   "outputs": [
    {
     "data": {
      "text/plain": [
       "{'Mr. Adams', 'Olujare'}"
      ]
     },
     "execution_count": 225,
     "metadata": {},
     "output_type": "execute_result"
    }
   ],
   "source": [
    "F.difference(V)"
   ]
  },
  {
   "cell_type": "code",
   "execution_count": 221,
   "metadata": {},
   "outputs": [
    {
     "data": {
      "text/plain": [
       "{'Mr. Adams', 'Mrs. Olaitan', 'Olujare', 'Priscillia'}"
      ]
     },
     "execution_count": 221,
     "metadata": {},
     "output_type": "execute_result"
    }
   ],
   "source": [
    "F.symmetric_difference(V)"
   ]
  },
  {
   "cell_type": "markdown",
   "metadata": {},
   "source": [
    "### Homework\n",
    "\n",
    "\n",
    "- Use the set methods listed above to perform operations involving sets.\n",
    "\n",
    "- Find and use Tuple methods to perform operations involving tuples.\n",
    "\n",
    "- Find and use Dictionary methods to perform operations involving dictionaries.\n",
    "\n",
    "- In the working_with_tables_homework.csv file, find a way to separate the email service provider from each sales representatative's email into a separate column.\n",
    "\n",
    "- There are 8 students in a room: Alicia, Ope, Fiyin, Emeka, Kenny, Timothy, Grace, and Kunle. Use this information to answer the following questions:\n",
    "> 1. If one more person named Emeka joins these 8 students, which data structure can we use to represent this information?\n",
    "> 2. If there are two groups, A and B. Ope, Fiyin, Timothy, and Kunle are in group A while, Alicia, Emeka, Kenny, Timothy, and Ope are in group B. Which data structure can help us find the students common to both groups?\n",
    "> 3. If we want these 8 students to vote for who would be class president between Sandra and Michael, and we want to be able to know the order in which the students voted (e.g Emeka voted first, Alicia voted second, and so on), what data structure should we use?\n",
    "> 4. If the scenario in question 3 is repeated, but this time, we do not care about the order in which the students voted, what data structure should we use?\n",
    "> 5. If we wanted to record the number of votes that Michael and Sandra got from the election, which data structure is best suited for the task?"
   ]
  },
  {
   "cell_type": "code",
   "execution_count": null,
   "metadata": {},
   "outputs": [],
   "source": []
  },
  {
   "cell_type": "markdown",
   "metadata": {},
   "source": [
    "### Converting between Data Structures"
   ]
  },
  {
   "cell_type": "markdown",
   "metadata": {},
   "source": [
    "**Converting Lists to Tuples or Sets**"
   ]
  },
  {
   "cell_type": "code",
   "execution_count": 231,
   "metadata": {},
   "outputs": [
    {
     "data": {
      "text/plain": [
       "{2, 4, None, 'one', 'three'}"
      ]
     },
     "execution_count": 231,
     "metadata": {},
     "output_type": "execute_result"
    }
   ],
   "source": [
    "L\n",
    "tuple(L)\n",
    "set(L)"
   ]
  },
  {
   "cell_type": "code",
   "execution_count": null,
   "metadata": {},
   "outputs": [],
   "source": []
  },
  {
   "cell_type": "markdown",
   "metadata": {},
   "source": [
    "**Converting Tuples to Lists or Sets**"
   ]
  },
  {
   "cell_type": "code",
   "execution_count": 234,
   "metadata": {},
   "outputs": [
    {
     "data": {
      "text/plain": [
       "{1, 2, 'a', 'b'}"
      ]
     },
     "execution_count": 234,
     "metadata": {},
     "output_type": "execute_result"
    }
   ],
   "source": [
    "T\n",
    "list(T)\n",
    "set(T)"
   ]
  },
  {
   "cell_type": "code",
   "execution_count": null,
   "metadata": {},
   "outputs": [],
   "source": []
  },
  {
   "cell_type": "markdown",
   "metadata": {},
   "source": [
    "**Converting Sets to Tuples or Lists**"
   ]
  },
  {
   "cell_type": "code",
   "execution_count": 237,
   "metadata": {},
   "outputs": [
    {
     "data": {
      "text/plain": [
       "(0, 2, 1, 'two')"
      ]
     },
     "execution_count": 237,
     "metadata": {},
     "output_type": "execute_result"
    }
   ],
   "source": [
    "D\n",
    "list(D)\n",
    "tuple(D)"
   ]
  },
  {
   "cell_type": "code",
   "execution_count": null,
   "metadata": {},
   "outputs": [],
   "source": []
  },
  {
   "cell_type": "markdown",
   "metadata": {},
   "source": [
    "**Converting Dictionaries to Tuples, Lists, or Sets:**\n",
    "\n",
    "Since a dictionary contains two pieces of linked information: keys and values, it follows that we should be able to create two children data structures from the keys and values of a dictionary."
   ]
  },
  {
   "cell_type": "code",
   "execution_count": 246,
   "metadata": {},
   "outputs": [
    {
     "data": {
      "text/plain": [
       "dict_values([1, 2, 3])"
      ]
     },
     "execution_count": 246,
     "metadata": {},
     "output_type": "execute_result"
    }
   ],
   "source": [
    "E"
   ]
  },
  {
   "cell_type": "code",
   "execution_count": 249,
   "metadata": {},
   "outputs": [
    {
     "data": {
      "text/plain": [
       "{1, 2, 3}"
      ]
     },
     "execution_count": 249,
     "metadata": {},
     "output_type": "execute_result"
    }
   ],
   "source": [
    "list(E) #This takes just the keys and converts them to a list. Another way to do this is: list(E.keys())\n",
    "tuple(E) #This takes just the keys and converts them to a tuple. Another way to do this is: tuple(E.keys())\n",
    "set(E) #This takes just the keys and converts them to a set. Another way to do this is: set(E.keys())\n",
    "\n",
    "\n",
    "list(E.items()) #This creates a list of tuples containing the key-value pairing.\n",
    "tuple(E.items()) #This creates a tuple of tuples containing the key-value pairing.\n",
    "set(E.items()) #This creates a set of tuples containing the key-value pairing.\n",
    "\n",
    "\n",
    "list(E.values()) #This takes just the values and converts them to a list.\n",
    "tuple(E.values()) #This takes just the values and converts them to a tuple.\n",
    "set(E.values()) #This takes just the values and converts them to a set."
   ]
  },
  {
   "cell_type": "code",
   "execution_count": null,
   "metadata": {},
   "outputs": [],
   "source": []
  },
  {
   "cell_type": "markdown",
   "metadata": {},
   "source": [
    "### Using Built-in Data structures to create Pandas Objects\n",
    "\n",
    "\n",
    "The Built-in Data Structures discussed so far are very useful but as Data Scientists, we would most likely deal more with tables than with lists, sets, dictionaries or tuples. Since data in table form is a more appropriate way to represent data, the primitive data structures learned so far would not suffice in the long run.\n",
    "\n",
    "It is therefore imperative to find a way to link what we know, with what we will use in the near future, pandas table representations. There are 4 ways to represent data in pandas, they are:\n",
    "\n",
    "- **Pandas Series**: A Series is a one dimensional array like structure with homogeneous data. The values of the series are mutable means we can change any value in series, but the size of the series is immutable so we can not change the size of the series.\n",
    "\n",
    "- **Pandas DataFrames**:  DataFrame is a two-dimensional array with heterogeneous data. A DataFrame size is mutable and data is also mutable so we can change the data and size of DataFrame at any time.\n",
    "\n",
    "- **Pandas Panel**: The panel is a three-dimensional data structure with heterogeneous data. It is very hard to represent the Panel in a graphical representation. But a Panel can be illustrated as a container of a DataFrame. In Panel Data and size are mutable. \n",
    "\n",
    "Below is a picture depicting the above information:\n",
    "\n",
    "![convert notebook to web app](https://miro.medium.com/max/720/1*1iHWBaNA9d_ArysIiuit8A.webp)"
   ]
  },
  {
   "cell_type": "markdown",
   "metadata": {},
   "source": [
    "From the above representations given above, it does not take a Rocket Scientist to decipher that Lists and Tuples can be used to create Pandas Series objects. This is because they are single column data structures, just like the Built-in data structures of Lists and Tuples. \n",
    "***(Note: Sets are not used because they are unordered. This means that they do not have indicies that the pandas can use to create its own indicies)***\n",
    "\n",
    "Out of the Built-in data structures, only Dictionaries can take in two different types of data linked in a key-value pair relationship. This implies that we can use it to represent a data structure with multiple columns.\n",
    "\n",
    "At this point, we can proceed to show how to create these pandas objects from the Built-in Data Structures.\n",
    "\n",
    "(***Note: This is important because we would be using Pandas objects heavily in the near future***)."
   ]
  },
  {
   "cell_type": "code",
   "execution_count": null,
   "metadata": {},
   "outputs": [],
   "source": []
  },
  {
   "cell_type": "code",
   "execution_count": null,
   "metadata": {},
   "outputs": [],
   "source": []
  },
  {
   "cell_type": "markdown",
   "metadata": {},
   "source": [
    "#### Initializing Pandas"
   ]
  },
  {
   "cell_type": "code",
   "execution_count": 164,
   "metadata": {},
   "outputs": [],
   "source": [
    "import pandas as pd \n",
    "\n",
    "#Remember pd is just an alias. You can name your alias anything. But pd is the convention so that other\n",
    "#programmers can read your code with ease"
   ]
  },
  {
   "cell_type": "code",
   "execution_count": null,
   "metadata": {},
   "outputs": [],
   "source": []
  },
  {
   "cell_type": "markdown",
   "metadata": {},
   "source": [
    "#### Pandas Series from Lists"
   ]
  },
  {
   "cell_type": "code",
   "execution_count": 251,
   "metadata": {},
   "outputs": [
    {
     "data": {
      "text/plain": [
       "0     2\n",
       "1     4\n",
       "2     6\n",
       "3     8\n",
       "4    10\n",
       "dtype: int64"
      ]
     },
     "execution_count": 251,
     "metadata": {},
     "output_type": "execute_result"
    }
   ],
   "source": [
    "ls1 = [2, 4, 6, \"eight\", 10]\n",
    "#Notice that for the above the list, the series created is recognized as an \"Object\". An \"Object\" is a string in Pandas.\n",
    "#Also, the reason why this is so, is because of the presence of the value \"eight\". If the value were 8 instead of \"eight\",\n",
    "#pandas would recognize it as an integer, or int64 or int32, or int16.\n",
    "\n",
    "ls1 = [2, 4, 6, 8, 10]\n",
    "\n",
    "pd.Series(ls1)"
   ]
  },
  {
   "cell_type": "code",
   "execution_count": 254,
   "metadata": {},
   "outputs": [],
   "source": [
    "#To add a column name, we use the \"name\" parameter.\n",
    "\n",
    "pd.Series(ls1, name = \"Values_of_ls1\")\n",
    "\n",
    "\n",
    "#We can assign the series created to a variable that we can use to reference the series anytime we want\n",
    "ls1_series = pd.Series(ls1, name = \"Values_of_ls1\")"
   ]
  },
  {
   "cell_type": "code",
   "execution_count": 255,
   "metadata": {},
   "outputs": [
    {
     "data": {
      "text/plain": [
       "'Values_of_ls1'"
      ]
     },
     "execution_count": 255,
     "metadata": {},
     "output_type": "execute_result"
    }
   ],
   "source": [
    "ls1_series.name"
   ]
  },
  {
   "cell_type": "markdown",
   "metadata": {},
   "source": [
    "#### Pandas Series from Tuple"
   ]
  },
  {
   "cell_type": "code",
   "execution_count": 256,
   "metadata": {},
   "outputs": [],
   "source": [
    "#Creating the tuple\n",
    "tup1 = (1, 2, 3, 4, 5, 6, 7)\n",
    "\n",
    "#Creating the pandas series\n",
    "pd.Series(tup1)\n",
    "\n",
    "#Creating the pandas series with a name\n",
    "pd.Series(tup1, name = \"Values_of_tup1\")\n",
    "\n",
    "#Assigning the pandas series to a variable name so it can be referenced any time\n",
    "tup1_series = pd.Series(tup1, name = \"Values_of_tup1\")"
   ]
  },
  {
   "cell_type": "code",
   "execution_count": 258,
   "metadata": {},
   "outputs": [
    {
     "data": {
      "text/plain": [
       "0    1\n",
       "1    2\n",
       "2    3\n",
       "3    4\n",
       "4    5\n",
       "5    6\n",
       "6    7\n",
       "Name: Values_of_tup1, dtype: int64"
      ]
     },
     "execution_count": 258,
     "metadata": {},
     "output_type": "execute_result"
    }
   ],
   "source": [
    "tup1_series"
   ]
  },
  {
   "cell_type": "markdown",
   "metadata": {},
   "source": [
    "#### Creating new Index for Pandas Series\n",
    "\n",
    "\n",
    "The index is the numbering to the leftmost part of the Series or DataFrame. It is pandas's way of identifying the individual rows of the dataset.\n",
    "\n",
    "The default numbering of the index is: 0, 1, 2, 3,... and so on. However, depending on our needs, we can create a new index for either our pandas series or dataframe.\n",
    "\n",
    "Again, we do not need to be a genius to figure out that if we want to create this new index, we use a list or a tuple."
   ]
  },
  {
   "cell_type": "code",
   "execution_count": 259,
   "metadata": {},
   "outputs": [
    {
     "ename": "ValueError",
     "evalue": "Length of values (7) does not match length of index (3)",
     "output_type": "error",
     "traceback": [
      "\u001b[1;31m---------------------------------------------------------------------------\u001b[0m",
      "\u001b[1;31mValueError\u001b[0m                                Traceback (most recent call last)",
      "\u001b[1;32m~\\AppData\\Local\\Temp\\ipykernel_21256\\1676336268.py\u001b[0m in \u001b[0;36m<module>\u001b[1;34m\u001b[0m\n\u001b[0;32m      1\u001b[0m \u001b[0mtup1_index\u001b[0m \u001b[1;33m=\u001b[0m \u001b[1;33m[\u001b[0m\u001b[1;34m\"A\"\u001b[0m\u001b[1;33m,\u001b[0m \u001b[1;34m\"B\"\u001b[0m\u001b[1;33m,\u001b[0m \u001b[1;34m\"C\"\u001b[0m\u001b[1;33m]\u001b[0m\u001b[1;33m\u001b[0m\u001b[1;33m\u001b[0m\u001b[0m\n\u001b[1;32m----> 2\u001b[1;33m \u001b[0mpd\u001b[0m\u001b[1;33m.\u001b[0m\u001b[0mSeries\u001b[0m\u001b[1;33m(\u001b[0m\u001b[0mtup1\u001b[0m\u001b[1;33m,\u001b[0m \u001b[0mname\u001b[0m \u001b[1;33m=\u001b[0m \u001b[1;34m\"Values_of_tup1\"\u001b[0m\u001b[1;33m,\u001b[0m \u001b[0mindex\u001b[0m \u001b[1;33m=\u001b[0m \u001b[0mtup1_index\u001b[0m\u001b[1;33m)\u001b[0m\u001b[1;33m\u001b[0m\u001b[1;33m\u001b[0m\u001b[0m\n\u001b[0m",
      "\u001b[1;32m~\\anaconda3\\lib\\site-packages\\pandas\\core\\series.py\u001b[0m in \u001b[0;36m__init__\u001b[1;34m(self, data, index, dtype, name, copy, fastpath)\u001b[0m\n\u001b[0;32m    440\u001b[0m                 \u001b[0mindex\u001b[0m \u001b[1;33m=\u001b[0m \u001b[0mdefault_index\u001b[0m\u001b[1;33m(\u001b[0m\u001b[0mlen\u001b[0m\u001b[1;33m(\u001b[0m\u001b[0mdata\u001b[0m\u001b[1;33m)\u001b[0m\u001b[1;33m)\u001b[0m\u001b[1;33m\u001b[0m\u001b[1;33m\u001b[0m\u001b[0m\n\u001b[0;32m    441\u001b[0m             \u001b[1;32melif\u001b[0m \u001b[0mis_list_like\u001b[0m\u001b[1;33m(\u001b[0m\u001b[0mdata\u001b[0m\u001b[1;33m)\u001b[0m\u001b[1;33m:\u001b[0m\u001b[1;33m\u001b[0m\u001b[1;33m\u001b[0m\u001b[0m\n\u001b[1;32m--> 442\u001b[1;33m                 \u001b[0mcom\u001b[0m\u001b[1;33m.\u001b[0m\u001b[0mrequire_length_match\u001b[0m\u001b[1;33m(\u001b[0m\u001b[0mdata\u001b[0m\u001b[1;33m,\u001b[0m \u001b[0mindex\u001b[0m\u001b[1;33m)\u001b[0m\u001b[1;33m\u001b[0m\u001b[1;33m\u001b[0m\u001b[0m\n\u001b[0m\u001b[0;32m    443\u001b[0m \u001b[1;33m\u001b[0m\u001b[0m\n\u001b[0;32m    444\u001b[0m             \u001b[1;31m# create/copy the manager\u001b[0m\u001b[1;33m\u001b[0m\u001b[1;33m\u001b[0m\u001b[0m\n",
      "\u001b[1;32m~\\anaconda3\\lib\\site-packages\\pandas\\core\\common.py\u001b[0m in \u001b[0;36mrequire_length_match\u001b[1;34m(data, index)\u001b[0m\n\u001b[0;32m    555\u001b[0m     \"\"\"\n\u001b[0;32m    556\u001b[0m     \u001b[1;32mif\u001b[0m \u001b[0mlen\u001b[0m\u001b[1;33m(\u001b[0m\u001b[0mdata\u001b[0m\u001b[1;33m)\u001b[0m \u001b[1;33m!=\u001b[0m \u001b[0mlen\u001b[0m\u001b[1;33m(\u001b[0m\u001b[0mindex\u001b[0m\u001b[1;33m)\u001b[0m\u001b[1;33m:\u001b[0m\u001b[1;33m\u001b[0m\u001b[1;33m\u001b[0m\u001b[0m\n\u001b[1;32m--> 557\u001b[1;33m         raise ValueError(\n\u001b[0m\u001b[0;32m    558\u001b[0m             \u001b[1;34m\"Length of values \"\u001b[0m\u001b[1;33m\u001b[0m\u001b[1;33m\u001b[0m\u001b[0m\n\u001b[0;32m    559\u001b[0m             \u001b[1;34mf\"({len(data)}) \"\u001b[0m\u001b[1;33m\u001b[0m\u001b[1;33m\u001b[0m\u001b[0m\n",
      "\u001b[1;31mValueError\u001b[0m: Length of values (7) does not match length of index (3)"
     ]
    }
   ],
   "source": [
    "tup1_index = [\"A\", \"B\", \"C\"]\n",
    "pd.Series(tup1, name = \"Values_of_tup1\", index = tup1_index)"
   ]
  },
  {
   "cell_type": "markdown",
   "metadata": {},
   "source": [
    "The above code returns an error which states that there are 7 values in you pandas series yet, you have only 3 index values. This is simply telling us that we should ensure that the number of index values is exactly the same as the number of values in our pandas series. The same goes for pandas dataframes."
   ]
  },
  {
   "cell_type": "code",
   "execution_count": 260,
   "metadata": {},
   "outputs": [
    {
     "data": {
      "text/plain": [
       "A    1\n",
       "B    2\n",
       "C    3\n",
       "D    4\n",
       "E    5\n",
       "F    6\n",
       "G    7\n",
       "Name: Values_of_tup1, dtype: int64"
      ]
     },
     "execution_count": 260,
     "metadata": {},
     "output_type": "execute_result"
    }
   ],
   "source": [
    "tup1_index = [\"A\", \"B\", \"C\", \"D\", \"E\", \"F\", \"G\"]\n",
    "pd.Series(tup1, name = \"Values_of_tup1\", index = tup1_index)"
   ]
  },
  {
   "cell_type": "code",
   "execution_count": null,
   "metadata": {},
   "outputs": [],
   "source": []
  },
  {
   "cell_type": "code",
   "execution_count": null,
   "metadata": {},
   "outputs": [],
   "source": []
  },
  {
   "cell_type": "markdown",
   "metadata": {},
   "source": [
    "#### Pandas DataFrames from Dictionary"
   ]
  },
  {
   "cell_type": "code",
   "execution_count": 262,
   "metadata": {},
   "outputs": [
    {
     "data": {
      "text/html": [
       "<div>\n",
       "<style scoped>\n",
       "    .dataframe tbody tr th:only-of-type {\n",
       "        vertical-align: middle;\n",
       "    }\n",
       "\n",
       "    .dataframe tbody tr th {\n",
       "        vertical-align: top;\n",
       "    }\n",
       "\n",
       "    .dataframe thead th {\n",
       "        text-align: right;\n",
       "    }\n",
       "</style>\n",
       "<table border=\"1\" class=\"dataframe\">\n",
       "  <thead>\n",
       "    <tr style=\"text-align: right;\">\n",
       "      <th></th>\n",
       "      <th>Name</th>\n",
       "      <th>Age</th>\n",
       "      <th>Favorite Team</th>\n",
       "    </tr>\n",
       "  </thead>\n",
       "  <tbody>\n",
       "    <tr>\n",
       "      <th>0</th>\n",
       "      <td>Rahmon</td>\n",
       "      <td>10</td>\n",
       "      <td>Chelsea</td>\n",
       "    </tr>\n",
       "    <tr>\n",
       "      <th>1</th>\n",
       "      <td>Rahila</td>\n",
       "      <td>12</td>\n",
       "      <td>Tottenham</td>\n",
       "    </tr>\n",
       "    <tr>\n",
       "      <th>2</th>\n",
       "      <td>Ramsey</td>\n",
       "      <td>13</td>\n",
       "      <td>Barcelona</td>\n",
       "    </tr>\n",
       "    <tr>\n",
       "      <th>3</th>\n",
       "      <td>Ranti</td>\n",
       "      <td>8</td>\n",
       "      <td>Arsenal</td>\n",
       "    </tr>\n",
       "    <tr>\n",
       "      <th>4</th>\n",
       "      <td>Richard</td>\n",
       "      <td>9</td>\n",
       "      <td>Liverpool</td>\n",
       "    </tr>\n",
       "    <tr>\n",
       "      <th>5</th>\n",
       "      <td>Rex</td>\n",
       "      <td>11</td>\n",
       "      <td>Juventus</td>\n",
       "    </tr>\n",
       "  </tbody>\n",
       "</table>\n",
       "</div>"
      ],
      "text/plain": [
       "      Name  Age Favorite Team\n",
       "0   Rahmon   10       Chelsea\n",
       "1   Rahila   12     Tottenham\n",
       "2   Ramsey   13     Barcelona\n",
       "3    Ranti    8       Arsenal\n",
       "4  Richard    9     Liverpool\n",
       "5      Rex   11      Juventus"
      ]
     },
     "execution_count": 262,
     "metadata": {},
     "output_type": "execute_result"
    }
   ],
   "source": [
    "#Creating the dictionary\n",
    "\n",
    "details_dict = {\n",
    "    \n",
    "    \"Name\": [\"Rahmon\", \"Rahila\", \"Ramsey\", \"Ranti\", \"Richard\", \"Rex\"],\n",
    "    \"Age\": [10, 12, 13, 8, 9, 11],\n",
    "    \"Favorite Team\": [\"Chelsea\", \"Tottenham\", \"Barcelona\", \"Arsenal\", \"Liverpool\", \"Juventus\"]\n",
    "    \n",
    "}\n",
    "\n",
    "#Using the dictionary to create the dataframe\n",
    "\n",
    "pd.DataFrame(details_dict)"
   ]
  },
  {
   "cell_type": "code",
   "execution_count": null,
   "metadata": {},
   "outputs": [],
   "source": []
  },
  {
   "cell_type": "markdown",
   "metadata": {},
   "source": [
    "#### Pandas DataFrames by combining two series\n",
    "\n",
    "\n",
    "Other than using a dictionary to create a pandas DataFrame, there might be other times when it would be required to combine two or more existing pandas series objects."
   ]
  },
  {
   "cell_type": "code",
   "execution_count": 265,
   "metadata": {},
   "outputs": [
    {
     "data": {
      "text/html": [
       "<div>\n",
       "<style scoped>\n",
       "    .dataframe tbody tr th:only-of-type {\n",
       "        vertical-align: middle;\n",
       "    }\n",
       "\n",
       "    .dataframe tbody tr th {\n",
       "        vertical-align: top;\n",
       "    }\n",
       "\n",
       "    .dataframe thead th {\n",
       "        text-align: right;\n",
       "    }\n",
       "</style>\n",
       "<table border=\"1\" class=\"dataframe\">\n",
       "  <thead>\n",
       "    <tr style=\"text-align: right;\">\n",
       "      <th></th>\n",
       "      <th>Values_of_tup1</th>\n",
       "      <th>Values_of_ls1</th>\n",
       "    </tr>\n",
       "  </thead>\n",
       "  <tbody>\n",
       "    <tr>\n",
       "      <th>0</th>\n",
       "      <td>1</td>\n",
       "      <td>2.0</td>\n",
       "    </tr>\n",
       "    <tr>\n",
       "      <th>1</th>\n",
       "      <td>2</td>\n",
       "      <td>4.0</td>\n",
       "    </tr>\n",
       "    <tr>\n",
       "      <th>2</th>\n",
       "      <td>3</td>\n",
       "      <td>6.0</td>\n",
       "    </tr>\n",
       "    <tr>\n",
       "      <th>3</th>\n",
       "      <td>4</td>\n",
       "      <td>8.0</td>\n",
       "    </tr>\n",
       "    <tr>\n",
       "      <th>4</th>\n",
       "      <td>5</td>\n",
       "      <td>10.0</td>\n",
       "    </tr>\n",
       "    <tr>\n",
       "      <th>5</th>\n",
       "      <td>6</td>\n",
       "      <td>NaN</td>\n",
       "    </tr>\n",
       "    <tr>\n",
       "      <th>6</th>\n",
       "      <td>7</td>\n",
       "      <td>NaN</td>\n",
       "    </tr>\n",
       "  </tbody>\n",
       "</table>\n",
       "</div>"
      ],
      "text/plain": [
       "   Values_of_tup1  Values_of_ls1\n",
       "0               1            2.0\n",
       "1               2            4.0\n",
       "2               3            6.0\n",
       "3               4            8.0\n",
       "4               5           10.0\n",
       "5               6            NaN\n",
       "6               7            NaN"
      ]
     },
     "execution_count": 265,
     "metadata": {},
     "output_type": "execute_result"
    }
   ],
   "source": [
    "pd.concat([tup1_series, ls1_series], axis = 1)"
   ]
  },
  {
   "cell_type": "markdown",
   "metadata": {},
   "source": [
    "Observe that there are values in the data labelled NaN. These values represent empty spaces. They are pandas' waay of telling us that there is no value for that particular column or row."
   ]
  },
  {
   "cell_type": "code",
   "execution_count": null,
   "metadata": {},
   "outputs": [],
   "source": []
  },
  {
   "cell_type": "markdown",
   "metadata": {},
   "source": [
    "**An Example of Panel Data**"
   ]
  },
  {
   "cell_type": "markdown",
   "metadata": {},
   "source": [
    "![convert notebook to web app](./Panel_Data_Example.PNG)\n",
    "\n",
    "\n",
    "\n",
    "From the above table, we can see that the data has different facets to it. Instead of just looking in two dimensions, in terms of rows and column names, panel data adds extra information on top of the two dimensional depictions we have been seeing so far.\n",
    "\n",
    "In panel data, basically, the column names themselves have titles which specify what information the columns are trying to depict. For example, the country title gives the column names to be the name of countries and is the highest level of granularity of the columns. Next, we have series and pay period.\n",
    "\n",
    "It is important to note that while this conveys a lot more information to a human, this type of data is not condusive for Machine Learning, an essential part of data science but this does not mean that analysis cannot be done on it.\n",
    "\n",
    "If you are curious about analysis done on panel data, see the following:\n",
    "https://python.quantecon.org/pandas_panel.html\n",
    "\n",
    "(Please note that some of the code found in the above link has not been covered yet)"
   ]
  },
  {
   "cell_type": "code",
   "execution_count": null,
   "metadata": {},
   "outputs": [],
   "source": []
  },
  {
   "cell_type": "markdown",
   "metadata": {},
   "source": [
    "### Assigment\n",
    "\n",
    "- Create a Dictionary of more than 10 key-value pairs.\n",
    "- Convert the keys of the Dictionary to a list\n",
    "- Convert the values of the Dictionary to a tuple\n",
    "- Create a Pandas Series from your list\n",
    "- Create a Pandas Series from your tuple\n",
    "- Create a Pandas DataFrame from the two Pandas Series you have created.\n",
    "- Create a Pandas DataFrame from the Dictionary you created at the start.\n",
    "- Check if these two Pandas DataFrames are equal"
   ]
  },
  {
   "cell_type": "code",
   "execution_count": null,
   "metadata": {},
   "outputs": [],
   "source": []
  },
  {
   "cell_type": "code",
   "execution_count": null,
   "metadata": {},
   "outputs": [],
   "source": []
  },
  {
   "cell_type": "markdown",
   "metadata": {},
   "source": [
    "### Conditionals, Loops, and Functions"
   ]
  },
  {
   "cell_type": "code",
   "execution_count": null,
   "metadata": {},
   "outputs": [],
   "source": []
  },
  {
   "cell_type": "code",
   "execution_count": null,
   "metadata": {},
   "outputs": [],
   "source": []
  },
  {
   "cell_type": "code",
   "execution_count": null,
   "metadata": {},
   "outputs": [],
   "source": []
  },
  {
   "cell_type": "code",
   "execution_count": null,
   "metadata": {},
   "outputs": [],
   "source": []
  },
  {
   "cell_type": "code",
   "execution_count": null,
   "metadata": {},
   "outputs": [],
   "source": []
  },
  {
   "cell_type": "code",
   "execution_count": null,
   "metadata": {},
   "outputs": [],
   "source": []
  },
  {
   "cell_type": "code",
   "execution_count": null,
   "metadata": {},
   "outputs": [],
   "source": []
  },
  {
   "cell_type": "code",
   "execution_count": null,
   "metadata": {},
   "outputs": [],
   "source": []
  },
  {
   "cell_type": "code",
   "execution_count": null,
   "metadata": {},
   "outputs": [],
   "source": []
  },
  {
   "cell_type": "code",
   "execution_count": null,
   "metadata": {},
   "outputs": [],
   "source": []
  },
  {
   "cell_type": "code",
   "execution_count": null,
   "metadata": {},
   "outputs": [],
   "source": []
  },
  {
   "cell_type": "code",
   "execution_count": null,
   "metadata": {},
   "outputs": [],
   "source": []
  },
  {
   "cell_type": "code",
   "execution_count": null,
   "metadata": {},
   "outputs": [],
   "source": []
  },
  {
   "cell_type": "code",
   "execution_count": null,
   "metadata": {},
   "outputs": [],
   "source": []
  },
  {
   "cell_type": "code",
   "execution_count": null,
   "metadata": {},
   "outputs": [],
   "source": []
  },
  {
   "cell_type": "code",
   "execution_count": null,
   "metadata": {},
   "outputs": [],
   "source": []
  },
  {
   "cell_type": "markdown",
   "metadata": {},
   "source": [
    "### Numpy"
   ]
  },
  {
   "cell_type": "markdown",
   "metadata": {},
   "source": [
    "So far, we have worked with the primitive array-types in python: Lists and Tuples. These array types, however, have very limited mathematical capabilities and as a result cannot perform certain tasks required for machine learning. \n",
    "\n",
    "In steps Numpy arrays. Numpy arrays are used to perform complex mathematical analysis on various arrays. But why do we need to perform complex calculations on arrays?\n",
    "\n",
    "Numpy can be used to find general descriptive statistical figures like mean, median, mode, and so on, on column vectors. In using advanced machine learning packages such as Keras and Tensorflow, for designing Artificial Neural Networks, an understanding of Numpy is key. Also, in image and signal processing, numpy is of inestimable value. Most colored images can be represented as 3-D arrays. Lists could be used to make these arrays but performing any sort of mathematics on the lists is either overly convoluted or not possible. Numpy also sorts this out as well. Signals like radio signals or just general speech can be easily processed using numpy as numpy can create as many array dimensions to represent each component of the signal.\n",
    "\n",
    "As useful as Numpy arrays are in the field of Machine Learning, great emphasis will not be placed on Numpy arrays in this course. Perhaps more advanced courses in Deep Learning and Artificial Intelligence development with Tensorflow or Keras would make use of numpy arrays in more detail.\n",
    "\n",
    "Irrespective of this, we can find that the Numpy library is still very useful, given some of the methods it allows us to use. As a result, 3 reading materials have been provided in the links below for further reading on NUmpy. In case any of the links says you need to subscribe in order to gain access, simply subscribe and you gain free access to the article.\n",
    "\n",
    "1. https://towardsdatascience.com/21-numpy-functions-that-will-boost-your-data-analysis-process-1671fb35215\n",
    "\n",
    "2. https://medium.com/swlh/5-powerful-numpy-functions-for-beginners-20f4cdb49de9\n",
    "\n",
    "3. https://www.machinelearningplus.com/python/101-numpy-exercises-python/\n"
   ]
  },
  {
   "cell_type": "code",
   "execution_count": null,
   "metadata": {},
   "outputs": [],
   "source": []
  },
  {
   "cell_type": "markdown",
   "metadata": {},
   "source": [
    "### Pandas"
   ]
  },
  {
   "cell_type": "markdown",
   "metadata": {},
   "source": [
    "Pandas is an open source Python package that is most widely used for data science/data analysis and machine learning tasks. It is built on top of Numpy, which provides support for multi-dimensional arrays.\n",
    "\n",
    "\n",
    "**What can Pandas do?**\n",
    "- Data cleansing\n",
    "- Data fill\n",
    "- Data normalization\n",
    "- Merges and joins\n",
    "- Data visualization\n",
    "- Statistical analysis\n",
    "- Data inspection\n",
    "- Loading and saving data\n",
    "\n",
    "\n",
    "From the above list, we can see that Pandas is able to perform many useful tasks (which might not be apparent right now). The tasks listed form a core part of the skills that every Data Scientist should have and all these tasks will be touched upon later in this course. \n",
    "\n",
    "For now, we demonstrate how Pandas is able to load data from various sources"
   ]
  },
  {
   "cell_type": "markdown",
   "metadata": {},
   "source": [
    "**Data from CSV**"
   ]
  },
  {
   "cell_type": "code",
   "execution_count": null,
   "metadata": {},
   "outputs": [],
   "source": [
    "import pandas as pd\n",
    "\n",
    "pd.read_csv(\"./working_with_tables.csv\")"
   ]
  },
  {
   "cell_type": "markdown",
   "metadata": {},
   "source": [
    "**Data from EXCEL**"
   ]
  },
  {
   "cell_type": "code",
   "execution_count": null,
   "metadata": {},
   "outputs": [],
   "source": [
    "pd.read_excel(\"./data_science_people.xlsx\")"
   ]
  },
  {
   "cell_type": "markdown",
   "metadata": {},
   "source": [
    "**Data from HTML**"
   ]
  },
  {
   "cell_type": "code",
   "execution_count": null,
   "metadata": {},
   "outputs": [],
   "source": [
    "#This example captures a table found on Wikipedia. \n",
    "#Generally, pd.read_html is used to scrape data off the internet. Web scraping is something we shall discuss later in the course\n",
    "t = pd.read_html(\"https://en.wikipedia.org/wiki/UEFA_Champions_League\")\n",
    "\n",
    "#Taking the length of the result that pandas found on the Wikipedia page, we find that it had 26 results.\n",
    "len(t)"
   ]
  },
  {
   "cell_type": "code",
   "execution_count": null,
   "metadata": {},
   "outputs": [],
   "source": []
  },
  {
   "cell_type": "code",
   "execution_count": null,
   "metadata": {},
   "outputs": [],
   "source": [
    "#Viewing these results to understand them and to pinpoint what we want.\n",
    "\n",
    "t"
   ]
  },
  {
   "cell_type": "code",
   "execution_count": null,
   "metadata": {},
   "outputs": [],
   "source": [
    "#We can use the \"match\" parameter to find the exact table we are looking for. Most tables have a heading and this is what goes\n",
    "#into the \"match\" parameter of pandas and how pandas can help us find the exact table we want.\n",
    "\n",
    "\n",
    "t = pd.read_html(\"https://en.wikipedia.org/wiki/UEFA_Champions_League\", match = \"Performances in the European Cup and UEFA Champions League by club\")\n",
    "\n",
    "#Checking what result pandas brought back.\n",
    "t"
   ]
  },
  {
   "cell_type": "code",
   "execution_count": null,
   "metadata": {
    "scrolled": true
   },
   "outputs": [],
   "source": [
    "#Observing the result above, we can see that the result is in a list. Remember that lists can take in any datatype.\n",
    "#Therefore, to get the table out of the list, we simply apply list slicing.\n",
    "\n",
    "t[0]\n",
    "\n",
    "\n",
    "new_table = t[0]"
   ]
  },
  {
   "cell_type": "code",
   "execution_count": null,
   "metadata": {
    "scrolled": true
   },
   "outputs": [],
   "source": [
    "#Looking at the result above, we can see the table has been produced. There is still an issue with the column name for the\n",
    "#Teams. This column name can be renamed using a simple list as shown below.\n",
    "#The .columns method in new_table.columns is used to access the column header names of a pandas dataframe. Thus, reassigning\n",
    "#the column names to the names given in the list solves our problem\n",
    "\n",
    "new_table.columns = [\"Team Name\", \"Title(s)\", \"Runners-up\", \"Season won\", \"Season runner-up\"]\n",
    "\n",
    "new_table"
   ]
  },
  {
   "cell_type": "code",
   "execution_count": null,
   "metadata": {},
   "outputs": [],
   "source": []
  },
  {
   "cell_type": "markdown",
   "metadata": {},
   "source": [
    "**Data from Clipboard**\n",
    "\n",
    "\n",
    "The table used for this example can be found on the website given below:\n",
    "\n",
    "https://stackoverflow.com/questions/62318682/get-pandas-datframe-values-by-key"
   ]
  },
  {
   "cell_type": "code",
   "execution_count": null,
   "metadata": {},
   "outputs": [],
   "source": [
    "pd.read_clipboard()"
   ]
  },
  {
   "cell_type": "code",
   "execution_count": null,
   "metadata": {},
   "outputs": [],
   "source": []
  },
  {
   "cell_type": "markdown",
   "metadata": {},
   "source": [
    "### How to make CSV files"
   ]
  },
  {
   "cell_type": "markdown",
   "metadata": {},
   "source": [
    "This is an interactive class"
   ]
  },
  {
   "cell_type": "markdown",
   "metadata": {},
   "source": [
    "#### Homework\n",
    "\n",
    "\n",
    "1. Create csv 5 files with separators different from the comma (,).\n",
    "\n",
    "2. Get the data for the league table in the English Premier League after the 2020/21 season. The \"Pos\" or \"Position\" column is not well formatted. We need only the final position at the end of the season. The data can be found in the link given below:\n",
    "https://www.premierleague.com/history/season-reviews/363\n",
    "\n",
    "3. It is reported that the ratio of the Goal Difference (GD) in that season and the number of games played (Pl) by a team, reflects the final position of that team at the end of the season. Find this ratio for all the teams and confirm if the assertion that this ratio determines the teams' final positions is true or not.\n",
    "\n",
    "4. If the table were ranked based on the ratio calculated above, instead of number of points (Pts), create a dataframe for this new table. It should have the following column headers: \"Position (POS)\", \"Club\", \"Games Played (Pl)\", \"Goal Difference (GD)\", \"Net Goal per Game (Ratio)\"."
   ]
  },
  {
   "cell_type": "code",
   "execution_count": null,
   "metadata": {},
   "outputs": [],
   "source": []
  },
  {
   "cell_type": "code",
   "execution_count": null,
   "metadata": {},
   "outputs": [],
   "source": []
  },
  {
   "cell_type": "code",
   "execution_count": null,
   "metadata": {},
   "outputs": [],
   "source": []
  },
  {
   "cell_type": "code",
   "execution_count": null,
   "metadata": {},
   "outputs": [],
   "source": []
  },
  {
   "cell_type": "code",
   "execution_count": null,
   "metadata": {},
   "outputs": [],
   "source": []
  },
  {
   "cell_type": "code",
   "execution_count": null,
   "metadata": {},
   "outputs": [],
   "source": []
  },
  {
   "cell_type": "code",
   "execution_count": null,
   "metadata": {},
   "outputs": [],
   "source": []
  },
  {
   "cell_type": "code",
   "execution_count": null,
   "metadata": {},
   "outputs": [],
   "source": []
  },
  {
   "cell_type": "code",
   "execution_count": null,
   "metadata": {},
   "outputs": [],
   "source": []
  }
 ],
 "metadata": {
  "kernelspec": {
   "display_name": "Python 3 (ipykernel)",
   "language": "python",
   "name": "python3"
  },
  "language_info": {
   "codemirror_mode": {
    "name": "ipython",
    "version": 3
   },
   "file_extension": ".py",
   "mimetype": "text/x-python",
   "name": "python",
   "nbconvert_exporter": "python",
   "pygments_lexer": "ipython3",
   "version": "3.9.13"
  }
 },
 "nbformat": 4,
 "nbformat_minor": 4
}
