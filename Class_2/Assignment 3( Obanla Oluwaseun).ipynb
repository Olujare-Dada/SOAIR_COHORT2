{
 "cells": [
  {
   "cell_type": "markdown",
   "id": "15e0cb99",
   "metadata": {},
   "source": [
    "1. Use the set methods listed above to perform operations involving sets.\n",
    "\n"
   ]
  },
  {
   "cell_type": "code",
   "execution_count": 1,
   "id": "18bebca0",
   "metadata": {},
   "outputs": [
    {
     "data": {
      "text/plain": [
       "{1, 3, 69, 99, 'Prince', 'justice'}"
      ]
     },
     "execution_count": 1,
     "metadata": {},
     "output_type": "execute_result"
    }
   ],
   "source": [
    "S = {1, 3, 99, \"justice\", \"Prince\", 69}\n",
    "\n",
    "S"
   ]
  },
  {
   "cell_type": "code",
   "execution_count": 5,
   "id": "5a4e0772",
   "metadata": {},
   "outputs": [
    {
     "data": {
      "text/plain": [
       "{1, 3, 69, 99, 'Prince', 'Silva', 'justice'}"
      ]
     },
     "execution_count": 5,
     "metadata": {},
     "output_type": "execute_result"
    }
   ],
   "source": [
    "# .add adds a single element to a set\n",
    "\n",
    "S.add(\"Silva\")\n",
    "    \n",
    "S"
   ]
  },
  {
   "cell_type": "code",
   "execution_count": 6,
   "id": "8a9bb57e",
   "metadata": {},
   "outputs": [
    {
     "data": {
      "text/plain": [
       "set()"
      ]
     },
     "execution_count": 6,
     "metadata": {},
     "output_type": "execute_result"
    }
   ],
   "source": [
    "# .clear\n",
    "\n",
    "S.clear()\n",
    "\n",
    "S"
   ]
  },
  {
   "cell_type": "code",
   "execution_count": 9,
   "id": "592ccbb7",
   "metadata": {},
   "outputs": [
    {
     "data": {
      "text/plain": [
       "{1, 3, 69, 99, 'Prince', 'justice'}"
      ]
     },
     "execution_count": 9,
     "metadata": {},
     "output_type": "execute_result"
    }
   ],
   "source": [
    "# .copy\n",
    "\n",
    "S = {1, 3, 99, \"justice\", \"Prince\", 69}\n",
    "\n",
    "S.copy()\n"
   ]
  },
  {
   "cell_type": "code",
   "execution_count": 11,
   "id": "364a6581",
   "metadata": {},
   "outputs": [
    {
     "data": {
      "text/plain": [
       "{1, 44, 66, 99, 'Mustapha', 'Prince', 'Tinuke', 'jacob'}"
      ]
     },
     "execution_count": 11,
     "metadata": {},
     "output_type": "execute_result"
    }
   ],
   "source": [
    "# .difference\n",
    "\n",
    "D = {\"Mustapha\", \"jacob\", \"Tinuke\", 99, 44, 66, \"Prince\", 1}\n",
    "\n",
    "D"
   ]
  },
  {
   "cell_type": "code",
   "execution_count": 15,
   "id": "aae7addf",
   "metadata": {},
   "outputs": [
    {
     "data": {
      "text/plain": [
       "{3, 69, 'justice'}"
      ]
     },
     "execution_count": 15,
     "metadata": {},
     "output_type": "execute_result"
    }
   ],
   "source": [
    "S.difference(D)"
   ]
  },
  {
   "cell_type": "code",
   "execution_count": 31,
   "id": "b2fd755e",
   "metadata": {},
   "outputs": [],
   "source": [
    "S = {1, 3, 99, \"justice\", \"Prince\", 69}\n",
    "\n",
    "D = {\"Mustapha\", \"jacob\", \"Tinuke\", 99, 44, 66, \"Prince\", 1}\n",
    "\n"
   ]
  },
  {
   "cell_type": "code",
   "execution_count": 45,
   "id": "10284973",
   "metadata": {},
   "outputs": [
    {
     "data": {
      "text/plain": [
       "{3, 'justice'}"
      ]
     },
     "execution_count": 45,
     "metadata": {},
     "output_type": "execute_result"
    }
   ],
   "source": [
    "# .difference_update\n",
    "\n",
    "S.difference_update(D)\n",
    "\n",
    "S"
   ]
  },
  {
   "cell_type": "code",
   "execution_count": 43,
   "id": "28baa837",
   "metadata": {},
   "outputs": [
    {
     "data": {
      "text/plain": [
       "{1, 3, 99, 'Prince', 'justice'}"
      ]
     },
     "execution_count": 43,
     "metadata": {},
     "output_type": "execute_result"
    }
   ],
   "source": [
    "# .discard\n",
    "\n",
    "S.discard(69)\n",
    "\n",
    "S"
   ]
  },
  {
   "cell_type": "code",
   "execution_count": 49,
   "id": "e32e7528",
   "metadata": {},
   "outputs": [],
   "source": [
    "# .intersection\n",
    "\n",
    "S = {1, 3, 99, \"justice\", \"Prince\", 69}\n",
    "\n",
    "D = {\"Mustapha\", \"jacob\", \"Tinuke\", 99, 44, 66, \"Prince\", 1}\n",
    "\n"
   ]
  },
  {
   "cell_type": "code",
   "execution_count": 50,
   "id": "12897426",
   "metadata": {},
   "outputs": [
    {
     "data": {
      "text/plain": [
       "{1, 99, 'Prince'}"
      ]
     },
     "execution_count": 50,
     "metadata": {},
     "output_type": "execute_result"
    }
   ],
   "source": [
    "S.intersection(D)"
   ]
  },
  {
   "cell_type": "code",
   "execution_count": 51,
   "id": "dc88995c",
   "metadata": {},
   "outputs": [
    {
     "data": {
      "text/plain": [
       "{1, 99, 'Prince'}"
      ]
     },
     "execution_count": 51,
     "metadata": {},
     "output_type": "execute_result"
    }
   ],
   "source": [
    "# .intersection_update\n",
    "\n",
    "S.intersection_update(D)\n",
    "\n",
    "S"
   ]
  },
  {
   "cell_type": "code",
   "execution_count": 52,
   "id": "f543368f",
   "metadata": {},
   "outputs": [
    {
     "data": {
      "text/plain": [
       "False"
      ]
     },
     "execution_count": 52,
     "metadata": {},
     "output_type": "execute_result"
    }
   ],
   "source": [
    "# .isdisjoint\n",
    "\n",
    "S = {1, 3, 99, \"justice\", \"Prince\", 69}\n",
    "\n",
    "D = {\"Mustapha\", \"jacob\", \"Tinuke\", 99, 44, 66, \"Prince\", 1}\n",
    "\n",
    "S.isdisjoint(D)\n"
   ]
  },
  {
   "cell_type": "code",
   "execution_count": 55,
   "id": "b9ca9f91",
   "metadata": {},
   "outputs": [
    {
     "data": {
      "text/plain": [
       "False"
      ]
     },
     "execution_count": 55,
     "metadata": {},
     "output_type": "execute_result"
    }
   ],
   "source": [
    "# .issubset\n",
    "\n",
    "S = {1, 3, 99, 69}\n",
    "\n",
    "D = {99, 1}\n",
    "\n",
    "S.issubset(D)"
   ]
  },
  {
   "cell_type": "code",
   "execution_count": 56,
   "id": "d84bbbc4",
   "metadata": {},
   "outputs": [
    {
     "data": {
      "text/plain": [
       "True"
      ]
     },
     "execution_count": 56,
     "metadata": {},
     "output_type": "execute_result"
    }
   ],
   "source": [
    "# .issuperset\n",
    "\n",
    "S.issuperset(D)"
   ]
  },
  {
   "cell_type": "code",
   "execution_count": 69,
   "id": "05aa22b0",
   "metadata": {},
   "outputs": [
    {
     "data": {
      "text/plain": [
       "1"
      ]
     },
     "execution_count": 69,
     "metadata": {},
     "output_type": "execute_result"
    }
   ],
   "source": [
    "# .pop\n",
    "\n",
    "S = {1, 3, 99, \"justice\", \"Prince\", 69}\n",
    "\n",
    "S.pop()"
   ]
  },
  {
   "cell_type": "code",
   "execution_count": 70,
   "id": "190998e3",
   "metadata": {},
   "outputs": [
    {
     "data": {
      "text/plain": [
       "{1, 3, 69, 'Prince', 'justice'}"
      ]
     },
     "execution_count": 70,
     "metadata": {},
     "output_type": "execute_result"
    }
   ],
   "source": [
    "# .remove\n",
    "\n",
    "S = {1, 3, 99, \"justice\", \"Prince\", 69}\n",
    "\n",
    "S.remove(99)\n",
    "\n",
    "S"
   ]
  },
  {
   "cell_type": "code",
   "execution_count": 74,
   "id": "a79959cf",
   "metadata": {},
   "outputs": [
    {
     "data": {
      "text/plain": [
       "{3, 44, 66, 69, 'Mustapha', 'Tinuke', 'jacob', 'justice'}"
      ]
     },
     "execution_count": 74,
     "metadata": {},
     "output_type": "execute_result"
    }
   ],
   "source": [
    "# .symmetric_difference\n",
    "\n",
    "S = {1, 3, 99, \"justice\", \"Prince\", 69}\n",
    "\n",
    "D = {\"Mustapha\", \"jacob\", \"Tinuke\", 99, 44, 66, \"Prince\", 1}\n",
    "\n",
    "S.symmetric_difference(D)"
   ]
  },
  {
   "cell_type": "code",
   "execution_count": 75,
   "id": "aab10089",
   "metadata": {},
   "outputs": [
    {
     "data": {
      "text/plain": [
       "{3, 44, 66, 69, 'Mustapha', 'Tinuke', 'jacob', 'justice'}"
      ]
     },
     "execution_count": 75,
     "metadata": {},
     "output_type": "execute_result"
    }
   ],
   "source": [
    "# .symmetric_difference_update\n",
    "\n",
    "S.symmetric_difference_update(D)\n",
    "\n",
    "S"
   ]
  },
  {
   "cell_type": "code",
   "execution_count": 76,
   "id": "2bd0acfe",
   "metadata": {},
   "outputs": [
    {
     "data": {
      "text/plain": [
       "{1, 3, 44, 66, 69, 99, 'Mustapha', 'Prince', 'Tinuke', 'jacob', 'justice'}"
      ]
     },
     "execution_count": 76,
     "metadata": {},
     "output_type": "execute_result"
    }
   ],
   "source": [
    "# .union\n",
    "\n",
    "S = {1, 3, 99, \"justice\", \"Prince\", 69}\n",
    "\n",
    "D = {\"Mustapha\", \"jacob\", \"Tinuke\", 99, 44, 66, \"Prince\", 1}\n",
    "\n",
    "S.union(D)"
   ]
  },
  {
   "cell_type": "code",
   "execution_count": 79,
   "id": "ead25301",
   "metadata": {},
   "outputs": [
    {
     "data": {
      "text/plain": [
       "{1, 15, 2, 24, 3, 5, 69, 99, 'Prince', 'justice'}"
      ]
     },
     "execution_count": 79,
     "metadata": {},
     "output_type": "execute_result"
    }
   ],
   "source": [
    "# .update\n",
    "\n",
    "S = {1, 3, 99, \"justice\", \"Prince\", 69}\n",
    "\n",
    "V = (2, 5, 15, 24)\n",
    "\n",
    "S.update(V)\n",
    "\n",
    "S\n",
    "\n"
   ]
  },
  {
   "cell_type": "markdown",
   "id": "2fee6677",
   "metadata": {},
   "source": [
    "2. Find and use Tuple methods to perform operations involving tuples.\n"
   ]
  },
  {
   "cell_type": "code",
   "execution_count": 92,
   "id": "dcb10e37",
   "metadata": {},
   "outputs": [],
   "source": [
    "# Tuple methods\n",
    "\n",
    "#tuple.count\n",
    "#tuple.index\n",
    "#tuple.mro\n",
    "\n",
    "\n"
   ]
  },
  {
   "cell_type": "code",
   "execution_count": 93,
   "id": "e7a98518",
   "metadata": {},
   "outputs": [
    {
     "data": {
      "text/plain": [
       "2"
      ]
     },
     "execution_count": 93,
     "metadata": {},
     "output_type": "execute_result"
    }
   ],
   "source": [
    "\n",
    "#tuple.count\n",
    "S = (1, \"Shina\", \"Josh\", \"Hassan\", 99, 99, \"Fikayo\")\n",
    "\n",
    "S\n",
    "\n",
    "S.count(99)"
   ]
  },
  {
   "cell_type": "code",
   "execution_count": 95,
   "id": "b252ea5e",
   "metadata": {},
   "outputs": [
    {
     "data": {
      "text/plain": [
       "2"
      ]
     },
     "execution_count": 95,
     "metadata": {},
     "output_type": "execute_result"
    }
   ],
   "source": [
    "#tuple.index\n",
    "\n",
    "S.index(\"Josh\")"
   ]
  },
  {
   "cell_type": "code",
   "execution_count": 99,
   "id": "e939044e",
   "metadata": {},
   "outputs": [
    {
     "ename": "AttributeError",
     "evalue": "'tuple' object has no attribute 'mro'",
     "output_type": "error",
     "traceback": [
      "\u001b[1;31m---------------------------------------------------------------------------\u001b[0m",
      "\u001b[1;31mAttributeError\u001b[0m                            Traceback (most recent call last)",
      "Input \u001b[1;32mIn [99]\u001b[0m, in \u001b[0;36m<cell line: 3>\u001b[1;34m()\u001b[0m\n\u001b[0;32m      1\u001b[0m \u001b[38;5;66;03m#tuple.mro\u001b[39;00m\n\u001b[1;32m----> 3\u001b[0m \u001b[43mS\u001b[49m\u001b[38;5;241;43m.\u001b[39;49m\u001b[43mmro\u001b[49m\n",
      "\u001b[1;31mAttributeError\u001b[0m: 'tuple' object has no attribute 'mro'"
     ]
    }
   ],
   "source": [
    "#tuple.mro\n",
    "\n",
    "S.mro"
   ]
  },
  {
   "cell_type": "markdown",
   "id": "2d4782a4",
   "metadata": {},
   "source": [
    "3. Find and use Dictionary methods to perform operations involving dictionaries.\n",
    "\n"
   ]
  },
  {
   "cell_type": "code",
   "execution_count": 101,
   "id": "d129595f",
   "metadata": {},
   "outputs": [],
   "source": [
    "# Dictionary Methods\n",
    "\n",
    "#dict.clear\n",
    "#dict.copy\n",
    "#dict.fromkeys\n",
    "#dict.get\n",
    "#dict.items\n",
    "#dict.keys\n",
    "#dict.mro\n",
    "#dict.pop\n",
    "#dict.popitem\n",
    "#dict.setdefault\n",
    "#dict.update\n",
    "#dict.values"
   ]
  },
  {
   "cell_type": "code",
   "execution_count": 13,
   "id": "5e205e15",
   "metadata": {},
   "outputs": [
    {
     "data": {
      "text/plain": [
       "{'Jacob': 20, 'Thomas': 20, 'Ashabi': 17, 'Donald': 15, 'Gbadebo': 12}"
      ]
     },
     "execution_count": 13,
     "metadata": {},
     "output_type": "execute_result"
    }
   ],
   "source": [
    "Class_Register = {\"Jacob\" : 20, \n",
    "                  \"Thomas\" : 20, \n",
    "                  \"Ashabi\" : 17, \n",
    "                  \"Donald\" : 15, \n",
    "                  \"Gbadebo\" : 12}\n",
    "\n",
    "Class_Register"
   ]
  },
  {
   "cell_type": "code",
   "execution_count": 14,
   "id": "cb2bba19",
   "metadata": {},
   "outputs": [
    {
     "data": {
      "text/plain": [
       "{}"
      ]
     },
     "execution_count": 14,
     "metadata": {},
     "output_type": "execute_result"
    }
   ],
   "source": [
    "#dict.clear\n",
    "\n",
    "Class_Register.clear()\n",
    "\n",
    "Class_Register"
   ]
  },
  {
   "cell_type": "code",
   "execution_count": 15,
   "id": "117ace25",
   "metadata": {},
   "outputs": [
    {
     "data": {
      "text/plain": [
       "{'Jacob': 20, 'Thomas': 20, 'Ashabi': 17, 'Donald': 15, 'Gbadebo': 12}"
      ]
     },
     "execution_count": 15,
     "metadata": {},
     "output_type": "execute_result"
    }
   ],
   "source": [
    "Class_Register = {\"Jacob\" : 20, \n",
    "                  \"Thomas\" : 20, \n",
    "                  \"Ashabi\" : 17, \n",
    "                  \"Donald\" : 15, \n",
    "                  \"Gbadebo\" : 12}\n",
    "\n",
    "Class_Register"
   ]
  },
  {
   "cell_type": "code",
   "execution_count": 16,
   "id": "11ff99f2",
   "metadata": {
    "scrolled": true
   },
   "outputs": [
    {
     "data": {
      "text/plain": [
       "{'Jacob': 20, 'Thomas': 20, 'Ashabi': 17, 'Donald': 15, 'Gbadebo': 12}"
      ]
     },
     "execution_count": 16,
     "metadata": {},
     "output_type": "execute_result"
    }
   ],
   "source": [
    "#dict.copy\n",
    "\n",
    "Class_Register.copy()"
   ]
  },
  {
   "cell_type": "code",
   "execution_count": 26,
   "id": "822a8244",
   "metadata": {},
   "outputs": [
    {
     "data": {
      "text/plain": [
       "{'Jacob': None,\n",
       " 'Thomas': None,\n",
       " 'Ashabi': None,\n",
       " 'Donald': None,\n",
       " 'Gbadebo': None}"
      ]
     },
     "execution_count": 26,
     "metadata": {},
     "output_type": "execute_result"
    }
   ],
   "source": [
    "Class_Register = {\"Jacob\" : 20, \n",
    "                  \"Thomas\" : 20, \n",
    "                  \"Ashabi\" : 17, \n",
    "                  \"Donald\" : 15, \n",
    "                  \"Gbadebo\" : 12}\n",
    "\n",
    "Class_Register\n",
    "\n",
    "#dict.fromkeys\n",
    "\n",
    "Class_Register.fromkeys(Class_Register)\n"
   ]
  },
  {
   "cell_type": "code",
   "execution_count": 35,
   "id": "c176c1b2",
   "metadata": {},
   "outputs": [
    {
     "data": {
      "text/plain": [
       "20"
      ]
     },
     "execution_count": 35,
     "metadata": {},
     "output_type": "execute_result"
    }
   ],
   "source": [
    "Class_Register = {\"Jacob\" : 20, \n",
    "                  \"Thomas\" : 20, \n",
    "                  \"Ashabi\" : 17, \n",
    "                  \"Donald\" : 15, \n",
    "                  \"Gbadebo\" : 12}\n",
    "\n",
    "Class_Register\n",
    "\n",
    "#dict.get\n",
    "\n",
    "Class_Register.get(\"Jacob\")\n"
   ]
  },
  {
   "cell_type": "code",
   "execution_count": 37,
   "id": "abe22037",
   "metadata": {},
   "outputs": [
    {
     "data": {
      "text/plain": [
       "dict_items([('Jacob', 20), ('Thomas', 20), ('Ashabi', 17), ('Donald', 15), ('Gbadebo', 12)])"
      ]
     },
     "execution_count": 37,
     "metadata": {},
     "output_type": "execute_result"
    }
   ],
   "source": [
    "#dict.items\n",
    "\n",
    "Class_Register.items()\n"
   ]
  },
  {
   "cell_type": "code",
   "execution_count": 38,
   "id": "f4632856",
   "metadata": {},
   "outputs": [
    {
     "data": {
      "text/plain": [
       "dict_keys(['Jacob', 'Thomas', 'Ashabi', 'Donald', 'Gbadebo'])"
      ]
     },
     "execution_count": 38,
     "metadata": {},
     "output_type": "execute_result"
    }
   ],
   "source": [
    "#dict.keys\n",
    "\n",
    "Class_Register.keys()"
   ]
  },
  {
   "cell_type": "code",
   "execution_count": 42,
   "id": "1ba8430f",
   "metadata": {},
   "outputs": [
    {
     "ename": "AttributeError",
     "evalue": "'dict' object has no attribute 'mro'",
     "output_type": "error",
     "traceback": [
      "\u001b[1;31m---------------------------------------------------------------------------\u001b[0m",
      "\u001b[1;31mAttributeError\u001b[0m                            Traceback (most recent call last)",
      "Input \u001b[1;32mIn [42]\u001b[0m, in \u001b[0;36m<cell line: 3>\u001b[1;34m()\u001b[0m\n\u001b[0;32m      1\u001b[0m \u001b[38;5;66;03m#dict.mro\u001b[39;00m\n\u001b[1;32m----> 3\u001b[0m \u001b[43mClass_Register\u001b[49m\u001b[38;5;241;43m.\u001b[39;49m\u001b[43mmro\u001b[49m()\n",
      "\u001b[1;31mAttributeError\u001b[0m: 'dict' object has no attribute 'mro'"
     ]
    }
   ],
   "source": [
    "#dict.mro\n",
    "\n",
    "Class_Register.mro()"
   ]
  },
  {
   "cell_type": "code",
   "execution_count": 45,
   "id": "9f4ddd3c",
   "metadata": {},
   "outputs": [
    {
     "data": {
      "text/plain": [
       "17"
      ]
     },
     "execution_count": 45,
     "metadata": {},
     "output_type": "execute_result"
    }
   ],
   "source": [
    "#dict.pop\n",
    "\n",
    "Class_Register.pop(\"Ashabi\")"
   ]
  },
  {
   "cell_type": "code",
   "execution_count": 47,
   "id": "eaf78daf",
   "metadata": {},
   "outputs": [
    {
     "data": {
      "text/plain": [
       "('Gbadebo', 12)"
      ]
     },
     "execution_count": 47,
     "metadata": {},
     "output_type": "execute_result"
    }
   ],
   "source": [
    "#dict.popitem\n",
    "\n",
    "Class_Register.popitem()\n"
   ]
  },
  {
   "cell_type": "code",
   "execution_count": 48,
   "id": "1af50d4b",
   "metadata": {},
   "outputs": [
    {
     "data": {
      "text/plain": [
       "('Donald', 15)"
      ]
     },
     "execution_count": 48,
     "metadata": {},
     "output_type": "execute_result"
    }
   ],
   "source": [
    "Class_Register.popitem()\n"
   ]
  },
  {
   "cell_type": "code",
   "execution_count": 60,
   "id": "00e7da5a",
   "metadata": {},
   "outputs": [
    {
     "data": {
      "text/plain": [
       "'No_of_times_present'"
      ]
     },
     "execution_count": 60,
     "metadata": {},
     "output_type": "execute_result"
    }
   ],
   "source": [
    "#dict.setdefault\n",
    "\n",
    "Class_Register.setdefault(\"Name\", \"No_of_times_present\")\n",
    "\n"
   ]
  },
  {
   "cell_type": "code",
   "execution_count": 61,
   "id": "6e3dc403",
   "metadata": {},
   "outputs": [
    {
     "data": {
      "text/plain": [
       "{'Jacob': 20,\n",
       " 'Thomas': 20,\n",
       " 'Ashabi': None,\n",
       " 2: None,\n",
       " 'Gbadebo': None,\n",
       " 'Name': 'No_of_times_present'}"
      ]
     },
     "execution_count": 61,
     "metadata": {},
     "output_type": "execute_result"
    }
   ],
   "source": [
    "#dict.update\n",
    "\n",
    "Class_Register.update()\n",
    "\n",
    "Class_Register"
   ]
  },
  {
   "cell_type": "code",
   "execution_count": 62,
   "id": "a2beb87d",
   "metadata": {},
   "outputs": [
    {
     "data": {
      "text/plain": [
       "{'Jacob': 20, 'Thomas': 20, 'Ashabi': 17, 'Donald': 15, 'Gbadebo': 12}"
      ]
     },
     "execution_count": 62,
     "metadata": {},
     "output_type": "execute_result"
    }
   ],
   "source": [
    "#dict.values\n",
    "\n",
    "Class_Register = {\"Jacob\" : 20, \n",
    "                  \"Thomas\" : 20, \n",
    "                  \"Ashabi\" : 17, \n",
    "                  \"Donald\" : 15, \n",
    "                  \"Gbadebo\" : 12}\n",
    "\n",
    "Class_Register\n"
   ]
  },
  {
   "cell_type": "code",
   "execution_count": 64,
   "id": "8b6e419f",
   "metadata": {},
   "outputs": [
    {
     "data": {
      "text/plain": [
       "dict_values([20, 20, 17, 15, 12])"
      ]
     },
     "execution_count": 64,
     "metadata": {},
     "output_type": "execute_result"
    }
   ],
   "source": [
    "Class_Register.values()"
   ]
  },
  {
   "cell_type": "markdown",
   "id": "5f957e7c",
   "metadata": {},
   "source": [
    "4. In the working_with_tables_homework.csv file, find a way to separate the email service provider from each sales representatative's email into a separate column.\n",
    "\n"
   ]
  },
  {
   "cell_type": "code",
   "execution_count": 25,
   "id": "f2d6e076",
   "metadata": {
    "scrolled": true
   },
   "outputs": [
    {
     "data": {
      "text/html": [
       "<div>\n",
       "<style scoped>\n",
       "    .dataframe tbody tr th:only-of-type {\n",
       "        vertical-align: middle;\n",
       "    }\n",
       "\n",
       "    .dataframe tbody tr th {\n",
       "        vertical-align: top;\n",
       "    }\n",
       "\n",
       "    .dataframe thead th {\n",
       "        text-align: right;\n",
       "    }\n",
       "</style>\n",
       "<table border=\"1\" class=\"dataframe\">\n",
       "  <thead>\n",
       "    <tr style=\"text-align: right;\">\n",
       "      <th></th>\n",
       "      <th>Firstname</th>\n",
       "      <th>Lastname</th>\n",
       "      <th>age</th>\n",
       "      <th>sales</th>\n",
       "      <th>cost</th>\n",
       "      <th>email</th>\n",
       "    </tr>\n",
       "  </thead>\n",
       "  <tbody>\n",
       "    <tr>\n",
       "      <th>0</th>\n",
       "      <td>Olanrewaju</td>\n",
       "      <td>Kazeem</td>\n",
       "      <td>[24]</td>\n",
       "      <td>15000</td>\n",
       "      <td>11000</td>\n",
       "      <td>olankaz248@outlook.com</td>\n",
       "    </tr>\n",
       "    <tr>\n",
       "      <th>1</th>\n",
       "      <td>Chibuzo</td>\n",
       "      <td>Ekenne</td>\n",
       "      <td>[30]</td>\n",
       "      <td>25800</td>\n",
       "      <td>15200</td>\n",
       "      <td>chiman_ekeneks@yahoo.com</td>\n",
       "    </tr>\n",
       "    <tr>\n",
       "      <th>2</th>\n",
       "      <td>Onyinyechi</td>\n",
       "      <td>Amos</td>\n",
       "      <td>[22]</td>\n",
       "      <td>45000</td>\n",
       "      <td>28000</td>\n",
       "      <td>onyiamos22@gmail.com</td>\n",
       "    </tr>\n",
       "    <tr>\n",
       "      <th>3</th>\n",
       "      <td>Orlando</td>\n",
       "      <td>Bloom</td>\n",
       "      <td>[25]</td>\n",
       "      <td>28000</td>\n",
       "      <td>22000</td>\n",
       "      <td>earlyman01@ymail.com</td>\n",
       "    </tr>\n",
       "    <tr>\n",
       "      <th>4</th>\n",
       "      <td>Alex</td>\n",
       "      <td>Iwobi</td>\n",
       "      <td>[34]</td>\n",
       "      <td>36500</td>\n",
       "      <td>18850</td>\n",
       "      <td>iwo.alex_007@gmail.com</td>\n",
       "    </tr>\n",
       "    <tr>\n",
       "      <th>5</th>\n",
       "      <td>Kachi</td>\n",
       "      <td>Felix</td>\n",
       "      <td>[50]</td>\n",
       "      <td>44235</td>\n",
       "      <td>33218</td>\n",
       "      <td>felix_kach@protonmail.com</td>\n",
       "    </tr>\n",
       "    <tr>\n",
       "      <th>6</th>\n",
       "      <td>Olujare</td>\n",
       "      <td>Dada</td>\n",
       "      <td>[28]</td>\n",
       "      <td>27500</td>\n",
       "      <td>25800</td>\n",
       "      <td>olu59_dada@zohomail.com</td>\n",
       "    </tr>\n",
       "    <tr>\n",
       "      <th>7</th>\n",
       "      <td>Tomiwa</td>\n",
       "      <td>Sogaolu</td>\n",
       "      <td>[42]</td>\n",
       "      <td>50509</td>\n",
       "      <td>34850</td>\n",
       "      <td>tommySolu@icloudmail.com</td>\n",
       "    </tr>\n",
       "    <tr>\n",
       "      <th>8</th>\n",
       "      <td>Timilehin</td>\n",
       "      <td>Kupolokun</td>\n",
       "      <td>[49]</td>\n",
       "      <td>88390</td>\n",
       "      <td>76001</td>\n",
       "      <td>timikupo11@outlook.com</td>\n",
       "    </tr>\n",
       "    <tr>\n",
       "      <th>9</th>\n",
       "      <td>Nnena</td>\n",
       "      <td>Dickson</td>\n",
       "      <td>[39]</td>\n",
       "      <td>122200</td>\n",
       "      <td>85900</td>\n",
       "      <td>nene33@gmail.com</td>\n",
       "    </tr>\n",
       "  </tbody>\n",
       "</table>\n",
       "</div>"
      ],
      "text/plain": [
       "    Firstname   Lastname   age   sales   cost                      email\n",
       "0  Olanrewaju     Kazeem  [24]   15000  11000     olankaz248@outlook.com\n",
       "1     Chibuzo     Ekenne  [30]   25800  15200   chiman_ekeneks@yahoo.com\n",
       "2  Onyinyechi       Amos  [22]   45000  28000       onyiamos22@gmail.com\n",
       "3     Orlando      Bloom  [25]   28000  22000       earlyman01@ymail.com\n",
       "4        Alex      Iwobi  [34]   36500  18850     iwo.alex_007@gmail.com\n",
       "5       Kachi      Felix  [50]   44235  33218  felix_kach@protonmail.com\n",
       "6     Olujare       Dada  [28]   27500  25800    olu59_dada@zohomail.com\n",
       "7      Tomiwa    Sogaolu  [42]   50509  34850   tommySolu@icloudmail.com\n",
       "8   Timilehin  Kupolokun  [49]   88390  76001     timikupo11@outlook.com\n",
       "9       Nnena    Dickson  [39]  122200  85900           nene33@gmail.com"
      ]
     },
     "execution_count": 25,
     "metadata": {},
     "output_type": "execute_result"
    }
   ],
   "source": [
    "import pandas as pd\n",
    "\n",
    "data = pd.read_csv(\"working_with_tables_homework.txt\")\n",
    "\n",
    "data\n"
   ]
  },
  {
   "cell_type": "code",
   "execution_count": 48,
   "id": "388eb34a",
   "metadata": {
    "scrolled": true
   },
   "outputs": [
    {
     "ename": "SyntaxError",
     "evalue": "invalid syntax (2331675175.py, line 1)",
     "output_type": "error",
     "traceback": [
      "\u001b[1;36m  Input \u001b[1;32mIn [48]\u001b[1;36m\u001b[0m\n\u001b[1;33m    data[\"email\"].str.strip(@:)\u001b[0m\n\u001b[1;37m                            ^\u001b[0m\n\u001b[1;31mSyntaxError\u001b[0m\u001b[1;31m:\u001b[0m invalid syntax\n"
     ]
    }
   ],
   "source": [
    "data[\"email\"].str.replace(\"\")\n"
   ]
  },
  {
   "cell_type": "code",
   "execution_count": null,
   "id": "521ce33f",
   "metadata": {},
   "outputs": [],
   "source": []
  },
  {
   "cell_type": "code",
   "execution_count": null,
   "id": "02cfaef4",
   "metadata": {},
   "outputs": [],
   "source": []
  },
  {
   "cell_type": "markdown",
   "id": "2010004e",
   "metadata": {},
   "source": [
    "5. There are 8 students in a room: Alicia, Ope, Fiyin, Emeka, Kenny, Timothy, Grace, and Kunle. Use this information to answer the following questions:\n",
    "\n",
    "a. If one more person named Emeka joins these 8 students, which data structure can we use to represent this information?\n",
    "\n"
   ]
  },
  {
   "cell_type": "code",
   "execution_count": 62,
   "id": "3038f511",
   "metadata": {},
   "outputs": [
    {
     "data": {
      "text/plain": [
       "['Alicia', 'Ope', 'Fiyin', 'Emeka', 'Kenny', 'Timothy', 'Grace', 'Kunle']"
      ]
     },
     "execution_count": 62,
     "metadata": {},
     "output_type": "execute_result"
    }
   ],
   "source": [
    "S = [\"Alicia\", \"Ope\", \"Fiyin\", \"Emeka\", \"Kenny\", \"Timothy\", \"Grace\", \"Kunle\"]\n",
    "\n",
    "S"
   ]
  },
  {
   "cell_type": "code",
   "execution_count": 63,
   "id": "3c955756",
   "metadata": {},
   "outputs": [
    {
     "data": {
      "text/plain": [
       "['Alicia',\n",
       " 'Ope',\n",
       " 'Fiyin',\n",
       " 'Emeka',\n",
       " 'Kenny',\n",
       " 'Timothy',\n",
       " 'Grace',\n",
       " 'Kunle',\n",
       " 'Emeka']"
      ]
     },
     "execution_count": 63,
     "metadata": {},
     "output_type": "execute_result"
    }
   ],
   "source": [
    "G = [\"Emeka\"]\n",
    "\n",
    "S += G\n",
    "\n",
    "S"
   ]
  },
  {
   "cell_type": "markdown",
   "id": "5d735e11",
   "metadata": {},
   "source": [
    "5b. If there are two groups, A and B. Ope, Fiyin, Timothy, and Kunle are in group A while, Alicia, Emeka, Kenny, Timothy, and Ope are in group B. Which data structure can help us find the students common to both groups?\n"
   ]
  },
  {
   "cell_type": "code",
   "execution_count": 1,
   "id": "88335202",
   "metadata": {},
   "outputs": [
    {
     "data": {
      "text/plain": [
       "{'Ope'}"
      ]
     },
     "execution_count": 1,
     "metadata": {},
     "output_type": "execute_result"
    }
   ],
   "source": [
    "A = {\"Ope\", \"Fiyin\", \"Timothy\", \"Kunle\"}\n",
    "\n",
    "B = {\"Alicia\", \"Emeka\", \"Kenny\", \"TImothy\", \"Ope\"}\n",
    "\n",
    "A.intersection(B)"
   ]
  },
  {
   "cell_type": "markdown",
   "id": "6334f155",
   "metadata": {},
   "source": [
    "5c. If we want these 8 students to vote for who would be class president between Sandra and Michael, and we want to be able to know the order in which the students voted (e.g Emeka voted first, Alicia voted second, and so on), what data structure should we use?\n"
   ]
  },
  {
   "cell_type": "code",
   "execution_count": 6,
   "id": "ee7a502e",
   "metadata": {},
   "outputs": [
    {
     "data": {
      "text/plain": [
       "['Emeka', 'Alicia', 'Ope', 'Kenny', 'Kunle', 'Fiyin', 'Timothy', 'Kenny']"
      ]
     },
     "execution_count": 6,
     "metadata": {},
     "output_type": "execute_result"
    }
   ],
   "source": [
    "Student_Voters = [\"Emeka\", \"Alicia\", \"Ope\", \"Kenny\", \"Kunle\", \"Fiyin\", \"Timothy\", \"Kenny\"]\n",
    "\n",
    "Student_Voters"
   ]
  },
  {
   "cell_type": "markdown",
   "id": "c09f4a77",
   "metadata": {},
   "source": [
    "5d. If the scenario in question 3 is repeated, but this time, we do not care about the order in which the students voted, what data structure should we use?\n"
   ]
  },
  {
   "cell_type": "code",
   "execution_count": 7,
   "id": "f09dbf88",
   "metadata": {},
   "outputs": [
    {
     "data": {
      "text/plain": [
       "{'Alicia', 'Emeka', 'Fiyin', 'Kenny', 'Kunle', 'Ope', 'Timothy'}"
      ]
     },
     "execution_count": 7,
     "metadata": {},
     "output_type": "execute_result"
    }
   ],
   "source": [
    "Student_Voters = {\"Emeka\", \"Alicia\", \"Ope\", \"Kenny\", \"Kunle\", \"Fiyin\", \"Timothy\", \"Kenny\"}\n",
    "\n",
    "Student_Voters"
   ]
  },
  {
   "cell_type": "markdown",
   "id": "e827eba6",
   "metadata": {},
   "source": [
    "5e. If we wanted to record the number of votes that Michael and Sandra got from the election, which data structure is best suited for the task?"
   ]
  },
  {
   "cell_type": "code",
   "execution_count": 10,
   "id": "46b276ba",
   "metadata": {},
   "outputs": [
    {
     "data": {
      "text/plain": [
       "{'Michael': 6, 'Sandra': 2}"
      ]
     },
     "execution_count": 10,
     "metadata": {},
     "output_type": "execute_result"
    }
   ],
   "source": [
    "Votes = {\"Michael\" : 6, \"Sandra\" : 2}\n",
    "\n",
    "Votes\n"
   ]
  }
 ],
 "metadata": {
  "kernelspec": {
   "display_name": "Python 3 (ipykernel)",
   "language": "python",
   "name": "python3"
  },
  "language_info": {
   "codemirror_mode": {
    "name": "ipython",
    "version": 3
   },
   "file_extension": ".py",
   "mimetype": "text/x-python",
   "name": "python",
   "nbconvert_exporter": "python",
   "pygments_lexer": "ipython3",
   "version": "3.9.12"
  }
 },
 "nbformat": 4,
 "nbformat_minor": 5
}
